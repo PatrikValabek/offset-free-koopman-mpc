{
 "cells": [
  {
   "cell_type": "markdown",
   "id": "fb87600a",
   "metadata": {},
   "source": [
    "# declaring a simulation setup for my MPC simulation"
   ]
  },
  {
   "cell_type": "code",
   "execution_count": 23,
   "id": "a7fa267c",
   "metadata": {},
   "outputs": [],
   "source": [
    "import numpy as np\n",
    "import joblib"
   ]
  },
  {
   "cell_type": "code",
   "execution_count": 24,
   "id": "f1b122f7",
   "metadata": {},
   "outputs": [],
   "source": [
    "matrix_C = False\n",
    "# Load matrices A, B, and C \n",
    "A = np.load('../data/A_C_' + str(matrix_C) + '.npy')\n",
    "B = np.load('../data/B_C_' + str(matrix_C) + '.npy')\n",
    "C = np.load('../data/C_C_' + str(matrix_C) + '.npy')\n",
    "\n",
    "nz, nu = B.shape  # state and input dimensions\n",
    "ny = C.shape[0]  # output dimensions\n",
    "\n",
    "# disturbance \n",
    "F = np.eye(ny)\n",
    "nd = F.shape[1]\n",
    "\n",
    "scaler = joblib.load('../data/scaler.pkl')\n",
    "scalerU = joblib.load('../data/scalerU.pkl')"
   ]
  },
  {
   "cell_type": "code",
   "execution_count": 25,
   "id": "357c5b99",
   "metadata": {},
   "outputs": [],
   "source": [
    "# begining\n",
    "y_start = np.array([0.5, 0.5])\n",
    "y_start = scaler.transform(y_start.reshape(1, -1))\n",
    "\n",
    "u_previous = np.array([0.2, 0.5])\n",
    "u_previous = scalerU.transform(u_previous.reshape(1, -1))[0]\n",
    "\n",
    "# observer\n",
    "P0 = np.eye(nz+nd) \n",
    "Q = np.eye(nz+nd) * 0.1 \n",
    "R = np.eye(ny) * 0.5\n",
    "\n",
    "# controller\n",
    "N = 20\n",
    "Qy = np.eye(ny) * 5\n",
    "Qu = np.eye(nu) * 0.1\n",
    "u_min = scalerU.transform(np.array([[0.0, 0.0]]))[0]\n",
    "u_max = scalerU.transform(np.array([[0.5, 1.0]]))[0]\n",
    "y_min = scaler.transform(np.array([[0.0, 0.0]]))[0]\n",
    "y_max = scaler.transform(np.array([[5.0, 5.0]]))[0]\n",
    "\n",
    "# simulation\n",
    "sim_time = 500"
   ]
  },
  {
   "cell_type": "code",
   "execution_count": 26,
   "id": "3a945733",
   "metadata": {},
   "outputs": [],
   "source": [
    "# reference trajectory\n",
    "\n",
    "# Parameters\n",
    "num_signals = ny\n",
    "num_samples = sim_time\n",
    "change_interval = 100\n",
    "\n",
    "\n",
    "# Initialize reference array\n",
    "reference = np.zeros((num_signals, num_samples))\n",
    "ref = np.array([[0.5, 0.5],[1.5, 0.8],[1.0, 0.9],[2.0, 2.0],[1.0, 0.9]])\n",
    "\n",
    "# Generate new value every `change_interval` steps\n",
    "for i in range(0, num_samples, change_interval):\n",
    "    new_value = ref[i // change_interval].reshape(-1,1)  \n",
    "    reference[:, i:i+change_interval] = new_value\n",
    "\n",
    "# Optional: Clip in case final interval exceeds array length\n",
    "reference = reference[:, :num_samples]\n",
    "reference = scaler.transform(reference.T).T"
   ]
  },
  {
   "cell_type": "code",
   "execution_count": 27,
   "id": "757fbeaa",
   "metadata": {},
   "outputs": [
    {
     "data": {
      "text/plain": [
       "array([ 0.29135356, -0.22285209])"
      ]
     },
     "execution_count": 27,
     "metadata": {},
     "output_type": "execute_result"
    }
   ],
   "source": [
    "reference[:,100]"
   ]
  },
  {
   "cell_type": "code",
   "execution_count": 28,
   "id": "be27259e",
   "metadata": {},
   "outputs": [],
   "source": [
    "sim_setup = {\n",
    "    'y_start': y_start,\n",
    "    'u_previous': u_previous,\n",
    "    'P0': P0,\n",
    "    'Q': Q,\n",
    "    'R': R,\n",
    "    'N': N,\n",
    "    'Qy': Qy,\n",
    "    'Qu': Qu,\n",
    "    'u_min': u_min,\n",
    "    'u_max': u_max,\n",
    "    'y_min': y_min,\n",
    "    'y_max': y_max,\n",
    "    'sim_time': sim_time,\n",
    "    'reference': reference,\n",
    "}"
   ]
  },
  {
   "cell_type": "code",
   "execution_count": 29,
   "id": "ae6cd054",
   "metadata": {},
   "outputs": [
    {
     "data": {
      "text/plain": [
       "['sim_setup.pkl']"
      ]
     },
     "execution_count": 29,
     "metadata": {},
     "output_type": "execute_result"
    }
   ],
   "source": [
    "joblib.dump(sim_setup, \"sim_setup.pkl\")"
   ]
  },
  {
   "cell_type": "code",
   "execution_count": null,
   "id": "423916be",
   "metadata": {},
   "outputs": [],
   "source": []
  }
 ],
 "metadata": {
  "kernelspec": {
   "display_name": "kmpc",
   "language": "python",
   "name": "python3"
  },
  "language_info": {
   "codemirror_mode": {
    "name": "ipython",
    "version": 3
   },
   "file_extension": ".py",
   "mimetype": "text/x-python",
   "name": "python",
   "nbconvert_exporter": "python",
   "pygments_lexer": "ipython3",
   "version": "3.11.11"
  }
 },
 "nbformat": 4,
 "nbformat_minor": 5
}
