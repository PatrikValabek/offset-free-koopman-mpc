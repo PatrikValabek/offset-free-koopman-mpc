{
 "cells": [
  {
   "cell_type": "markdown",
   "metadata": {},
   "source": [
    "# Ofset free MPC using matric C"
   ]
  },
  {
   "cell_type": "code",
   "execution_count": 2,
   "metadata": {},
   "outputs": [
    {
     "name": "stdout",
     "output_type": "stream",
     "text": [
      "Models imported succesfully\n",
      "Helper imported succesfully\n"
     ]
    }
   ],
   "source": [
    "import numpy as np\n",
    "import pandas as pd\n",
    "import joblib\n",
    "import matplotlib.pyplot as plt\n",
    "import cvxpy as cp\n",
    "from torch.utils.data import DataLoader\n",
    "import torch\n",
    "from sklearn.preprocessing import StandardScaler\n",
    "\n",
    "from neuromancer.system import Node, System\n",
    "from neuromancer.trainer import Trainer\n",
    "from neuromancer.problem import Problem\n",
    "from neuromancer.dataset import DictDataset\n",
    "from neuromancer.constraint import variable\n",
    "from neuromancer.loss import PenaltyLoss\n",
    "from neuromancer. modules import blocks\n",
    "\n",
    "import src.models as models\n",
    "import src.helper as helper\n",
    "%load_ext autoreload\n",
    "%autoreload 2"
   ]
  },
  {
   "cell_type": "markdown",
   "metadata": {},
   "source": [
    "Load matrices, model, scalers and load process"
   ]
  },
  {
   "cell_type": "code",
   "execution_count": 3,
   "metadata": {},
   "outputs": [],
   "source": [
    "matrix_C = False\n",
    "\n",
    "# Load matrices A, B, and C \n",
    "A = np.load('./data/A_C_' + str(matrix_C) + '.npy')\n",
    "B = np.load('./data/B_C_' + str(matrix_C) + '.npy')\n",
    "C = np.load('./data/C_C_' + str(matrix_C) + '.npy')\n",
    "\n",
    "nz, nu = B.shape  # state and input dimensions\n",
    "ny = C.shape[0]  # output dimensions\n",
    "\n",
    "# disturbance \n",
    "F = np.eye(ny)\n",
    "nd = F.shape[1]"
   ]
  },
  {
   "cell_type": "code",
   "execution_count": 4,
   "metadata": {},
   "outputs": [],
   "source": [
    "# model parameters\n",
    "\n",
    "layers = [20,40,60]\n",
    "layers_dec  = [60,40,20]\n"
   ]
  },
  {
   "cell_type": "code",
   "execution_count": 5,
   "metadata": {},
   "outputs": [
    {
     "data": {
      "text/plain": [
       "<All keys matched successfully>"
      ]
     },
     "execution_count": 5,
     "metadata": {},
     "output_type": "execute_result"
    }
   ],
   "source": [
    "# instantiate output encoder neural net f_y\n",
    "f_y = blocks.MLP(\n",
    "    ny,\n",
    "    nz,\n",
    "    bias=True,\n",
    "    linear_map=torch.nn.Linear,\n",
    "    nonlin=torch.nn.ReLU,\n",
    "    hsizes=layers,\n",
    ")\n",
    "# initial condition encoder\n",
    "encode_Y0 = Node(f_y, ['Y0'], ['x'], name='encoder_Y0')\n",
    "# observed trajectory encoder\n",
    "encode_Y = Node(f_y, ['Y'], ['x_latent'], name='encoder_Y')\n",
    "\n",
    "# instantiate input encoder net f_u, representing the B matrix in the linear system\n",
    "f_u = torch.nn.Linear(nu, nz, bias=False)\n",
    "# initial condition encoder\n",
    "encode_U = Node(f_u, ['U'], ['u_latent'], name='encoder_U')\n",
    "\n",
    "# instantiate state decoder neural net f_y_inv\n",
    "if not matrix_C:\n",
    "    f_y_inv = blocks.MLP(nz, ny, bias=True,\n",
    "                    linear_map=torch.nn.Linear,\n",
    "                    nonlin=torch.nn.ELU,\n",
    "                    hsizes=layers_dec)\n",
    "elif matrix_C:\n",
    "    f_y_inv = torch.nn.Linear(nz, ny, bias=False)\n",
    "else:\n",
    "    raise ValueError('matrix_C must be boolean')\n",
    "\n",
    "# predicted trajectory decoder\n",
    "decode_y = Node(f_y_inv, ['x'], ['yhat'], name='decoder_y')\n",
    "\n",
    "# representing matrix A in the linear system\n",
    "K = torch.nn.Linear(nz, nz, bias=False)\n",
    "\n",
    "# symbolic Koopman model with control inputs\n",
    "Koopman = Node(helper.PredictionWControl(K), ['x', 'u_latent'], ['x'], name='K')\n",
    "\n",
    "# latent Koopmann rollout\n",
    "dynamics_model = System([Koopman], name='Koopman', nsteps=1)\n",
    "\n",
    "# put all nodes of the Koopman model together in a list of nodes\n",
    "nodes = [encode_Y0, encode_Y, encode_U, dynamics_model, decode_y]\n",
    "\n",
    "# no loss function because only using the model not training it\n",
    "loss = PenaltyLoss([], constraints=[])\n",
    "\n",
    "problem = Problem(nodes, loss)\n",
    "\n",
    "problem.load_state_dict(torch.load('data/model_C_' + str(matrix_C) + '.pth'),strict=False)\n",
    "\n"
   ]
  },
  {
   "cell_type": "code",
   "execution_count": 6,
   "metadata": {},
   "outputs": [],
   "source": [
    "# load scalers\n",
    "scaler = joblib.load('data/scaler.pkl')\n",
    "scalerU = joblib.load('data/scalerU.pkl')"
   ]
  },
  {
   "cell_type": "code",
   "execution_count": 7,
   "metadata": {},
   "outputs": [],
   "source": [
    "# define same model as for training\n",
    "A1 = 1\n",
    "A2 = 0.5\n",
    "k1 = 0.5\n",
    "k2 = 0.8\n",
    "\n",
    "TwoTanks = models.TwoTanks(True, A1, A2, k1, k2)"
   ]
  },
  {
   "cell_type": "markdown",
   "metadata": {},
   "source": [
    "Necesary?"
   ]
  },
  {
   "cell_type": "code",
   "execution_count": 8,
   "metadata": {},
   "outputs": [],
   "source": [
    "# probably yes\n",
    "def get_x(y):\n",
    "    x = problem.nodes[0]({\"Y0\": torch.from_numpy(y).float()})\n",
    "    return x[\"x\"].detach().numpy().reshape(1,-1).T\n",
    "\n",
    "def get_y(x):\n",
    "    y = problem.nodes[4]({\"x\": torch.from_numpy(x.T).float()})\n",
    "    return y[\"yhat\"].detach().numpy().reshape(1,-1)"
   ]
  },
  {
   "cell_type": "markdown",
   "metadata": {},
   "source": [
    "## Optimal control problem"
   ]
  },
  {
   "cell_type": "markdown",
   "metadata": {},
   "source": [
    "Observer - Kalman filter"
   ]
  },
  {
   "cell_type": "code",
   "execution_count": 9,
   "metadata": {},
   "outputs": [],
   "source": [
    "y_start = np.array([0.5, 0.5])\n",
    "y_start = scaler.transform(y_start.reshape(1, -1))\n",
    "\n",
    "y_setpoint = np.array([1.5, 0.8])\n",
    "y_setpoint = scaler.transform(y_setpoint.reshape(1, -1))[0]\n",
    "\n",
    "u_previous = np.array([0.2, 0.5])\n",
    "u_previous = scalerU.transform(u_previous.reshape(1, -1))[0]\n",
    "\n",
    "sim_time = 100\n",
    "\n",
    "z_est_ = np.hstack((get_x(y_start).T, np.zeros((1,nd))))\n",
    "P0 = np.eye(nz+nd) * 0.1\n",
    "\n",
    "# Noise covariances\n",
    "Q = np.eye(nz+nd) * 0.01  # process noise\n",
    "R = np.eye(ny) * 0.05  # measurement noise\n",
    "A_ = np.block([\n",
    "    [A, np.zeros((nz, nd))],\n",
    "    [np.zeros((nd, nz)), np.eye(nd)]\n",
    "])\n",
    "B_ = np.vstack([\n",
    "    B,\n",
    "    np.zeros((nd, nu))\n",
    "])\n",
    "\n",
    "C_ = np.hstack([\n",
    "    C, np.eye(nd)\n",
    "])\n",
    "\n",
    "KF = helper.KF(A_,B_,C_,z_est_,P0, Q, R)\n",
    "\n"
   ]
  },
  {
   "cell_type": "markdown",
   "metadata": {},
   "source": [
    "Target calculation"
   ]
  },
  {
   "cell_type": "code",
   "execution_count": 10,
   "metadata": {},
   "outputs": [],
   "source": [
    "N = 20\n",
    "Qy = np.eye(ny) * 20\n",
    "Qz = C.T@Qy@C\n",
    "Qz_psd = Qz + 1e-8 * np.eye(Qz.shape[0])\n",
    "Qu = np.eye(nu)\n",
    "\n",
    "# Constraints\n",
    "u_min = scalerU.transform(np.array([[0.0, 0.0]]))[0]\n",
    "u_max = scalerU.transform(np.array([[0.5, 1.0]]))[0]\n",
    "y_min = scaler.transform(np.array([[0.0, 0.0]]))[0]\n",
    "y_max = scaler.transform(np.array([[5.0, 5.0]]))[0]\n",
    "\n",
    "z0 = cp.Parameter(nz)\n",
    "d0 = cp.Parameter(ny)\n",
    "d0.value = np.zeros(ny)\n",
    "u_prev = cp.Parameter(nu)\n",
    "\n",
    "y_sp = cp.Parameter(ny)\n",
    "y_sp.value = y_setpoint\n",
    "z_ref = cp.Parameter(nz)\n",
    "\n",
    "# Decision variables\n",
    "z = cp.Variable((nz, N+1))\n",
    "y = cp.Variable((ny, N+1))\n",
    "delta_u = cp.Variable((nu, N))\n",
    "u = cp.Variable((nu, N + 1)) \n",
    "z_s = cp.Variable(nz)\n",
    "y_s = cp.Variable(ny)\n",
    "u_s = cp.Variable(nu)\n"
   ]
  },
  {
   "cell_type": "code",
   "execution_count": 11,
   "metadata": {},
   "outputs": [
    {
     "name": "stdout",
     "output_type": "stream",
     "text": [
      "Set parameter Username\n",
      "Set parameter LicenseID to value 2631450\n",
      "Academic license - for non-commercial use only - expires 2026-03-05\n",
      "optimal\n",
      "Optimal y: [[1.49999999 0.80000001]]\n"
     ]
    }
   ],
   "source": [
    "# Constraints and cost\n",
    "constraints_s = [z_s == A @ z_s + B @ u_s]\n",
    "constraints_s += [y_s == C @ z_s + F @ d0]\n",
    "constraints_s += [u_min <= u_s, u_s <= u_max]\n",
    "constraints_s += [y_min <= y_s, y_s <= y_max]\n",
    "\n",
    "cost_s = 0\n",
    "cost_s += cp.quad_form(y_s - y_sp, np.eye(ny))\n",
    "\n",
    "target_estimation = cp.Problem(cp.Minimize(cost_s), constraints_s)\n",
    "target_estimation.solve(solver=cp.GUROBI)\n",
    "print(target_estimation.status)\n",
    "print(\"Optimal y:\", scaler.inverse_transform(y_s.value.reshape(1,-1)))\n",
    "\n",
    "z_ref.value = z_s.value"
   ]
  },
  {
   "cell_type": "markdown",
   "metadata": {},
   "source": [
    "MPC problem formulation\n"
   ]
  },
  {
   "cell_type": "code",
   "execution_count": 12,
   "metadata": {},
   "outputs": [],
   "source": [
    "z0.value = z_est_[0,0:nz]\n",
    "u_prev.value = u_previous"
   ]
  },
  {
   "cell_type": "code",
   "execution_count": 13,
   "metadata": {},
   "outputs": [],
   "source": [
    "# Constraints and cost\n",
    "constraints = [z[:, 0] == z0]\n",
    "constraints += [u[:, 0] == u_prev + delta_u[:, 0]]\n",
    "cost = 0\n",
    "for k in range(N):\n",
    "    constraints += [u[:, k] == u[:, k-1] + delta_u[:, k]]\n",
    "    \n",
    "    constraints += [\n",
    "        z[:, k+1] == A @ z[:, k] + B @ u[:,k],\n",
    "        y[:, k] == C @ z[:, k] + F @ d0,\n",
    "        u_min <= u[:, k], u[:, k] <= u_max,\n",
    "        y_min <= y[:, k], y[:, k] <= y_max\n",
    "    ]\n",
    "    \n",
    "    cost += cp.quad_form(z[:, k] - z_ref, Qz_psd) + cp.quad_form(delta_u[:, k], Qu)\n",
    "\n",
    "# Terminal cost - not yet\n",
    "# cost += cp.quad_form(x[:, N] - x_ref[:, N], Q)\n"
   ]
  },
  {
   "cell_type": "code",
   "execution_count": 14,
   "metadata": {},
   "outputs": [
    {
     "name": "stdout",
     "output_type": "stream",
     "text": [
      "[ 1.841162   -0.08154447]\n",
      "optimal\n"
     ]
    }
   ],
   "source": [
    "# sanity check and problem formulation\n",
    "mpc = cp.Problem(cp.Minimize(cost), constraints)\n",
    "mpc.solve(solver=cp.GUROBI)\n",
    "u_opt = u[:,0].value\n",
    "print(u[:,0].value)\n",
    "print(mpc.status)"
   ]
  },
  {
   "cell_type": "code",
   "execution_count": 16,
   "metadata": {},
   "outputs": [
    {
     "name": "stdout",
     "output_type": "stream",
     "text": [
      "optimal\n",
      "optimal\n",
      "optimal\n",
      "optimal\n",
      "optimal\n",
      "optimal\n",
      "user_limit\n",
      "optimal\n",
      "optimal\n",
      "optimal\n",
      "optimal\n"
     ]
    },
    {
     "name": "stderr",
     "output_type": "stream",
     "text": [
      "/Users/patrik/miniconda3/envs/kmpc/lib/python3.11/site-packages/cvxpy/problems/problem.py:1504: UserWarning: Solution may be inaccurate. Try another solver, adjusting the solver settings, or solve with verbose=True for more information.\n",
      "  warnings.warn(\n",
      "/Users/patrik/miniconda3/envs/kmpc/lib/python3.11/site-packages/cvxpy/problems/problem.py:1504: UserWarning: Solution may be inaccurate. Try another solver, adjusting the solver settings, or solve with verbose=True for more information.\n",
      "  warnings.warn(\n",
      "/Users/patrik/miniconda3/envs/kmpc/lib/python3.11/site-packages/cvxpy/problems/problem.py:1504: UserWarning: Solution may be inaccurate. Try another solver, adjusting the solver settings, or solve with verbose=True for more information.\n",
      "  warnings.warn(\n"
     ]
    },
    {
     "name": "stdout",
     "output_type": "stream",
     "text": [
      "optimal\n",
      "user_limit\n",
      "optimal\n",
      "user_limit\n",
      "optimal\n",
      "user_limit\n",
      "user_limit\n",
      "user_limit\n",
      "user_limit\n",
      "user_limit\n",
      "user_limit\n"
     ]
    },
    {
     "name": "stderr",
     "output_type": "stream",
     "text": [
      "/Users/patrik/miniconda3/envs/kmpc/lib/python3.11/site-packages/cvxpy/problems/problem.py:1504: UserWarning: Solution may be inaccurate. Try another solver, adjusting the solver settings, or solve with verbose=True for more information.\n",
      "  warnings.warn(\n",
      "/Users/patrik/miniconda3/envs/kmpc/lib/python3.11/site-packages/cvxpy/problems/problem.py:1504: UserWarning: Solution may be inaccurate. Try another solver, adjusting the solver settings, or solve with verbose=True for more information.\n",
      "  warnings.warn(\n",
      "/Users/patrik/miniconda3/envs/kmpc/lib/python3.11/site-packages/cvxpy/problems/problem.py:1504: UserWarning: Solution may be inaccurate. Try another solver, adjusting the solver settings, or solve with verbose=True for more information.\n",
      "  warnings.warn(\n",
      "/Users/patrik/miniconda3/envs/kmpc/lib/python3.11/site-packages/cvxpy/problems/problem.py:1504: UserWarning: Solution may be inaccurate. Try another solver, adjusting the solver settings, or solve with verbose=True for more information.\n",
      "  warnings.warn(\n",
      "/Users/patrik/miniconda3/envs/kmpc/lib/python3.11/site-packages/cvxpy/problems/problem.py:1504: UserWarning: Solution may be inaccurate. Try another solver, adjusting the solver settings, or solve with verbose=True for more information.\n",
      "  warnings.warn(\n",
      "/Users/patrik/miniconda3/envs/kmpc/lib/python3.11/site-packages/cvxpy/problems/problem.py:1504: UserWarning: Solution may be inaccurate. Try another solver, adjusting the solver settings, or solve with verbose=True for more information.\n",
      "  warnings.warn(\n",
      "/Users/patrik/miniconda3/envs/kmpc/lib/python3.11/site-packages/cvxpy/problems/problem.py:1504: UserWarning: Solution may be inaccurate. Try another solver, adjusting the solver settings, or solve with verbose=True for more information.\n",
      "  warnings.warn(\n",
      "/Users/patrik/miniconda3/envs/kmpc/lib/python3.11/site-packages/cvxpy/problems/problem.py:1504: UserWarning: Solution may be inaccurate. Try another solver, adjusting the solver settings, or solve with verbose=True for more information.\n",
      "  warnings.warn(\n",
      "/Users/patrik/miniconda3/envs/kmpc/lib/python3.11/site-packages/cvxpy/problems/problem.py:1504: UserWarning: Solution may be inaccurate. Try another solver, adjusting the solver settings, or solve with verbose=True for more information.\n",
      "  warnings.warn(\n",
      "/Users/patrik/miniconda3/envs/kmpc/lib/python3.11/site-packages/cvxpy/problems/problem.py:1504: UserWarning: Solution may be inaccurate. Try another solver, adjusting the solver settings, or solve with verbose=True for more information.\n",
      "  warnings.warn(\n",
      "/Users/patrik/miniconda3/envs/kmpc/lib/python3.11/site-packages/cvxpy/problems/problem.py:1504: UserWarning: Solution may be inaccurate. Try another solver, adjusting the solver settings, or solve with verbose=True for more information.\n",
      "  warnings.warn(\n",
      "/Users/patrik/miniconda3/envs/kmpc/lib/python3.11/site-packages/cvxpy/problems/problem.py:1504: UserWarning: Solution may be inaccurate. Try another solver, adjusting the solver settings, or solve with verbose=True for more information.\n",
      "  warnings.warn(\n"
     ]
    },
    {
     "name": "stdout",
     "output_type": "stream",
     "text": [
      "user_limit\n",
      "user_limit\n",
      "optimal\n",
      "user_limit\n",
      "user_limit\n",
      "user_limit\n",
      "user_limit\n",
      "user_limit\n",
      "user_limit\n",
      "user_limit\n",
      "optimal\n"
     ]
    },
    {
     "name": "stderr",
     "output_type": "stream",
     "text": [
      "/Users/patrik/miniconda3/envs/kmpc/lib/python3.11/site-packages/cvxpy/problems/problem.py:1504: UserWarning: Solution may be inaccurate. Try another solver, adjusting the solver settings, or solve with verbose=True for more information.\n",
      "  warnings.warn(\n",
      "/Users/patrik/miniconda3/envs/kmpc/lib/python3.11/site-packages/cvxpy/problems/problem.py:1504: UserWarning: Solution may be inaccurate. Try another solver, adjusting the solver settings, or solve with verbose=True for more information.\n",
      "  warnings.warn(\n",
      "/Users/patrik/miniconda3/envs/kmpc/lib/python3.11/site-packages/cvxpy/problems/problem.py:1504: UserWarning: Solution may be inaccurate. Try another solver, adjusting the solver settings, or solve with verbose=True for more information.\n",
      "  warnings.warn(\n",
      "/Users/patrik/miniconda3/envs/kmpc/lib/python3.11/site-packages/cvxpy/problems/problem.py:1504: UserWarning: Solution may be inaccurate. Try another solver, adjusting the solver settings, or solve with verbose=True for more information.\n",
      "  warnings.warn(\n",
      "/Users/patrik/miniconda3/envs/kmpc/lib/python3.11/site-packages/cvxpy/problems/problem.py:1504: UserWarning: Solution may be inaccurate. Try another solver, adjusting the solver settings, or solve with verbose=True for more information.\n",
      "  warnings.warn(\n",
      "/Users/patrik/miniconda3/envs/kmpc/lib/python3.11/site-packages/cvxpy/problems/problem.py:1504: UserWarning: Solution may be inaccurate. Try another solver, adjusting the solver settings, or solve with verbose=True for more information.\n",
      "  warnings.warn(\n",
      "/Users/patrik/miniconda3/envs/kmpc/lib/python3.11/site-packages/cvxpy/problems/problem.py:1504: UserWarning: Solution may be inaccurate. Try another solver, adjusting the solver settings, or solve with verbose=True for more information.\n",
      "  warnings.warn(\n",
      "/Users/patrik/miniconda3/envs/kmpc/lib/python3.11/site-packages/cvxpy/problems/problem.py:1504: UserWarning: Solution may be inaccurate. Try another solver, adjusting the solver settings, or solve with verbose=True for more information.\n",
      "  warnings.warn(\n",
      "/Users/patrik/miniconda3/envs/kmpc/lib/python3.11/site-packages/cvxpy/problems/problem.py:1504: UserWarning: Solution may be inaccurate. Try another solver, adjusting the solver settings, or solve with verbose=True for more information.\n",
      "  warnings.warn(\n"
     ]
    },
    {
     "name": "stdout",
     "output_type": "stream",
     "text": [
      "user_limit\n",
      "user_limit\n",
      "user_limit\n",
      "user_limit\n",
      "user_limit\n",
      "user_limit\n",
      "optimal\n",
      "optimal\n",
      "user_limit\n",
      "user_limit\n",
      "optimal\n",
      "optimal\n",
      "optimal\n"
     ]
    },
    {
     "name": "stderr",
     "output_type": "stream",
     "text": [
      "/Users/patrik/miniconda3/envs/kmpc/lib/python3.11/site-packages/cvxpy/problems/problem.py:1504: UserWarning: Solution may be inaccurate. Try another solver, adjusting the solver settings, or solve with verbose=True for more information.\n",
      "  warnings.warn(\n",
      "/Users/patrik/miniconda3/envs/kmpc/lib/python3.11/site-packages/cvxpy/problems/problem.py:1504: UserWarning: Solution may be inaccurate. Try another solver, adjusting the solver settings, or solve with verbose=True for more information.\n",
      "  warnings.warn(\n",
      "/Users/patrik/miniconda3/envs/kmpc/lib/python3.11/site-packages/cvxpy/problems/problem.py:1504: UserWarning: Solution may be inaccurate. Try another solver, adjusting the solver settings, or solve with verbose=True for more information.\n",
      "  warnings.warn(\n",
      "/Users/patrik/miniconda3/envs/kmpc/lib/python3.11/site-packages/cvxpy/problems/problem.py:1504: UserWarning: Solution may be inaccurate. Try another solver, adjusting the solver settings, or solve with verbose=True for more information.\n",
      "  warnings.warn(\n",
      "/Users/patrik/miniconda3/envs/kmpc/lib/python3.11/site-packages/cvxpy/problems/problem.py:1504: UserWarning: Solution may be inaccurate. Try another solver, adjusting the solver settings, or solve with verbose=True for more information.\n",
      "  warnings.warn(\n",
      "/Users/patrik/miniconda3/envs/kmpc/lib/python3.11/site-packages/cvxpy/problems/problem.py:1504: UserWarning: Solution may be inaccurate. Try another solver, adjusting the solver settings, or solve with verbose=True for more information.\n",
      "  warnings.warn(\n",
      "/Users/patrik/miniconda3/envs/kmpc/lib/python3.11/site-packages/cvxpy/problems/problem.py:1504: UserWarning: Solution may be inaccurate. Try another solver, adjusting the solver settings, or solve with verbose=True for more information.\n",
      "  warnings.warn(\n"
     ]
    },
    {
     "name": "stdout",
     "output_type": "stream",
     "text": [
      "optimal\n",
      "user_limit\n",
      "optimal\n",
      "user_limit\n",
      "user_limit\n",
      "optimal\n",
      "optimal\n",
      "user_limit\n",
      "user_limit\n",
      "user_limit\n",
      "user_limit\n",
      "optimal\n",
      "user_limit\n"
     ]
    },
    {
     "name": "stderr",
     "output_type": "stream",
     "text": [
      "/Users/patrik/miniconda3/envs/kmpc/lib/python3.11/site-packages/cvxpy/problems/problem.py:1504: UserWarning: Solution may be inaccurate. Try another solver, adjusting the solver settings, or solve with verbose=True for more information.\n",
      "  warnings.warn(\n",
      "/Users/patrik/miniconda3/envs/kmpc/lib/python3.11/site-packages/cvxpy/problems/problem.py:1504: UserWarning: Solution may be inaccurate. Try another solver, adjusting the solver settings, or solve with verbose=True for more information.\n",
      "  warnings.warn(\n",
      "/Users/patrik/miniconda3/envs/kmpc/lib/python3.11/site-packages/cvxpy/problems/problem.py:1504: UserWarning: Solution may be inaccurate. Try another solver, adjusting the solver settings, or solve with verbose=True for more information.\n",
      "  warnings.warn(\n"
     ]
    },
    {
     "name": "stdout",
     "output_type": "stream",
     "text": [
      "optimal\n",
      "optimal\n",
      "optimal\n",
      "optimal\n",
      "optimal\n",
      "optimal\n",
      "optimal\n",
      "optimal\n",
      "optimal\n",
      "optimal\n",
      "optimal\n",
      "optimal\n",
      "optimal\n",
      "optimal\n",
      "optimal\n",
      "optimal\n",
      "optimal\n",
      "optimal\n",
      "optimal\n",
      "user_limit\n",
      "optimal\n",
      "optimal\n",
      "optimal\n",
      "optimal\n",
      "optimal\n",
      "optimal\n",
      "optimal\n"
     ]
    },
    {
     "name": "stderr",
     "output_type": "stream",
     "text": [
      "/Users/patrik/miniconda3/envs/kmpc/lib/python3.11/site-packages/cvxpy/problems/problem.py:1504: UserWarning: Solution may be inaccurate. Try another solver, adjusting the solver settings, or solve with verbose=True for more information.\n",
      "  warnings.warn(\n"
     ]
    },
    {
     "name": "stdout",
     "output_type": "stream",
     "text": [
      "optimal\n",
      "optimal\n",
      "optimal\n",
      "optimal\n",
      "optimal\n",
      "optimal\n",
      "optimal\n",
      "optimal\n",
      "optimal\n",
      "optimal\n",
      "optimal\n",
      "optimal\n",
      "optimal\n",
      "optimal\n",
      "optimal\n",
      "optimal\n",
      "optimal\n",
      "optimal\n",
      "optimal\n",
      "optimal\n",
      "optimal\n",
      "optimal\n",
      "optimal\n",
      "optimal\n",
      "optimal\n",
      "optimal\n",
      "optimal\n",
      "optimal\n",
      "optimal\n",
      "optimal\n",
      "optimal\n",
      "optimal\n",
      "optimal\n",
      "optimal\n"
     ]
    },
    {
     "name": "stderr",
     "output_type": "stream",
     "text": [
      "/Users/patrik/miniconda3/envs/kmpc/lib/python3.11/site-packages/cvxpy/problems/problem.py:1504: UserWarning: Solution may be inaccurate. Try another solver, adjusting the solver settings, or solve with verbose=True for more information.\n",
      "  warnings.warn(\n"
     ]
    },
    {
     "name": "stdout",
     "output_type": "stream",
     "text": [
      "user_limit\n",
      "optimal\n",
      "optimal\n",
      "optimal\n",
      "optimal\n",
      "optimal\n",
      "optimal\n",
      "optimal\n",
      "optimal\n",
      "optimal\n",
      "optimal\n",
      "optimal\n",
      "optimal\n",
      "optimal\n",
      "optimal\n",
      "optimal\n",
      "optimal\n",
      "optimal\n",
      "optimal\n",
      "optimal\n",
      "optimal\n",
      "optimal\n",
      "user_limit\n",
      "optimal\n",
      "optimal\n",
      "optimal\n",
      "optimal\n",
      "optimal\n",
      "optimal\n",
      "optimal\n"
     ]
    },
    {
     "name": "stderr",
     "output_type": "stream",
     "text": [
      "/Users/patrik/miniconda3/envs/kmpc/lib/python3.11/site-packages/cvxpy/problems/problem.py:1504: UserWarning: Solution may be inaccurate. Try another solver, adjusting the solver settings, or solve with verbose=True for more information.\n",
      "  warnings.warn(\n"
     ]
    }
   ],
   "source": [
    "\n",
    "sim_time = 150\n",
    "Ts = 1\n",
    "z_sim = np.zeros((nz+nd, sim_time+1))\n",
    "y_sim = np.zeros((ny, sim_time+1))\n",
    "u_sim = np.zeros((nu, sim_time))\n",
    "ys_sim = np.zeros((ny, sim_time+1))\n",
    "zs_sim = np.zeros((nz, sim_time+1))\n",
    "y_sp.value = scaler.transform(np.array([[0.5,0.5]]))[0]\n",
    "target_estimation.solve(solver=cp.GUROBI)\n",
    "z_ref.value = z_s.value\n",
    "\n",
    "y_sim_descaled = np.zeros((ny, sim_time+1))\n",
    "u_sim_descaled = np.zeros((nu, sim_time))\n",
    "\n",
    "\n",
    "z_sim[:, 0] = z_est_.flatten()\n",
    "y_sim[:, 0] = y_start.flatten()\n",
    "ys_sim[:, 0] = y_s.value\n",
    "zs_sim[:, 0] = z_s.value\n",
    "y_sim_descaled[:, 0] = scaler.inverse_transform(y_sim[:, 0].reshape(1,-1))[0]\n",
    "for k in range(sim_time):\n",
    "    if k == 50:\n",
    "        y_sp.value = y_setpoint\n",
    "    # solve MPC\n",
    "    mpc.solve(solver=cp.GUROBI)\n",
    "    u_sim[:, k] = u[:,0].value\n",
    "    u_sim_descaled[:, k] = scalerU.inverse_transform(u_sim[:, k].reshape(1,-1))[0]\n",
    "    \n",
    "    # simulate system\n",
    "    y_sim_descaled[:, k+1] =  TwoTanks.step(y_sim_descaled[:, k], u_sim_descaled[:, k].reshape(1,-1), Ts)\n",
    "    \n",
    "    y_sim[:, k+1] = scaler.transform(y_sim_descaled[:, k+1].reshape(1,-1))[0]\n",
    "    \n",
    "    # estimate state\n",
    "    z_sim[:, k+1] = KF.step(u_sim[:, k], y_sim[:, k]).flatten()\n",
    "    \n",
    "    # update initial conditions\n",
    "    #y0.value = y_sim[:, k+1]\n",
    "    z0.value = z_sim[:nz, k+1]\n",
    "    d0.value = z_sim[nz:, k+1]\n",
    "    target_estimation.solve(solver=cp.GUROBI)\n",
    "    ys_sim[:, k+1] = y_s.value\n",
    "    zs_sim[:, k+1] = z_s.value\n",
    "    z_ref.value = z_s.value\n",
    "    u_prev.value = u_sim[:, k]\n",
    "    print(mpc.status)\n",
    "    "
   ]
  },
  {
   "cell_type": "code",
   "execution_count": 17,
   "metadata": {},
   "outputs": [
    {
     "data": {
      "image/png": "[encoded data removed]",
      "text/plain": [
       "<Figure size 1200x800 with 1 Axes>"
      ]
     },
     "metadata": {},
     "output_type": "display_data"
    }
   ],
   "source": [
    "# plot results\n",
    "plt.figure(figsize=(12, 8))\n",
    "plt.subplot(2, 1, 1)\n",
    "plt.plot(y_sim_descaled[0], label='h1')\n",
    "plt.plot(y_sim_descaled[1], label='h2')\n",
    "plt.axhline(y=scaler.inverse_transform(y_s.value.reshape(1, -1))[0][0], color='red', linestyle='--', label='y_s h1')\n",
    "plt.axhline(y=scaler.inverse_transform(y_s.value.reshape(1, -1))[0][1], color='red', linestyle=':', label='y_s h2')\n",
    "plt.xlabel('Time step')\n",
    "plt.ylabel('Output')\n",
    "plt.legend()\n",
    "plt.grid(True) "
   ]
  },
  {
   "cell_type": "code",
   "execution_count": 18,
   "metadata": {},
   "outputs": [
    {
     "name": "stdout",
     "output_type": "stream",
     "text": [
      "MSE for h1: 0.012049347480614618\n",
      "MSE for h2: 0.0009507941192609982\n"
     ]
    }
   ],
   "source": [
    "from sklearn.metrics import mean_squared_error\n",
    "\n",
    "# Descales ys_sim\n",
    "ys_sim_descaled = scaler.inverse_transform(ys_sim.T).T\n",
    "\n",
    "# Compute MSE for each output\n",
    "mse_h1 = mean_squared_error(ys_sim_descaled[0], y_sim_descaled[0])\n",
    "mse_h2 = mean_squared_error(ys_sim_descaled[1], y_sim_descaled[1])\n",
    "\n",
    "print(f\"MSE for h1: {mse_h1}\")\n",
    "print(f\"MSE for h2: {mse_h2}\")"
   ]
  },
  {
   "cell_type": "code",
   "execution_count": 19,
   "metadata": {},
   "outputs": [
    {
     "name": "stdout",
     "output_type": "stream",
     "text": [
      "ISE for h1: 1.819451410667027\n",
      "ISE for h2: 0.14356987173774044\n"
     ]
    }
   ],
   "source": [
    "from numpy import trapz\n",
    "\n",
    "# Compute ISE for each output\n",
    "ise_h1 = trapz((ys_sim_descaled[0] - y_sim_descaled[0])**2)\n",
    "ise_h2 = trapz((ys_sim_descaled[1] - y_sim_descaled[1])**2)\n",
    "\n",
    "print(f\"ISE for h1: {ise_h1}\")\n",
    "print(f\"ISE for h2: {ise_h2}\")"
   ]
  },
  {
   "cell_type": "code",
   "execution_count": 20,
   "metadata": {},
   "outputs": [
    {
     "data": {
      "image/png": "[encoded data removed]",
      "text/plain": [
       "<Figure size 1200x800 with 1 Axes>"
      ]
     },
     "metadata": {},
     "output_type": "display_data"
    }
   ],
   "source": [
    "# plot results\n",
    "plt.figure(figsize=(12, 8))\n",
    "plt.subplot(2, 1, 1)\n",
    "plt.plot(u_sim_descaled[0], label='q1')\n",
    "plt.plot(u_sim_descaled[1], label='q2')\n",
    "plt.xlabel('Time step')\n",
    "plt.ylabel('Output')\n",
    "plt.legend()\n",
    "plt.grid(True) "
   ]
  },
  {
   "cell_type": "code",
   "execution_count": 21,
   "metadata": {},
   "outputs": [
    {
     "name": "stdout",
     "output_type": "stream",
     "text": [
      "[44.20586059 56.04844784]\n"
     ]
    }
   ],
   "source": [
    "u_sum_abs = np.sum(np.abs(u_sim_descaled), axis=1)\n",
    "print(u_sum_abs)"
   ]
  },
  {
   "cell_type": "code",
   "execution_count": 22,
   "metadata": {},
   "outputs": [
    {
     "data": {
      "text/plain": [
       "[<matplotlib.lines.Line2D at 0x30abe4150>,\n",
       " <matplotlib.lines.Line2D at 0x30ac48a90>]"
      ]
     },
     "execution_count": 22,
     "metadata": {},
     "output_type": "execute_result"
    },
    {
     "data": {
      "image/png": "[encoded data removed]",
      "text/plain": [
       "<Figure size 640x480 with 1 Axes>"
      ]
     },
     "metadata": {},
     "output_type": "display_data"
    }
   ],
   "source": [
    "plt.plot(z_sim[nz:].T)"
   ]
  },
  {
   "cell_type": "code",
   "execution_count": 173,
   "metadata": {},
   "outputs": [
    {
     "data": {
      "text/plain": [
       "[<matplotlib.lines.Line2D at 0x308a01190>,\n",
       " <matplotlib.lines.Line2D at 0x309d1d210>,\n",
       " <matplotlib.lines.Line2D at 0x308b63f10>,\n",
       " <matplotlib.lines.Line2D at 0x309d1f3d0>,\n",
       " <matplotlib.lines.Line2D at 0x30a9478d0>,\n",
       " <matplotlib.lines.Line2D at 0x30a947490>,\n",
       " <matplotlib.lines.Line2D at 0x309d1ca90>,\n",
       " <matplotlib.lines.Line2D at 0x308a54510>,\n",
       " <matplotlib.lines.Line2D at 0x309e0f4d0>,\n",
       " <matplotlib.lines.Line2D at 0x30a977a90>]"
      ]
     },
     "execution_count": 173,
     "metadata": {},
     "output_type": "execute_result"
    },
    {
     "data": {
      "image/png": "[encoded data removed]",
      "text/plain": [
       "<Figure size 640x480 with 1 Axes>"
      ]
     },
     "metadata": {},
     "output_type": "display_data"
    }
   ],
   "source": [
    "plt.plot(zs_sim.T)"
   ]
  },
  {
   "cell_type": "code",
   "execution_count": 174,
   "metadata": {},
   "outputs": [
    {
     "data": {
      "text/plain": [
       "[<matplotlib.lines.Line2D at 0x30aaf1190>,\n",
       " <matplotlib.lines.Line2D at 0x30a9063d0>]"
      ]
     },
     "execution_count": 174,
     "metadata": {},
     "output_type": "execute_result"
    },
    {
     "data": {
      "image/png": "[encoded data removed]",
      "text/plain": [
       "<Figure size 640x480 with 1 Axes>"
      ]
     },
     "metadata": {},
     "output_type": "display_data"
    }
   ],
   "source": [
    "plt.plot(ys_sim.T)"
   ]
  }
 ],
 "metadata": {
  "kernelspec": {
   "display_name": "kmpc",
   "language": "python",
   "name": "python3"
  },
  "language_info": {
   "codemirror_mode": {
    "name": "ipython",
    "version": 3
   },
   "file_extension": ".py",
   "mimetype": "text/x-python",
   "name": "python",
   "nbconvert_exporter": "python",
   "pygments_lexer": "ipython3",
   "version": "3.11.11"
  }
 },
 "nbformat": 4,
 "nbformat_minor": 2
}
