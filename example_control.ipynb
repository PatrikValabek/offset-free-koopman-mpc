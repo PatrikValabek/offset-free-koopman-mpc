{
 "cells": [
  {
   "cell_type": "markdown",
   "metadata": {},
   "source": [
    "Optimal control using Koopman Model\n",
    "\n",
    "As is now"
   ]
  },
  {
   "cell_type": "code",
   "execution_count": 519,
   "metadata": {},
   "outputs": [
    {
     "name": "stdout",
     "output_type": "stream",
     "text": [
      "The autoreload extension is already loaded. To reload it, use:\n",
      "  %reload_ext autoreload\n"
     ]
    }
   ],
   "source": [
    "import numpy as np\n",
    "import pandas as pd\n",
    "import joblib\n",
    "import matplotlib.pyplot as plt\n",
    "import cvxpy as cp\n",
    "from torch.utils.data import DataLoader\n",
    "import torch\n",
    "from sklearn.preprocessing import StandardScaler\n",
    "\n",
    "from neuromancer.system import Node, System\n",
    "from neuromancer.trainer import Trainer\n",
    "from neuromancer.problem import Problem\n",
    "from neuromancer.dataset import DictDataset\n",
    "from neuromancer.constraint import variable\n",
    "from neuromancer.loss import PenaltyLoss\n",
    "from neuromancer. modules import blocks\n",
    "\n",
    "import src.models as models\n",
    "import src.helper as helper\n",
    "%load_ext autoreload\n",
    "%autoreload 2"
   ]
  },
  {
   "cell_type": "markdown",
   "metadata": {},
   "source": [
    "Load matrices, model, scalers and load process"
   ]
  },
  {
   "cell_type": "code",
   "execution_count": 520,
   "metadata": {},
   "outputs": [],
   "source": [
    "matrix_C = False\n",
    "\n",
    "# Load matrices A, B, and C \n",
    "A = np.load('./data/A_C_' + str(matrix_C) + '.npy')\n",
    "B = np.load('./data/B_C_' + str(matrix_C) + '.npy')\n",
    "C = np.load('./data/C_C_' + str(matrix_C) + '.npy')\n",
    "\n",
    "nz, nu = B.shape  # state and input dimensions\n",
    "ny = C.shape[0]  # output dimensions"
   ]
  },
  {
   "cell_type": "code",
   "execution_count": 521,
   "metadata": {},
   "outputs": [],
   "source": [
    "# model parameters\n",
    "\n",
    "layers = [20,40,60]\n",
    "layers_dec  = [60,40,20]\n"
   ]
  },
  {
   "cell_type": "code",
   "execution_count": 522,
   "metadata": {},
   "outputs": [
    {
     "data": {
      "text/plain": [
       "<All keys matched successfully>"
      ]
     },
     "execution_count": 522,
     "metadata": {},
     "output_type": "execute_result"
    }
   ],
   "source": [
    "# instantiate output encoder neural net f_y\n",
    "f_y = blocks.MLP(\n",
    "    ny,\n",
    "    nz,\n",
    "    bias=True,\n",
    "    linear_map=torch.nn.Linear,\n",
    "    nonlin=torch.nn.ReLU,\n",
    "    hsizes=layers,\n",
    ")\n",
    "# initial condition encoder\n",
    "encode_Y0 = Node(f_y, ['Y0'], ['x'], name='encoder_Y0')\n",
    "# observed trajectory encoder\n",
    "encode_Y = Node(f_y, ['Y'], ['x_latent'], name='encoder_Y')\n",
    "\n",
    "# instantiate input encoder net f_u, representing the B matrix in the linear system\n",
    "f_u = torch.nn.Linear(nu, nz, bias=False)\n",
    "# initial condition encoder\n",
    "encode_U = Node(f_u, ['U'], ['u_latent'], name='encoder_U')\n",
    "\n",
    "# instantiate state decoder neural net f_y_inv\n",
    "if not matrix_C:\n",
    "    f_y_inv = blocks.MLP(nz, ny, bias=True,\n",
    "                    linear_map=torch.nn.Linear,\n",
    "                    nonlin=torch.nn.ELU,\n",
    "                    hsizes=layers_dec)\n",
    "elif matrix_C:\n",
    "    f_y_inv = torch.nn.Linear(nz, ny, bias=False)\n",
    "else:\n",
    "    raise ValueError('matrix_C must be boolean')\n",
    "\n",
    "# predicted trajectory decoder\n",
    "decode_y = Node(f_y_inv, ['x'], ['yhat'], name='decoder_y')\n",
    "\n",
    "# representing matrix A in the linear system\n",
    "K = torch.nn.Linear(nz, nz, bias=False)\n",
    "\n",
    "# symbolic Koopman model with control inputs\n",
    "Koopman = Node(helper.PredictionWControl(K), ['x', 'u_latent'], ['x'], name='K')\n",
    "\n",
    "# latent Koopmann rollout\n",
    "dynamics_model = System([Koopman], name='Koopman', nsteps=1)\n",
    "\n",
    "# put all nodes of the Koopman model together in a list of nodes\n",
    "nodes = [encode_Y0, encode_Y, encode_U, dynamics_model, decode_y]\n",
    "\n",
    "# no loss function because only using the model not training it\n",
    "loss = PenaltyLoss([], constraints=[])\n",
    "\n",
    "problem = Problem(nodes, loss)\n",
    "\n",
    "problem.load_state_dict(torch.load('data/model_C_' + str(matrix_C) + '.pth'),strict=False)\n",
    "\n"
   ]
  },
  {
   "cell_type": "code",
   "execution_count": 523,
   "metadata": {},
   "outputs": [],
   "source": [
    "# load scalers\n",
    "scaler = joblib.load('data/scaler.pkl')\n",
    "scalerU = joblib.load('data/scalerU.pkl')"
   ]
  },
  {
   "cell_type": "code",
   "execution_count": 524,
   "metadata": {},
   "outputs": [],
   "source": [
    "# define same model as for training\n",
    "A1 = 1\n",
    "A2 = 0.5\n",
    "k1 = 0.5\n",
    "k2 = 0.8\n",
    "\n",
    "TwoTanks = models.TwoTanks(True, A1, A2, k1, k2)"
   ]
  },
  {
   "cell_type": "markdown",
   "metadata": {},
   "source": [
    "Necesary?"
   ]
  },
  {
   "cell_type": "code",
   "execution_count": 525,
   "metadata": {},
   "outputs": [],
   "source": [
    "# probably yes\n",
    "def get_x(y):\n",
    "    x = problem.nodes[0]({\"Y0\": torch.from_numpy(y).float()})\n",
    "    return x[\"x\"].detach().numpy().reshape(1,-1).T\n",
    "\n",
    "def get_y(x):\n",
    "    y = problem.nodes[4]({\"x\": torch.from_numpy(x.T).float()})\n",
    "    return y[\"yhat\"].detach().numpy().reshape(1,-1)"
   ]
  },
  {
   "cell_type": "code",
   "execution_count": null,
   "metadata": {},
   "outputs": [],
   "source": []
  },
  {
   "cell_type": "markdown",
   "metadata": {},
   "source": [
    "Observer design"
   ]
  },
  {
   "cell_type": "code",
   "execution_count": null,
   "metadata": {},
   "outputs": [],
   "source": []
  },
  {
   "cell_type": "code",
   "execution_count": 526,
   "metadata": {},
   "outputs": [],
   "source": [
    "\n",
    "# Simulation parameters\n",
    "T = 20  # number of steps\n",
    "z_true = np.zeros((nz, T+1))\n",
    "z_est = np.zeros((nz, T+1))\n",
    "y_meas = np.zeros((ny, T))\n",
    "u_seq = np.ones((nu, T))  # constant ones input\n",
    "\n",
    "# Initial state and covariance\n",
    "z_true[:, 0] = get_x(np.zeros(2)).T\n",
    "z_est[:, 0] = get_x(np.zeros(2)).T\n",
    "P0 = np.eye(nz) * 0.1\n",
    "\n",
    "# Noise covariances\n",
    "Q = np.eye(nz) * 0.01  # process noise\n",
    "R = np.eye(ny) * 0.05  # measurement noise\n",
    "\n",
    "EKF = helper.EKF(A,B,z_est[:, 0],P0,problem, Q, R)\n",
    "\n",
    "# # If you want to see resultra od simulate and apply EKF, uncomment the following code:\n",
    "# for k in range(T):\n",
    "#     # --- Simulate true system ---\n",
    "#     #w_k = np.random.multivariate_normal(np.zeros(nz), Q)\n",
    "#     x_true[:, k+1] = A @ x_true[:, k] + B @ u_seq[:, k] #+ w_k\n",
    "\n",
    "#     # --- Generate noisy measurement ---\n",
    "#     v_k = np.random.multivariate_normal(np.zeros(ny), R)\n",
    "#     y_meas[:, k] = get_y(x_true[:, k+1]) + v_k\n",
    "\n",
    "#     x_est[:, k+1] = EKF.step(u_seq[:, k], y_meas[:, k]).flatten()\n",
    "    \n",
    "# def plot_states(true_states, est_states, title=\"State estimates vs true values\"):\n",
    "#     nx, T_plus_1 = true_states.shape\n",
    "#     T = T_plus_1 - 1\n",
    "#     time = np.arange(T_plus_1)\n",
    "    \n",
    "#     plt.figure(figsize=(14, 2.5 * nx))\n",
    "#     for i in range(nx):\n",
    "#         plt.subplot(nx, 1, i + 1)\n",
    "#         plt.plot(time, true_states[i], label=f\"True x[{i}]\")\n",
    "#         plt.plot(time, est_states[i], label=f\"Estimated x[{i}]\", linestyle=\"--\")\n",
    "#         plt.title(f\"State x[{i}]\")\n",
    "#         plt.xlabel(\"Time step\")\n",
    "#         plt.legend()\n",
    "#         plt.grid(True)\n",
    "#     plt.tight_layout()\n",
    "#     plt.suptitle(title, fontsize=16, y=1.02)\n",
    "#     plt.show()\n",
    "\n",
    "# plot_states(x_true, x_est)\n"
   ]
  },
  {
   "cell_type": "markdown",
   "metadata": {},
   "source": [
    "Parameters to construct MPC problem reference tracking using C"
   ]
  },
  {
   "cell_type": "code",
   "execution_count": 527,
   "metadata": {},
   "outputs": [],
   "source": [
    "N = 20\n",
    "Qy = np.eye(ny)*20\n",
    "Qu = np.eye(nu)\n",
    "\n",
    "# Constraints\n",
    "u_min = scalerU.transform(np.array([[0.0, 0.0]]))[0]\n",
    "u_max = scalerU.transform(np.array([[0.5, 1.0]]))[0]\n",
    "y_min = scaler.transform(np.array([[0.0, 0.0]]))[0]\n",
    "y_max = scaler.transform(np.array([[5.0, 5.0]]))[0]\n",
    "\n",
    "z0 = cp.Parameter(nz)\n",
    "y0 = cp.Parameter(ny)\n",
    "u_prev = cp.Parameter(nu)\n",
    "y_ref = cp.Parameter((ny, N+1))\n",
    "\n",
    "# Decision variables\n",
    "z = cp.Variable((nz, N+1))\n",
    "y = cp.Variable((ny, N))\n",
    "delta_u = cp.Variable((nu, N))\n",
    "u = cp.Variable((nu, N + 1)) "
   ]
  },
  {
   "cell_type": "code",
   "execution_count": 528,
   "metadata": {},
   "outputs": [],
   "source": [
    "\n",
    "# Constraints and cost\n",
    "constraints = [z[:, 0] == z0]\n",
    "constraints += [u[:, 0] == u_prev + delta_u[:, 0]]\n",
    "cost = 0\n",
    "for k in range(N):\n",
    "    constraints += [u[:, k] == u[:, k-1] + delta_u[:, k]]\n",
    "    \n",
    "    constraints += [\n",
    "        z[:, k+1] == A @ z[:, k] + B @ u[:,k],\n",
    "        y[:, k] == C @ z[:, k],\n",
    "        u_min <= u[:, k], u[:, k] <= u_max,\n",
    "        y_min <= y[:, k], y[:, k] <= y_max\n",
    "    ]\n",
    "    \n",
    "    cost += cp.quad_form(y[:, k] - y_ref[:, k], Qy) + cp.quad_form(delta_u[:, k], Qu)\n",
    "\n",
    "# Terminal cost - not yet\n",
    "# cost += cp.quad_form(x[:, N] - x_ref[:, N], Q)\n"
   ]
  },
  {
   "cell_type": "code",
   "execution_count": 539,
   "metadata": {},
   "outputs": [],
   "source": [
    "y0.value = scaler.transform(np.array([[0.5 , 0.3]]))[0]\n",
    "z0.value = get_x(y0.value).T[0]\n",
    "u_prev.value = scalerU.transform(np.array([[0.1, 0.1]]))[0]\n",
    "y_ref.value = np.tile(scaler.transform(np.array([[1, 1]])).T, (1, N+1))  "
   ]
  },
  {
   "cell_type": "code",
   "execution_count": 540,
   "metadata": {},
   "outputs": [
    {
     "name": "stdout",
     "output_type": "stream",
     "text": [
      "[0.29715642 0.59873646]\n",
      "optimal\n"
     ]
    }
   ],
   "source": [
    "# sanity check\n",
    "mpc = cp.Problem(cp.Minimize(cost), constraints)\n",
    "mpc.solve(solver=cp.GUROBI)\n",
    "u_opt = u[:,0].value\n",
    "print(u[:,0].value)\n",
    "print(mpc.status)"
   ]
  },
  {
   "cell_type": "code",
   "execution_count": 541,
   "metadata": {},
   "outputs": [],
   "source": [
    "# Observer initialization\n",
    "\n",
    "P0 = np.eye(nz) * 0.1 # initial covariance\n",
    "Q = np.eye(nz) * 0.01  # process noise\n",
    "R = np.eye(ny) * 0.05  # measurement noise\n",
    "\n",
    "EKF = helper.EKF(A,B,z0.value,P0,problem, Q, R)"
   ]
  },
  {
   "cell_type": "markdown",
   "metadata": {},
   "source": [
    "Simulation"
   ]
  },
  {
   "cell_type": "code",
   "execution_count": 542,
   "metadata": {},
   "outputs": [
    {
     "name": "stdout",
     "output_type": "stream",
     "text": [
      "0\n",
      "optimal\n",
      "1\n",
      "optimal\n",
      "2\n",
      "optimal\n",
      "3\n",
      "optimal\n",
      "4\n",
      "optimal\n",
      "5\n",
      "optimal\n",
      "6\n",
      "optimal\n",
      "7\n",
      "optimal\n",
      "8\n",
      "optimal\n",
      "9\n",
      "optimal\n",
      "10\n",
      "optimal\n",
      "11\n",
      "optimal\n",
      "12\n",
      "optimal\n",
      "13\n",
      "optimal\n",
      "14\n",
      "optimal\n",
      "15\n",
      "optimal\n",
      "16\n",
      "optimal\n",
      "17\n",
      "optimal\n",
      "18\n",
      "optimal\n",
      "19\n",
      "optimal\n",
      "20\n",
      "optimal\n",
      "21\n",
      "optimal\n",
      "22\n",
      "optimal\n",
      "23\n",
      "optimal\n",
      "24\n",
      "optimal\n",
      "25\n",
      "optimal\n",
      "26\n",
      "optimal\n",
      "27\n",
      "optimal\n",
      "28\n",
      "optimal\n",
      "29\n",
      "optimal\n",
      "30\n",
      "optimal\n",
      "31\n",
      "optimal\n",
      "32\n",
      "optimal\n",
      "33\n",
      "optimal\n",
      "34\n",
      "optimal\n",
      "35\n",
      "optimal\n",
      "36\n",
      "optimal\n",
      "37\n",
      "optimal\n",
      "38\n",
      "optimal\n",
      "39\n",
      "optimal\n",
      "40\n",
      "optimal\n",
      "41\n",
      "optimal\n",
      "42\n",
      "optimal\n",
      "43\n",
      "optimal\n",
      "44\n",
      "optimal\n",
      "45\n",
      "optimal\n",
      "46\n",
      "optimal\n",
      "47\n",
      "optimal\n",
      "48\n",
      "optimal\n",
      "49\n",
      "optimal\n",
      "50\n",
      "optimal\n",
      "51\n",
      "optimal\n",
      "52\n",
      "optimal\n",
      "53\n",
      "optimal\n",
      "54\n",
      "optimal\n",
      "55\n",
      "optimal\n",
      "56\n",
      "optimal\n",
      "57\n",
      "optimal\n",
      "58\n",
      "optimal\n",
      "59\n",
      "optimal\n",
      "60\n",
      "optimal\n",
      "61\n",
      "optimal\n",
      "62\n",
      "optimal\n",
      "63\n",
      "optimal\n",
      "64\n",
      "optimal\n",
      "65\n",
      "optimal\n",
      "66\n",
      "optimal\n",
      "67\n",
      "optimal\n",
      "68\n",
      "optimal\n",
      "69\n",
      "optimal\n",
      "70\n",
      "optimal\n",
      "71\n",
      "optimal\n",
      "72\n",
      "optimal\n",
      "73\n",
      "optimal\n",
      "74\n",
      "optimal\n",
      "75\n",
      "optimal\n",
      "76\n",
      "optimal\n",
      "77\n",
      "optimal\n",
      "78\n",
      "optimal\n",
      "79\n",
      "optimal\n",
      "80\n",
      "optimal\n",
      "81\n",
      "optimal\n",
      "82\n",
      "optimal\n",
      "83\n",
      "optimal\n",
      "84\n",
      "optimal\n",
      "85\n",
      "optimal\n",
      "86\n",
      "optimal\n",
      "87\n",
      "optimal\n",
      "88\n",
      "optimal\n",
      "89\n",
      "optimal\n",
      "90\n",
      "optimal\n",
      "91\n",
      "optimal\n",
      "92\n",
      "optimal\n",
      "93\n",
      "optimal\n",
      "94\n",
      "optimal\n",
      "95\n",
      "optimal\n",
      "96\n",
      "optimal\n",
      "97\n",
      "optimal\n",
      "98\n",
      "optimal\n",
      "99\n",
      "optimal\n"
     ]
    }
   ],
   "source": [
    "sim_time = 100\n",
    "Ts = 1\n",
    "z_sim = np.zeros((nz, sim_time+1))\n",
    "y_sim = np.zeros((ny, sim_time+1))\n",
    "u_sim = np.zeros((nu, sim_time))\n",
    "\n",
    "y_sim_descaled = np.zeros((ny, sim_time+1))\n",
    "u_sim_descaled = np.zeros((nu, sim_time))\n",
    "\n",
    "z_sim[:, 0] = z0.value\n",
    "y_sim[:, 0] = y0.value\n",
    "y_sim_descaled[:, 0] = scaler.inverse_transform(y0.value.reshape(1,-1))[0]\n",
    "\n",
    "\n",
    "for k in range(sim_time):\n",
    "    # solve MPC\n",
    "    mpc.solve(solver=cp.GUROBI)\n",
    "    u_sim[:, k] = u[:,0].value\n",
    "    u_sim_descaled[:, k] = scalerU.inverse_transform(u_sim[:, k].reshape(1,-1))[0]\n",
    "\n",
    "    # simulate system\n",
    "    y_sim_descaled[:, k+1] =  TwoTanks.step(y_sim_descaled[:, k], u_sim_descaled[:, k].reshape(1,-1), Ts)\n",
    "    \n",
    "    y_sim[:, k+1] = scaler.transform(y_sim_descaled[:, k+1].reshape(1,-1))[0]\n",
    "    \n",
    "    # estimate state\n",
    "    z_sim[:, k+1] = EKF.step(u_sim[:, k], y_sim[:, k]).flatten()\n",
    "    \n",
    "    # update initial conditions\n",
    "    y0.value = y_sim[:, k+1]\n",
    "    z0.value = z_sim[:, k+1]\n",
    "    u_prev.value = u_sim[:, k]\n",
    "    print(k)\n",
    "    print(mpc.status)\n",
    "    "
   ]
  },
  {
   "cell_type": "code",
   "execution_count": 543,
   "metadata": {},
   "outputs": [
    {
     "data": {
      "image/png": "[encoded data removed]",
      "text/plain": [
       "<Figure size 1200x800 with 1 Axes>"
      ]
     },
     "metadata": {},
     "output_type": "display_data"
    }
   ],
   "source": [
    "# plot results\n",
    "plt.figure(figsize=(12, 8))\n",
    "plt.subplot(2, 1, 1)\n",
    "plt.plot(y_sim_descaled[0], label='h1')\n",
    "plt.plot(y_sim_descaled[1], label='h2')\n",
    "plt.xlabel('Time step')\n",
    "plt.ylabel('Output')\n",
    "plt.legend()\n",
    "plt.grid(True) "
   ]
  },
  {
   "cell_type": "code",
   "execution_count": 544,
   "metadata": {},
   "outputs": [
    {
     "data": {
      "image/png": "[encoded data removed]",
      "text/plain": [
       "<Figure size 1200x800 with 1 Axes>"
      ]
     },
     "metadata": {},
     "output_type": "display_data"
    }
   ],
   "source": [
    "# plot results\n",
    "plt.figure(figsize=(12, 8))\n",
    "plt.subplot(2, 1, 1)\n",
    "plt.plot(u_sim_descaled[0], label='q1')\n",
    "plt.plot(u_sim_descaled[1], label='q2')\n",
    "plt.xlabel('Time step')\n",
    "plt.ylabel('Output')\n",
    "plt.legend()\n",
    "plt.grid(True) "
   ]
  },
  {
   "cell_type": "code",
   "execution_count": null,
   "metadata": {},
   "outputs": [],
   "source": []
  }
 ],
 "metadata": {
  "kernelspec": {
   "display_name": "kmpc",
   "language": "python",
   "name": "python3"
  },
  "language_info": {
   "codemirror_mode": {
    "name": "ipython",
    "version": 3
   },
   "file_extension": ".py",
   "mimetype": "text/x-python",
   "name": "python",
   "nbconvert_exporter": "python",
   "pygments_lexer": "ipython3",
   "version": "3.11.11"
  }
 },
 "nbformat": 4,
 "nbformat_minor": 2
}
