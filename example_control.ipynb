{
 "cells": [
  {
   "cell_type": "markdown",
   "metadata": {},
   "source": [
    "Optimal control using Koopman Model\n",
    "\n",
    "As is now"
   ]
  },
  {
   "cell_type": "code",
   "execution_count": 1,
   "metadata": {},
   "outputs": [
    {
     "name": "stdout",
     "output_type": "stream",
     "text": [
      "Models imported succesfully\n",
      "Helper imported succesfully\n"
     ]
    }
   ],
   "source": [
    "import numpy as np\n",
    "import pandas as pd\n",
    "import joblib\n",
    "import matplotlib.pyplot as plt\n",
    "import cvxpy as cp\n",
    "from torch.utils.data import DataLoader\n",
    "import torch\n",
    "from sklearn.preprocessing import StandardScaler\n",
    "\n",
    "from neuromancer.system import Node, System\n",
    "from neuromancer.trainer import Trainer\n",
    "from neuromancer.problem import Problem\n",
    "from neuromancer.dataset import DictDataset\n",
    "from neuromancer.constraint import variable\n",
    "from neuromancer.loss import PenaltyLoss\n",
    "from neuromancer. modules import blocks\n",
    "\n",
    "import src.models as models\n",
    "import src.helper as helper\n",
    "%load_ext autoreload\n",
    "%autoreload 2"
   ]
  },
  {
   "cell_type": "markdown",
   "metadata": {},
   "source": [
    "Load matrices, model, scalers and load process"
   ]
  },
  {
   "cell_type": "code",
   "execution_count": 2,
   "metadata": {},
   "outputs": [],
   "source": [
    "matrix_C = False\n",
    "\n",
    "# Load matrices A, B, and C \n",
    "A = np.load('./data/A_C_' + str(matrix_C) + '.npy')\n",
    "B = np.load('./data/B_C_' + str(matrix_C) + '.npy')\n",
    "C = np.load('./data/C_C_' + str(matrix_C) + '.npy')\n",
    "\n",
    "nz, nu = B.shape  # state and input dimensions\n",
    "ny = C.shape[0]  # output dimensions"
   ]
  },
  {
   "cell_type": "code",
   "execution_count": 3,
   "metadata": {},
   "outputs": [],
   "source": [
    "# model parameters\n",
    "\n",
    "layers = [20,40,60]\n",
    "layers_dec  = [60,40,20]\n"
   ]
  },
  {
   "cell_type": "code",
   "execution_count": 4,
   "metadata": {},
   "outputs": [
    {
     "data": {
      "text/plain": [
       "<All keys matched successfully>"
      ]
     },
     "execution_count": 4,
     "metadata": {},
     "output_type": "execute_result"
    }
   ],
   "source": [
    "# instantiate output encoder neural net f_y\n",
    "f_y = blocks.MLP(\n",
    "    ny,\n",
    "    nz,\n",
    "    bias=True,\n",
    "    linear_map=torch.nn.Linear,\n",
    "    nonlin=torch.nn.ReLU,\n",
    "    hsizes=layers,\n",
    ")\n",
    "# initial condition encoder\n",
    "encode_Y0 = Node(f_y, ['Y0'], ['x'], name='encoder_Y0')\n",
    "# observed trajectory encoder\n",
    "encode_Y = Node(f_y, ['Y'], ['x_latent'], name='encoder_Y')\n",
    "\n",
    "# instantiate input encoder net f_u, representing the B matrix in the linear system\n",
    "f_u = torch.nn.Linear(nu, nz, bias=False)\n",
    "# initial condition encoder\n",
    "encode_U = Node(f_u, ['U'], ['u_latent'], name='encoder_U')\n",
    "\n",
    "# instantiate state decoder neural net f_y_inv\n",
    "if not matrix_C:\n",
    "    f_y_inv = blocks.MLP(nz, ny, bias=True,\n",
    "                    linear_map=torch.nn.Linear,\n",
    "                    nonlin=torch.nn.ELU,\n",
    "                    hsizes=layers_dec)\n",
    "elif matrix_C:\n",
    "    f_y_inv = torch.nn.Linear(nz, ny, bias=False)\n",
    "else:\n",
    "    raise ValueError('matrix_C must be boolean')\n",
    "\n",
    "# predicted trajectory decoder\n",
    "decode_y = Node(f_y_inv, ['x'], ['yhat'], name='decoder_y')\n",
    "\n",
    "# representing matrix A in the linear system\n",
    "K = torch.nn.Linear(nz, nz, bias=False)\n",
    "\n",
    "# symbolic Koopman model with control inputs\n",
    "Koopman = Node(helper.PredictionWControl(K), ['x', 'u_latent'], ['x'], name='K')\n",
    "\n",
    "# latent Koopmann rollout\n",
    "dynamics_model = System([Koopman], name='Koopman', nsteps=1)\n",
    "\n",
    "# put all nodes of the Koopman model together in a list of nodes\n",
    "nodes = [encode_Y0, encode_Y, encode_U, dynamics_model, decode_y]\n",
    "\n",
    "# no loss function because only using the model not training it\n",
    "loss = PenaltyLoss([], constraints=[])\n",
    "\n",
    "problem = Problem(nodes, loss)\n",
    "\n",
    "problem.load_state_dict(torch.load('data/model_C_' + str(matrix_C) + '.pth'),strict=False)\n",
    "\n"
   ]
  },
  {
   "cell_type": "code",
   "execution_count": 5,
   "metadata": {},
   "outputs": [],
   "source": [
    "# load scalers\n",
    "scaler = joblib.load('data/scaler.pkl')\n",
    "scalerU = joblib.load('data/scalerU.pkl')"
   ]
  },
  {
   "cell_type": "code",
   "execution_count": 6,
   "metadata": {},
   "outputs": [],
   "source": [
    "# define same model as for training\n",
    "A1 = 1\n",
    "A2 = 0.5\n",
    "k1 = 0.5\n",
    "k2 = 0.8\n",
    "\n",
    "TwoTanks = models.TwoTanks(True, A1, A2, k1, k2)"
   ]
  },
  {
   "cell_type": "markdown",
   "metadata": {},
   "source": [
    "Necesary?"
   ]
  },
  {
   "cell_type": "code",
   "execution_count": 7,
   "metadata": {},
   "outputs": [],
   "source": [
    "# probably yes\n",
    "def get_x(y):\n",
    "    x = problem.nodes[0]({\"Y0\": torch.from_numpy(y).float()})\n",
    "    return x[\"x\"].detach().numpy().reshape(1,-1).T\n",
    "\n",
    "def get_y(x):\n",
    "    y = problem.nodes[4]({\"x\": torch.from_numpy(x.T).float()})\n",
    "    return y[\"yhat\"].detach().numpy().reshape(1,-1)"
   ]
  },
  {
   "cell_type": "code",
   "execution_count": null,
   "metadata": {},
   "outputs": [],
   "source": []
  },
  {
   "cell_type": "markdown",
   "metadata": {},
   "source": [
    "## normal MPC using C\n"
   ]
  },
  {
   "cell_type": "code",
   "execution_count": null,
   "metadata": {},
   "outputs": [],
   "source": []
  },
  {
   "cell_type": "code",
   "execution_count": null,
   "metadata": {},
   "outputs": [],
   "source": [
    "\n",
    "# Simulation parameters\n",
    "T = 20  # number of steps\n",
    "z_true = np.zeros((nz, T+1))\n",
    "z_est = np.zeros((nz, T+1))\n",
    "y_meas = np.zeros((ny, T))\n",
    "u_seq = np.ones((nu, T))  # constant ones input\n",
    "\n",
    "# Initial state and covariance\n",
    "z_true[:, 0] = get_x(np.zeros(2)).T\n",
    "z_est[:, 0] = get_x(np.zeros(2)).T\n",
    "P0 = np.eye(nz) * 0.1\n",
    "\n",
    "# Noise covariances\n",
    "Q = np.eye(nz) * 0.01  # process noise\n",
    "R = np.eye(ny) * 0.05  # measurement noise\n",
    "\n",
    "EKF = helper.KF(A,B,C,z_est[:, 0],P0, Q, R)\n",
    "\n",
    "# # If you want to see resultra od simulate and apply EKF, uncomment the following code:\n",
    "# for k in range(T):\n",
    "#     # --- Simulate true system ---\n",
    "#     #w_k = np.random.multivariate_normal(np.zeros(nz), Q)\n",
    "#     x_true[:, k+1] = A @ x_true[:, k] + B @ u_seq[:, k] #+ w_k\n",
    "\n",
    "#     # --- Generate noisy measurement ---\n",
    "#     v_k = np.random.multivariate_normal(np.zeros(ny), R)\n",
    "#     y_meas[:, k] = get_y(x_true[:, k+1]) + v_k\n",
    "\n",
    "#     x_est[:, k+1] = EKF.step(u_seq[:, k], y_meas[:, k]).flatten()\n",
    "    \n",
    "# def plot_states(true_states, est_states, title=\"State estimates vs true values\"):\n",
    "#     nx, T_plus_1 = true_states.shape\n",
    "#     T = T_plus_1 - 1\n",
    "#     time = np.arange(T_plus_1)\n",
    "    \n",
    "#     plt.figure(figsize=(14, 2.5 * nx))\n",
    "#     for i in range(nx):\n",
    "#         plt.subplot(nx, 1, i + 1)\n",
    "#         plt.plot(time, true_states[i], label=f\"True x[{i}]\")\n",
    "#         plt.plot(time, est_states[i], label=f\"Estimated x[{i}]\", linestyle=\"--\")\n",
    "#         plt.title(f\"State x[{i}]\")\n",
    "#         plt.xlabel(\"Time step\")\n",
    "#         plt.legend()\n",
    "#         plt.grid(True)\n",
    "#     plt.tight_layout()\n",
    "#     plt.suptitle(title, fontsize=16, y=1.02)\n",
    "#     plt.show()\n",
    "\n",
    "# plot_states(x_true, x_est)\n"
   ]
  },
  {
   "cell_type": "markdown",
   "metadata": {},
   "source": [
    "Parameters to construct MPC problem reference tracking using C"
   ]
  },
  {
   "cell_type": "code",
   "execution_count": null,
   "metadata": {},
   "outputs": [],
   "source": [
    "N = 20\n",
    "Qy = np.eye(ny)*20\n",
    "Qu = np.eye(nu)\n",
    "\n",
    "# Constraints\n",
    "u_min = scalerU.transform(np.array([[0.0, 0.0]]))[0]\n",
    "u_max = scalerU.transform(np.array([[0.5, 1.0]]))[0]\n",
    "y_min = scaler.transform(np.array([[0.0, 0.0]]))[0]\n",
    "y_max = scaler.transform(np.array([[5.0, 5.0]]))[0]\n",
    "\n",
    "z0 = cp.Parameter(nz)\n",
    "y0 = cp.Parameter(ny)\n",
    "u_prev = cp.Parameter(nu)\n",
    "y_ref = cp.Parameter(ny)\n",
    "\n",
    "# Decision variables\n",
    "z = cp.Variable((nz, N+1))\n",
    "y = cp.Variable((ny, N))\n",
    "delta_u = cp.Variable((nu, N))\n",
    "u = cp.Variable((nu, N + 1)) "
   ]
  },
  {
   "cell_type": "code",
   "execution_count": null,
   "metadata": {},
   "outputs": [],
   "source": [
    "\n",
    "# Constraints and cost\n",
    "constraints = [z[:, 0] == z0]\n",
    "constraints += [u[:, 0] == u_prev + delta_u[:, 0]]\n",
    "cost = 0\n",
    "for k in range(N):\n",
    "    constraints += [u[:, k] == u[:, k-1] + delta_u[:, k]]\n",
    "    \n",
    "    constraints += [\n",
    "        z[:, k+1] == A @ z[:, k] + B @ u[:,k],\n",
    "        y[:, k] == C @ z[:, k],\n",
    "        u_min <= u[:, k], u[:, k] <= u_max,\n",
    "        y_min <= y[:, k], y[:, k] <= y_max\n",
    "    ]\n",
    "    \n",
    "    cost += cp.quad_form(y[:, k] - y_ref, Qy) + cp.quad_form(delta_u[:, k], Qu)\n",
    "\n",
    "# Terminal cost - not yet\n",
    "# cost += cp.quad_form(x[:, N] - x_ref[:, N], Q)\n"
   ]
  },
  {
   "cell_type": "code",
   "execution_count": null,
   "metadata": {},
   "outputs": [],
   "source": [
    "y0.value = scaler.transform(np.array([[0.5 , 0.3]]))[0]\n",
    "z0.value = get_x(y0.value).T[0]\n",
    "u_prev.value = scalerU.transform(np.array([[0.1, 0.1]]))[0]\n",
    "y_ref.value = scaler.transform(np.array([[1, 1]]))[0]"
   ]
  },
  {
   "cell_type": "code",
   "execution_count": null,
   "metadata": {},
   "outputs": [
    {
     "name": "stdout",
     "output_type": "stream",
     "text": [
      "optimal\n",
      "Optimanl value: 1.2691291261077066e-18\n",
      "Optimal u: [-0.97079077  0.63711121]\n",
      "Optimal y: [-0.25787823  0.05853135]\n",
      "Optimal z: [-0.25606938 -0.34204551  0.07346435  0.46208751  0.00961057  0.57806848\n",
      "  0.01480864  0.03828539 -0.27581379 -0.36402591]\n",
      "Optimal u: [[0.07559511 0.68489824]]\n",
      "Optimal y: [[1. 1.]]\n"
     ]
    }
   ],
   "source": [
    "# target estimation\n",
    "z_s = cp.Variable(nz)\n",
    "y_s = cp.Variable(ny)\n",
    "u_s = cp.Variable(nu)\n",
    "\n",
    "# Constraints and cost\n",
    "constraints_s = [z_s == A @ z_s + B @ u_s]\n",
    "constraints_s += [y_s == C @ z_s]\n",
    "constraints_s += [u_min <= u_s, u_s <= u_max]\n",
    "constraints_s += [y_min <= y_s, y_s <= y_max]\n",
    "\n",
    "cost_s = 0\n",
    "cost_s += cp.quad_form(y_s - y_ref, np.eye(ny))\n",
    "\n",
    "target_estimation = cp.Problem(cp.Minimize(cost_s), constraints_s)\n",
    "target_estimation.solve(solver=cp.GUROBI)\n",
    "print(target_estimation.status)\n",
    "print(\"Optimanl value:\", target_estimation.value)\n",
    "print(\"Optimal u:\", u_s.value)\n",
    "print(\"Optimal y:\", y_s.value)\n",
    "print(\"Optimal z:\", z_s.value)\n",
    "print(\"Optimal u:\", scalerU.inverse_transform(u_s.value.reshape(1,-1)))\n",
    "print(\"Optimal y:\", scaler.inverse_transform(y_s.value.reshape(1,-1)))\n",
    "\n",
    "y_ref.value = y_s.value\n",
    "z_ref_store = z_s.value"
   ]
  },
  {
   "cell_type": "code",
   "execution_count": null,
   "metadata": {},
   "outputs": [
    {
     "name": "stdout",
     "output_type": "stream",
     "text": [
      "[0.29715642 0.59873646]\n",
      "optimal\n"
     ]
    }
   ],
   "source": [
    "# sanity check\n",
    "mpc = cp.Problem(cp.Minimize(cost), constraints)\n",
    "mpc.solve(solver=cp.GUROBI)\n",
    "u_opt = u[:,0].value\n",
    "print(u[:,0].value)\n",
    "print(mpc.status)"
   ]
  },
  {
   "cell_type": "code",
   "execution_count": null,
   "metadata": {},
   "outputs": [],
   "source": [
    "# Observer initialization\n",
    "\n",
    "P0 = np.eye(nz) * 0.1 # initial covariance\n",
    "Q = np.eye(nz) * 0.01  # process noise\n",
    "R = np.eye(ny) * 0.05  # measurement noise\n",
    "\n",
    "EKF = helper.EKF_test(A,B,z0.value,P0,problem, Q, R, False, None, C)"
   ]
  },
  {
   "cell_type": "markdown",
   "metadata": {},
   "source": [
    "Simulation"
   ]
  },
  {
   "cell_type": "code",
   "execution_count": null,
   "metadata": {},
   "outputs": [
    {
     "name": "stdout",
     "output_type": "stream",
     "text": [
      "0\n",
      "optimal\n",
      "1\n",
      "optimal\n",
      "2\n",
      "optimal\n",
      "3\n",
      "optimal\n",
      "4\n",
      "optimal\n",
      "5\n",
      "optimal\n",
      "6\n",
      "optimal\n",
      "7\n",
      "optimal\n",
      "8\n",
      "optimal\n",
      "9\n",
      "optimal\n",
      "10\n",
      "optimal\n",
      "11\n",
      "optimal\n",
      "12\n",
      "optimal\n",
      "13\n",
      "optimal\n",
      "14\n",
      "optimal\n",
      "15\n",
      "optimal\n",
      "16\n",
      "optimal\n",
      "17\n",
      "optimal\n",
      "18\n",
      "optimal\n",
      "19\n",
      "optimal\n",
      "20\n",
      "optimal\n",
      "21\n",
      "optimal\n",
      "22\n",
      "optimal\n",
      "23\n",
      "optimal\n",
      "24\n",
      "optimal\n",
      "25\n",
      "optimal\n",
      "26\n",
      "optimal\n",
      "27\n",
      "optimal\n",
      "28\n",
      "optimal\n",
      "29\n",
      "optimal\n",
      "30\n",
      "optimal\n",
      "31\n",
      "optimal\n",
      "32\n",
      "optimal\n",
      "33\n",
      "optimal\n",
      "34\n",
      "optimal\n",
      "35\n",
      "optimal\n",
      "36\n",
      "optimal\n",
      "37\n",
      "optimal\n",
      "38\n",
      "optimal\n",
      "39\n",
      "optimal\n",
      "40\n",
      "optimal\n",
      "41\n",
      "optimal\n",
      "42\n",
      "optimal\n",
      "43\n",
      "optimal\n",
      "44\n",
      "optimal\n",
      "45\n",
      "optimal\n",
      "46\n",
      "optimal\n",
      "47\n",
      "optimal\n",
      "48\n",
      "optimal\n",
      "49\n",
      "optimal\n",
      "50\n",
      "optimal\n",
      "51\n",
      "optimal\n",
      "52\n",
      "optimal\n",
      "53\n",
      "optimal\n",
      "54\n",
      "optimal\n",
      "55\n",
      "optimal\n",
      "56\n",
      "optimal\n",
      "57\n",
      "optimal\n",
      "58\n",
      "optimal\n",
      "59\n",
      "optimal\n",
      "60\n",
      "optimal\n",
      "61\n",
      "optimal\n",
      "62\n",
      "optimal\n",
      "63\n",
      "optimal\n",
      "64\n",
      "optimal\n",
      "65\n",
      "optimal\n",
      "66\n",
      "optimal\n",
      "67\n",
      "optimal\n",
      "68\n",
      "optimal\n",
      "69\n",
      "optimal\n",
      "70\n",
      "optimal\n",
      "71\n",
      "optimal\n",
      "72\n",
      "optimal\n",
      "73\n",
      "optimal\n",
      "74\n",
      "optimal\n",
      "75\n",
      "optimal\n",
      "76\n",
      "optimal\n",
      "77\n",
      "optimal\n",
      "78\n",
      "optimal\n",
      "79\n",
      "optimal\n",
      "80\n",
      "optimal\n",
      "81\n",
      "optimal\n",
      "82\n",
      "optimal\n",
      "83\n",
      "optimal\n",
      "84\n",
      "optimal\n",
      "85\n",
      "optimal\n",
      "86\n",
      "optimal\n",
      "87\n",
      "optimal\n",
      "88\n",
      "optimal\n",
      "89\n",
      "optimal\n",
      "90\n",
      "optimal\n",
      "91\n",
      "optimal\n",
      "92\n",
      "optimal\n",
      "93\n",
      "optimal\n",
      "94\n",
      "optimal\n",
      "95\n",
      "optimal\n",
      "96\n",
      "optimal\n",
      "97\n",
      "optimal\n",
      "98\n",
      "optimal\n",
      "99\n",
      "optimal\n"
     ]
    }
   ],
   "source": [
    "sim_time = 100\n",
    "Ts = 1\n",
    "z_sim = np.zeros((nz, sim_time+1))\n",
    "y_sim = np.zeros((ny, sim_time+1))\n",
    "u_sim = np.zeros((nu, sim_time))\n",
    "\n",
    "y_sim_descaled = np.zeros((ny, sim_time+1))\n",
    "u_sim_descaled = np.zeros((nu, sim_time))\n",
    "\n",
    "z_sim[:, 0] = z0.value\n",
    "y_sim[:, 0] = y0.value\n",
    "y_sim_descaled[:, 0] = scaler.inverse_transform(y0.value.reshape(1,-1))[0]\n",
    "\n",
    "\n",
    "for k in range(sim_time):\n",
    "    # solve MPC\n",
    "    mpc.solve(solver=cp.GUROBI)\n",
    "    u_sim[:, k] = u[:,0].value\n",
    "    u_sim_descaled[:, k] = scalerU.inverse_transform(u_sim[:, k].reshape(1,-1))[0]\n",
    "    \n",
    "    # simulate system\n",
    "    y_sim_descaled[:, k+1] =  TwoTanks.step(y_sim_descaled[:, k], u_sim_descaled[:, k].reshape(1,-1), Ts)\n",
    "    \n",
    "    y_sim[:, k+1] = scaler.transform(y_sim_descaled[:, k+1].reshape(1,-1))[0]\n",
    "    \n",
    "    # estimate state\n",
    "    z_sim[:, k+1] = EKF.step(u_sim[:, k], y_sim[:, k]).flatten()\n",
    "    \n",
    "    # update initial conditions\n",
    "    y0.value = y_sim[:, k+1]\n",
    "    z0.value = z_sim[:, k+1]\n",
    "    u_prev.value = u_sim[:, k]\n",
    "    print(k)\n",
    "    print(mpc.status)\n",
    "    "
   ]
  },
  {
   "cell_type": "code",
   "execution_count": null,
   "metadata": {},
   "outputs": [
    {
     "data": {
      "image/png": "[encoded data removed]",
      "text/plain": [
       "<Figure size 1200x800 with 1 Axes>"
      ]
     },
     "metadata": {},
     "output_type": "display_data"
    }
   ],
   "source": [
    "# plot results\n",
    "plt.figure(figsize=(12, 8))\n",
    "plt.subplot(2, 1, 1)\n",
    "plt.plot(y_sim_descaled[0], label='h1')\n",
    "plt.plot(y_sim_descaled[1], label='h2')\n",
    "plt.axhline(y=scaler.inverse_transform(y_ref.value.reshape(1, -1))[0][0], color='red', linestyle='--', label='y_ref h1')\n",
    "plt.axhline(y=scaler.inverse_transform(y_ref.value.reshape(1, -1))[0][1], color='red', linestyle=':', label='y_ref h2')\n",
    "plt.xlabel('Time step')\n",
    "plt.ylabel('Output')\n",
    "plt.legend()\n",
    "plt.grid(True) "
   ]
  },
  {
   "cell_type": "code",
   "execution_count": null,
   "metadata": {},
   "outputs": [
    {
     "data": {
      "image/png": "[encoded data removed]",
      "text/plain": [
       "<Figure size 1200x800 with 1 Axes>"
      ]
     },
     "metadata": {},
     "output_type": "display_data"
    }
   ],
   "source": [
    "# plot results\n",
    "plt.figure(figsize=(12, 8))\n",
    "plt.subplot(2, 1, 1)\n",
    "plt.plot(u_sim_descaled[0], label='q1')\n",
    "plt.plot(u_sim_descaled[1], label='q2')\n",
    "plt.xlabel('Time step')\n",
    "plt.ylabel('Output')\n",
    "plt.legend()\n",
    "plt.grid(True) "
   ]
  },
  {
   "cell_type": "markdown",
   "metadata": {},
   "source": [
    "## Without Directly using matrix C (only for obtaining matrix)\n"
   ]
  },
  {
   "cell_type": "code",
   "execution_count": null,
   "metadata": {},
   "outputs": [
    {
     "name": "stdout",
     "output_type": "stream",
     "text": [
      "optimal\n",
      "Optimanl value: 1.2691503287689487e-18\n",
      "Optimal u: [-0.97079076  0.6371112 ]\n",
      "Optimal y: [-0.25787822  0.05853135]\n",
      "Optimal z: [-0.25606937 -0.34204551  0.07346435  0.46208751  0.00961057  0.57806848\n",
      "  0.01480864  0.03828539 -0.27581379 -0.36402591]\n",
      "Optimal u: [[0.07559512 0.68489824]]\n",
      "Optimal y: [[1. 1.]]\n"
     ]
    }
   ],
   "source": [
    "# target estimation\n",
    "z_s = cp.Variable(nz)\n",
    "y_s = cp.Variable(ny)\n",
    "u_s = cp.Variable(nu)\n",
    "\n",
    "# Constraints and cost\n",
    "constraints_s = [z_s == A @ z_s + B @ u_s]\n",
    "constraints_s += [y_s == C @ z_s]\n",
    "constraints_s += [u_min <= u_s, u_s <= u_max]\n",
    "constraints_s += [y_min <= y_s, y_s <= y_max]\n",
    "\n",
    "cost_s = 0\n",
    "cost_s += cp.quad_form(y_s - y_ref, np.eye(ny))\n",
    "\n",
    "target_estimation = cp.Problem(cp.Minimize(cost_s), constraints_s)\n",
    "target_estimation.solve(solver=cp.GUROBI)\n",
    "print(target_estimation.status)\n",
    "print(\"Optimanl value:\", target_estimation.value)\n",
    "print(\"Optimal u:\", u_s.value)\n",
    "print(\"Optimal y:\", y_s.value)\n",
    "print(\"Optimal z:\", z_s.value)\n",
    "print(\"Optimal u:\", scalerU.inverse_transform(u_s.value.reshape(1,-1)))\n",
    "print(\"Optimal y:\", scaler.inverse_transform(y_s.value.reshape(1,-1)))\n",
    "\n",
    "y_ref.value = y_s.value\n",
    "z_ref_store = z_s.value"
   ]
  },
  {
   "cell_type": "code",
   "execution_count": null,
   "metadata": {},
   "outputs": [
    {
     "data": {
      "text/plain": [
       "dtype('float32')"
      ]
     },
     "execution_count": 1332,
     "metadata": {},
     "output_type": "execute_result"
    }
   ],
   "source": [
    "np.float32(z_ref_store)[0].dtype"
   ]
  },
  {
   "cell_type": "code",
   "execution_count": null,
   "metadata": {},
   "outputs": [],
   "source": [
    "z_est = get_x(y_s.value).T[0]\n",
    "z_s = torch.nn.Parameter(torch.tensor(np.float32(z_ref_store)),requires_grad=True)\n",
    "optimizer = torch.optim.Adam([z_s], lr=1e-2)\n",
    "y_sp = torch.tensor(y_s.value, dtype=torch.float32, device=z_s.device)"
   ]
  },
  {
   "cell_type": "code",
   "execution_count": null,
   "metadata": {},
   "outputs": [],
   "source": [
    "# z_s estimation using gradient descent\n",
    "z_ref = cp.Parameter(nz)\n",
    "for i in range(100):\n",
    "    optimizer.zero_grad()\n",
    "    y_pred = problem.nodes[4]({\"x\": z_s})[\"yhat\"]\n",
    "    loss = ((y_pred - y_sp)**2).sum()\n",
    "    loss.backward()\n",
    "    optimizer.step()\n",
    "\n",
    "z_ref.value = z_s.detach().numpy()\n",
    "#z_ref.value = z_ref_store"
   ]
  },
  {
   "cell_type": "code",
   "execution_count": null,
   "metadata": {},
   "outputs": [
    {
     "data": {
      "text/plain": [
       "Parameter containing:\n",
       "tensor([-0.2372, -0.3455,  0.1043,  0.4272,  0.0430,  0.6035, -0.0019,  0.0077,\n",
       "        -0.2461, -0.3980], requires_grad=True)"
      ]
     },
     "execution_count": 1335,
     "metadata": {},
     "output_type": "execute_result"
    }
   ],
   "source": [
    "z_s"
   ]
  },
  {
   "cell_type": "code",
   "execution_count": null,
   "metadata": {},
   "outputs": [
    {
     "data": {
      "text/plain": [
       "array([-0.25606937, -0.34204551,  0.07346435,  0.46208751,  0.00961057,\n",
       "        0.57806848,  0.01480864,  0.03828539, -0.27581379, -0.36402591])"
      ]
     },
     "execution_count": 1336,
     "metadata": {},
     "output_type": "execute_result"
    }
   ],
   "source": [
    "z_ref_store"
   ]
  },
  {
   "cell_type": "code",
   "execution_count": null,
   "metadata": {},
   "outputs": [],
   "source": [
    "N = 20\n",
    "#Jh = helper.evaluate_jacobian(problem.nodes[4], z_s)\n",
    "Jh = helper.evaluate_jacobian(problem.nodes[4], torch.tensor(z_ref_store))\n",
    "Qz = Jh.T@np.eye(ny)*20@Jh\n",
    "Qz = C.T@np.eye(ny)*20@C\n",
    "Qz_psd = Qz + 1e-8 * np.eye(Qz.shape[0])\n",
    "Qu = np.eye(nu)\n",
    "\n",
    "# Constraints\n",
    "u_min = scalerU.transform(np.array([[0.0, 0.0]]))[0]\n",
    "u_max = scalerU.transform(np.array([[0.5, 1.0]]))[0]\n",
    "# y_min = scaler.transform(np.array([[0.0, 0.0]]))[0]\n",
    "# y_max = scaler.transform(np.array([[5.0, 5.0]]))[0]\n",
    "\n",
    "z0 = cp.Parameter(nz)\n",
    "y0 = cp.Parameter(ny)\n",
    "u_prev = cp.Parameter(nu)\n",
    "\n",
    "\n",
    "# Decision variables\n",
    "z = cp.Variable((nz, N+1))\n",
    "#y = cp.Variable((ny, N))\n",
    "delta_u = cp.Variable((nu, N))\n",
    "u = cp.Variable((nu, N + 1)) "
   ]
  },
  {
   "cell_type": "code",
   "execution_count": null,
   "metadata": {},
   "outputs": [
    {
     "name": "stdout",
     "output_type": "stream",
     "text": [
      "Min eigenvalue of P: 9.999963075464137e-09\n"
     ]
    }
   ],
   "source": [
    "# Ensure PSD\n",
    "eigvals = np.linalg.eigvalsh(Qz_psd)\n",
    "print(\"Min eigenvalue of P:\", eigvals.min())\n",
    "assert np.all(eigvals >= -1e-8), \"Matrix P must be positive semidefinite\""
   ]
  },
  {
   "cell_type": "code",
   "execution_count": null,
   "metadata": {},
   "outputs": [],
   "source": [
    "\n",
    "# Constraints and cost\n",
    "constraints = [z[:, 0] == z0]\n",
    "constraints += [u[:, 0] == u_prev + delta_u[:, 0]]\n",
    "cost = 0\n",
    "for k in range(N):\n",
    "    constraints += [u[:, k] == u[:, k-1] + delta_u[:, k]]\n",
    "    \n",
    "    constraints += [\n",
    "        z[:, k+1] == A @ z[:, k] + B @ u[:,k],\n",
    "        u_min <= u[:, k], u[:, k] <= u_max,\n",
    "        #y_min <= y[:, k], y[:, k] <= y_max\n",
    "    ]\n",
    "    \n",
    "    cost += cp.quad_form(z[:, k] - z_ref, Qz_psd) + cp.quad_form(delta_u[:, k], Qu)\n",
    "\n",
    "# Terminal cost - not yet\n",
    "# cost += cp.quad_form(x[:, N] - x_ref[:, N], Q)\n"
   ]
  },
  {
   "cell_type": "code",
   "execution_count": null,
   "metadata": {},
   "outputs": [],
   "source": [
    "y0.value = scaler.transform(np.array([[0.5 , 0.3]]))[0]\n",
    "z0.value = get_x(y0.value).T[0]\n",
    "u_prev.value = scalerU.transform(np.array([[0.1, 0.1]]))[0]\n",
    "y_sp = scaler.transform(np.array([[1, 1]]))[0]"
   ]
  },
  {
   "cell_type": "code",
   "execution_count": null,
   "metadata": {},
   "outputs": [
    {
     "name": "stdout",
     "output_type": "stream",
     "text": [
      "optimal\n",
      "Optimanl value: 1.2692279010910616e-18\n",
      "Optimal u: [-0.97079076  0.6371112 ]\n",
      "Optimal y: [-0.25787822  0.05853135]\n",
      "Optimal z: [-0.25606937 -0.34204551  0.07346435  0.46208751  0.00961057  0.57806848\n",
      "  0.01480864  0.03828539 -0.27581379 -0.36402591]\n",
      "Optimal u: [[0.07559512 0.68489824]]\n",
      "Optimal y: [[1. 1.]]\n"
     ]
    }
   ],
   "source": [
    "# target estimation\n",
    "z_s = cp.Variable(nz)\n",
    "y_s = cp.Variable(ny)\n",
    "u_s = cp.Variable(nu)\n",
    "\n",
    "# Constraints and cost\n",
    "constraints_s = [z_s == A @ z_s + B @ u_s]\n",
    "constraints_s += [y_s == C @ z_s]\n",
    "constraints_s += [u_min <= u_s, u_s <= u_max]\n",
    "constraints_s += [y_min <= y_s, y_s <= y_max]\n",
    "\n",
    "cost_s = 0\n",
    "cost_s += cp.quad_form(y_s - y_ref, np.eye(ny))\n",
    "\n",
    "target_estimation = cp.Problem(cp.Minimize(cost_s), constraints_s)\n",
    "target_estimation.solve(solver=cp.GUROBI)\n",
    "print(target_estimation.status)\n",
    "print(\"Optimanl value:\", target_estimation.value)\n",
    "print(\"Optimal u:\", u_s.value)\n",
    "print(\"Optimal y:\", y_s.value)\n",
    "print(\"Optimal z:\", z_s.value)\n",
    "print(\"Optimal u:\", scalerU.inverse_transform(u_s.value.reshape(1,-1)))\n",
    "print(\"Optimal y:\", scaler.inverse_transform(y_s.value.reshape(1,-1)))\n",
    "\n",
    "y_ref.value = y_s.value\n",
    "z_ref_store = z_s.value"
   ]
  },
  {
   "cell_type": "code",
   "execution_count": null,
   "metadata": {},
   "outputs": [
    {
     "data": {
      "text/plain": [
       "array([[1., 1.]])"
      ]
     },
     "execution_count": 1342,
     "metadata": {},
     "output_type": "execute_result"
    }
   ],
   "source": [
    "scaler.inverse_transform(y_sp.reshape(1, -1))"
   ]
  },
  {
   "cell_type": "code",
   "execution_count": null,
   "metadata": {},
   "outputs": [
    {
     "data": {
      "text/plain": [
       "numpy.ndarray"
      ]
     },
     "execution_count": 1343,
     "metadata": {},
     "output_type": "execute_result"
    }
   ],
   "source": [
    "type(z_s.value)\n",
    "type(get_x(y_sp).T[0])"
   ]
  },
  {
   "cell_type": "code",
   "execution_count": null,
   "metadata": {},
   "outputs": [],
   "source": [
    "z_est = get_x(y_sp).T[0]\n",
    "z_s = torch.nn.Parameter(torch.tensor(np.float32(z_ref_store)),requires_grad=True)\n",
    "optimizer = torch.optim.Adam([z_s], lr=1e-2)\n",
    "y_sp = torch.tensor(y_sp, dtype=torch.float32, device=z_s.device)"
   ]
  },
  {
   "cell_type": "code",
   "execution_count": null,
   "metadata": {},
   "outputs": [],
   "source": [
    "# z_s estimation using gradient descent\n",
    "\n",
    "for i in range(100):\n",
    "    optimizer.zero_grad()\n",
    "    y_pred = problem.nodes[4]({\"x\": z_s})[\"yhat\"]\n",
    "    loss = ((y_pred - y_sp)**2).sum()\n",
    "    loss.backward()\n",
    "    optimizer.step()\n",
    "\n",
    "z_ref.value = z_s.detach().numpy()\n",
    "z_ref.value = z_ref_store"
   ]
  },
  {
   "cell_type": "code",
   "execution_count": null,
   "metadata": {},
   "outputs": [],
   "source": [
    "# array([ 0.07729723, -0.08411676,  0.06028246,  0.11647341,  0.04078661,\n",
    "#         0.21180393, -0.01650743,  0.01489813,  0.01994653, -0.05512307],\n",
    "#       dtype=float32)"
   ]
  },
  {
   "cell_type": "code",
   "execution_count": null,
   "metadata": {},
   "outputs": [],
   "source": [
    "#z_ref.value = z_s.detach().numpy()"
   ]
  },
  {
   "cell_type": "code",
   "execution_count": null,
   "metadata": {},
   "outputs": [
    {
     "data": {
      "text/plain": [
       "array([-0.25606937, -0.34204551,  0.07346435,  0.46208751,  0.00961057,\n",
       "        0.57806848,  0.01480864,  0.03828539, -0.27581379, -0.36402591])"
      ]
     },
     "execution_count": 1348,
     "metadata": {},
     "output_type": "execute_result"
    }
   ],
   "source": [
    "z_ref.value"
   ]
  },
  {
   "cell_type": "code",
   "execution_count": null,
   "metadata": {},
   "outputs": [
    {
     "name": "stdout",
     "output_type": "stream",
     "text": [
      "[0.29715641 0.59873648]\n",
      "optimal\n"
     ]
    }
   ],
   "source": [
    "# sanity check\n",
    "mpc = cp.Problem(cp.Minimize(cost), constraints)\n",
    "mpc.solve(solver=cp.GUROBI)\n",
    "u_opt = u[:,0].value\n",
    "print(u[:,0].value)\n",
    "print(mpc.status)"
   ]
  },
  {
   "cell_type": "code",
   "execution_count": null,
   "metadata": {},
   "outputs": [],
   "source": [
    "# Observer initialization\n",
    "\n",
    "P0 = np.eye(nz) * 0.1 # initial covariance\n",
    "Q = np.eye(nz) * 0.01  # process noise\n",
    "R = np.eye(ny) * 0.05  # measurement noise\n",
    "\n",
    "EKF = helper.EKF_test(A,B,z0.value,P0,problem, Q, R, False, None, C)"
   ]
  },
  {
   "cell_type": "code",
   "execution_count": null,
   "metadata": {},
   "outputs": [
    {
     "data": {
      "text/plain": [
       "array([-0.25606937, -0.34204551,  0.07346435,  0.46208751,  0.00961057,\n",
       "        0.57806848,  0.01480864,  0.03828539, -0.27581379, -0.36402591])"
      ]
     },
     "execution_count": 1351,
     "metadata": {},
     "output_type": "execute_result"
    }
   ],
   "source": [
    "z_ref.value"
   ]
  },
  {
   "cell_type": "code",
   "execution_count": null,
   "metadata": {},
   "outputs": [
    {
     "name": "stdout",
     "output_type": "stream",
     "text": [
      "0\n",
      "optimal\n",
      "1\n",
      "optimal\n",
      "2\n",
      "optimal\n",
      "3\n",
      "optimal\n",
      "4\n",
      "optimal\n",
      "5\n",
      "optimal\n",
      "6\n",
      "optimal\n",
      "7\n",
      "optimal\n",
      "8\n",
      "optimal\n",
      "9\n",
      "optimal\n",
      "10\n",
      "optimal\n",
      "11\n",
      "optimal\n",
      "12\n",
      "optimal\n",
      "13\n",
      "optimal\n",
      "14\n",
      "optimal\n",
      "15\n",
      "optimal\n",
      "16\n",
      "optimal\n",
      "17\n",
      "optimal\n",
      "18\n",
      "optimal\n",
      "19\n",
      "optimal\n",
      "20\n",
      "optimal\n",
      "21\n",
      "optimal\n",
      "22\n",
      "optimal\n",
      "23\n",
      "optimal\n",
      "24\n",
      "optimal\n",
      "25\n",
      "optimal\n",
      "26\n",
      "optimal\n",
      "27\n",
      "optimal\n",
      "28\n",
      "optimal\n",
      "29\n",
      "optimal\n",
      "30\n",
      "optimal\n",
      "31\n",
      "optimal\n",
      "32\n",
      "optimal\n",
      "33\n",
      "optimal\n",
      "34\n",
      "optimal\n",
      "35\n",
      "optimal\n",
      "36\n",
      "optimal\n",
      "37\n",
      "optimal\n",
      "38\n",
      "optimal\n",
      "39\n",
      "optimal\n",
      "40\n",
      "optimal\n",
      "41\n",
      "optimal\n",
      "42\n",
      "optimal\n",
      "43\n",
      "optimal\n",
      "44\n",
      "optimal\n",
      "45\n",
      "optimal\n",
      "46\n",
      "optimal\n",
      "47\n",
      "optimal\n",
      "48\n",
      "optimal\n",
      "49\n",
      "optimal\n",
      "50\n",
      "optimal\n",
      "51\n",
      "optimal\n",
      "52\n",
      "optimal\n",
      "53\n",
      "optimal\n",
      "54\n",
      "optimal\n",
      "55\n",
      "optimal\n",
      "56\n",
      "optimal\n",
      "57\n",
      "optimal\n",
      "58\n",
      "optimal\n",
      "59\n",
      "optimal\n",
      "60\n",
      "optimal\n",
      "61\n",
      "optimal\n",
      "62\n",
      "optimal\n",
      "63\n",
      "optimal\n",
      "64\n",
      "optimal\n",
      "65\n",
      "optimal\n",
      "66\n",
      "optimal\n",
      "67\n",
      "optimal\n",
      "68\n",
      "optimal\n",
      "69\n",
      "optimal\n",
      "70\n",
      "optimal\n",
      "71\n",
      "optimal\n",
      "72\n",
      "optimal\n",
      "73\n",
      "optimal\n",
      "74\n",
      "optimal\n",
      "75\n",
      "optimal\n",
      "76\n",
      "optimal\n",
      "77\n",
      "optimal\n",
      "78\n",
      "optimal\n",
      "79\n",
      "optimal\n",
      "80\n",
      "optimal\n",
      "81\n",
      "optimal\n",
      "82\n",
      "optimal\n",
      "83\n",
      "optimal\n",
      "84\n",
      "optimal\n",
      "85\n",
      "optimal\n",
      "86\n",
      "optimal\n",
      "87\n",
      "optimal\n",
      "88\n",
      "optimal\n",
      "89\n",
      "optimal\n",
      "90\n",
      "optimal\n",
      "91\n",
      "optimal\n",
      "92\n",
      "optimal\n",
      "93\n",
      "optimal\n",
      "94\n",
      "optimal\n",
      "95\n",
      "optimal\n",
      "96\n",
      "optimal\n",
      "97\n",
      "optimal\n",
      "98\n",
      "optimal\n",
      "99\n",
      "optimal\n"
     ]
    }
   ],
   "source": [
    "sim_time = 100\n",
    "Ts = 1\n",
    "z_sim = np.zeros((nz, sim_time+1))\n",
    "y_sim = np.zeros((ny, sim_time+1))\n",
    "u_sim = np.zeros((nu, sim_time))\n",
    "\n",
    "y_sim_descaled = np.zeros((ny, sim_time+1))\n",
    "u_sim_descaled = np.zeros((nu, sim_time))\n",
    "\n",
    "z_sim[:, 0] = z0.value\n",
    "y_sim[:, 0] = y0.value\n",
    "y_sim_descaled[:, 0] = scaler.inverse_transform(y0.value.reshape(1,-1))[0]\n",
    "\n",
    "\n",
    "for k in range(sim_time):\n",
    "    # solve MPC\n",
    "    mpc.solve(solver=cp.GUROBI)\n",
    "    u_sim[:, k] = u[:,0].value\n",
    "    u_sim_descaled[:, k] = scalerU.inverse_transform(u_sim[:, k].reshape(1,-1))[0]\n",
    "    \n",
    "    # simulate system\n",
    "    y_sim_descaled[:, k+1] =  TwoTanks.step(y_sim_descaled[:, k], u_sim_descaled[:, k].reshape(1,-1), Ts)\n",
    "    \n",
    "    y_sim[:, k+1] = scaler.transform(y_sim_descaled[:, k+1].reshape(1,-1))[0]\n",
    "    \n",
    "    # estimate state\n",
    "    z_sim[:, k+1] = EKF.step(u_sim[:, k], y_sim[:, k]).flatten()\n",
    "    \n",
    "    # update initial conditions\n",
    "    y0.value = y_sim[:, k+1]\n",
    "    z0.value = z_sim[:, k+1]\n",
    "    u_prev.value = u_sim[:, k]\n",
    "    print(k)\n",
    "    print(mpc.status)\n",
    "    "
   ]
  },
  {
   "cell_type": "code",
   "execution_count": null,
   "metadata": {},
   "outputs": [
    {
     "data": {
      "image/png": "[encoded data removed]",
      "text/plain": [
       "<Figure size 1200x800 with 1 Axes>"
      ]
     },
     "metadata": {},
     "output_type": "display_data"
    }
   ],
   "source": [
    "# plot results\n",
    "plt.figure(figsize=(12, 8))\n",
    "plt.subplot(2, 1, 1)\n",
    "plt.plot(y_sim_descaled[0], label='h1')\n",
    "plt.plot(y_sim_descaled[1], label='h2')\n",
    "# plot reference as line\n",
    "plt.axhline(y=scaler.inverse_transform(y_sp.reshape(1, -1))[0][0], color='red', linestyle='--', label='y_ref h1')\n",
    "plt.axhline(y=scaler.inverse_transform(y_sp.reshape(1, -1))[0][1], color='red', linestyle=':', label='y_ref h2')\n",
    "plt.xlabel('Time step')\n",
    "plt.ylabel('Output')\n",
    "plt.legend()\n",
    "plt.grid(True) "
   ]
  },
  {
   "cell_type": "code",
   "execution_count": null,
   "metadata": {},
   "outputs": [
    {
     "data": {
      "image/png": "[encoded data removed]",
      "text/plain": [
       "<Figure size 1200x800 with 1 Axes>"
      ]
     },
     "metadata": {},
     "output_type": "display_data"
    }
   ],
   "source": [
    "# plot results\n",
    "plt.figure(figsize=(12, 8))\n",
    "plt.subplot(2, 1, 1)\n",
    "plt.plot(u_sim_descaled[0], label='q1')\n",
    "plt.plot(u_sim_descaled[1], label='q2')\n",
    "plt.xlabel('Time step')\n",
    "plt.ylabel('Output')\n",
    "plt.legend()\n",
    "plt.grid(True) "
   ]
  },
  {
   "cell_type": "markdown",
   "metadata": {},
   "source": [
    "## W observer of a disturbance y_ref\n"
   ]
  },
  {
   "cell_type": "code",
   "execution_count": null,
   "metadata": {},
   "outputs": [],
   "source": [
    "# \"enhanced\" matrices\n",
    "F = np.eye(ny)\n",
    "nd = F.shape[1]\n",
    "\n",
    "Ae =  np.block([\n",
    "    [A, np.zeros((nz, nd))],\n",
    "    [np.zeros((nd, nz)), np.eye(nd)]])\n",
    "\n",
    "Be = np.vstack([\n",
    "    B,\n",
    "    np.zeros((nd, nu))])\n",
    "\n",
    "Ce = np.hstack([C, F])"
   ]
  },
  {
   "cell_type": "code",
   "execution_count": null,
   "metadata": {},
   "outputs": [],
   "source": [
    "N = 20\n",
    "Qy = np.eye(ny)*20\n",
    "Qu = np.eye(nu)\n",
    "\n",
    "# Constraints\n",
    "u_min = scalerU.transform(np.array([[0.0, 0.0]]))[0]\n",
    "u_max = scalerU.transform(np.array([[0.5, 1.0]]))[0]\n",
    "y_min = scaler.transform(np.array([[0.0, 0.0]]))[0]\n",
    "y_max = scaler.transform(np.array([[5.0, 5.0]]))[0]\n",
    "\n",
    "z0 = cp.Parameter(nz)\n",
    "y0 = cp.Parameter(ny)\n",
    "d0 = cp.Parameter(nd)\n",
    "u_prev = cp.Parameter(nu)\n",
    "y_ref = cp.Parameter(ny)\n",
    "y_sp = cp.Parameter(ny)\n",
    "\n",
    "# Decision variables\n",
    "z = cp.Variable((nz, N+1))\n",
    "y = cp.Variable((ny, N))\n",
    "delta_u = cp.Variable((nu, N))\n",
    "u = cp.Variable((nu, N + 1)) "
   ]
  },
  {
   "cell_type": "code",
   "execution_count": null,
   "metadata": {},
   "outputs": [],
   "source": [
    "\n",
    "# Constraints and cost\n",
    "constraints = [z[:, 0] == z0]\n",
    "constraints += [u[:, 0] == u_prev + delta_u[:, 0]]\n",
    "cost = 0\n",
    "for k in range(N):\n",
    "    constraints += [u[:, k] == u[:, k-1] + delta_u[:, k]]\n",
    "    \n",
    "    constraints += [\n",
    "        z[:, k+1] == A @ z[:, k] + B @ u[:,k],\n",
    "        y[:, k] == C @ z[:, k] + F @ d0,\n",
    "        u_min <= u[:, k], u[:, k] <= u_max,\n",
    "        y_min <= y[:, k], y[:, k] <= y_max\n",
    "    ]\n",
    "    \n",
    "    cost += cp.quad_form(y[:, k] - y_ref, Qy) + cp.quad_form(delta_u[:, k], Qu)\n",
    "\n",
    "# Terminal cost - not yet\n",
    "# cost += cp.quad_form(x[:, N] - x_ref[:, N], Q)\n"
   ]
  },
  {
   "cell_type": "code",
   "execution_count": null,
   "metadata": {},
   "outputs": [],
   "source": [
    "y0.value = scaler.transform(np.array([[0.5 , 0.3]]))[0]\n",
    "z0.value = get_x(y0.value).T[0]\n",
    "d0.value = np.zeros(nd)\n",
    "u_prev.value = scalerU.transform(np.array([[0.1, 0.1]]))[0]\n",
    "y_ref.value = scaler.transform(np.array([[1, 1]]))[0]\n",
    "y_sp.value = scaler.transform(np.array([[1, 1]]))[0]"
   ]
  },
  {
   "cell_type": "code",
   "execution_count": null,
   "metadata": {},
   "outputs": [
    {
     "name": "stdout",
     "output_type": "stream",
     "text": [
      "optimal\n",
      "Optimanl value: 1.2691291261077066e-18\n",
      "Optimal u: [-0.97079077  0.63711121]\n",
      "Optimal y: [-0.25787823  0.05853135]\n",
      "Optimal z: [-0.25606938 -0.34204551  0.07346435  0.46208751  0.00961057  0.57806848\n",
      "  0.01480864  0.03828539 -0.27581379 -0.36402591]\n",
      "Optimal u: [[0.07559511 0.68489824]]\n",
      "Optimal y: [[1. 1.]]\n"
     ]
    }
   ],
   "source": [
    "# target estimation\n",
    "z_s = cp.Variable(nz)\n",
    "y_s = cp.Variable(ny)\n",
    "u_s = cp.Variable(nu)\n",
    "\n",
    "# Constraints and cost\n",
    "constraints_s = [z_s == A @ z_s + B @ u_s]\n",
    "constraints_s += [y_s == C @ z_s + F @ d0]\n",
    "constraints_s += [u_min <= u_s, u_s <= u_max]\n",
    "constraints_s += [y_min <= y_s, y_s <= y_max]\n",
    "\n",
    "cost_s = 0\n",
    "cost_s += cp.quad_form(y_s - y_sp, np.eye(ny))\n",
    "\n",
    "target_estimation = cp.Problem(cp.Minimize(cost_s), constraints_s)\n",
    "target_estimation.solve(solver=cp.GUROBI)\n",
    "print(target_estimation.status)\n",
    "print(\"Optimanl value:\", target_estimation.value)\n",
    "print(\"Optimal u:\", u_s.value)\n",
    "print(\"Optimal y:\", y_s.value)\n",
    "print(\"Optimal z:\", z_s.value)\n",
    "print(\"Optimal u:\", scalerU.inverse_transform(u_s.value.reshape(1,-1)))\n",
    "print(\"Optimal y:\", scaler.inverse_transform(y_s.value.reshape(1,-1)))\n",
    "\n",
    "y_ref.value = y_s.value\n",
    "z_ref_store = z_s.value"
   ]
  },
  {
   "cell_type": "code",
   "execution_count": null,
   "metadata": {},
   "outputs": [],
   "source": []
  },
  {
   "cell_type": "code",
   "execution_count": null,
   "metadata": {},
   "outputs": [
    {
     "name": "stdout",
     "output_type": "stream",
     "text": [
      "[0.29715642 0.59873646]\n",
      "optimal\n"
     ]
    }
   ],
   "source": [
    "# sanity check\n",
    "mpc = cp.Problem(cp.Minimize(cost), constraints)\n",
    "mpc.solve(solver=cp.GUROBI)\n",
    "u_opt = u[:,0].value\n",
    "print(u[:,0].value)\n",
    "print(mpc.status)"
   ]
  },
  {
   "cell_type": "code",
   "execution_count": null,
   "metadata": {},
   "outputs": [],
   "source": [
    "# Observer initialization\n",
    "\n",
    "P0 = np.eye(nz+nd) * 0.1 # initial covariance\n",
    "Q = np.eye(nz+nd) * 0.01  # process noise\n",
    "R = np.eye(ny) * 0.05  # measurement noise\n",
    "z0_obs = np.concatenate((z0.value, d0.value))\n",
    "\n",
    "EKF = helper.EKF_test(A, B, z0_obs, P0, problem, Q, R, True, F, C)"
   ]
  },
  {
   "cell_type": "markdown",
   "metadata": {},
   "source": [
    "Simulation"
   ]
  },
  {
   "cell_type": "code",
   "execution_count": null,
   "metadata": {},
   "outputs": [
    {
     "name": "stdout",
     "output_type": "stream",
     "text": [
      "optimal\n",
      "optimal\n",
      "optimal\n",
      "optimal\n",
      "optimal\n",
      "optimal\n",
      "optimal\n",
      "optimal\n",
      "optimal\n",
      "optimal\n",
      "optimal\n",
      "optimal\n",
      "optimal\n",
      "optimal\n",
      "optimal\n",
      "optimal\n",
      "optimal\n",
      "optimal\n",
      "optimal\n",
      "optimal\n",
      "optimal\n",
      "optimal\n",
      "optimal\n",
      "optimal\n",
      "optimal\n",
      "optimal\n",
      "optimal\n",
      "optimal\n",
      "optimal\n",
      "optimal\n",
      "optimal\n",
      "optimal\n",
      "optimal\n",
      "optimal\n",
      "optimal\n",
      "optimal\n",
      "optimal\n",
      "optimal\n",
      "optimal\n",
      "optimal\n",
      "optimal\n",
      "optimal\n",
      "optimal\n",
      "optimal\n",
      "optimal\n",
      "optimal\n",
      "optimal\n",
      "optimal\n",
      "optimal\n",
      "optimal\n",
      "optimal\n",
      "optimal\n",
      "optimal\n",
      "optimal\n",
      "optimal\n",
      "optimal\n",
      "optimal\n",
      "optimal\n",
      "optimal\n",
      "optimal\n",
      "optimal\n",
      "optimal\n",
      "optimal\n",
      "optimal\n",
      "optimal\n",
      "optimal\n",
      "optimal\n",
      "optimal\n",
      "optimal\n",
      "optimal\n",
      "optimal\n",
      "optimal\n",
      "optimal\n",
      "optimal\n",
      "optimal\n",
      "optimal\n",
      "optimal\n",
      "optimal\n",
      "optimal\n",
      "optimal\n",
      "optimal\n",
      "optimal\n",
      "optimal\n",
      "optimal\n",
      "optimal\n",
      "optimal\n",
      "optimal\n",
      "optimal\n",
      "optimal\n",
      "optimal\n",
      "optimal\n",
      "optimal\n",
      "optimal\n",
      "optimal\n",
      "optimal\n",
      "optimal\n",
      "optimal\n",
      "optimal\n",
      "optimal\n",
      "optimal\n"
     ]
    }
   ],
   "source": [
    "sim_time = 100\n",
    "Ts = 1\n",
    "z_sim = np.zeros((nz+nd, sim_time+1))\n",
    "y_sim = np.zeros((ny, sim_time+1))\n",
    "u_sim = np.zeros((nu, sim_time))\n",
    "ys_sim = np.zeros((ny, sim_time+1))\n",
    "\n",
    "y_sim_descaled = np.zeros((ny, sim_time+1))\n",
    "u_sim_descaled = np.zeros((nu, sim_time))\n",
    "\n",
    "\n",
    "z_sim[:, 0] = z0_obs\n",
    "y_sim[:, 0] = y0.value\n",
    "ys_sim[:, 0] = y_s.value\n",
    "y_sim_descaled[:, 0] = scaler.inverse_transform(y0.value.reshape(1,-1))[0]\n",
    "\n",
    "\n",
    "for k in range(sim_time):\n",
    "    # solve MPC\n",
    "    mpc.solve(solver=cp.GUROBI)\n",
    "    u_sim[:, k] = u[:,0].value\n",
    "    u_sim_descaled[:, k] = scalerU.inverse_transform(u_sim[:, k].reshape(1,-1))[0]\n",
    "    \n",
    "    # simulate system\n",
    "    y_sim_descaled[:, k+1] =  TwoTanks.step(y_sim_descaled[:, k], u_sim_descaled[:, k].reshape(1,-1), Ts)\n",
    "    \n",
    "    y_sim[:, k+1] = scaler.transform(y_sim_descaled[:, k+1].reshape(1,-1))[0]\n",
    "    \n",
    "    # estimate state\n",
    "    z_sim[:, k+1] = EKF.step(u_sim[:, k], y_sim[:, k]).flatten()\n",
    "    \n",
    "    # update initial conditions\n",
    "    y0.value = y_sim[:, k+1]\n",
    "    z0.value = z_sim[:nz, k+1]\n",
    "    d0.value = z_sim[nz:, k+1]\n",
    "    target_estimation.solve(solver=cp.GUROBI)\n",
    "    ys_sim[:, k+1] = y_s.value\n",
    "    y_ref.value = y_s.value\n",
    "    u_prev.value = u_sim[:, k]\n",
    "    print(mpc.status)\n",
    "    "
   ]
  },
  {
   "cell_type": "code",
   "execution_count": null,
   "metadata": {},
   "outputs": [],
   "source": [
    "d0.value = z_sim[nz:, k+1]"
   ]
  },
  {
   "cell_type": "code",
   "execution_count": null,
   "metadata": {},
   "outputs": [
    {
     "data": {
      "text/plain": [
       "array([-0.2939861 , -0.44902524,  0.12443453,  0.6796588 ,  0.08246939,\n",
       "        0.73118051, -0.00548554,  0.09329889, -0.32152377, -0.53837347])"
      ]
     },
     "execution_count": 1147,
     "metadata": {},
     "output_type": "execute_result"
    }
   ],
   "source": [
    "z_s.value "
   ]
  },
  {
   "cell_type": "code",
   "execution_count": null,
   "metadata": {},
   "outputs": [
    {
     "data": {
      "text/plain": [
       "array([-0.25787823,  0.05853135])"
      ]
     },
     "execution_count": 1148,
     "metadata": {},
     "output_type": "execute_result"
    }
   ],
   "source": [
    "target_estimation.solve(solver=cp.GUROBI)\n",
    "y_s.value"
   ]
  },
  {
   "cell_type": "code",
   "execution_count": null,
   "metadata": {},
   "outputs": [
    {
     "data": {
      "image/png": "[encoded data removed]",
      "text/plain": [
       "<Figure size 1200x800 with 1 Axes>"
      ]
     },
     "metadata": {},
     "output_type": "display_data"
    }
   ],
   "source": [
    "# plot results\n",
    "plt.figure(figsize=(12, 8))\n",
    "plt.subplot(2, 1, 1)\n",
    "plt.plot(y_sim_descaled[0], label='h1')\n",
    "plt.plot(y_sim_descaled[1], label='h2')\n",
    "plt.axhline(y=scaler.inverse_transform(y_ref.value.reshape(1, -1))[0][0], color='red', linestyle='--', label='y_ref h1')\n",
    "plt.axhline(y=scaler.inverse_transform(y_ref.value.reshape(1, -1))[0][1], color='red', linestyle=':', label='y_ref h2')\n",
    "plt.xlabel('Time step')\n",
    "plt.ylabel('Output')\n",
    "plt.legend()\n",
    "plt.grid(True) "
   ]
  },
  {
   "cell_type": "code",
   "execution_count": null,
   "metadata": {},
   "outputs": [
    {
     "data": {
      "text/plain": [
       "[<matplotlib.lines.Line2D at 0x31fb9a490>,\n",
       " <matplotlib.lines.Line2D at 0x31fe6bb10>]"
      ]
     },
     "execution_count": 1150,
     "metadata": {},
     "output_type": "execute_result"
    },
    {
     "data": {
      "image/png": "[encoded data removed]",
      "text/plain": [
       "<Figure size 640x480 with 1 Axes>"
      ]
     },
     "metadata": {},
     "output_type": "display_data"
    }
   ],
   "source": [
    "plt.plot(z_sim[nz:, :].T)"
   ]
  },
  {
   "cell_type": "code",
   "execution_count": null,
   "metadata": {},
   "outputs": [
    {
     "data": {
      "text/plain": [
       "array([ 0.00674101, -0.10502321])"
      ]
     },
     "execution_count": 1151,
     "metadata": {},
     "output_type": "execute_result"
    }
   ],
   "source": [
    "d0.value"
   ]
  },
  {
   "cell_type": "code",
   "execution_count": null,
   "metadata": {},
   "outputs": [
    {
     "data": {
      "text/plain": [
       "4.145191148386192e-20"
      ]
     },
     "execution_count": 1152,
     "metadata": {},
     "output_type": "execute_result"
    }
   ],
   "source": [
    "target_estimation.solve(solver=cp.GUROBI)"
   ]
  },
  {
   "cell_type": "code",
   "execution_count": null,
   "metadata": {},
   "outputs": [
    {
     "data": {
      "text/plain": [
       "[<matplotlib.lines.Line2D at 0x30a645f10>]"
      ]
     },
     "execution_count": 1153,
     "metadata": {},
     "output_type": "execute_result"
    },
    {
     "data": {
      "image/png": "[encoded data removed]",
      "text/plain": [
       "<Figure size 640x480 with 1 Axes>"
      ]
     },
     "metadata": {},
     "output_type": "display_data"
    }
   ],
   "source": [
    "plt.plot(ys_sim[0], label='h1')\n",
    "plt.plot(ys_sim[1], label='h2')"
   ]
  },
  {
   "cell_type": "code",
   "execution_count": null,
   "metadata": {},
   "outputs": [
    {
     "data": {
      "image/png": "[encoded data removed]",
      "text/plain": [
       "<Figure size 1200x800 with 1 Axes>"
      ]
     },
     "metadata": {},
     "output_type": "display_data"
    }
   ],
   "source": [
    "# plot results\n",
    "plt.figure(figsize=(12, 8))\n",
    "plt.subplot(2, 1, 1)\n",
    "plt.plot(u_sim_descaled[0], label='q1')\n",
    "plt.plot(u_sim_descaled[1], label='q2')\n",
    "plt.xlabel('Time step')\n",
    "plt.ylabel('Output')\n",
    "plt.legend()\n",
    "plt.grid(True) "
   ]
  },
  {
   "cell_type": "code",
   "execution_count": null,
   "metadata": {},
   "outputs": [
    {
     "data": {
      "text/plain": [
       "array([-0.25787823,  0.05853135])"
      ]
     },
     "execution_count": 1155,
     "metadata": {},
     "output_type": "execute_result"
    }
   ],
   "source": [
    "y_s.value"
   ]
  },
  {
   "cell_type": "code",
   "execution_count": null,
   "metadata": {},
   "outputs": [
    {
     "data": {
      "text/plain": [
       "array([-0.25650841,  0.05720359])"
      ]
     },
     "execution_count": 1156,
     "metadata": {},
     "output_type": "execute_result"
    }
   ],
   "source": [
    "y_sim[:, -1]"
   ]
  },
  {
   "cell_type": "code",
   "execution_count": null,
   "metadata": {},
   "outputs": [],
   "source": []
  },
  {
   "cell_type": "markdown",
   "metadata": {},
   "source": [
    "## W observer of a disturbance and z_ref from target est\n"
   ]
  },
  {
   "cell_type": "code",
   "execution_count": null,
   "metadata": {},
   "outputs": [],
   "source": [
    "# \"enhanced\" matrices\n",
    "F = np.eye(ny)\n",
    "nd = F.shape[1]"
   ]
  },
  {
   "cell_type": "code",
   "execution_count": null,
   "metadata": {},
   "outputs": [
    {
     "name": "stdout",
     "output_type": "stream",
     "text": [
      "optimal\n",
      "Optimanl value: 1.2691291261077066e-18\n",
      "Optimal u: [-0.97079077  0.63711121]\n",
      "Optimal y: [-0.25787823  0.05853135]\n",
      "Optimal z: [-0.25606938 -0.34204551  0.07346435  0.46208751  0.00961057  0.57806848\n",
      "  0.01480864  0.03828539 -0.27581379 -0.36402591]\n",
      "Optimal u: [[0.07559511 0.68489824]]\n",
      "Optimal y: [[1. 1.]]\n"
     ]
    }
   ],
   "source": [
    "# target estimation\n",
    "z_s = cp.Variable(nz)\n",
    "y_s = cp.Variable(ny)\n",
    "u_s = cp.Variable(nu)\n",
    "d0.value = [0, 0]\n",
    "# Constraints and cost\n",
    "constraints_s = [z_s == A @ z_s + B @ u_s]\n",
    "constraints_s += [y_s == C @ z_s + F @ d0]\n",
    "constraints_s += [u_min <= u_s, u_s <= u_max]\n",
    "constraints_s += [y_min <= y_s, y_s <= y_max]\n",
    "\n",
    "cost_s = 0\n",
    "cost_s += cp.quad_form(y_s - y_sp, np.eye(ny))\n",
    "\n",
    "target_estimation = cp.Problem(cp.Minimize(cost_s), constraints_s)\n",
    "target_estimation.solve(solver=cp.GUROBI)\n",
    "print(target_estimation.status)\n",
    "print(\"Optimanl value:\", target_estimation.value)\n",
    "print(\"Optimal u:\", u_s.value)\n",
    "print(\"Optimal y:\", y_s.value)\n",
    "print(\"Optimal z:\", z_s.value)\n",
    "print(\"Optimal u:\", scalerU.inverse_transform(u_s.value.reshape(1,-1)))\n",
    "print(\"Optimal y:\", scaler.inverse_transform(y_s.value.reshape(1,-1)))\n",
    "\n",
    "y_ref.value = y_s.value\n",
    "z_ref.value = z_s.value"
   ]
  },
  {
   "cell_type": "code",
   "execution_count": null,
   "metadata": {},
   "outputs": [
    {
     "data": {
      "text/plain": [
       "array([0., 0.])"
      ]
     },
     "execution_count": 1159,
     "metadata": {},
     "output_type": "execute_result"
    }
   ],
   "source": [
    "d0.value"
   ]
  },
  {
   "cell_type": "code",
   "execution_count": null,
   "metadata": {},
   "outputs": [],
   "source": [
    "Jh = helper.evaluate_jacobian(problem.nodes[4], torch.tensor(z_s.value))"
   ]
  },
  {
   "cell_type": "code",
   "execution_count": null,
   "metadata": {},
   "outputs": [],
   "source": [
    "N = 20\n",
    "Qz = Jh.T@np.eye(ny)*20@Jh\n",
    "#Qz = C.T@np.eye(ny)*20@C\n",
    "Qz_psd = Qz + 1e-8 * np.eye(Qz.shape[0])\n",
    "Qu = np.eye(nu)\n",
    "\n",
    "# Constraints\n",
    "u_min = scalerU.transform(np.array([[0.0, 0.0]]))[0]\n",
    "u_max = scalerU.transform(np.array([[0.5, 1.0]]))[0]\n",
    "y_min = scaler.transform(np.array([[0.0, 0.0]]))[0]\n",
    "y_max = scaler.transform(np.array([[5.0, 5.0]]))[0]\n",
    "\n",
    "z0 = cp.Parameter(nz)\n",
    "y0 = cp.Parameter(ny)\n",
    "#d0 = cp.Parameter(nd)\n",
    "\n",
    "u_prev = cp.Parameter(nu)\n",
    "y_ref = cp.Parameter(ny)\n",
    "y_sp = cp.Parameter(ny)\n",
    "z_ref = cp.Parameter(nz)\n",
    "\n",
    "# Decision variables\n",
    "z = cp.Variable((nz, N+1))\n",
    "y = cp.Variable((ny, N))\n",
    "delta_u = cp.Variable((nu, N))\n",
    "u = cp.Variable((nu, N + 1)) "
   ]
  },
  {
   "cell_type": "code",
   "execution_count": null,
   "metadata": {},
   "outputs": [],
   "source": []
  },
  {
   "cell_type": "code",
   "execution_count": null,
   "metadata": {},
   "outputs": [],
   "source": [
    "\n",
    "# Constraints and cost\n",
    "constraints = [z[:, 0] == z0]\n",
    "constraints += [u[:, 0] == u_prev + delta_u[:, 0]]\n",
    "cost = 0\n",
    "for k in range(N):\n",
    "    constraints += [u[:, k] == u[:, k-1] + delta_u[:, k]]\n",
    "    \n",
    "    constraints += [\n",
    "        z[:, k+1] == A @ z[:, k] + B @ u[:,k],\n",
    "        y[:, k] == C @ z[:, k] + F @ d0,\n",
    "        u_min <= u[:, k], u[:, k] <= u_max,\n",
    "        y_min <= y[:, k], y[:, k] <= y_max\n",
    "    ]\n",
    "    \n",
    "    cost += cp.quad_form(z[:, k] - z_ref, Qz_psd) + cp.quad_form(delta_u[:, k], Qu)\n",
    "\n",
    "# Terminal cost - not yet\n",
    "# cost += cp.quad_form(x[:, N] - x_ref[:, N], Q)\n"
   ]
  },
  {
   "cell_type": "code",
   "execution_count": null,
   "metadata": {},
   "outputs": [],
   "source": [
    "y0.value = scaler.transform(np.array([[0.5 , 0.3]]))[0]\n",
    "z0.value = get_x(y0.value).T[0]\n",
    "d0.value = np.zeros(nd)\n",
    "u_prev.value = scalerU.transform(np.array([[0.1, 0.1]]))[0]\n",
    "y_ref.value = scaler.transform(np.array([[1, 1]]))[0]\n",
    "y_sp.value = scaler.transform(np.array([[1, 1]]))[0]\n",
    "z_ref.value = z_s.value"
   ]
  },
  {
   "cell_type": "code",
   "execution_count": null,
   "metadata": {},
   "outputs": [
    {
     "data": {
      "text/plain": [
       "array([-0.25606938, -0.34204551,  0.07346435,  0.46208751,  0.00961057,\n",
       "        0.57806848,  0.01480864,  0.03828539, -0.27581379, -0.36402591])"
      ]
     },
     "execution_count": 1164,
     "metadata": {},
     "output_type": "execute_result"
    }
   ],
   "source": [
    "z_ref.value"
   ]
  },
  {
   "cell_type": "code",
   "execution_count": null,
   "metadata": {},
   "outputs": [],
   "source": []
  },
  {
   "cell_type": "code",
   "execution_count": null,
   "metadata": {},
   "outputs": [
    {
     "data": {
      "text/plain": [
       "array([-0.25606938, -0.34204551,  0.07346435,  0.46208751,  0.00961057,\n",
       "        0.57806848,  0.01480864,  0.03828539, -0.27581379, -0.36402591])"
      ]
     },
     "execution_count": 1165,
     "metadata": {},
     "output_type": "execute_result"
    }
   ],
   "source": [
    "z_ref.value"
   ]
  },
  {
   "cell_type": "code",
   "execution_count": null,
   "metadata": {},
   "outputs": [
    {
     "name": "stdout",
     "output_type": "stream",
     "text": [
      "[-0.00192303  1.23007536]\n",
      "optimal\n"
     ]
    }
   ],
   "source": [
    "# sanity check\n",
    "mpc = cp.Problem(cp.Minimize(cost), constraints)\n",
    "mpc.solve(solver=cp.GUROBI)\n",
    "u_opt = u[:,0].value\n",
    "print(u[:,0].value)\n",
    "print(mpc.status)"
   ]
  },
  {
   "cell_type": "code",
   "execution_count": null,
   "metadata": {},
   "outputs": [],
   "source": [
    "# # z_s estimation using gradient descent\n",
    "# y_sp = scaler.transform(np.array([[1, 1]]))[0]\n",
    "# z_est = get_x(y_sp)\n",
    "# z_se = torch.nn.Parameter(torch.tensor(z_est.T),requires_grad=True)\n",
    "# optimizer = torch.optim.Adam([z_se], lr=1e-2)\n",
    "# y_sp = torch.tensor(y_sp, dtype=torch.float32, device=z_se.device)\n",
    "\n",
    "# for i in range(100):\n",
    "#     optimizer.zero_grad()\n",
    "#     y_pred = problem.nodes[4]({\"x\": z_se})[\"yhat\"]\n",
    "#     loss = ((y_pred - y_sp)**2).sum()\n",
    "#     loss.backward()\n",
    "#     optimizer.step()\n",
    "\n",
    "# z_ref.value = z_se.detach().numpy()[0]\n",
    "# #z_ref.value = z_ref_store"
   ]
  },
  {
   "cell_type": "code",
   "execution_count": null,
   "metadata": {},
   "outputs": [],
   "source": [
    "# Observer initialization\n",
    "\n",
    "P0 = np.eye(nz+nd) * 0.1 # initial covariance\n",
    "Q = np.eye(nz+nd) * 0.01  # process noise\n",
    "R = np.eye(ny) * 0.05  # measurement noise\n",
    "z0_obs = np.concatenate((z0.value, d0.value))\n",
    "\n",
    "EKF = helper.EKF_test(A, B, z0_obs, P0, problem, Q, R, True, F, C)\n"
   ]
  },
  {
   "cell_type": "markdown",
   "metadata": {},
   "source": [
    "Simulation"
   ]
  },
  {
   "cell_type": "code",
   "execution_count": null,
   "metadata": {},
   "outputs": [
    {
     "name": "stdout",
     "output_type": "stream",
     "text": [
      "optimal\n",
      "user_limit\n",
      "user_limit\n",
      "user_limit\n",
      "user_limit\n",
      "optimal\n",
      "optimal\n"
     ]
    },
    {
     "name": "stderr",
     "output_type": "stream",
     "text": [
      "/Users/patrik/miniconda3/envs/kmpc/lib/python3.11/site-packages/cvxpy/problems/problem.py:1504: UserWarning: Solution may be inaccurate. Try another solver, adjusting the solver settings, or solve with verbose=True for more information.\n",
      "  warnings.warn(\n",
      "/Users/patrik/miniconda3/envs/kmpc/lib/python3.11/site-packages/cvxpy/problems/problem.py:1504: UserWarning: Solution may be inaccurate. Try another solver, adjusting the solver settings, or solve with verbose=True for more information.\n",
      "  warnings.warn(\n",
      "/Users/patrik/miniconda3/envs/kmpc/lib/python3.11/site-packages/cvxpy/problems/problem.py:1504: UserWarning: Solution may be inaccurate. Try another solver, adjusting the solver settings, or solve with verbose=True for more information.\n",
      "  warnings.warn(\n",
      "/Users/patrik/miniconda3/envs/kmpc/lib/python3.11/site-packages/cvxpy/problems/problem.py:1504: UserWarning: Solution may be inaccurate. Try another solver, adjusting the solver settings, or solve with verbose=True for more information.\n",
      "  warnings.warn(\n"
     ]
    },
    {
     "name": "stdout",
     "output_type": "stream",
     "text": [
      "optimal\n",
      "optimal\n",
      "optimal\n",
      "optimal\n",
      "user_limit\n",
      "user_limit\n",
      "user_limit\n",
      "user_limit\n",
      "user_limit\n",
      "user_limit\n",
      "user_limit\n"
     ]
    },
    {
     "name": "stderr",
     "output_type": "stream",
     "text": [
      "/Users/patrik/miniconda3/envs/kmpc/lib/python3.11/site-packages/cvxpy/problems/problem.py:1504: UserWarning: Solution may be inaccurate. Try another solver, adjusting the solver settings, or solve with verbose=True for more information.\n",
      "  warnings.warn(\n",
      "/Users/patrik/miniconda3/envs/kmpc/lib/python3.11/site-packages/cvxpy/problems/problem.py:1504: UserWarning: Solution may be inaccurate. Try another solver, adjusting the solver settings, or solve with verbose=True for more information.\n",
      "  warnings.warn(\n",
      "/Users/patrik/miniconda3/envs/kmpc/lib/python3.11/site-packages/cvxpy/problems/problem.py:1504: UserWarning: Solution may be inaccurate. Try another solver, adjusting the solver settings, or solve with verbose=True for more information.\n",
      "  warnings.warn(\n",
      "/Users/patrik/miniconda3/envs/kmpc/lib/python3.11/site-packages/cvxpy/problems/problem.py:1504: UserWarning: Solution may be inaccurate. Try another solver, adjusting the solver settings, or solve with verbose=True for more information.\n",
      "  warnings.warn(\n",
      "/Users/patrik/miniconda3/envs/kmpc/lib/python3.11/site-packages/cvxpy/problems/problem.py:1504: UserWarning: Solution may be inaccurate. Try another solver, adjusting the solver settings, or solve with verbose=True for more information.\n",
      "  warnings.warn(\n",
      "/Users/patrik/miniconda3/envs/kmpc/lib/python3.11/site-packages/cvxpy/problems/problem.py:1504: UserWarning: Solution may be inaccurate. Try another solver, adjusting the solver settings, or solve with verbose=True for more information.\n",
      "  warnings.warn(\n",
      "/Users/patrik/miniconda3/envs/kmpc/lib/python3.11/site-packages/cvxpy/problems/problem.py:1504: UserWarning: Solution may be inaccurate. Try another solver, adjusting the solver settings, or solve with verbose=True for more information.\n",
      "  warnings.warn(\n",
      "/Users/patrik/miniconda3/envs/kmpc/lib/python3.11/site-packages/cvxpy/problems/problem.py:1504: UserWarning: Solution may be inaccurate. Try another solver, adjusting the solver settings, or solve with verbose=True for more information.\n",
      "  warnings.warn(\n",
      "/Users/patrik/miniconda3/envs/kmpc/lib/python3.11/site-packages/cvxpy/problems/problem.py:1504: UserWarning: Solution may be inaccurate. Try another solver, adjusting the solver settings, or solve with verbose=True for more information.\n",
      "  warnings.warn(\n"
     ]
    },
    {
     "name": "stdout",
     "output_type": "stream",
     "text": [
      "optimal\n",
      "user_limit\n",
      "optimal\n",
      "optimal\n",
      "user_limit\n",
      "user_limit\n",
      "optimal\n",
      "user_limit\n",
      "user_limit\n",
      "optimal\n",
      "optimal\n"
     ]
    },
    {
     "name": "stderr",
     "output_type": "stream",
     "text": [
      "/Users/patrik/miniconda3/envs/kmpc/lib/python3.11/site-packages/cvxpy/problems/problem.py:1504: UserWarning: Solution may be inaccurate. Try another solver, adjusting the solver settings, or solve with verbose=True for more information.\n",
      "  warnings.warn(\n",
      "/Users/patrik/miniconda3/envs/kmpc/lib/python3.11/site-packages/cvxpy/problems/problem.py:1504: UserWarning: Solution may be inaccurate. Try another solver, adjusting the solver settings, or solve with verbose=True for more information.\n",
      "  warnings.warn(\n",
      "/Users/patrik/miniconda3/envs/kmpc/lib/python3.11/site-packages/cvxpy/problems/problem.py:1504: UserWarning: Solution may be inaccurate. Try another solver, adjusting the solver settings, or solve with verbose=True for more information.\n",
      "  warnings.warn(\n",
      "/Users/patrik/miniconda3/envs/kmpc/lib/python3.11/site-packages/cvxpy/problems/problem.py:1504: UserWarning: Solution may be inaccurate. Try another solver, adjusting the solver settings, or solve with verbose=True for more information.\n",
      "  warnings.warn(\n",
      "/Users/patrik/miniconda3/envs/kmpc/lib/python3.11/site-packages/cvxpy/problems/problem.py:1504: UserWarning: Solution may be inaccurate. Try another solver, adjusting the solver settings, or solve with verbose=True for more information.\n",
      "  warnings.warn(\n",
      "/Users/patrik/miniconda3/envs/kmpc/lib/python3.11/site-packages/cvxpy/problems/problem.py:1504: UserWarning: Solution may be inaccurate. Try another solver, adjusting the solver settings, or solve with verbose=True for more information.\n",
      "  warnings.warn(\n",
      "/Users/patrik/miniconda3/envs/kmpc/lib/python3.11/site-packages/cvxpy/problems/problem.py:1504: UserWarning: Solution may be inaccurate. Try another solver, adjusting the solver settings, or solve with verbose=True for more information.\n",
      "  warnings.warn(\n"
     ]
    },
    {
     "name": "stdout",
     "output_type": "stream",
     "text": [
      "user_limit\n",
      "user_limit\n",
      "optimal\n",
      "user_limit\n",
      "user_limit\n",
      "user_limit\n",
      "user_limit\n",
      "user_limit\n",
      "user_limit\n",
      "optimal\n",
      "optimal\n",
      "user_limit\n"
     ]
    },
    {
     "name": "stderr",
     "output_type": "stream",
     "text": [
      "/Users/patrik/miniconda3/envs/kmpc/lib/python3.11/site-packages/cvxpy/problems/problem.py:1504: UserWarning: Solution may be inaccurate. Try another solver, adjusting the solver settings, or solve with verbose=True for more information.\n",
      "  warnings.warn(\n",
      "/Users/patrik/miniconda3/envs/kmpc/lib/python3.11/site-packages/cvxpy/problems/problem.py:1504: UserWarning: Solution may be inaccurate. Try another solver, adjusting the solver settings, or solve with verbose=True for more information.\n",
      "  warnings.warn(\n",
      "/Users/patrik/miniconda3/envs/kmpc/lib/python3.11/site-packages/cvxpy/problems/problem.py:1504: UserWarning: Solution may be inaccurate. Try another solver, adjusting the solver settings, or solve with verbose=True for more information.\n",
      "  warnings.warn(\n",
      "/Users/patrik/miniconda3/envs/kmpc/lib/python3.11/site-packages/cvxpy/problems/problem.py:1504: UserWarning: Solution may be inaccurate. Try another solver, adjusting the solver settings, or solve with verbose=True for more information.\n",
      "  warnings.warn(\n",
      "/Users/patrik/miniconda3/envs/kmpc/lib/python3.11/site-packages/cvxpy/problems/problem.py:1504: UserWarning: Solution may be inaccurate. Try another solver, adjusting the solver settings, or solve with verbose=True for more information.\n",
      "  warnings.warn(\n",
      "/Users/patrik/miniconda3/envs/kmpc/lib/python3.11/site-packages/cvxpy/problems/problem.py:1504: UserWarning: Solution may be inaccurate. Try another solver, adjusting the solver settings, or solve with verbose=True for more information.\n",
      "  warnings.warn(\n",
      "/Users/patrik/miniconda3/envs/kmpc/lib/python3.11/site-packages/cvxpy/problems/problem.py:1504: UserWarning: Solution may be inaccurate. Try another solver, adjusting the solver settings, or solve with verbose=True for more information.\n",
      "  warnings.warn(\n"
     ]
    },
    {
     "name": "stdout",
     "output_type": "stream",
     "text": [
      "optimal\n",
      "optimal\n",
      "optimal\n",
      "user_limit\n",
      "user_limit\n",
      "user_limit\n",
      "user_limit\n",
      "user_limit\n",
      "user_limit\n",
      "user_limit\n",
      "optimal\n",
      "user_limit\n"
     ]
    },
    {
     "name": "stderr",
     "output_type": "stream",
     "text": [
      "/Users/patrik/miniconda3/envs/kmpc/lib/python3.11/site-packages/cvxpy/problems/problem.py:1504: UserWarning: Solution may be inaccurate. Try another solver, adjusting the solver settings, or solve with verbose=True for more information.\n",
      "  warnings.warn(\n",
      "/Users/patrik/miniconda3/envs/kmpc/lib/python3.11/site-packages/cvxpy/problems/problem.py:1504: UserWarning: Solution may be inaccurate. Try another solver, adjusting the solver settings, or solve with verbose=True for more information.\n",
      "  warnings.warn(\n",
      "/Users/patrik/miniconda3/envs/kmpc/lib/python3.11/site-packages/cvxpy/problems/problem.py:1504: UserWarning: Solution may be inaccurate. Try another solver, adjusting the solver settings, or solve with verbose=True for more information.\n",
      "  warnings.warn(\n",
      "/Users/patrik/miniconda3/envs/kmpc/lib/python3.11/site-packages/cvxpy/problems/problem.py:1504: UserWarning: Solution may be inaccurate. Try another solver, adjusting the solver settings, or solve with verbose=True for more information.\n",
      "  warnings.warn(\n",
      "/Users/patrik/miniconda3/envs/kmpc/lib/python3.11/site-packages/cvxpy/problems/problem.py:1504: UserWarning: Solution may be inaccurate. Try another solver, adjusting the solver settings, or solve with verbose=True for more information.\n",
      "  warnings.warn(\n",
      "/Users/patrik/miniconda3/envs/kmpc/lib/python3.11/site-packages/cvxpy/problems/problem.py:1504: UserWarning: Solution may be inaccurate. Try another solver, adjusting the solver settings, or solve with verbose=True for more information.\n",
      "  warnings.warn(\n",
      "/Users/patrik/miniconda3/envs/kmpc/lib/python3.11/site-packages/cvxpy/problems/problem.py:1504: UserWarning: Solution may be inaccurate. Try another solver, adjusting the solver settings, or solve with verbose=True for more information.\n",
      "  warnings.warn(\n",
      "/Users/patrik/miniconda3/envs/kmpc/lib/python3.11/site-packages/cvxpy/problems/problem.py:1504: UserWarning: Solution may be inaccurate. Try another solver, adjusting the solver settings, or solve with verbose=True for more information.\n",
      "  warnings.warn(\n",
      "/Users/patrik/miniconda3/envs/kmpc/lib/python3.11/site-packages/cvxpy/problems/problem.py:1504: UserWarning: Solution may be inaccurate. Try another solver, adjusting the solver settings, or solve with verbose=True for more information.\n",
      "  warnings.warn(\n",
      "/Users/patrik/miniconda3/envs/kmpc/lib/python3.11/site-packages/cvxpy/problems/problem.py:1504: UserWarning: Solution may be inaccurate. Try another solver, adjusting the solver settings, or solve with verbose=True for more information.\n",
      "  warnings.warn(\n",
      "/Users/patrik/miniconda3/envs/kmpc/lib/python3.11/site-packages/cvxpy/problems/problem.py:1504: UserWarning: Solution may be inaccurate. Try another solver, adjusting the solver settings, or solve with verbose=True for more information.\n",
      "  warnings.warn(\n"
     ]
    },
    {
     "name": "stdout",
     "output_type": "stream",
     "text": [
      "user_limit\n",
      "user_limit\n",
      "user_limit\n",
      "user_limit\n",
      "user_limit\n",
      "user_limit\n",
      "user_limit\n",
      "user_limit\n",
      "user_limit\n",
      "user_limit\n",
      "optimal\n"
     ]
    },
    {
     "name": "stderr",
     "output_type": "stream",
     "text": [
      "/Users/patrik/miniconda3/envs/kmpc/lib/python3.11/site-packages/cvxpy/problems/problem.py:1504: UserWarning: Solution may be inaccurate. Try another solver, adjusting the solver settings, or solve with verbose=True for more information.\n",
      "  warnings.warn(\n",
      "/Users/patrik/miniconda3/envs/kmpc/lib/python3.11/site-packages/cvxpy/problems/problem.py:1504: UserWarning: Solution may be inaccurate. Try another solver, adjusting the solver settings, or solve with verbose=True for more information.\n",
      "  warnings.warn(\n",
      "/Users/patrik/miniconda3/envs/kmpc/lib/python3.11/site-packages/cvxpy/problems/problem.py:1504: UserWarning: Solution may be inaccurate. Try another solver, adjusting the solver settings, or solve with verbose=True for more information.\n",
      "  warnings.warn(\n",
      "/Users/patrik/miniconda3/envs/kmpc/lib/python3.11/site-packages/cvxpy/problems/problem.py:1504: UserWarning: Solution may be inaccurate. Try another solver, adjusting the solver settings, or solve with verbose=True for more information.\n",
      "  warnings.warn(\n",
      "/Users/patrik/miniconda3/envs/kmpc/lib/python3.11/site-packages/cvxpy/problems/problem.py:1504: UserWarning: Solution may be inaccurate. Try another solver, adjusting the solver settings, or solve with verbose=True for more information.\n",
      "  warnings.warn(\n",
      "/Users/patrik/miniconda3/envs/kmpc/lib/python3.11/site-packages/cvxpy/problems/problem.py:1504: UserWarning: Solution may be inaccurate. Try another solver, adjusting the solver settings, or solve with verbose=True for more information.\n",
      "  warnings.warn(\n",
      "/Users/patrik/miniconda3/envs/kmpc/lib/python3.11/site-packages/cvxpy/problems/problem.py:1504: UserWarning: Solution may be inaccurate. Try another solver, adjusting the solver settings, or solve with verbose=True for more information.\n",
      "  warnings.warn(\n",
      "/Users/patrik/miniconda3/envs/kmpc/lib/python3.11/site-packages/cvxpy/problems/problem.py:1504: UserWarning: Solution may be inaccurate. Try another solver, adjusting the solver settings, or solve with verbose=True for more information.\n",
      "  warnings.warn(\n",
      "/Users/patrik/miniconda3/envs/kmpc/lib/python3.11/site-packages/cvxpy/problems/problem.py:1504: UserWarning: Solution may be inaccurate. Try another solver, adjusting the solver settings, or solve with verbose=True for more information.\n",
      "  warnings.warn(\n"
     ]
    },
    {
     "name": "stdout",
     "output_type": "stream",
     "text": [
      "user_limit\n",
      "optimal\n",
      "user_limit\n",
      "user_limit\n",
      "user_limit\n",
      "user_limit\n",
      "optimal\n",
      "optimal\n",
      "user_limit\n",
      "user_limit\n",
      "optimal\n"
     ]
    },
    {
     "name": "stderr",
     "output_type": "stream",
     "text": [
      "/Users/patrik/miniconda3/envs/kmpc/lib/python3.11/site-packages/cvxpy/problems/problem.py:1504: UserWarning: Solution may be inaccurate. Try another solver, adjusting the solver settings, or solve with verbose=True for more information.\n",
      "  warnings.warn(\n",
      "/Users/patrik/miniconda3/envs/kmpc/lib/python3.11/site-packages/cvxpy/problems/problem.py:1504: UserWarning: Solution may be inaccurate. Try another solver, adjusting the solver settings, or solve with verbose=True for more information.\n",
      "  warnings.warn(\n",
      "/Users/patrik/miniconda3/envs/kmpc/lib/python3.11/site-packages/cvxpy/problems/problem.py:1504: UserWarning: Solution may be inaccurate. Try another solver, adjusting the solver settings, or solve with verbose=True for more information.\n",
      "  warnings.warn(\n",
      "/Users/patrik/miniconda3/envs/kmpc/lib/python3.11/site-packages/cvxpy/problems/problem.py:1504: UserWarning: Solution may be inaccurate. Try another solver, adjusting the solver settings, or solve with verbose=True for more information.\n",
      "  warnings.warn(\n",
      "/Users/patrik/miniconda3/envs/kmpc/lib/python3.11/site-packages/cvxpy/problems/problem.py:1504: UserWarning: Solution may be inaccurate. Try another solver, adjusting the solver settings, or solve with verbose=True for more information.\n",
      "  warnings.warn(\n",
      "/Users/patrik/miniconda3/envs/kmpc/lib/python3.11/site-packages/cvxpy/problems/problem.py:1504: UserWarning: Solution may be inaccurate. Try another solver, adjusting the solver settings, or solve with verbose=True for more information.\n",
      "  warnings.warn(\n"
     ]
    },
    {
     "name": "stdout",
     "output_type": "stream",
     "text": [
      "user_limit\n",
      "optimal\n",
      "user_limit\n",
      "optimal\n",
      "user_limit\n",
      "user_limit\n",
      "user_limit\n",
      "user_limit\n",
      "user_limit\n",
      "optimal\n",
      "user_limit\n"
     ]
    },
    {
     "name": "stderr",
     "output_type": "stream",
     "text": [
      "/Users/patrik/miniconda3/envs/kmpc/lib/python3.11/site-packages/cvxpy/problems/problem.py:1504: UserWarning: Solution may be inaccurate. Try another solver, adjusting the solver settings, or solve with verbose=True for more information.\n",
      "  warnings.warn(\n",
      "/Users/patrik/miniconda3/envs/kmpc/lib/python3.11/site-packages/cvxpy/problems/problem.py:1504: UserWarning: Solution may be inaccurate. Try another solver, adjusting the solver settings, or solve with verbose=True for more information.\n",
      "  warnings.warn(\n",
      "/Users/patrik/miniconda3/envs/kmpc/lib/python3.11/site-packages/cvxpy/problems/problem.py:1504: UserWarning: Solution may be inaccurate. Try another solver, adjusting the solver settings, or solve with verbose=True for more information.\n",
      "  warnings.warn(\n",
      "/Users/patrik/miniconda3/envs/kmpc/lib/python3.11/site-packages/cvxpy/problems/problem.py:1504: UserWarning: Solution may be inaccurate. Try another solver, adjusting the solver settings, or solve with verbose=True for more information.\n",
      "  warnings.warn(\n",
      "/Users/patrik/miniconda3/envs/kmpc/lib/python3.11/site-packages/cvxpy/problems/problem.py:1504: UserWarning: Solution may be inaccurate. Try another solver, adjusting the solver settings, or solve with verbose=True for more information.\n",
      "  warnings.warn(\n",
      "/Users/patrik/miniconda3/envs/kmpc/lib/python3.11/site-packages/cvxpy/problems/problem.py:1504: UserWarning: Solution may be inaccurate. Try another solver, adjusting the solver settings, or solve with verbose=True for more information.\n",
      "  warnings.warn(\n",
      "/Users/patrik/miniconda3/envs/kmpc/lib/python3.11/site-packages/cvxpy/problems/problem.py:1504: UserWarning: Solution may be inaccurate. Try another solver, adjusting the solver settings, or solve with verbose=True for more information.\n",
      "  warnings.warn(\n",
      "/Users/patrik/miniconda3/envs/kmpc/lib/python3.11/site-packages/cvxpy/problems/problem.py:1504: UserWarning: Solution may be inaccurate. Try another solver, adjusting the solver settings, or solve with verbose=True for more information.\n",
      "  warnings.warn(\n"
     ]
    },
    {
     "name": "stdout",
     "output_type": "stream",
     "text": [
      "user_limit\n",
      "optimal\n",
      "optimal\n",
      "user_limit\n",
      "user_limit\n",
      "user_limit\n",
      "optimal\n",
      "user_limit\n",
      "user_limit\n",
      "user_limit\n",
      "user_limit\n",
      "optimal\n",
      "user_limit\n",
      "optimal\n"
     ]
    },
    {
     "name": "stderr",
     "output_type": "stream",
     "text": [
      "/Users/patrik/miniconda3/envs/kmpc/lib/python3.11/site-packages/cvxpy/problems/problem.py:1504: UserWarning: Solution may be inaccurate. Try another solver, adjusting the solver settings, or solve with verbose=True for more information.\n",
      "  warnings.warn(\n",
      "/Users/patrik/miniconda3/envs/kmpc/lib/python3.11/site-packages/cvxpy/problems/problem.py:1504: UserWarning: Solution may be inaccurate. Try another solver, adjusting the solver settings, or solve with verbose=True for more information.\n",
      "  warnings.warn(\n",
      "/Users/patrik/miniconda3/envs/kmpc/lib/python3.11/site-packages/cvxpy/problems/problem.py:1504: UserWarning: Solution may be inaccurate. Try another solver, adjusting the solver settings, or solve with verbose=True for more information.\n",
      "  warnings.warn(\n",
      "/Users/patrik/miniconda3/envs/kmpc/lib/python3.11/site-packages/cvxpy/problems/problem.py:1504: UserWarning: Solution may be inaccurate. Try another solver, adjusting the solver settings, or solve with verbose=True for more information.\n",
      "  warnings.warn(\n",
      "/Users/patrik/miniconda3/envs/kmpc/lib/python3.11/site-packages/cvxpy/problems/problem.py:1504: UserWarning: Solution may be inaccurate. Try another solver, adjusting the solver settings, or solve with verbose=True for more information.\n",
      "  warnings.warn(\n",
      "/Users/patrik/miniconda3/envs/kmpc/lib/python3.11/site-packages/cvxpy/problems/problem.py:1504: UserWarning: Solution may be inaccurate. Try another solver, adjusting the solver settings, or solve with verbose=True for more information.\n",
      "  warnings.warn(\n"
     ]
    }
   ],
   "source": [
    "\n",
    "sim_time = 100\n",
    "Ts = 1\n",
    "z_sim = np.zeros((nz+nd, sim_time+1))\n",
    "y_sim = np.zeros((ny, sim_time+1))\n",
    "u_sim = np.zeros((nu, sim_time))\n",
    "ys_sim = np.zeros((ny, sim_time+1))\n",
    "zs_sim = np.zeros((nz, sim_time+1))\n",
    "\n",
    "y_sim_descaled = np.zeros((ny, sim_time+1))\n",
    "u_sim_descaled = np.zeros((nu, sim_time))\n",
    "\n",
    "\n",
    "z_sim[:, 0] = z0_obs\n",
    "y_sim[:, 0] = y0.value\n",
    "ys_sim[:, 0] = y_s.value\n",
    "zs_sim[:, 0] = z_s.value\n",
    "y_sim_descaled[:, 0] = scaler.inverse_transform(y0.value.reshape(1,-1))[0]\n",
    "\n",
    "#z_ref.value = z_s.value\n",
    "\n",
    "for k in range(sim_time):\n",
    "    # solve MPC\n",
    "    mpc.solve(solver=cp.GUROBI)\n",
    "    u_sim[:, k] = u[:,0].value\n",
    "    u_sim_descaled[:, k] = scalerU.inverse_transform(u_sim[:, k].reshape(1,-1))[0]\n",
    "    \n",
    "    # simulate system\n",
    "    y_sim_descaled[:, k+1] =  TwoTanks.step(y_sim_descaled[:, k], u_sim_descaled[:, k].reshape(1,-1), Ts)\n",
    "    \n",
    "    y_sim[:, k+1] = scaler.transform(y_sim_descaled[:, k+1].reshape(1,-1))[0]\n",
    "    \n",
    "    # estimate state\n",
    "    z_sim[:, k+1] = EKF.step(u_sim[:, k], y_sim[:, k]).flatten()\n",
    "    \n",
    "    # update initial conditions\n",
    "    y0.value = y_sim[:, k+1]\n",
    "    z0.value = z_sim[:nz, k+1]\n",
    "    d0.value = z_sim[nz:, k+1]\n",
    "    target_estimation.solve(solver=cp.GUROBI)\n",
    "    ys_sim[:, k+1] = y_s.value\n",
    "    zs_sim[:, k+1] = z_s.value\n",
    "    z_ref.value = z_s.value\n",
    "    u_prev.value = u_sim[:, k]\n",
    "    print(mpc.status)\n",
    "    "
   ]
  },
  {
   "cell_type": "code",
   "execution_count": null,
   "metadata": {},
   "outputs": [
    {
     "data": {
      "text/plain": [
       "array([-0.29184252, -0.44309593,  0.12163744,  0.66767282,  0.07850087,\n",
       "        0.72266671, -0.0043856 ,  0.0902927 , -0.31894987, -0.52877063])"
      ]
     },
     "execution_count": 1170,
     "metadata": {},
     "output_type": "execute_result"
    }
   ],
   "source": [
    "z_ref.value"
   ]
  },
  {
   "cell_type": "code",
   "execution_count": null,
   "metadata": {},
   "outputs": [
    {
     "data": {
      "text/plain": [
       "array([-0.29184252, -0.44309593,  0.12163744,  0.66767282,  0.07850087,\n",
       "        0.72266671, -0.0043856 ,  0.0902927 , -0.31894987, -0.52877063])"
      ]
     },
     "execution_count": 1171,
     "metadata": {},
     "output_type": "execute_result"
    }
   ],
   "source": [
    "z_s.value"
   ]
  },
  {
   "cell_type": "code",
   "execution_count": null,
   "metadata": {},
   "outputs": [
    {
     "data": {
      "image/png": "[encoded data removed]",
      "text/plain": [
       "<Figure size 1200x800 with 1 Axes>"
      ]
     },
     "metadata": {},
     "output_type": "display_data"
    }
   ],
   "source": [
    "# plot results\n",
    "plt.figure(figsize=(12, 8))\n",
    "plt.subplot(2, 1, 1)\n",
    "plt.plot(y_sim_descaled[0], label='h1')\n",
    "plt.plot(y_sim_descaled[1], label='h2')\n",
    "plt.axhline(y=scaler.inverse_transform(y_ref.value.reshape(1, -1))[0][0], color='red', linestyle='--', label='y_ref h1')\n",
    "plt.axhline(y=scaler.inverse_transform(y_ref.value.reshape(1, -1))[0][1], color='red', linestyle=':', label='y_ref h2')\n",
    "plt.xlabel('Time step')\n",
    "plt.ylabel('Output')\n",
    "plt.legend()\n",
    "plt.grid(True) "
   ]
  },
  {
   "cell_type": "code",
   "execution_count": null,
   "metadata": {},
   "outputs": [
    {
     "data": {
      "text/plain": [
       "[<matplotlib.lines.Line2D at 0x31f9cef50>,\n",
       " <matplotlib.lines.Line2D at 0x31dc57c10>]"
      ]
     },
     "execution_count": 1173,
     "metadata": {},
     "output_type": "execute_result"
    },
    {
     "data": {
      "image/png": "[encoded data removed]",
      "text/plain": [
       "<Figure size 640x480 with 1 Axes>"
      ]
     },
     "metadata": {},
     "output_type": "display_data"
    }
   ],
   "source": [
    "plt.plot(z_sim[nz:, :].T)"
   ]
  },
  {
   "cell_type": "code",
   "execution_count": null,
   "metadata": {},
   "outputs": [
    {
     "data": {
      "text/plain": [
       "[<matplotlib.lines.Line2D at 0x30a13fc10>,\n",
       " <matplotlib.lines.Line2D at 0x30a13da10>,\n",
       " <matplotlib.lines.Line2D at 0x30a13d350>,\n",
       " <matplotlib.lines.Line2D at 0x308a0bd90>,\n",
       " <matplotlib.lines.Line2D at 0x31fe33590>,\n",
       " <matplotlib.lines.Line2D at 0x30a6f3250>,\n",
       " <matplotlib.lines.Line2D at 0x30a6f0c90>,\n",
       " <matplotlib.lines.Line2D at 0x30a6f1b90>,\n",
       " <matplotlib.lines.Line2D at 0x30a6f0650>,\n",
       " <matplotlib.lines.Line2D at 0x31f8a2c90>]"
      ]
     },
     "execution_count": 1174,
     "metadata": {},
     "output_type": "execute_result"
    },
    {
     "data": {
      "image/png": "[encoded data removed]",
      "text/plain": [
       "<Figure size 640x480 with 1 Axes>"
      ]
     },
     "metadata": {},
     "output_type": "display_data"
    }
   ],
   "source": [
    "plt.plot(zs_sim.T, label='h1')"
   ]
  },
  {
   "cell_type": "code",
   "execution_count": null,
   "metadata": {},
   "outputs": [
    {
     "data": {
      "text/plain": [
       "[<matplotlib.lines.Line2D at 0x320f64e50>,\n",
       " <matplotlib.lines.Line2D at 0x320f65210>]"
      ]
     },
     "execution_count": 1175,
     "metadata": {},
     "output_type": "execute_result"
    },
    {
     "data": {
      "image/png": "[encoded data removed]",
      "text/plain": [
       "<Figure size 640x480 with 1 Axes>"
      ]
     },
     "metadata": {},
     "output_type": "display_data"
    }
   ],
   "source": [
    "plt.plot(ys_sim.T)"
   ]
  },
  {
   "cell_type": "code",
   "execution_count": null,
   "metadata": {},
   "outputs": [
    {
     "data": {
      "image/png": "[encoded data removed]",
      "text/plain": [
       "<Figure size 1200x800 with 1 Axes>"
      ]
     },
     "metadata": {},
     "output_type": "display_data"
    }
   ],
   "source": [
    "# plot results\n",
    "plt.figure(figsize=(12, 8))\n",
    "plt.subplot(2, 1, 1)\n",
    "plt.plot(u_sim_descaled[0], label='q1')\n",
    "plt.plot(u_sim_descaled[1], label='q2')\n",
    "plt.xlabel('Time step')\n",
    "plt.ylabel('Output')\n",
    "plt.legend()\n",
    "plt.grid(True) "
   ]
  },
  {
   "cell_type": "markdown",
   "metadata": {},
   "source": [
    "## W observer of a disturbance and gradient descent of reference\n"
   ]
  },
  {
   "cell_type": "code",
   "execution_count": null,
   "metadata": {},
   "outputs": [
    {
     "name": "stdout",
     "output_type": "stream",
     "text": [
      "optimal\n",
      "Optimanl value: 1.2691291261077066e-18\n",
      "Optimal u: [-0.97079077  0.63711121]\n",
      "Optimal y: [-0.25787823  0.05853135]\n",
      "Optimal z: [-0.25606938 -0.34204551  0.07346435  0.46208751  0.00961057  0.57806848\n",
      "  0.01480864  0.03828539 -0.27581379 -0.36402591]\n",
      "Optimal u: [[0.07559511 0.68489824]]\n",
      "Optimal y: [[1. 1.]]\n"
     ]
    }
   ],
   "source": [
    "# target estimation\n",
    "z_s = cp.Variable(nz)\n",
    "y_s = cp.Variable(ny)\n",
    "u_s = cp.Variable(nu)\n",
    "\n",
    "# Constraints and cost\n",
    "constraints_s = [z_s == A @ z_s + B @ u_s]\n",
    "constraints_s += [y_s == C @ z_s]\n",
    "constraints_s += [u_min <= u_s, u_s <= u_max]\n",
    "constraints_s += [y_min <= y_s, y_s <= y_max]\n",
    "\n",
    "cost_s = 0\n",
    "cost_s += cp.quad_form(y_s - y_ref, np.eye(ny))\n",
    "\n",
    "target_estimation = cp.Problem(cp.Minimize(cost_s), constraints_s)\n",
    "target_estimation.solve(solver=cp.GUROBI)\n",
    "print(target_estimation.status)\n",
    "print(\"Optimanl value:\", target_estimation.value)\n",
    "print(\"Optimal u:\", u_s.value)\n",
    "print(\"Optimal y:\", y_s.value)\n",
    "print(\"Optimal z:\", z_s.value)\n",
    "print(\"Optimal u:\", scalerU.inverse_transform(u_s.value.reshape(1,-1)))\n",
    "print(\"Optimal y:\", scaler.inverse_transform(y_s.value.reshape(1,-1)))\n",
    "\n",
    "y_ref.value = y_s.value\n",
    "z_ref_store = z_s.value"
   ]
  },
  {
   "cell_type": "code",
   "execution_count": null,
   "metadata": {},
   "outputs": [],
   "source": [
    "z_est = get_x(y_s.value).T[0]\n",
    "z_s = torch.nn.Parameter(torch.tensor(np.float32(z_ref_store)),requires_grad=True)\n",
    "optimizer = torch.optim.Adam([z_s], lr=1e-2)\n",
    "y_sp = torch.tensor(y_s.value, dtype=torch.float32, device=z_s.device)"
   ]
  },
  {
   "cell_type": "code",
   "execution_count": null,
   "metadata": {},
   "outputs": [],
   "source": [
    "# z_s estimation using gradient descent\n",
    "z_ref = cp.Parameter(nz)\n",
    "for i in range(100):\n",
    "    optimizer.zero_grad()\n",
    "    y_pred = problem.nodes[4]({\"x\": z_s})[\"yhat\"]\n",
    "    loss = ((y_pred - y_sp)**2).sum()\n",
    "    loss.backward()\n",
    "    optimizer.step()\n",
    "\n",
    "z_ref.value = z_s.detach().numpy()\n",
    "#z_ref.value = z_ref_store"
   ]
  },
  {
   "cell_type": "code",
   "execution_count": null,
   "metadata": {},
   "outputs": [],
   "source": [
    "# \"enhanced\" matrices\n",
    "F = np.eye(ny)\n",
    "nd = F.shape[1]"
   ]
  },
  {
   "cell_type": "code",
   "execution_count": null,
   "metadata": {},
   "outputs": [],
   "source": [
    "N = 20\n",
    "#Jh = helper.evaluate_jacobian(problem.nodes[4], z_s)\n",
    "Jh = helper.evaluate_jacobian(problem.nodes[4], torch.tensor(z_ref_store))\n",
    "Qz = Jh.T@np.eye(ny)*20@Jh\n",
    "#Qz = C.T@np.eye(ny)*20@C\n",
    "Qz_psd = Qz + 1e-8 * np.eye(Qz.shape[0])\n",
    "Qu = np.eye(nu)\n",
    "\n",
    "# Constraints\n",
    "u_min = scalerU.transform(np.array([[0.0, 0.0]]))[0]\n",
    "u_max = scalerU.transform(np.array([[0.5, 1.0]]))[0]\n",
    "y_min = scaler.transform(np.array([[0.0, 0.0]]))[0]\n",
    "y_max = scaler.transform(np.array([[5.0, 5.0]]))[0]\n",
    "\n",
    "z0 = cp.Parameter(nz)\n",
    "y0 = cp.Parameter(ny)\n",
    "d0 = cp.Parameter(nd)\n",
    "u_prev = cp.Parameter(nu)\n",
    "y_ref = cp.Parameter(ny)\n",
    "y_sp = cp.Parameter(ny)\n",
    "z_ref = cp.Parameter(nz)\n",
    "\n",
    "# Decision variables\n",
    "z = cp.Variable((nz, N+1))\n",
    "y = cp.Variable((ny, N))\n",
    "delta_u = cp.Variable((nu, N))\n",
    "u = cp.Variable((nu, N + 1)) "
   ]
  },
  {
   "cell_type": "code",
   "execution_count": null,
   "metadata": {},
   "outputs": [],
   "source": [
    "\n",
    "# Constraints and cost\n",
    "constraints = [z[:, 0] == z0]\n",
    "constraints += [u[:, 0] == u_prev + delta_u[:, 0]]\n",
    "cost = 0\n",
    "for k in range(N):\n",
    "    constraints += [u[:, k] == u[:, k-1] + delta_u[:, k]]\n",
    "    \n",
    "    constraints += [\n",
    "        z[:, k+1] == A @ z[:, k] + B @ u[:,k],\n",
    "        y[:, k] == C @ z[:, k] + F @ d0,\n",
    "        u_min <= u[:, k], u[:, k] <= u_max,\n",
    "        y_min <= y[:, k], y[:, k] <= y_max\n",
    "    ]\n",
    "    \n",
    "    cost += cp.quad_form(z[:, k] - z_ref, Qz_psd) + cp.quad_form(delta_u[:, k], Qu)\n",
    "\n",
    "# Terminal cost - not yet\n",
    "# cost += cp.quad_form(x[:, N] - x_ref[:, N], Q)\n"
   ]
  },
  {
   "cell_type": "code",
   "execution_count": null,
   "metadata": {},
   "outputs": [],
   "source": [
    "y0.value = scaler.transform(np.array([[0.5 , 0.3]]))[0]\n",
    "z0.value = get_x(y0.value).T[0]\n",
    "d0.value = np.zeros(nd)\n",
    "u_prev.value = scalerU.transform(np.array([[0.1, 0.1]]))[0]\n",
    "y_ref.value = scaler.transform(np.array([[1, 1]]))[0]\n",
    "y_sp.value = scaler.transform(np.array([[1, 1]]))[0]\n",
    "z_ref.value = z_s.detach().numpy()"
   ]
  },
  {
   "cell_type": "code",
   "execution_count": null,
   "metadata": {},
   "outputs": [
    {
     "data": {
      "text/plain": [
       "array([-0.23724996, -0.34553623,  0.10430026,  0.4272149 ,  0.04302476,\n",
       "        0.60349673, -0.00192538,  0.00770223, -0.2461288 , -0.39801872],\n",
       "      dtype=float32)"
      ]
     },
     "execution_count": 1184,
     "metadata": {},
     "output_type": "execute_result"
    }
   ],
   "source": [
    "z_ref.value\n"
   ]
  },
  {
   "cell_type": "code",
   "execution_count": null,
   "metadata": {},
   "outputs": [
    {
     "data": {
      "text/plain": [
       "array([ 0.08075562, -0.07630251,  0.06179626,  0.11521299,  0.04248875,\n",
       "        0.2145575 , -0.02005869,  0.01279768,  0.02185497, -0.05644025],\n",
       "      dtype=float32)"
      ]
     },
     "execution_count": 1185,
     "metadata": {},
     "output_type": "execute_result"
    }
   ],
   "source": [
    "z_est"
   ]
  },
  {
   "cell_type": "code",
   "execution_count": null,
   "metadata": {},
   "outputs": [],
   "source": [
    "# # z_s estimation using gradient descent\n",
    "# y_sp = scaler.transform(np.array([[1, 1]]))[0]\n",
    "# z_est = get_x(y_sp)\n",
    "# z_s = torch.nn.Parameter(torch.tensor(z_est.T),requires_grad=True)\n",
    "# optimizer = torch.optim.Adam([z_s], lr=1e-2)\n",
    "# y_sp = torch.tensor(y_sp, dtype=torch.float32, device=z_s.device)\n",
    "\n",
    "# for i in range(100):\n",
    "#     optimizer.zero_grad()\n",
    "#     y_pred = problem.nodes[4]({\"x\": z_s})[\"yhat\"]\n",
    "#     loss = ((y_pred - y_sp)**2).sum()\n",
    "#     loss.backward()\n",
    "#     optimizer.step()\n",
    "\n",
    "# z_ref.value = z_s.detach().numpy()[0]"
   ]
  },
  {
   "cell_type": "code",
   "execution_count": null,
   "metadata": {},
   "outputs": [
    {
     "data": {
      "text/plain": [
       "array([-0.23724996, -0.34553623,  0.10430026,  0.4272149 ,  0.04302476,\n",
       "        0.60349673, -0.00192538,  0.00770223, -0.2461288 , -0.39801872],\n",
       "      dtype=float32)"
      ]
     },
     "execution_count": 1187,
     "metadata": {},
     "output_type": "execute_result"
    }
   ],
   "source": [
    "z_ref.value"
   ]
  },
  {
   "cell_type": "code",
   "execution_count": null,
   "metadata": {},
   "outputs": [
    {
     "name": "stdout",
     "output_type": "stream",
     "text": [
      "[0.129876   1.50129207]\n",
      "optimal\n"
     ]
    }
   ],
   "source": [
    "# sanity check\n",
    "mpc = cp.Problem(cp.Minimize(cost), constraints)\n",
    "mpc.solve(solver=cp.GUROBI)\n",
    "u_opt = u[:,0].value\n",
    "print(u[:,0].value)\n",
    "print(mpc.status)"
   ]
  },
  {
   "cell_type": "code",
   "execution_count": null,
   "metadata": {},
   "outputs": [],
   "source": [
    "# # z_s estimation using gradient descent\n",
    "# y_sp = scaler.transform(np.array([[1, 1]]))[0]\n",
    "# z_est = get_x(y_sp)\n",
    "# z_s = torch.nn.Parameter(torch.tensor(z_est.T),requires_grad=True)\n",
    "# optimizer = torch.optim.Adam([z_s], lr=1e-2)\n",
    "# y_sp = torch.tensor(y_sp, dtype=torch.float32, device=z_s.device)\n",
    "\n",
    "# for i in range(100):\n",
    "#     optimizer.zero_grad()\n",
    "#     y_pred = problem.nodes[4]({\"x\": z_s})[\"yhat\"]\n",
    "#     loss = ((y_pred - y_sp)**2).sum()\n",
    "#     loss.backward()\n",
    "#     optimizer.step()\n",
    "\n",
    "# z_ref.value = z_s.detach().numpy()[0]\n",
    "# z_ref.value = z_ref_store"
   ]
  },
  {
   "cell_type": "code",
   "execution_count": null,
   "metadata": {},
   "outputs": [],
   "source": [
    "def set_reference():\n",
    "    z_s = torch.nn.Parameter(torch.tensor(np.float32(z_ref_store)),requires_grad=True)\n",
    "    optimizer = torch.optim.Adam([z_s], lr=1e-2)\n",
    "    y_sp = torch.tensor(y_s.value, dtype=torch.float32, device=z_s.device)\n",
    "    d = torch.tensor(d0.value)\n",
    "    z_ref = cp.Parameter(nz)\n",
    "    for i in range(100):\n",
    "        optimizer.zero_grad()\n",
    "        y_pred = problem.nodes[4]({\"x\": z_s})[\"yhat\"]\n",
    "        loss = ((y_pred + d - y_sp)**2).sum()\n",
    "        loss.backward()\n",
    "        optimizer.step()\n",
    "\n",
    "    z_ref.value = z_s.detach().numpy()"
   ]
  },
  {
   "cell_type": "code",
   "execution_count": null,
   "metadata": {},
   "outputs": [],
   "source": [
    "# Observer initialization\n",
    "\n",
    "P0 = np.eye(nz+nd) * 0.1 # initial covariance\n",
    "Q = np.eye(nz+nd) * 0.01  # process noise\n",
    "R = np.eye(ny) * 0.05  # measurement noise\n",
    "z0_obs = np.concatenate((z0.value, d0.value))\n",
    "\n",
    "EKF = helper.EKF_noC(A, B, z0_obs, P0, problem, Q, R, True, F, C)"
   ]
  },
  {
   "cell_type": "markdown",
   "metadata": {},
   "source": [
    "Simulation"
   ]
  },
  {
   "cell_type": "code",
   "execution_count": null,
   "metadata": {},
   "outputs": [
    {
     "name": "stdout",
     "output_type": "stream",
     "text": [
      "optimal\n",
      "optimal\n",
      "optimal\n",
      "optimal\n",
      "optimal\n",
      "optimal\n",
      "optimal\n",
      "optimal\n",
      "optimal\n",
      "optimal\n",
      "optimal\n",
      "optimal\n",
      "optimal\n",
      "optimal\n",
      "optimal\n",
      "optimal\n",
      "optimal\n",
      "optimal\n",
      "optimal\n",
      "optimal\n",
      "optimal\n",
      "optimal\n",
      "optimal\n",
      "optimal\n",
      "optimal\n",
      "optimal\n",
      "optimal\n",
      "optimal\n",
      "optimal\n",
      "optimal\n",
      "optimal\n",
      "optimal\n",
      "optimal\n",
      "optimal\n",
      "optimal\n",
      "optimal\n",
      "optimal\n",
      "optimal\n",
      "optimal\n",
      "optimal\n",
      "optimal\n",
      "optimal\n",
      "optimal\n",
      "optimal\n",
      "optimal\n",
      "optimal\n",
      "optimal\n",
      "optimal\n",
      "optimal\n",
      "optimal\n",
      "optimal\n",
      "optimal\n",
      "optimal\n",
      "optimal\n",
      "optimal\n",
      "optimal\n",
      "optimal\n",
      "optimal\n",
      "optimal\n",
      "optimal\n",
      "optimal\n",
      "optimal\n",
      "optimal\n",
      "optimal\n",
      "optimal\n",
      "optimal\n",
      "optimal\n",
      "optimal\n",
      "optimal\n",
      "optimal\n",
      "optimal\n",
      "optimal\n",
      "optimal\n",
      "optimal\n",
      "optimal\n",
      "optimal\n",
      "optimal\n",
      "optimal\n",
      "optimal\n",
      "optimal\n",
      "optimal\n",
      "optimal\n",
      "optimal\n",
      "optimal\n",
      "optimal\n",
      "optimal\n",
      "optimal\n",
      "optimal\n",
      "optimal\n",
      "optimal\n",
      "optimal\n",
      "optimal\n",
      "optimal\n",
      "optimal\n",
      "optimal\n",
      "optimal\n",
      "optimal\n",
      "optimal\n",
      "optimal\n",
      "optimal\n"
     ]
    }
   ],
   "source": [
    "sim_time = 100\n",
    "Ts = 1\n",
    "z_sim = np.zeros((nz+nd, sim_time+1))\n",
    "y_sim = np.zeros((ny, sim_time+1))\n",
    "u_sim = np.zeros((nu, sim_time))\n",
    "ys_sim = np.zeros((ny, sim_time+1))\n",
    "zs_sim = np.zeros((nz, sim_time+1))\n",
    "\n",
    "y_sim_descaled = np.zeros((ny, sim_time+1))\n",
    "u_sim_descaled = np.zeros((nu, sim_time))\n",
    "\n",
    "\n",
    "z_sim[:, 0] = z0_obs\n",
    "y_sim[:, 0] = y0.value\n",
    "ys_sim[:, 0] = y_s.value\n",
    "zs_sim[:, 0] = z_ref.value\n",
    "y_sim_descaled[:, 0] = scaler.inverse_transform(y0.value.reshape(1,-1))[0]\n",
    "\n",
    "#z_ref.value = z_s.value\n",
    "\n",
    "for k in range(sim_time):\n",
    "    # solve MPC\n",
    "    mpc.solve(solver=cp.GUROBI)\n",
    "    u_sim[:, k] = u[:,0].value\n",
    "    u_sim_descaled[:, k] = scalerU.inverse_transform(u_sim[:, k].reshape(1,-1))[0]\n",
    "    \n",
    "    # simulate system\n",
    "    y_sim_descaled[:, k+1] =  TwoTanks.step(y_sim_descaled[:, k], u_sim_descaled[:, k].reshape(1,-1), Ts)\n",
    "    \n",
    "    y_sim[:, k+1] = scaler.transform(y_sim_descaled[:, k+1].reshape(1,-1))[0]\n",
    "    \n",
    "    # estimate state\n",
    "    z_sim[:, k+1] = EKF.step(u_sim[:, k], y_sim[:, k]).flatten()\n",
    "    \n",
    "    # update initial conditions\n",
    "    y0.value = y_sim[:, k+1]\n",
    "    z0.value = z_sim[:nz, k+1]\n",
    "    d0.value = z_sim[nz:, k+1]\n",
    "    # new reference\n",
    "    z_s = torch.nn.Parameter(torch.tensor(np.float32(z_ref_store)),requires_grad=True)\n",
    "    optimizer = torch.optim.Adam([z_s], lr=1e-2)\n",
    "    y_sp = torch.tensor(y_s.value, dtype=torch.float32, device=z_s.device)\n",
    "    d = torch.tensor(d0.value)\n",
    "    z_ref = cp.Parameter(nz)\n",
    "    for i in range(100):\n",
    "        optimizer.zero_grad()\n",
    "        y_pred = problem.nodes[4]({\"x\": z_s})[\"yhat\"]\n",
    "        loss = ((y_pred + d - y_sp)**2).sum()\n",
    "        loss.backward()\n",
    "        optimizer.step()\n",
    "\n",
    "    z_ref.value = z_s.detach().numpy()\n",
    "    \n",
    "    zs_sim[:, k+1] = z_ref.value\n",
    "    u_prev.value = u_sim[:, k]\n",
    "    print(mpc.status)\n",
    "    "
   ]
  },
  {
   "cell_type": "code",
   "execution_count": null,
   "metadata": {},
   "outputs": [
    {
     "data": {
      "text/plain": [
       "array([0.03613861, 0.00732397])"
      ]
     },
     "execution_count": 1193,
     "metadata": {},
     "output_type": "execute_result"
    }
   ],
   "source": [
    "d0.value"
   ]
  },
  {
   "cell_type": "code",
   "execution_count": null,
   "metadata": {},
   "outputs": [],
   "source": []
  },
  {
   "cell_type": "code",
   "execution_count": null,
   "metadata": {},
   "outputs": [
    {
     "data": {
      "text/plain": [
       "array([-0.23143162, -0.36718678,  0.09931362,  0.43715972,  0.03293933,\n",
       "        0.60328645, -0.00940636,  0.01497001, -0.25120035, -0.38876563],\n",
       "      dtype=float32)"
      ]
     },
     "execution_count": 1194,
     "metadata": {},
     "output_type": "execute_result"
    }
   ],
   "source": [
    "z_ref.value"
   ]
  },
  {
   "cell_type": "code",
   "execution_count": null,
   "metadata": {},
   "outputs": [
    {
     "data": {
      "text/plain": [
       "array([-0.23143162, -0.36718678,  0.09931362,  0.43715972,  0.03293933,\n",
       "        0.60328645, -0.00940636,  0.01497001, -0.25120035, -0.38876563],\n",
       "      dtype=float32)"
      ]
     },
     "execution_count": 1195,
     "metadata": {},
     "output_type": "execute_result"
    }
   ],
   "source": [
    "z_ref.value"
   ]
  },
  {
   "cell_type": "code",
   "execution_count": null,
   "metadata": {},
   "outputs": [
    {
     "data": {
      "image/png": "[encoded data removed]",
      "text/plain": [
       "<Figure size 1200x800 with 1 Axes>"
      ]
     },
     "metadata": {},
     "output_type": "display_data"
    }
   ],
   "source": [
    "# plot results\n",
    "plt.figure(figsize=(12, 8))\n",
    "plt.subplot(2, 1, 1)\n",
    "plt.plot(y_sim_descaled[0], label='h1')\n",
    "plt.plot(y_sim_descaled[1], label='h2')\n",
    "plt.axhline(y=scaler.inverse_transform(y_ref.value.reshape(1, -1))[0][0], color='red', linestyle='--', label='y_ref h1')\n",
    "plt.axhline(y=scaler.inverse_transform(y_ref.value.reshape(1, -1))[0][1], color='red', linestyle=':', label='y_ref h2')\n",
    "plt.xlabel('Time step')\n",
    "plt.ylabel('Output')\n",
    "plt.legend()\n",
    "plt.grid(True) "
   ]
  },
  {
   "cell_type": "code",
   "execution_count": null,
   "metadata": {},
   "outputs": [
    {
     "data": {
      "text/plain": [
       "[<matplotlib.lines.Line2D at 0x320f21f90>,\n",
       " <matplotlib.lines.Line2D at 0x3084a85d0>]"
      ]
     },
     "execution_count": 1197,
     "metadata": {},
     "output_type": "execute_result"
    },
    {
     "data": {
      "image/png": "[encoded data removed]",
      "text/plain": [
       "<Figure size 640x480 with 1 Axes>"
      ]
     },
     "metadata": {},
     "output_type": "display_data"
    }
   ],
   "source": [
    "plt.plot(z_sim[nz:, :].T)"
   ]
  },
  {
   "cell_type": "code",
   "execution_count": null,
   "metadata": {},
   "outputs": [
    {
     "data": {
      "text/plain": [
       "[<matplotlib.lines.Line2D at 0x31fe39310>,\n",
       " <matplotlib.lines.Line2D at 0x31fefc290>,\n",
       " <matplotlib.lines.Line2D at 0x31f9ccd90>,\n",
       " <matplotlib.lines.Line2D at 0x320f1c550>,\n",
       " <matplotlib.lines.Line2D at 0x31f9cc650>,\n",
       " <matplotlib.lines.Line2D at 0x31f9cc850>,\n",
       " <matplotlib.lines.Line2D at 0x31f9cf7d0>,\n",
       " <matplotlib.lines.Line2D at 0x31f9cfdd0>,\n",
       " <matplotlib.lines.Line2D at 0x31f9cfc50>,\n",
       " <matplotlib.lines.Line2D at 0x320f94210>]"
      ]
     },
     "execution_count": 1198,
     "metadata": {},
     "output_type": "execute_result"
    },
    {
     "data": {
      "image/png": "[encoded data removed]",
      "text/plain": [
       "<Figure size 640x480 with 1 Axes>"
      ]
     },
     "metadata": {},
     "output_type": "display_data"
    }
   ],
   "source": [
    "plt.plot(zs_sim.T, label='h1')"
   ]
  },
  {
   "cell_type": "code",
   "execution_count": null,
   "metadata": {},
   "outputs": [
    {
     "data": {
      "text/plain": [
       "[<matplotlib.lines.Line2D at 0x31fe99bd0>,\n",
       " <matplotlib.lines.Line2D at 0x31da1c910>]"
      ]
     },
     "execution_count": 1199,
     "metadata": {},
     "output_type": "execute_result"
    },
    {
     "data": {
      "image/png": "[encoded data removed]",
      "text/plain": [
       "<Figure size 640x480 with 1 Axes>"
      ]
     },
     "metadata": {},
     "output_type": "display_data"
    }
   ],
   "source": [
    "plt.plot(ys_sim.T)"
   ]
  },
  {
   "cell_type": "code",
   "execution_count": null,
   "metadata": {},
   "outputs": [
    {
     "data": {
      "image/png": "[encoded data removed]",
      "text/plain": [
       "<Figure size 1200x800 with 1 Axes>"
      ]
     },
     "metadata": {},
     "output_type": "display_data"
    }
   ],
   "source": [
    "# plot results\n",
    "plt.figure(figsize=(12, 8))\n",
    "plt.subplot(2, 1, 1)\n",
    "plt.plot(u_sim_descaled[0], label='q1')\n",
    "plt.plot(u_sim_descaled[1], label='q2')\n",
    "plt.xlabel('Time step')\n",
    "plt.ylabel('Output')\n",
    "plt.legend()\n",
    "plt.grid(True) "
   ]
  },
  {
   "cell_type": "code",
   "execution_count": null,
   "metadata": {},
   "outputs": [],
   "source": []
  },
  {
   "cell_type": "code",
   "execution_count": null,
   "metadata": {},
   "outputs": [],
   "source": []
  },
  {
   "cell_type": "code",
   "execution_count": null,
   "metadata": {},
   "outputs": [],
   "source": []
  },
  {
   "cell_type": "code",
   "execution_count": null,
   "metadata": {},
   "outputs": [],
   "source": []
  },
  {
   "cell_type": "code",
   "execution_count": null,
   "metadata": {},
   "outputs": [],
   "source": []
  },
  {
   "cell_type": "code",
   "execution_count": null,
   "metadata": {},
   "outputs": [],
   "source": []
  },
  {
   "cell_type": "code",
   "execution_count": null,
   "metadata": {},
   "outputs": [],
   "source": []
  }
 ],
 "metadata": {
  "kernelspec": {
   "display_name": "kmpc",
   "language": "python",
   "name": "python3"
  },
  "language_info": {
   "codemirror_mode": {
    "name": "ipython",
    "version": 3
   },
   "file_extension": ".py",
   "mimetype": "text/x-python",
   "name": "python",
   "nbconvert_exporter": "python",
   "pygments_lexer": "ipython3",
   "version": "3.11.11"
  }
 },
 "nbformat": 4,
 "nbformat_minor": 2
}
