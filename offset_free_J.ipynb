{
 "cells": [
  {
   "cell_type": "markdown",
   "metadata": {},
   "source": [
    "# Ofset free MPC using matric C"
   ]
  },
  {
   "cell_type": "markdown",
   "metadata": {},
   "source": [
    "# Ofset free MPC using matric C"
   ]
  },
  {
   "cell_type": "code",
   "execution_count": 121,
   "metadata": {},
   "outputs": [
    {
     "name": "stdout",
     "output_type": "stream",
     "text": [
      "The autoreload extension is already loaded. To reload it, use:\n",
      "  %reload_ext autoreload\n"
     ]
    }
   ],
   "source": [
    "import numpy as np\n",
    "import pandas as pd\n",
    "import joblib\n",
    "import matplotlib.pyplot as plt\n",
    "import cvxpy as cp\n",
    "from torch.utils.data import DataLoader\n",
    "import torch\n",
    "from sklearn.preprocessing import StandardScaler\n",
    "\n",
    "from neuromancer.system import Node, System\n",
    "from neuromancer.trainer import Trainer\n",
    "from neuromancer.problem import Problem\n",
    "from neuromancer.dataset import DictDataset\n",
    "from neuromancer.constraint import variable\n",
    "from neuromancer.loss import PenaltyLoss\n",
    "from neuromancer. modules import blocks\n",
    "\n",
    "import src.models as models\n",
    "import src.helper as helper\n",
    "%load_ext autoreload\n",
    "%autoreload 2"
   ]
  },
  {
   "cell_type": "markdown",
   "metadata": {},
   "source": [
    "Load matrices, model, scalers and load process"
   ]
  },
  {
   "cell_type": "code",
   "execution_count": 122,
   "metadata": {},
   "outputs": [],
   "source": [
    "matrix_C = False\n",
    "\n",
    "# Load matrices A, B, and C \n",
    "A = np.load('./data/A_C_' + str(matrix_C) + '.npy')\n",
    "B = np.load('./data/B_C_' + str(matrix_C) + '.npy')\n",
    "C = np.load('./data/C_C_' + str(matrix_C) + '.npy')\n",
    "\n",
    "nz, nu = B.shape  # state and input dimensions\n",
    "ny = C.shape[0]  # output dimensions\n",
    "\n",
    "# disturbance \n",
    "F = np.eye(ny)\n",
    "nd = F.shape[1]"
   ]
  },
  {
   "cell_type": "code",
   "execution_count": 123,
   "metadata": {},
   "outputs": [],
   "source": [
    "# model parameters\n",
    "\n",
    "layers = [20,40,60]\n",
    "layers_dec  = [60,40,20]\n"
   ]
  },
  {
   "cell_type": "code",
   "execution_count": 124,
   "metadata": {},
   "outputs": [
    {
     "data": {
      "text/plain": [
       "<All keys matched successfully>"
      ]
     },
     "execution_count": 124,
     "metadata": {},
     "output_type": "execute_result"
    }
   ],
   "source": [
    "# instantiate output encoder neural net f_y\n",
    "f_y = blocks.MLP(\n",
    "    ny,\n",
    "    nz,\n",
    "    bias=True,\n",
    "    linear_map=torch.nn.Linear,\n",
    "    nonlin=torch.nn.ReLU,\n",
    "    hsizes=layers,\n",
    ")\n",
    "# initial condition encoder\n",
    "encode_Y0 = Node(f_y, ['Y0'], ['x'], name='encoder_Y0')\n",
    "# observed trajectory encoder\n",
    "encode_Y = Node(f_y, ['Y'], ['x_latent'], name='encoder_Y')\n",
    "\n",
    "# instantiate input encoder net f_u, representing the B matrix in the linear system\n",
    "f_u = torch.nn.Linear(nu, nz, bias=False)\n",
    "# initial condition encoder\n",
    "encode_U = Node(f_u, ['U'], ['u_latent'], name='encoder_U')\n",
    "\n",
    "# instantiate state decoder neural net f_y_inv\n",
    "if not matrix_C:\n",
    "    f_y_inv = blocks.MLP(nz, ny, bias=True,\n",
    "                    linear_map=torch.nn.Linear,\n",
    "                    nonlin=torch.nn.ELU,\n",
    "                    hsizes=layers_dec)\n",
    "elif matrix_C:\n",
    "    f_y_inv = torch.nn.Linear(nz, ny, bias=False)\n",
    "else:\n",
    "    raise ValueError('matrix_C must be boolean')\n",
    "\n",
    "# predicted trajectory decoder\n",
    "decode_y = Node(f_y_inv, ['x'], ['yhat'], name='decoder_y')\n",
    "\n",
    "# representing matrix A in the linear system\n",
    "K = torch.nn.Linear(nz, nz, bias=False)\n",
    "\n",
    "# symbolic Koopman model with control inputs\n",
    "Koopman = Node(helper.PredictionWControl(K), ['x', 'u_latent'], ['x'], name='K')\n",
    "\n",
    "# latent Koopmann rollout\n",
    "dynamics_model = System([Koopman], name='Koopman', nsteps=1)\n",
    "\n",
    "# put all nodes of the Koopman model together in a list of nodes\n",
    "nodes = [encode_Y0, encode_Y, encode_U, dynamics_model, decode_y]\n",
    "\n",
    "# no loss function because only using the model not training it\n",
    "loss = PenaltyLoss([], constraints=[])\n",
    "\n",
    "problem = Problem(nodes, loss)\n",
    "\n",
    "problem.load_state_dict(torch.load('data/model_C_' + str(matrix_C) + '.pth'),strict=False)\n",
    "\n"
   ]
  },
  {
   "cell_type": "code",
   "execution_count": 125,
   "metadata": {},
   "outputs": [],
   "source": [
    "# load scalers\n",
    "scaler = joblib.load('data/scaler.pkl')\n",
    "scalerU = joblib.load('data/scalerU.pkl')\n"
   ]
  },
  {
   "cell_type": "code",
   "execution_count": 126,
   "metadata": {},
   "outputs": [],
   "source": [
    "# define same model as for training\n",
    "A1 = 1\n",
    "A2 = 0.5\n",
    "k1 = 0.5\n",
    "k2 = 0.8\n",
    "\n",
    "TwoTanks = models.TwoTanks(True, A1, A2, k1, k2)"
   ]
  },
  {
   "cell_type": "markdown",
   "metadata": {},
   "source": [
    "Necesary?"
   ]
  },
  {
   "cell_type": "code",
   "execution_count": 127,
   "metadata": {},
   "outputs": [],
   "source": [
    "# probably yes\n",
    "def get_x(y):\n",
    "    x = problem.nodes[0]({\"Y0\": torch.from_numpy(y).float()})\n",
    "    return x[\"x\"].detach().numpy().reshape(1,-1).T\n",
    "\n",
    "def get_y(x):\n",
    "    y = problem.nodes[4]({\"x\": torch.from_numpy(x.T).float()})\n",
    "    return y[\"yhat\"].detach().numpy().reshape(1,-1)"
   ]
  },
  {
   "cell_type": "markdown",
   "metadata": {},
   "source": [
    "## Optimal control problem"
   ]
  },
  {
   "cell_type": "markdown",
   "metadata": {},
   "source": [
    "Observer - Kalman filter"
   ]
  },
  {
   "cell_type": "code",
   "execution_count": 128,
   "metadata": {},
   "outputs": [],
   "source": [
    "y_start = np.array([0.5, 0.5])\n",
    "y_start = scaler.transform(y_start.reshape(1, -1))\n",
    "\n",
    "y_setpoint = np.array([1.5, 0.8])\n",
    "y_setpoint = scaler.transform(y_setpoint.reshape(1, -1))[0]\n",
    "\n",
    "u_previous = np.array([0.2, 0.5])\n",
    "u_previous = scalerU.transform(u_previous.reshape(1, -1))[0]\n",
    "\n",
    "z_est_ = np.hstack((get_x(y_start).T, np.zeros((1,nd))))\n",
    "P0 = np.eye(nz+nd) \n",
    "\n",
    "# Noise covariances\n",
    "Q = np.eye(nz+nd) * 0.1  # process noise\n",
    "R = np.eye(ny) * 0.5  # measurement noise\n",
    "A_ = np.block([\n",
    "    [A, np.zeros((nz, nd))],\n",
    "    [np.zeros((nd, nz)), np.eye(nd)]\n",
    "])\n",
    "B_ = np.vstack([\n",
    "    B,\n",
    "    np.zeros((nd, nu))\n",
    "])\n",
    "\n",
    "EKF = helper.EKF(A_,B_,z_est_,P0, problem, Q, R, 2)\n"
   ]
  },
  {
   "cell_type": "markdown",
   "metadata": {},
   "source": [
    "Target calculation"
   ]
  },
  {
   "cell_type": "code",
   "execution_count": 129,
   "metadata": {},
   "outputs": [],
   "source": [
    "N = 20\n",
    "Qy = np.eye(ny) *5\n",
    "Qu = np.eye(nu)\n",
    "\n",
    "J = helper.evaluate_jacobian(\n",
    "    problem.nodes[4],\n",
    "    torch.from_numpy(get_x(y_start).T[0]).float(),\n",
    ")\n",
    "\n",
    "C_k = cp.Parameter((ny, nz))\n",
    "C_k.value = J\n",
    "\n",
    "\n",
    "# Constraints\n",
    "u_min = scalerU.transform(np.array([[0.0, 0.0]]))[0]\n",
    "u_max = scalerU.transform(np.array([[0.5, 1.0]]))[0]\n",
    "y_min = scaler.transform(np.array([[0.0, 0.0]]))[0]\n",
    "y_max = scaler.transform(np.array([[5.0, 5.0]]))[0]\n",
    "\n",
    "z0 = cp.Parameter(nz)\n",
    "d0 = cp.Parameter(ny)\n",
    "d0.value = np.zeros(ny)\n",
    "u_prev = cp.Parameter(nu)\n",
    "\n",
    "y_sp = cp.Parameter(ny)\n",
    "y_sp.value = y_setpoint\n",
    "# y_sp = y_setpoint\n",
    "z_ref = cp.Parameter(nz)\n",
    "\n",
    "# Decision variables\n",
    "z = cp.Variable((nz, N+1))\n",
    "y = cp.Variable((ny, N+1))\n",
    "delta_u = cp.Variable((nu, N))\n",
    "u = cp.Variable((nu, N + 1)) \n",
    "z_s = cp.Variable(nz)\n",
    "z_k = cp.Parameter(nz)\n",
    "z_k.value = z_est_[0,:nz]\n",
    "y_k = cp.Parameter(ny)\n",
    "y_k.value = get_y(z_k.value)[0]\n",
    "y_s = cp.Variable(ny)\n",
    "u_s = cp.Variable(nu)\n"
   ]
  },
  {
   "cell_type": "code",
   "execution_count": 130,
   "metadata": {},
   "outputs": [
    {
     "data": {
      "text/plain": [
       "array([[-0.8341637 , -0.63948333]], dtype=float32)"
      ]
     },
     "execution_count": 130,
     "metadata": {},
     "output_type": "execute_result"
    }
   ],
   "source": [
    "get_y(z_k.value)"
   ]
  },
  {
   "cell_type": "code",
   "execution_count": 131,
   "metadata": {},
   "outputs": [
    {
     "data": {
      "text/plain": [
       "array([ 0.29009362, -0.22054858])"
      ]
     },
     "execution_count": 131,
     "metadata": {},
     "output_type": "execute_result"
    }
   ],
   "source": [
    "y_setpoint"
   ]
  },
  {
   "cell_type": "code",
   "execution_count": 132,
   "metadata": {},
   "outputs": [
    {
     "data": {
      "text/plain": [
       "array([-0.38192263, -0.28982216])"
      ]
     },
     "execution_count": 132,
     "metadata": {},
     "output_type": "execute_result"
    }
   ],
   "source": [
    "(y_k - C_k@z_k).value"
   ]
  },
  {
   "cell_type": "code",
   "execution_count": 133,
   "metadata": {},
   "outputs": [
    {
     "name": "stdout",
     "output_type": "stream",
     "text": [
      "optimal\n",
      "Optimal y: [[1.34914766 0.89486649]]\n",
      "Desired y: [[1.5 0.8]]\n",
      "Optimal u: [[0.5        0.28603593]]\n"
     ]
    },
    {
     "name": "stderr",
     "output_type": "stream",
     "text": [
      "/Users/patrik/miniconda3/envs/kmpc/lib/python3.11/site-packages/cvxpy/reductions/solvers/solving_chain.py:245: UserWarning: You are solving a parameterized problem that is not DPP. Because the problem is not DPP, subsequent solves will not be faster than the first one. For more information, see the documentation on Disciplined Parametrized Programming, at https://www.cvxpy.org/tutorial/dpp/index.html\n",
      "  warnings.warn(DPP_ERROR_MSG)\n"
     ]
    }
   ],
   "source": [
    "\n",
    "# Constraints and cost\n",
    "constraints_s = [z_s == A @ z_s + B @ u_s]\n",
    "constraints_s += [y_s == C_k @ z_s + y_k - C_k @ z_k + F @ d0]\n",
    "constraints_s += [u_min <= u_s, u_s <= u_max]\n",
    "constraints_s += [y_min <= y_s, y_s <= y_max]\n",
    "\n",
    "cost_s = 0\n",
    "cost_s += cp.quad_form(y_s - y_sp, np.eye(ny))\n",
    "\n",
    "target_estimation = cp.Problem(cp.Minimize(cost_s), constraints_s)\n",
    "target_estimation.solve(solver=cp.GUROBI)\n",
    "print(target_estimation.status)\n",
    "print(\"Optimal y:\", scaler.inverse_transform(y_s.value.reshape(1,-1)))\n",
    "print(\"Desired y:\", scaler.inverse_transform(y_sp.value.reshape(1,-1)))\n",
    "print(\"Optimal u:\", scalerU.inverse_transform(u_s.value.reshape(1,-1)))\n",
    "\n",
    "z_ref.value = z_s.value"
   ]
  },
  {
   "cell_type": "code",
   "execution_count": 134,
   "metadata": {},
   "outputs": [
    {
     "name": "stdout",
     "output_type": "stream",
     "text": [
      "optimal\n",
      "Optimal y: [[1.5 0.8]]\n",
      "Desired y: [[1.5 0.8]]\n",
      "Optimal u: [[0.35005654 0.35573765]]\n"
     ]
    },
    {
     "name": "stderr",
     "output_type": "stream",
     "text": [
      "/Users/patrik/miniconda3/envs/kmpc/lib/python3.11/site-packages/cvxpy/reductions/solvers/solving_chain.py:245: UserWarning: You are solving a parameterized problem that is not DPP. Because the problem is not DPP, subsequent solves will not be faster than the first one. For more information, see the documentation on Disciplined Parametrized Programming, at https://www.cvxpy.org/tutorial/dpp/index.html\n",
      "  warnings.warn(DPP_ERROR_MSG)\n"
     ]
    }
   ],
   "source": [
    "\n",
    "C_k.value = J = helper.evaluate_jacobian(\n",
    "    problem.nodes[4],\n",
    "    torch.from_numpy(z_s.value).float(),\n",
    ")\n",
    "# Constraints and cost\n",
    "constraints_s = [z_s == A @ z_s + B @ u_s]\n",
    "constraints_s += [y_s == C_k @ z_s + y_k - C_k @ z_k + F @ d0]\n",
    "constraints_s += [u_min <= u_s, u_s <= u_max]\n",
    "constraints_s += [y_min <= y_s, y_s <= y_max]\n",
    "\n",
    "cost_s = 0\n",
    "cost_s += cp.quad_form(y_s - y_sp, np.eye(ny))\n",
    "\n",
    "target_estimation = cp.Problem(cp.Minimize(cost_s), constraints_s)\n",
    "target_estimation.solve(solver=cp.GUROBI)\n",
    "print(target_estimation.status)\n",
    "print(\"Optimal y:\", scaler.inverse_transform(y_s.value.reshape(1,-1)))\n",
    "print(\"Desired y:\", scaler.inverse_transform(y_sp.value.reshape(1,-1)))\n",
    "print(\"Optimal u:\", scalerU.inverse_transform(u_s.value.reshape(1,-1)))\n",
    "\n",
    "z_ref.value = z_s.value"
   ]
  },
  {
   "cell_type": "code",
   "execution_count": 135,
   "metadata": {},
   "outputs": [
    {
     "data": {
      "text/plain": [
       "array([-1.44719592e-09,  1.66940506e-09])"
      ]
     },
     "execution_count": 135,
     "metadata": {},
     "output_type": "execute_result"
    }
   ],
   "source": [
    "y_s.value - y_sp.value"
   ]
  },
  {
   "cell_type": "markdown",
   "metadata": {},
   "source": [
    "MPC problem formulation\n"
   ]
  },
  {
   "cell_type": "code",
   "execution_count": 136,
   "metadata": {},
   "outputs": [],
   "source": [
    "z0.value = z_est_[0,0:nz]\n",
    "u_prev.value = u_previous"
   ]
  },
  {
   "cell_type": "code",
   "execution_count": 137,
   "metadata": {},
   "outputs": [],
   "source": [
    "C_k.value = helper.evaluate_jacobian(\n",
    "    problem.nodes[4],\n",
    "    torch.from_numpy(z_s.value).float(),\n",
    ")\n",
    "J = C_k.value\n",
    "#!!!!\n",
    "Qz = J.T@Qy@J\n",
    "Qz_psd = Qz + 1e-8 * np.eye(Qz.shape[0])\n",
    "\n",
    "constraints = [z[:, 0] == z0]\n",
    "constraints += [u[:, 0] == u_prev + delta_u[:, 0]]\n",
    "cost = 0\n",
    "for k in range(N):\n",
    "    constraints += [u[:, k] == u[:, k-1] + delta_u[:, k]]\n",
    "    \n",
    "    constraints += [\n",
    "        z[:, k+1] == A @ z[:, k] + B @ u[:,k],\n",
    "        #y[:, k] == C @ z[:, k] + F @ d0,\n",
    "        y[:, k] == C_k @ z[:, k] + y_k - C_k @ z_k + F @ d0,\n",
    "        u_min <= u[:, k], u[:, k] <= u_max,\n",
    "        y_min <= y[:, k], y[:, k] <= y_max\n",
    "    ]\n",
    "    cost += cp.quad_form(z[:, k] - z_ref, Qz_psd) + cp.quad_form(delta_u[:, k], Qu)"
   ]
  },
  {
   "cell_type": "code",
   "execution_count": 138,
   "metadata": {},
   "outputs": [],
   "source": [
    "def construct_MPC(J_k):\n",
    "    J = J_k\n",
    "    Qz = J.T@Qy@J\n",
    "    Qz_psd = Qz + 1e-8 * np.eye(Qz.shape[0])\n",
    "    # Constraints and cost\n",
    "    cost = 0\n",
    "    for k in range(N):    \n",
    "        cost += cp.quad_form(z[:, k] - z_ref, Qz_psd) + cp.quad_form(delta_u[:, k], Qu)\n",
    "    mpc = cp.Problem(cp.Minimize(cost), constraints)\n",
    "    return mpc\n",
    "    # Terminal cost - not yet\n",
    "    # cost += cp.quad_form(x[:, N] - x_ref[:, N], Q)\n"
   ]
  },
  {
   "cell_type": "code",
   "execution_count": 139,
   "metadata": {},
   "outputs": [
    {
     "name": "stdout",
     "output_type": "stream",
     "text": [
      "[1.24082354 0.11768606]\n",
      "optimal\n"
     ]
    },
    {
     "name": "stderr",
     "output_type": "stream",
     "text": [
      "/Users/patrik/miniconda3/envs/kmpc/lib/python3.11/site-packages/cvxpy/reductions/solvers/solving_chain.py:245: UserWarning: You are solving a parameterized problem that is not DPP. Because the problem is not DPP, subsequent solves will not be faster than the first one. For more information, see the documentation on Disciplined Parametrized Programming, at https://www.cvxpy.org/tutorial/dpp/index.html\n",
      "  warnings.warn(DPP_ERROR_MSG)\n"
     ]
    }
   ],
   "source": [
    "# sanity check and problem formulation\n",
    "mpc = cp.Problem(cp.Minimize(cost), constraints)\n",
    "mpc.solve(solver=cp.GUROBI)\n",
    "u_opt = u[:,0].value\n",
    "print(u[:,0].value)\n",
    "print(mpc.status)"
   ]
  },
  {
   "cell_type": "code",
   "execution_count": 140,
   "metadata": {},
   "outputs": [
    {
     "name": "stdout",
     "output_type": "stream",
     "text": [
      "optimal\n",
      "user_limit\n"
     ]
    },
    {
     "name": "stderr",
     "output_type": "stream",
     "text": [
      "/Users/patrik/miniconda3/envs/kmpc/lib/python3.11/site-packages/cvxpy/problems/problem.py:1504: UserWarning: Solution may be inaccurate. Try another solver, adjusting the solver settings, or solve with verbose=True for more information.\n",
      "  warnings.warn(\n",
      "/Users/patrik/miniconda3/envs/kmpc/lib/python3.11/site-packages/cvxpy/problems/problem.py:1504: UserWarning: Solution may be inaccurate. Try another solver, adjusting the solver settings, or solve with verbose=True for more information.\n",
      "  warnings.warn(\n"
     ]
    },
    {
     "name": "stdout",
     "output_type": "stream",
     "text": [
      "user_limit\n",
      "user_limit\n"
     ]
    },
    {
     "name": "stderr",
     "output_type": "stream",
     "text": [
      "/Users/patrik/miniconda3/envs/kmpc/lib/python3.11/site-packages/cvxpy/problems/problem.py:1504: UserWarning: Solution may be inaccurate. Try another solver, adjusting the solver settings, or solve with verbose=True for more information.\n",
      "  warnings.warn(\n",
      "/Users/patrik/miniconda3/envs/kmpc/lib/python3.11/site-packages/cvxpy/problems/problem.py:1504: UserWarning: Solution may be inaccurate. Try another solver, adjusting the solver settings, or solve with verbose=True for more information.\n",
      "  warnings.warn(\n"
     ]
    },
    {
     "name": "stdout",
     "output_type": "stream",
     "text": [
      "user_limit\n",
      "optimal\n",
      "user_limit\n"
     ]
    },
    {
     "name": "stderr",
     "output_type": "stream",
     "text": [
      "/Users/patrik/miniconda3/envs/kmpc/lib/python3.11/site-packages/cvxpy/problems/problem.py:1504: UserWarning: Solution may be inaccurate. Try another solver, adjusting the solver settings, or solve with verbose=True for more information.\n",
      "  warnings.warn(\n",
      "/Users/patrik/miniconda3/envs/kmpc/lib/python3.11/site-packages/cvxpy/problems/problem.py:1504: UserWarning: Solution may be inaccurate. Try another solver, adjusting the solver settings, or solve with verbose=True for more information.\n",
      "  warnings.warn(\n",
      "/Users/patrik/miniconda3/envs/kmpc/lib/python3.11/site-packages/cvxpy/problems/problem.py:1504: UserWarning: Solution may be inaccurate. Try another solver, adjusting the solver settings, or solve with verbose=True for more information.\n",
      "  warnings.warn(\n",
      "/Users/patrik/miniconda3/envs/kmpc/lib/python3.11/site-packages/cvxpy/problems/problem.py:1504: UserWarning: Solution may be inaccurate. Try another solver, adjusting the solver settings, or solve with verbose=True for more information.\n",
      "  warnings.warn(\n",
      "/Users/patrik/miniconda3/envs/kmpc/lib/python3.11/site-packages/cvxpy/problems/problem.py:1504: UserWarning: Solution may be inaccurate. Try another solver, adjusting the solver settings, or solve with verbose=True for more information.\n",
      "  warnings.warn(\n"
     ]
    },
    {
     "name": "stdout",
     "output_type": "stream",
     "text": [
      "user_limit\n",
      "user_limit\n",
      "user_limit\n",
      "user_limit\n"
     ]
    },
    {
     "name": "stderr",
     "output_type": "stream",
     "text": [
      "/Users/patrik/miniconda3/envs/kmpc/lib/python3.11/site-packages/cvxpy/problems/problem.py:1504: UserWarning: Solution may be inaccurate. Try another solver, adjusting the solver settings, or solve with verbose=True for more information.\n",
      "  warnings.warn(\n",
      "/Users/patrik/miniconda3/envs/kmpc/lib/python3.11/site-packages/cvxpy/problems/problem.py:1504: UserWarning: Solution may be inaccurate. Try another solver, adjusting the solver settings, or solve with verbose=True for more information.\n",
      "  warnings.warn(\n",
      "/Users/patrik/miniconda3/envs/kmpc/lib/python3.11/site-packages/cvxpy/problems/problem.py:1504: UserWarning: Solution may be inaccurate. Try another solver, adjusting the solver settings, or solve with verbose=True for more information.\n",
      "  warnings.warn(\n",
      "/Users/patrik/miniconda3/envs/kmpc/lib/python3.11/site-packages/cvxpy/problems/problem.py:1504: UserWarning: Solution may be inaccurate. Try another solver, adjusting the solver settings, or solve with verbose=True for more information.\n",
      "  warnings.warn(\n"
     ]
    },
    {
     "name": "stdout",
     "output_type": "stream",
     "text": [
      "user_limit\n",
      "user_limit\n",
      "user_limit\n",
      "user_limit\n"
     ]
    },
    {
     "name": "stderr",
     "output_type": "stream",
     "text": [
      "/Users/patrik/miniconda3/envs/kmpc/lib/python3.11/site-packages/cvxpy/problems/problem.py:1504: UserWarning: Solution may be inaccurate. Try another solver, adjusting the solver settings, or solve with verbose=True for more information.\n",
      "  warnings.warn(\n",
      "/Users/patrik/miniconda3/envs/kmpc/lib/python3.11/site-packages/cvxpy/problems/problem.py:1504: UserWarning: Solution may be inaccurate. Try another solver, adjusting the solver settings, or solve with verbose=True for more information.\n",
      "  warnings.warn(\n",
      "/Users/patrik/miniconda3/envs/kmpc/lib/python3.11/site-packages/cvxpy/problems/problem.py:1504: UserWarning: Solution may be inaccurate. Try another solver, adjusting the solver settings, or solve with verbose=True for more information.\n",
      "  warnings.warn(\n",
      "/Users/patrik/miniconda3/envs/kmpc/lib/python3.11/site-packages/cvxpy/problems/problem.py:1504: UserWarning: Solution may be inaccurate. Try another solver, adjusting the solver settings, or solve with verbose=True for more information.\n",
      "  warnings.warn(\n"
     ]
    },
    {
     "name": "stdout",
     "output_type": "stream",
     "text": [
      "user_limit\n",
      "user_limit\n",
      "user_limit\n",
      "user_limit\n"
     ]
    },
    {
     "name": "stderr",
     "output_type": "stream",
     "text": [
      "/Users/patrik/miniconda3/envs/kmpc/lib/python3.11/site-packages/cvxpy/problems/problem.py:1504: UserWarning: Solution may be inaccurate. Try another solver, adjusting the solver settings, or solve with verbose=True for more information.\n",
      "  warnings.warn(\n",
      "/Users/patrik/miniconda3/envs/kmpc/lib/python3.11/site-packages/cvxpy/problems/problem.py:1504: UserWarning: Solution may be inaccurate. Try another solver, adjusting the solver settings, or solve with verbose=True for more information.\n",
      "  warnings.warn(\n"
     ]
    },
    {
     "name": "stdout",
     "output_type": "stream",
     "text": [
      "user_limit\n",
      "user_limit\n"
     ]
    },
    {
     "name": "stderr",
     "output_type": "stream",
     "text": [
      "/Users/patrik/miniconda3/envs/kmpc/lib/python3.11/site-packages/cvxpy/problems/problem.py:1504: UserWarning: Solution may be inaccurate. Try another solver, adjusting the solver settings, or solve with verbose=True for more information.\n",
      "  warnings.warn(\n",
      "/Users/patrik/miniconda3/envs/kmpc/lib/python3.11/site-packages/cvxpy/problems/problem.py:1504: UserWarning: Solution may be inaccurate. Try another solver, adjusting the solver settings, or solve with verbose=True for more information.\n",
      "  warnings.warn(\n",
      "/Users/patrik/miniconda3/envs/kmpc/lib/python3.11/site-packages/cvxpy/problems/problem.py:1504: UserWarning: Solution may be inaccurate. Try another solver, adjusting the solver settings, or solve with verbose=True for more information.\n",
      "  warnings.warn(\n",
      "/Users/patrik/miniconda3/envs/kmpc/lib/python3.11/site-packages/cvxpy/problems/problem.py:1504: UserWarning: Solution may be inaccurate. Try another solver, adjusting the solver settings, or solve with verbose=True for more information.\n",
      "  warnings.warn(\n"
     ]
    },
    {
     "name": "stdout",
     "output_type": "stream",
     "text": [
      "user_limit\n",
      "user_limit\n",
      "user_limit\n",
      "user_limit\n"
     ]
    },
    {
     "name": "stderr",
     "output_type": "stream",
     "text": [
      "/Users/patrik/miniconda3/envs/kmpc/lib/python3.11/site-packages/cvxpy/problems/problem.py:1504: UserWarning: Solution may be inaccurate. Try another solver, adjusting the solver settings, or solve with verbose=True for more information.\n",
      "  warnings.warn(\n",
      "/Users/patrik/miniconda3/envs/kmpc/lib/python3.11/site-packages/cvxpy/problems/problem.py:1504: UserWarning: Solution may be inaccurate. Try another solver, adjusting the solver settings, or solve with verbose=True for more information.\n",
      "  warnings.warn(\n",
      "/Users/patrik/miniconda3/envs/kmpc/lib/python3.11/site-packages/cvxpy/problems/problem.py:1504: UserWarning: Solution may be inaccurate. Try another solver, adjusting the solver settings, or solve with verbose=True for more information.\n",
      "  warnings.warn(\n",
      "/Users/patrik/miniconda3/envs/kmpc/lib/python3.11/site-packages/cvxpy/problems/problem.py:1504: UserWarning: Solution may be inaccurate. Try another solver, adjusting the solver settings, or solve with verbose=True for more information.\n",
      "  warnings.warn(\n"
     ]
    },
    {
     "name": "stdout",
     "output_type": "stream",
     "text": [
      "user_limit\n",
      "user_limit\n",
      "user_limit\n",
      "user_limit\n"
     ]
    },
    {
     "name": "stderr",
     "output_type": "stream",
     "text": [
      "/Users/patrik/miniconda3/envs/kmpc/lib/python3.11/site-packages/cvxpy/problems/problem.py:1504: UserWarning: Solution may be inaccurate. Try another solver, adjusting the solver settings, or solve with verbose=True for more information.\n",
      "  warnings.warn(\n",
      "/Users/patrik/miniconda3/envs/kmpc/lib/python3.11/site-packages/cvxpy/problems/problem.py:1504: UserWarning: Solution may be inaccurate. Try another solver, adjusting the solver settings, or solve with verbose=True for more information.\n",
      "  warnings.warn(\n",
      "/Users/patrik/miniconda3/envs/kmpc/lib/python3.11/site-packages/cvxpy/problems/problem.py:1504: UserWarning: Solution may be inaccurate. Try another solver, adjusting the solver settings, or solve with verbose=True for more information.\n",
      "  warnings.warn(\n",
      "/Users/patrik/miniconda3/envs/kmpc/lib/python3.11/site-packages/cvxpy/problems/problem.py:1504: UserWarning: Solution may be inaccurate. Try another solver, adjusting the solver settings, or solve with verbose=True for more information.\n",
      "  warnings.warn(\n"
     ]
    },
    {
     "name": "stdout",
     "output_type": "stream",
     "text": [
      "user_limit\n",
      "user_limit\n",
      "user_limit\n",
      "user_limit\n"
     ]
    },
    {
     "name": "stderr",
     "output_type": "stream",
     "text": [
      "/Users/patrik/miniconda3/envs/kmpc/lib/python3.11/site-packages/cvxpy/problems/problem.py:1504: UserWarning: Solution may be inaccurate. Try another solver, adjusting the solver settings, or solve with verbose=True for more information.\n",
      "  warnings.warn(\n",
      "/Users/patrik/miniconda3/envs/kmpc/lib/python3.11/site-packages/cvxpy/problems/problem.py:1504: UserWarning: Solution may be inaccurate. Try another solver, adjusting the solver settings, or solve with verbose=True for more information.\n",
      "  warnings.warn(\n",
      "/Users/patrik/miniconda3/envs/kmpc/lib/python3.11/site-packages/cvxpy/problems/problem.py:1504: UserWarning: Solution may be inaccurate. Try another solver, adjusting the solver settings, or solve with verbose=True for more information.\n",
      "  warnings.warn(\n"
     ]
    },
    {
     "name": "stdout",
     "output_type": "stream",
     "text": [
      "user_limit\n",
      "user_limit\n",
      "user_limit\n"
     ]
    },
    {
     "name": "stderr",
     "output_type": "stream",
     "text": [
      "/Users/patrik/miniconda3/envs/kmpc/lib/python3.11/site-packages/cvxpy/problems/problem.py:1504: UserWarning: Solution may be inaccurate. Try another solver, adjusting the solver settings, or solve with verbose=True for more information.\n",
      "  warnings.warn(\n",
      "/Users/patrik/miniconda3/envs/kmpc/lib/python3.11/site-packages/cvxpy/problems/problem.py:1504: UserWarning: Solution may be inaccurate. Try another solver, adjusting the solver settings, or solve with verbose=True for more information.\n",
      "  warnings.warn(\n",
      "/Users/patrik/miniconda3/envs/kmpc/lib/python3.11/site-packages/cvxpy/problems/problem.py:1504: UserWarning: Solution may be inaccurate. Try another solver, adjusting the solver settings, or solve with verbose=True for more information.\n",
      "  warnings.warn(\n",
      "/Users/patrik/miniconda3/envs/kmpc/lib/python3.11/site-packages/cvxpy/problems/problem.py:1504: UserWarning: Solution may be inaccurate. Try another solver, adjusting the solver settings, or solve with verbose=True for more information.\n",
      "  warnings.warn(\n"
     ]
    },
    {
     "name": "stdout",
     "output_type": "stream",
     "text": [
      "user_limit\n",
      "user_limit\n",
      "user_limit\n",
      "user_limit\n"
     ]
    },
    {
     "name": "stderr",
     "output_type": "stream",
     "text": [
      "/Users/patrik/miniconda3/envs/kmpc/lib/python3.11/site-packages/cvxpy/problems/problem.py:1504: UserWarning: Solution may be inaccurate. Try another solver, adjusting the solver settings, or solve with verbose=True for more information.\n",
      "  warnings.warn(\n",
      "/Users/patrik/miniconda3/envs/kmpc/lib/python3.11/site-packages/cvxpy/problems/problem.py:1504: UserWarning: Solution may be inaccurate. Try another solver, adjusting the solver settings, or solve with verbose=True for more information.\n",
      "  warnings.warn(\n",
      "/Users/patrik/miniconda3/envs/kmpc/lib/python3.11/site-packages/cvxpy/problems/problem.py:1504: UserWarning: Solution may be inaccurate. Try another solver, adjusting the solver settings, or solve with verbose=True for more information.\n",
      "  warnings.warn(\n",
      "/Users/patrik/miniconda3/envs/kmpc/lib/python3.11/site-packages/cvxpy/problems/problem.py:1504: UserWarning: Solution may be inaccurate. Try another solver, adjusting the solver settings, or solve with verbose=True for more information.\n",
      "  warnings.warn(\n"
     ]
    },
    {
     "name": "stdout",
     "output_type": "stream",
     "text": [
      "user_limit\n",
      "user_limit\n",
      "user_limit\n",
      "user_limit\n"
     ]
    },
    {
     "name": "stderr",
     "output_type": "stream",
     "text": [
      "/Users/patrik/miniconda3/envs/kmpc/lib/python3.11/site-packages/cvxpy/problems/problem.py:1504: UserWarning: Solution may be inaccurate. Try another solver, adjusting the solver settings, or solve with verbose=True for more information.\n",
      "  warnings.warn(\n",
      "/Users/patrik/miniconda3/envs/kmpc/lib/python3.11/site-packages/cvxpy/problems/problem.py:1504: UserWarning: Solution may be inaccurate. Try another solver, adjusting the solver settings, or solve with verbose=True for more information.\n",
      "  warnings.warn(\n",
      "/Users/patrik/miniconda3/envs/kmpc/lib/python3.11/site-packages/cvxpy/problems/problem.py:1504: UserWarning: Solution may be inaccurate. Try another solver, adjusting the solver settings, or solve with verbose=True for more information.\n",
      "  warnings.warn(\n",
      "/Users/patrik/miniconda3/envs/kmpc/lib/python3.11/site-packages/cvxpy/problems/problem.py:1504: UserWarning: Solution may be inaccurate. Try another solver, adjusting the solver settings, or solve with verbose=True for more information.\n",
      "  warnings.warn(\n"
     ]
    },
    {
     "name": "stdout",
     "output_type": "stream",
     "text": [
      "user_limit\n",
      "user_limit\n",
      "user_limit\n",
      "user_limit\n"
     ]
    },
    {
     "name": "stderr",
     "output_type": "stream",
     "text": [
      "/Users/patrik/miniconda3/envs/kmpc/lib/python3.11/site-packages/cvxpy/problems/problem.py:1504: UserWarning: Solution may be inaccurate. Try another solver, adjusting the solver settings, or solve with verbose=True for more information.\n",
      "  warnings.warn(\n",
      "/Users/patrik/miniconda3/envs/kmpc/lib/python3.11/site-packages/cvxpy/problems/problem.py:1504: UserWarning: Solution may be inaccurate. Try another solver, adjusting the solver settings, or solve with verbose=True for more information.\n",
      "  warnings.warn(\n",
      "/Users/patrik/miniconda3/envs/kmpc/lib/python3.11/site-packages/cvxpy/problems/problem.py:1504: UserWarning: Solution may be inaccurate. Try another solver, adjusting the solver settings, or solve with verbose=True for more information.\n",
      "  warnings.warn(\n",
      "/Users/patrik/miniconda3/envs/kmpc/lib/python3.11/site-packages/cvxpy/reductions/solvers/solving_chain.py:245: UserWarning: You are solving a parameterized problem that is not DPP. Because the problem is not DPP, subsequent solves will not be faster than the first one. For more information, see the documentation on Disciplined Parametrized Programming, at https://www.cvxpy.org/tutorial/dpp/index.html\n",
      "  warnings.warn(DPP_ERROR_MSG)\n"
     ]
    },
    {
     "name": "stdout",
     "output_type": "stream",
     "text": [
      "user_limit\n",
      "user_limit\n",
      "user_limit\n"
     ]
    },
    {
     "name": "stderr",
     "output_type": "stream",
     "text": [
      "/Users/patrik/miniconda3/envs/kmpc/lib/python3.11/site-packages/cvxpy/problems/problem.py:1504: UserWarning: Solution may be inaccurate. Try another solver, adjusting the solver settings, or solve with verbose=True for more information.\n",
      "  warnings.warn(\n",
      "/Users/patrik/miniconda3/envs/kmpc/lib/python3.11/site-packages/cvxpy/reductions/solvers/solving_chain.py:245: UserWarning: You are solving a parameterized problem that is not DPP. Because the problem is not DPP, subsequent solves will not be faster than the first one. For more information, see the documentation on Disciplined Parametrized Programming, at https://www.cvxpy.org/tutorial/dpp/index.html\n",
      "  warnings.warn(DPP_ERROR_MSG)\n",
      "/Users/patrik/miniconda3/envs/kmpc/lib/python3.11/site-packages/cvxpy/problems/problem.py:1504: UserWarning: Solution may be inaccurate. Try another solver, adjusting the solver settings, or solve with verbose=True for more information.\n",
      "  warnings.warn(\n",
      "/Users/patrik/miniconda3/envs/kmpc/lib/python3.11/site-packages/cvxpy/problems/problem.py:1504: UserWarning: Solution may be inaccurate. Try another solver, adjusting the solver settings, or solve with verbose=True for more information.\n",
      "  warnings.warn(\n"
     ]
    },
    {
     "name": "stdout",
     "output_type": "stream",
     "text": [
      "user_limit\n",
      "optimal\n",
      "user_limit\n",
      "user_limit\n"
     ]
    },
    {
     "name": "stderr",
     "output_type": "stream",
     "text": [
      "/Users/patrik/miniconda3/envs/kmpc/lib/python3.11/site-packages/cvxpy/problems/problem.py:1504: UserWarning: Solution may be inaccurate. Try another solver, adjusting the solver settings, or solve with verbose=True for more information.\n",
      "  warnings.warn(\n",
      "/Users/patrik/miniconda3/envs/kmpc/lib/python3.11/site-packages/cvxpy/problems/problem.py:1504: UserWarning: Solution may be inaccurate. Try another solver, adjusting the solver settings, or solve with verbose=True for more information.\n",
      "  warnings.warn(\n",
      "/Users/patrik/miniconda3/envs/kmpc/lib/python3.11/site-packages/cvxpy/problems/problem.py:1504: UserWarning: Solution may be inaccurate. Try another solver, adjusting the solver settings, or solve with verbose=True for more information.\n",
      "  warnings.warn(\n",
      "/Users/patrik/miniconda3/envs/kmpc/lib/python3.11/site-packages/cvxpy/problems/problem.py:1504: UserWarning: Solution may be inaccurate. Try another solver, adjusting the solver settings, or solve with verbose=True for more information.\n",
      "  warnings.warn(\n"
     ]
    },
    {
     "name": "stdout",
     "output_type": "stream",
     "text": [
      "user_limit\n",
      "user_limit\n",
      "user_limit\n",
      "user_limit\n"
     ]
    },
    {
     "name": "stderr",
     "output_type": "stream",
     "text": [
      "/Users/patrik/miniconda3/envs/kmpc/lib/python3.11/site-packages/cvxpy/problems/problem.py:1504: UserWarning: Solution may be inaccurate. Try another solver, adjusting the solver settings, or solve with verbose=True for more information.\n",
      "  warnings.warn(\n",
      "/Users/patrik/miniconda3/envs/kmpc/lib/python3.11/site-packages/cvxpy/problems/problem.py:1504: UserWarning: Solution may be inaccurate. Try another solver, adjusting the solver settings, or solve with verbose=True for more information.\n",
      "  warnings.warn(\n",
      "/Users/patrik/miniconda3/envs/kmpc/lib/python3.11/site-packages/cvxpy/problems/problem.py:1504: UserWarning: Solution may be inaccurate. Try another solver, adjusting the solver settings, or solve with verbose=True for more information.\n",
      "  warnings.warn(\n",
      "/Users/patrik/miniconda3/envs/kmpc/lib/python3.11/site-packages/cvxpy/problems/problem.py:1504: UserWarning: Solution may be inaccurate. Try another solver, adjusting the solver settings, or solve with verbose=True for more information.\n",
      "  warnings.warn(\n"
     ]
    },
    {
     "name": "stdout",
     "output_type": "stream",
     "text": [
      "user_limit\n",
      "user_limit\n",
      "user_limit\n",
      "user_limit\n"
     ]
    },
    {
     "name": "stderr",
     "output_type": "stream",
     "text": [
      "/Users/patrik/miniconda3/envs/kmpc/lib/python3.11/site-packages/cvxpy/problems/problem.py:1504: UserWarning: Solution may be inaccurate. Try another solver, adjusting the solver settings, or solve with verbose=True for more information.\n",
      "  warnings.warn(\n",
      "/Users/patrik/miniconda3/envs/kmpc/lib/python3.11/site-packages/cvxpy/problems/problem.py:1504: UserWarning: Solution may be inaccurate. Try another solver, adjusting the solver settings, or solve with verbose=True for more information.\n",
      "  warnings.warn(\n",
      "/Users/patrik/miniconda3/envs/kmpc/lib/python3.11/site-packages/cvxpy/problems/problem.py:1504: UserWarning: Solution may be inaccurate. Try another solver, adjusting the solver settings, or solve with verbose=True for more information.\n",
      "  warnings.warn(\n"
     ]
    },
    {
     "name": "stdout",
     "output_type": "stream",
     "text": [
      "user_limit\n",
      "user_limit\n",
      "user_limit\n"
     ]
    },
    {
     "name": "stderr",
     "output_type": "stream",
     "text": [
      "/Users/patrik/miniconda3/envs/kmpc/lib/python3.11/site-packages/cvxpy/problems/problem.py:1504: UserWarning: Solution may be inaccurate. Try another solver, adjusting the solver settings, or solve with verbose=True for more information.\n",
      "  warnings.warn(\n",
      "/Users/patrik/miniconda3/envs/kmpc/lib/python3.11/site-packages/cvxpy/problems/problem.py:1504: UserWarning: Solution may be inaccurate. Try another solver, adjusting the solver settings, or solve with verbose=True for more information.\n",
      "  warnings.warn(\n",
      "/Users/patrik/miniconda3/envs/kmpc/lib/python3.11/site-packages/cvxpy/problems/problem.py:1504: UserWarning: Solution may be inaccurate. Try another solver, adjusting the solver settings, or solve with verbose=True for more information.\n",
      "  warnings.warn(\n",
      "/Users/patrik/miniconda3/envs/kmpc/lib/python3.11/site-packages/cvxpy/problems/problem.py:1504: UserWarning: Solution may be inaccurate. Try another solver, adjusting the solver settings, or solve with verbose=True for more information.\n",
      "  warnings.warn(\n"
     ]
    },
    {
     "name": "stdout",
     "output_type": "stream",
     "text": [
      "user_limit\n",
      "user_limit\n",
      "user_limit\n",
      "user_limit\n"
     ]
    },
    {
     "name": "stderr",
     "output_type": "stream",
     "text": [
      "/Users/patrik/miniconda3/envs/kmpc/lib/python3.11/site-packages/cvxpy/problems/problem.py:1504: UserWarning: Solution may be inaccurate. Try another solver, adjusting the solver settings, or solve with verbose=True for more information.\n",
      "  warnings.warn(\n",
      "/Users/patrik/miniconda3/envs/kmpc/lib/python3.11/site-packages/cvxpy/problems/problem.py:1504: UserWarning: Solution may be inaccurate. Try another solver, adjusting the solver settings, or solve with verbose=True for more information.\n",
      "  warnings.warn(\n",
      "/Users/patrik/miniconda3/envs/kmpc/lib/python3.11/site-packages/cvxpy/problems/problem.py:1504: UserWarning: Solution may be inaccurate. Try another solver, adjusting the solver settings, or solve with verbose=True for more information.\n",
      "  warnings.warn(\n",
      "/Users/patrik/miniconda3/envs/kmpc/lib/python3.11/site-packages/cvxpy/problems/problem.py:1504: UserWarning: Solution may be inaccurate. Try another solver, adjusting the solver settings, or solve with verbose=True for more information.\n",
      "  warnings.warn(\n"
     ]
    },
    {
     "name": "stdout",
     "output_type": "stream",
     "text": [
      "user_limit\n",
      "user_limit\n",
      "user_limit\n",
      "user_limit\n"
     ]
    },
    {
     "name": "stderr",
     "output_type": "stream",
     "text": [
      "/Users/patrik/miniconda3/envs/kmpc/lib/python3.11/site-packages/cvxpy/problems/problem.py:1504: UserWarning: Solution may be inaccurate. Try another solver, adjusting the solver settings, or solve with verbose=True for more information.\n",
      "  warnings.warn(\n",
      "/Users/patrik/miniconda3/envs/kmpc/lib/python3.11/site-packages/cvxpy/problems/problem.py:1504: UserWarning: Solution may be inaccurate. Try another solver, adjusting the solver settings, or solve with verbose=True for more information.\n",
      "  warnings.warn(\n",
      "/Users/patrik/miniconda3/envs/kmpc/lib/python3.11/site-packages/cvxpy/problems/problem.py:1504: UserWarning: Solution may be inaccurate. Try another solver, adjusting the solver settings, or solve with verbose=True for more information.\n",
      "  warnings.warn(\n",
      "/Users/patrik/miniconda3/envs/kmpc/lib/python3.11/site-packages/cvxpy/problems/problem.py:1504: UserWarning: Solution may be inaccurate. Try another solver, adjusting the solver settings, or solve with verbose=True for more information.\n",
      "  warnings.warn(\n"
     ]
    },
    {
     "name": "stdout",
     "output_type": "stream",
     "text": [
      "user_limit\n",
      "user_limit\n",
      "user_limit\n",
      "user_limit\n"
     ]
    },
    {
     "name": "stderr",
     "output_type": "stream",
     "text": [
      "/Users/patrik/miniconda3/envs/kmpc/lib/python3.11/site-packages/cvxpy/problems/problem.py:1504: UserWarning: Solution may be inaccurate. Try another solver, adjusting the solver settings, or solve with verbose=True for more information.\n",
      "  warnings.warn(\n",
      "/Users/patrik/miniconda3/envs/kmpc/lib/python3.11/site-packages/cvxpy/problems/problem.py:1504: UserWarning: Solution may be inaccurate. Try another solver, adjusting the solver settings, or solve with verbose=True for more information.\n",
      "  warnings.warn(\n",
      "/Users/patrik/miniconda3/envs/kmpc/lib/python3.11/site-packages/cvxpy/problems/problem.py:1504: UserWarning: Solution may be inaccurate. Try another solver, adjusting the solver settings, or solve with verbose=True for more information.\n",
      "  warnings.warn(\n"
     ]
    },
    {
     "name": "stdout",
     "output_type": "stream",
     "text": [
      "user_limit\n",
      "user_limit\n",
      "user_limit\n"
     ]
    },
    {
     "name": "stderr",
     "output_type": "stream",
     "text": [
      "/Users/patrik/miniconda3/envs/kmpc/lib/python3.11/site-packages/cvxpy/problems/problem.py:1504: UserWarning: Solution may be inaccurate. Try another solver, adjusting the solver settings, or solve with verbose=True for more information.\n",
      "  warnings.warn(\n",
      "/Users/patrik/miniconda3/envs/kmpc/lib/python3.11/site-packages/cvxpy/problems/problem.py:1504: UserWarning: Solution may be inaccurate. Try another solver, adjusting the solver settings, or solve with verbose=True for more information.\n",
      "  warnings.warn(\n",
      "/Users/patrik/miniconda3/envs/kmpc/lib/python3.11/site-packages/cvxpy/problems/problem.py:1504: UserWarning: Solution may be inaccurate. Try another solver, adjusting the solver settings, or solve with verbose=True for more information.\n",
      "  warnings.warn(\n",
      "/Users/patrik/miniconda3/envs/kmpc/lib/python3.11/site-packages/cvxpy/problems/problem.py:1504: UserWarning: Solution may be inaccurate. Try another solver, adjusting the solver settings, or solve with verbose=True for more information.\n",
      "  warnings.warn(\n"
     ]
    },
    {
     "name": "stdout",
     "output_type": "stream",
     "text": [
      "user_limit\n",
      "user_limit\n",
      "user_limit\n",
      "user_limit\n"
     ]
    },
    {
     "name": "stderr",
     "output_type": "stream",
     "text": [
      "/Users/patrik/miniconda3/envs/kmpc/lib/python3.11/site-packages/cvxpy/problems/problem.py:1504: UserWarning: Solution may be inaccurate. Try another solver, adjusting the solver settings, or solve with verbose=True for more information.\n",
      "  warnings.warn(\n",
      "/Users/patrik/miniconda3/envs/kmpc/lib/python3.11/site-packages/cvxpy/problems/problem.py:1504: UserWarning: Solution may be inaccurate. Try another solver, adjusting the solver settings, or solve with verbose=True for more information.\n",
      "  warnings.warn(\n",
      "/Users/patrik/miniconda3/envs/kmpc/lib/python3.11/site-packages/cvxpy/problems/problem.py:1504: UserWarning: Solution may be inaccurate. Try another solver, adjusting the solver settings, or solve with verbose=True for more information.\n",
      "  warnings.warn(\n",
      "/Users/patrik/miniconda3/envs/kmpc/lib/python3.11/site-packages/cvxpy/problems/problem.py:1504: UserWarning: Solution may be inaccurate. Try another solver, adjusting the solver settings, or solve with verbose=True for more information.\n",
      "  warnings.warn(\n"
     ]
    },
    {
     "name": "stdout",
     "output_type": "stream",
     "text": [
      "user_limit\n",
      "user_limit\n",
      "user_limit\n",
      "user_limit\n"
     ]
    },
    {
     "name": "stderr",
     "output_type": "stream",
     "text": [
      "/Users/patrik/miniconda3/envs/kmpc/lib/python3.11/site-packages/cvxpy/problems/problem.py:1504: UserWarning: Solution may be inaccurate. Try another solver, adjusting the solver settings, or solve with verbose=True for more information.\n",
      "  warnings.warn(\n",
      "/Users/patrik/miniconda3/envs/kmpc/lib/python3.11/site-packages/cvxpy/problems/problem.py:1504: UserWarning: Solution may be inaccurate. Try another solver, adjusting the solver settings, or solve with verbose=True for more information.\n",
      "  warnings.warn(\n",
      "/Users/patrik/miniconda3/envs/kmpc/lib/python3.11/site-packages/cvxpy/problems/problem.py:1504: UserWarning: Solution may be inaccurate. Try another solver, adjusting the solver settings, or solve with verbose=True for more information.\n",
      "  warnings.warn(\n",
      "/Users/patrik/miniconda3/envs/kmpc/lib/python3.11/site-packages/cvxpy/problems/problem.py:1504: UserWarning: Solution may be inaccurate. Try another solver, adjusting the solver settings, or solve with verbose=True for more information.\n",
      "  warnings.warn(\n"
     ]
    },
    {
     "name": "stdout",
     "output_type": "stream",
     "text": [
      "user_limit\n",
      "user_limit\n",
      "user_limit\n",
      "user_limit\n"
     ]
    },
    {
     "name": "stderr",
     "output_type": "stream",
     "text": [
      "/Users/patrik/miniconda3/envs/kmpc/lib/python3.11/site-packages/cvxpy/problems/problem.py:1504: UserWarning: Solution may be inaccurate. Try another solver, adjusting the solver settings, or solve with verbose=True for more information.\n",
      "  warnings.warn(\n",
      "/Users/patrik/miniconda3/envs/kmpc/lib/python3.11/site-packages/cvxpy/problems/problem.py:1504: UserWarning: Solution may be inaccurate. Try another solver, adjusting the solver settings, or solve with verbose=True for more information.\n",
      "  warnings.warn(\n"
     ]
    },
    {
     "name": "stdout",
     "output_type": "stream",
     "text": [
      "user_limit\n",
      "user_limit\n"
     ]
    },
    {
     "name": "stderr",
     "output_type": "stream",
     "text": [
      "/Users/patrik/miniconda3/envs/kmpc/lib/python3.11/site-packages/cvxpy/problems/problem.py:1504: UserWarning: Solution may be inaccurate. Try another solver, adjusting the solver settings, or solve with verbose=True for more information.\n",
      "  warnings.warn(\n",
      "/Users/patrik/miniconda3/envs/kmpc/lib/python3.11/site-packages/cvxpy/problems/problem.py:1504: UserWarning: Solution may be inaccurate. Try another solver, adjusting the solver settings, or solve with verbose=True for more information.\n",
      "  warnings.warn(\n",
      "/Users/patrik/miniconda3/envs/kmpc/lib/python3.11/site-packages/cvxpy/problems/problem.py:1504: UserWarning: Solution may be inaccurate. Try another solver, adjusting the solver settings, or solve with verbose=True for more information.\n",
      "  warnings.warn(\n",
      "/Users/patrik/miniconda3/envs/kmpc/lib/python3.11/site-packages/cvxpy/problems/problem.py:1504: UserWarning: Solution may be inaccurate. Try another solver, adjusting the solver settings, or solve with verbose=True for more information.\n",
      "  warnings.warn(\n"
     ]
    },
    {
     "name": "stdout",
     "output_type": "stream",
     "text": [
      "user_limit\n",
      "user_limit\n",
      "user_limit\n",
      "user_limit\n"
     ]
    },
    {
     "name": "stderr",
     "output_type": "stream",
     "text": [
      "/Users/patrik/miniconda3/envs/kmpc/lib/python3.11/site-packages/cvxpy/problems/problem.py:1504: UserWarning: Solution may be inaccurate. Try another solver, adjusting the solver settings, or solve with verbose=True for more information.\n",
      "  warnings.warn(\n",
      "/Users/patrik/miniconda3/envs/kmpc/lib/python3.11/site-packages/cvxpy/problems/problem.py:1504: UserWarning: Solution may be inaccurate. Try another solver, adjusting the solver settings, or solve with verbose=True for more information.\n",
      "  warnings.warn(\n",
      "/Users/patrik/miniconda3/envs/kmpc/lib/python3.11/site-packages/cvxpy/problems/problem.py:1504: UserWarning: Solution may be inaccurate. Try another solver, adjusting the solver settings, or solve with verbose=True for more information.\n",
      "  warnings.warn(\n",
      "/Users/patrik/miniconda3/envs/kmpc/lib/python3.11/site-packages/cvxpy/problems/problem.py:1504: UserWarning: Solution may be inaccurate. Try another solver, adjusting the solver settings, or solve with verbose=True for more information.\n",
      "  warnings.warn(\n"
     ]
    },
    {
     "name": "stdout",
     "output_type": "stream",
     "text": [
      "user_limit\n",
      "user_limit\n",
      "user_limit\n",
      "user_limit\n"
     ]
    },
    {
     "name": "stderr",
     "output_type": "stream",
     "text": [
      "/Users/patrik/miniconda3/envs/kmpc/lib/python3.11/site-packages/cvxpy/problems/problem.py:1504: UserWarning: Solution may be inaccurate. Try another solver, adjusting the solver settings, or solve with verbose=True for more information.\n",
      "  warnings.warn(\n",
      "/Users/patrik/miniconda3/envs/kmpc/lib/python3.11/site-packages/cvxpy/problems/problem.py:1504: UserWarning: Solution may be inaccurate. Try another solver, adjusting the solver settings, or solve with verbose=True for more information.\n",
      "  warnings.warn(\n",
      "/Users/patrik/miniconda3/envs/kmpc/lib/python3.11/site-packages/cvxpy/problems/problem.py:1504: UserWarning: Solution may be inaccurate. Try another solver, adjusting the solver settings, or solve with verbose=True for more information.\n",
      "  warnings.warn(\n",
      "/Users/patrik/miniconda3/envs/kmpc/lib/python3.11/site-packages/cvxpy/problems/problem.py:1504: UserWarning: Solution may be inaccurate. Try another solver, adjusting the solver settings, or solve with verbose=True for more information.\n",
      "  warnings.warn(\n"
     ]
    },
    {
     "name": "stdout",
     "output_type": "stream",
     "text": [
      "user_limit\n",
      "user_limit\n",
      "user_limit\n",
      "user_limit\n"
     ]
    },
    {
     "name": "stderr",
     "output_type": "stream",
     "text": [
      "/Users/patrik/miniconda3/envs/kmpc/lib/python3.11/site-packages/cvxpy/problems/problem.py:1504: UserWarning: Solution may be inaccurate. Try another solver, adjusting the solver settings, or solve with verbose=True for more information.\n",
      "  warnings.warn(\n",
      "/Users/patrik/miniconda3/envs/kmpc/lib/python3.11/site-packages/cvxpy/problems/problem.py:1504: UserWarning: Solution may be inaccurate. Try another solver, adjusting the solver settings, or solve with verbose=True for more information.\n",
      "  warnings.warn(\n",
      "/Users/patrik/miniconda3/envs/kmpc/lib/python3.11/site-packages/cvxpy/problems/problem.py:1504: UserWarning: Solution may be inaccurate. Try another solver, adjusting the solver settings, or solve with verbose=True for more information.\n",
      "  warnings.warn(\n"
     ]
    },
    {
     "name": "stdout",
     "output_type": "stream",
     "text": [
      "user_limit\n",
      "user_limit\n",
      "user_limit\n"
     ]
    },
    {
     "name": "stderr",
     "output_type": "stream",
     "text": [
      "/Users/patrik/miniconda3/envs/kmpc/lib/python3.11/site-packages/cvxpy/problems/problem.py:1504: UserWarning: Solution may be inaccurate. Try another solver, adjusting the solver settings, or solve with verbose=True for more information.\n",
      "  warnings.warn(\n",
      "/Users/patrik/miniconda3/envs/kmpc/lib/python3.11/site-packages/cvxpy/problems/problem.py:1504: UserWarning: Solution may be inaccurate. Try another solver, adjusting the solver settings, or solve with verbose=True for more information.\n",
      "  warnings.warn(\n",
      "/Users/patrik/miniconda3/envs/kmpc/lib/python3.11/site-packages/cvxpy/problems/problem.py:1504: UserWarning: Solution may be inaccurate. Try another solver, adjusting the solver settings, or solve with verbose=True for more information.\n",
      "  warnings.warn(\n",
      "/Users/patrik/miniconda3/envs/kmpc/lib/python3.11/site-packages/cvxpy/problems/problem.py:1504: UserWarning: Solution may be inaccurate. Try another solver, adjusting the solver settings, or solve with verbose=True for more information.\n",
      "  warnings.warn(\n"
     ]
    },
    {
     "name": "stdout",
     "output_type": "stream",
     "text": [
      "user_limit\n",
      "user_limit\n",
      "user_limit\n",
      "user_limit\n"
     ]
    },
    {
     "name": "stderr",
     "output_type": "stream",
     "text": [
      "/Users/patrik/miniconda3/envs/kmpc/lib/python3.11/site-packages/cvxpy/problems/problem.py:1504: UserWarning: Solution may be inaccurate. Try another solver, adjusting the solver settings, or solve with verbose=True for more information.\n",
      "  warnings.warn(\n",
      "/Users/patrik/miniconda3/envs/kmpc/lib/python3.11/site-packages/cvxpy/problems/problem.py:1504: UserWarning: Solution may be inaccurate. Try another solver, adjusting the solver settings, or solve with verbose=True for more information.\n",
      "  warnings.warn(\n",
      "/Users/patrik/miniconda3/envs/kmpc/lib/python3.11/site-packages/cvxpy/problems/problem.py:1504: UserWarning: Solution may be inaccurate. Try another solver, adjusting the solver settings, or solve with verbose=True for more information.\n",
      "  warnings.warn(\n",
      "/Users/patrik/miniconda3/envs/kmpc/lib/python3.11/site-packages/cvxpy/problems/problem.py:1504: UserWarning: Solution may be inaccurate. Try another solver, adjusting the solver settings, or solve with verbose=True for more information.\n",
      "  warnings.warn(\n"
     ]
    },
    {
     "name": "stdout",
     "output_type": "stream",
     "text": [
      "user_limit\n",
      "user_limit\n",
      "user_limit\n",
      "user_limit\n"
     ]
    },
    {
     "name": "stderr",
     "output_type": "stream",
     "text": [
      "/Users/patrik/miniconda3/envs/kmpc/lib/python3.11/site-packages/cvxpy/problems/problem.py:1504: UserWarning: Solution may be inaccurate. Try another solver, adjusting the solver settings, or solve with verbose=True for more information.\n",
      "  warnings.warn(\n",
      "/Users/patrik/miniconda3/envs/kmpc/lib/python3.11/site-packages/cvxpy/problems/problem.py:1504: UserWarning: Solution may be inaccurate. Try another solver, adjusting the solver settings, or solve with verbose=True for more information.\n",
      "  warnings.warn(\n",
      "/Users/patrik/miniconda3/envs/kmpc/lib/python3.11/site-packages/cvxpy/problems/problem.py:1504: UserWarning: Solution may be inaccurate. Try another solver, adjusting the solver settings, or solve with verbose=True for more information.\n",
      "  warnings.warn(\n",
      "/Users/patrik/miniconda3/envs/kmpc/lib/python3.11/site-packages/cvxpy/problems/problem.py:1504: UserWarning: Solution may be inaccurate. Try another solver, adjusting the solver settings, or solve with verbose=True for more information.\n",
      "  warnings.warn(\n"
     ]
    },
    {
     "name": "stdout",
     "output_type": "stream",
     "text": [
      "user_limit\n",
      "user_limit\n",
      "user_limit\n",
      "user_limit\n"
     ]
    },
    {
     "name": "stderr",
     "output_type": "stream",
     "text": [
      "/Users/patrik/miniconda3/envs/kmpc/lib/python3.11/site-packages/cvxpy/problems/problem.py:1504: UserWarning: Solution may be inaccurate. Try another solver, adjusting the solver settings, or solve with verbose=True for more information.\n",
      "  warnings.warn(\n",
      "/Users/patrik/miniconda3/envs/kmpc/lib/python3.11/site-packages/cvxpy/problems/problem.py:1504: UserWarning: Solution may be inaccurate. Try another solver, adjusting the solver settings, or solve with verbose=True for more information.\n",
      "  warnings.warn(\n",
      "/Users/patrik/miniconda3/envs/kmpc/lib/python3.11/site-packages/cvxpy/problems/problem.py:1504: UserWarning: Solution may be inaccurate. Try another solver, adjusting the solver settings, or solve with verbose=True for more information.\n",
      "  warnings.warn(\n"
     ]
    },
    {
     "name": "stdout",
     "output_type": "stream",
     "text": [
      "user_limit\n",
      "user_limit\n",
      "user_limit\n"
     ]
    },
    {
     "name": "stderr",
     "output_type": "stream",
     "text": [
      "/Users/patrik/miniconda3/envs/kmpc/lib/python3.11/site-packages/cvxpy/problems/problem.py:1504: UserWarning: Solution may be inaccurate. Try another solver, adjusting the solver settings, or solve with verbose=True for more information.\n",
      "  warnings.warn(\n",
      "/Users/patrik/miniconda3/envs/kmpc/lib/python3.11/site-packages/cvxpy/problems/problem.py:1504: UserWarning: Solution may be inaccurate. Try another solver, adjusting the solver settings, or solve with verbose=True for more information.\n",
      "  warnings.warn(\n",
      "/Users/patrik/miniconda3/envs/kmpc/lib/python3.11/site-packages/cvxpy/problems/problem.py:1504: UserWarning: Solution may be inaccurate. Try another solver, adjusting the solver settings, or solve with verbose=True for more information.\n",
      "  warnings.warn(\n",
      "/Users/patrik/miniconda3/envs/kmpc/lib/python3.11/site-packages/cvxpy/problems/problem.py:1504: UserWarning: Solution may be inaccurate. Try another solver, adjusting the solver settings, or solve with verbose=True for more information.\n",
      "  warnings.warn(\n"
     ]
    },
    {
     "name": "stdout",
     "output_type": "stream",
     "text": [
      "user_limit\n",
      "user_limit\n",
      "user_limit\n",
      "user_limit\n"
     ]
    },
    {
     "name": "stderr",
     "output_type": "stream",
     "text": [
      "/Users/patrik/miniconda3/envs/kmpc/lib/python3.11/site-packages/cvxpy/problems/problem.py:1504: UserWarning: Solution may be inaccurate. Try another solver, adjusting the solver settings, or solve with verbose=True for more information.\n",
      "  warnings.warn(\n",
      "/Users/patrik/miniconda3/envs/kmpc/lib/python3.11/site-packages/cvxpy/problems/problem.py:1504: UserWarning: Solution may be inaccurate. Try another solver, adjusting the solver settings, or solve with verbose=True for more information.\n",
      "  warnings.warn(\n",
      "/Users/patrik/miniconda3/envs/kmpc/lib/python3.11/site-packages/cvxpy/problems/problem.py:1504: UserWarning: Solution may be inaccurate. Try another solver, adjusting the solver settings, or solve with verbose=True for more information.\n",
      "  warnings.warn(\n",
      "/Users/patrik/miniconda3/envs/kmpc/lib/python3.11/site-packages/cvxpy/problems/problem.py:1504: UserWarning: Solution may be inaccurate. Try another solver, adjusting the solver settings, or solve with verbose=True for more information.\n",
      "  warnings.warn(\n"
     ]
    },
    {
     "name": "stdout",
     "output_type": "stream",
     "text": [
      "user_limit\n",
      "user_limit\n",
      "user_limit\n",
      "user_limit\n"
     ]
    },
    {
     "name": "stderr",
     "output_type": "stream",
     "text": [
      "/Users/patrik/miniconda3/envs/kmpc/lib/python3.11/site-packages/cvxpy/problems/problem.py:1504: UserWarning: Solution may be inaccurate. Try another solver, adjusting the solver settings, or solve with verbose=True for more information.\n",
      "  warnings.warn(\n",
      "/Users/patrik/miniconda3/envs/kmpc/lib/python3.11/site-packages/cvxpy/problems/problem.py:1504: UserWarning: Solution may be inaccurate. Try another solver, adjusting the solver settings, or solve with verbose=True for more information.\n",
      "  warnings.warn(\n",
      "/Users/patrik/miniconda3/envs/kmpc/lib/python3.11/site-packages/cvxpy/problems/problem.py:1504: UserWarning: Solution may be inaccurate. Try another solver, adjusting the solver settings, or solve with verbose=True for more information.\n",
      "  warnings.warn(\n",
      "/Users/patrik/miniconda3/envs/kmpc/lib/python3.11/site-packages/cvxpy/problems/problem.py:1504: UserWarning: Solution may be inaccurate. Try another solver, adjusting the solver settings, or solve with verbose=True for more information.\n",
      "  warnings.warn(\n"
     ]
    },
    {
     "name": "stdout",
     "output_type": "stream",
     "text": [
      "user_limit\n",
      "user_limit\n",
      "user_limit\n",
      "user_limit\n"
     ]
    },
    {
     "name": "stderr",
     "output_type": "stream",
     "text": [
      "/Users/patrik/miniconda3/envs/kmpc/lib/python3.11/site-packages/cvxpy/problems/problem.py:1504: UserWarning: Solution may be inaccurate. Try another solver, adjusting the solver settings, or solve with verbose=True for more information.\n",
      "  warnings.warn(\n",
      "/Users/patrik/miniconda3/envs/kmpc/lib/python3.11/site-packages/cvxpy/problems/problem.py:1504: UserWarning: Solution may be inaccurate. Try another solver, adjusting the solver settings, or solve with verbose=True for more information.\n",
      "  warnings.warn(\n",
      "/Users/patrik/miniconda3/envs/kmpc/lib/python3.11/site-packages/cvxpy/problems/problem.py:1504: UserWarning: Solution may be inaccurate. Try another solver, adjusting the solver settings, or solve with verbose=True for more information.\n",
      "  warnings.warn(\n"
     ]
    },
    {
     "name": "stdout",
     "output_type": "stream",
     "text": [
      "user_limit\n",
      "user_limit\n",
      "user_limit\n"
     ]
    },
    {
     "name": "stderr",
     "output_type": "stream",
     "text": [
      "/Users/patrik/miniconda3/envs/kmpc/lib/python3.11/site-packages/cvxpy/problems/problem.py:1504: UserWarning: Solution may be inaccurate. Try another solver, adjusting the solver settings, or solve with verbose=True for more information.\n",
      "  warnings.warn(\n",
      "/Users/patrik/miniconda3/envs/kmpc/lib/python3.11/site-packages/cvxpy/problems/problem.py:1504: UserWarning: Solution may be inaccurate. Try another solver, adjusting the solver settings, or solve with verbose=True for more information.\n",
      "  warnings.warn(\n",
      "/Users/patrik/miniconda3/envs/kmpc/lib/python3.11/site-packages/cvxpy/problems/problem.py:1504: UserWarning: Solution may be inaccurate. Try another solver, adjusting the solver settings, or solve with verbose=True for more information.\n",
      "  warnings.warn(\n"
     ]
    },
    {
     "name": "stdout",
     "output_type": "stream",
     "text": [
      "user_limit\n",
      "user_limit\n",
      "user_limit\n",
      "optimal\n"
     ]
    },
    {
     "name": "stderr",
     "output_type": "stream",
     "text": [
      "/Users/patrik/miniconda3/envs/kmpc/lib/python3.11/site-packages/cvxpy/problems/problem.py:1504: UserWarning: Solution may be inaccurate. Try another solver, adjusting the solver settings, or solve with verbose=True for more information.\n",
      "  warnings.warn(\n",
      "/Users/patrik/miniconda3/envs/kmpc/lib/python3.11/site-packages/cvxpy/problems/problem.py:1504: UserWarning: Solution may be inaccurate. Try another solver, adjusting the solver settings, or solve with verbose=True for more information.\n",
      "  warnings.warn(\n",
      "/Users/patrik/miniconda3/envs/kmpc/lib/python3.11/site-packages/cvxpy/problems/problem.py:1504: UserWarning: Solution may be inaccurate. Try another solver, adjusting the solver settings, or solve with verbose=True for more information.\n",
      "  warnings.warn(\n",
      "/Users/patrik/miniconda3/envs/kmpc/lib/python3.11/site-packages/cvxpy/problems/problem.py:1504: UserWarning: Solution may be inaccurate. Try another solver, adjusting the solver settings, or solve with verbose=True for more information.\n",
      "  warnings.warn(\n"
     ]
    },
    {
     "name": "stdout",
     "output_type": "stream",
     "text": [
      "user_limit\n",
      "user_limit\n",
      "user_limit\n",
      "user_limit\n",
      "user_limit\n",
      "user_limit\n"
     ]
    },
    {
     "name": "stderr",
     "output_type": "stream",
     "text": [
      "/Users/patrik/miniconda3/envs/kmpc/lib/python3.11/site-packages/cvxpy/problems/problem.py:1504: UserWarning: Solution may be inaccurate. Try another solver, adjusting the solver settings, or solve with verbose=True for more information.\n",
      "  warnings.warn(\n",
      "/Users/patrik/miniconda3/envs/kmpc/lib/python3.11/site-packages/cvxpy/problems/problem.py:1504: UserWarning: Solution may be inaccurate. Try another solver, adjusting the solver settings, or solve with verbose=True for more information.\n",
      "  warnings.warn(\n"
     ]
    }
   ],
   "source": [
    "\n",
    "\n",
    "sim_time = 150\n",
    "Ts = 1\n",
    "z_sim = np.zeros((nz+nd, sim_time+1))\n",
    "y_sim = np.zeros((ny, sim_time+1))\n",
    "u_sim = np.zeros((nu, sim_time))\n",
    "ys_sim = np.zeros((ny, sim_time+1))\n",
    "zs_sim = np.zeros((nz, sim_time+1))\n",
    "us_sim = np.zeros((nu, sim_time+1))\n",
    "\n",
    "y_sp.value = scaler.transform(np.array([[0.5,0.5]]))[0]\n",
    "target_estimation.solve(solver=cp.GUROBI)\n",
    "z_ref.value = z_s.value\n",
    "\n",
    "y_sim_descaled = np.zeros((ny, sim_time+1))\n",
    "u_sim_descaled = np.zeros((nu, sim_time))\n",
    "\n",
    "\n",
    "z_sim[:, 0] = z_est_.flatten()\n",
    "y_sim[:, 0] = y_start.flatten()\n",
    "ys_sim[:, 0] = y_s.value\n",
    "zs_sim[:, 0] = z_s.value\n",
    "y_sim_descaled[:, 0] = scaler.inverse_transform(y_sim[:, 0].reshape(1,-1))[0]\n",
    "\n",
    "counter = 0\n",
    "when = 0\n",
    "change = False\n",
    "for k in range(sim_time):\n",
    "    if k == 50:\n",
    "        y_sp.value = y_setpoint\n",
    "    lin_point = get_x(y_sp.value).T[0]\n",
    "    J_k = helper.evaluate_jacobian(\n",
    "        problem.nodes[4],\n",
    "        torch.from_numpy(z_s.value).float(), #\n",
    "    )\n",
    "    if abs(sum(ys_sim[:, k-1]-ys_sim[:, k])) > 0.01 and k > 0: #k in [50,51,52,53]:\n",
    "        mpc = construct_MPC(J_k)\n",
    "        counter += 1\n",
    "        when = k\n",
    "        change = True\n",
    "    else:\n",
    "        change = False\n",
    "    # solve MPC\n",
    "    mpc.solve(solver=cp.GUROBI)\n",
    "    u_sim[:, k] = u[:,0].value\n",
    "    u_sim_descaled[:, k] = scalerU.inverse_transform(u_sim[:, k].reshape(1,-1))[0]\n",
    "    \n",
    "    # simulate system\n",
    "    y_sim_descaled[:, k+1] =  TwoTanks.step(y_sim_descaled[:, k], u_sim_descaled[:, k].reshape(1,-1), Ts)\n",
    "    \n",
    "    y_sim[:, k+1] = scaler.transform(y_sim_descaled[:, k+1].reshape(1,-1))[0]\n",
    "    \n",
    "    # estimate state\n",
    "    z_sim[:, k+1] = EKF.step(u_sim[:, k], y_sim[:, k]).flatten()\n",
    "    \n",
    "    # update initial conditions\n",
    "    #y0.value = y_sim[:, k+1]\n",
    "    z0.value = z_sim[:nz, k+1]\n",
    "    d0.value = z_sim[nz:, k+1]\n",
    "    z_k.value = z_sim[:nz, k+1]  \n",
    "    y_k.value = get_y(z_k.value)[0]\n",
    "    # if change:\n",
    "    #     C_k.value = J_k\n",
    "    # else:\n",
    "    #     C_k.value = helper.evaluate_jacobian(\n",
    "    #         problem.nodes[4],\n",
    "    #         torch.from_numpy(z_k.value).float(),\n",
    "    #     )\n",
    "        \n",
    "    C_k.value = helper.evaluate_jacobian(\n",
    "        problem.nodes[4],\n",
    "        torch.from_numpy(z_s.value).float(),\n",
    "    )\n",
    "    target_estimation.solve(solver=cp.GUROBI)\n",
    "    ys_sim[:, k+1] = y_s.value\n",
    "    zs_sim[:, k+1] = z_s.value\n",
    "    us_sim[:, k+1] = u_s.value\n",
    "    z_ref.value = z_s.value\n",
    "    u_prev.value = u_sim[:, k]\n",
    "    print(mpc.status)\n",
    "    "
   ]
  },
  {
   "cell_type": "code",
   "execution_count": 141,
   "metadata": {},
   "outputs": [
    {
     "data": {
      "text/plain": [
       "2"
      ]
     },
     "execution_count": 141,
     "metadata": {},
     "output_type": "execute_result"
    }
   ],
   "source": [
    "counter"
   ]
  },
  {
   "cell_type": "code",
   "execution_count": 142,
   "metadata": {},
   "outputs": [
    {
     "data": {
      "text/plain": [
       "52"
      ]
     },
     "execution_count": 142,
     "metadata": {},
     "output_type": "execute_result"
    }
   ],
   "source": [
    "when"
   ]
  },
  {
   "cell_type": "code",
   "execution_count": 143,
   "metadata": {},
   "outputs": [
    {
     "data": {
      "image/png": "[encoded data removed]",
      "text/plain": [
       "<Figure size 1200x800 with 1 Axes>"
      ]
     },
     "metadata": {},
     "output_type": "display_data"
    }
   ],
   "source": [
    "# plot results\n",
    "plt.figure(figsize=(12, 8))\n",
    "plt.subplot(2, 1, 1)\n",
    "plt.plot(y_sim_descaled[0,50:], label='h1')\n",
    "plt.plot(y_sim_descaled[1,50:], label='h2')\n",
    "plt.plot(scaler.inverse_transform(ys_sim.T).T[0,50:], color='red', linestyle='--', label='target h1')\n",
    "plt.plot(scaler.inverse_transform(ys_sim.T).T[1,50:], color='red', linestyle=':', label='target h2')\n",
    "plt.xlabel('Time step')\n",
    "plt.ylabel('Output')\n",
    "plt.title('TK-MPC (Taylor LTI) Simulation')\n",
    "plt.legend()\n",
    "plt.grid(True) "
   ]
  },
  {
   "cell_type": "code",
   "execution_count": 144,
   "metadata": {},
   "outputs": [
    {
     "data": {
      "text/plain": [
       "5"
      ]
     },
     "execution_count": 144,
     "metadata": {},
     "output_type": "execute_result"
    }
   ],
   "source": [
    "sum(y_sim_descaled[0] > 1.58001)"
   ]
  },
  {
   "cell_type": "code",
   "execution_count": 145,
   "metadata": {},
   "outputs": [
    {
     "name": "stdout",
     "output_type": "stream",
     "text": [
      "First sustained convergence index: 69\n"
     ]
    }
   ],
   "source": [
    "e = 0.01  # Tolerance\n",
    "\n",
    "in_band = np.abs(y_sim[0] - y_setpoint[0]) <= e\n",
    "\n",
    "# Check for the first index where all subsequent values stay in the band\n",
    "for i in range(len(y_sim[0])):\n",
    "    if np.all(in_band[i:]):\n",
    "        print(\"First sustained convergence index:\", i)\n",
    "        break\n",
    "else:\n",
    "    print(\"No sustained convergence found.\")"
   ]
  },
  {
   "cell_type": "code",
   "execution_count": 146,
   "metadata": {},
   "outputs": [
    {
     "name": "stdout",
     "output_type": "stream",
     "text": [
      "First sustained convergence index: 67\n"
     ]
    }
   ],
   "source": [
    "e = 0.01  # Tolerance\n",
    "\n",
    "in_band = np.abs(y_sim[1] - y_setpoint[1]) <= e\n",
    "\n",
    "# Check for the first index where all subsequent values stay in the band\n",
    "for i in range(len(y_sim[0])):\n",
    "    if np.all(in_band[i:]):\n",
    "        print(\"First sustained convergence index:\", i)\n",
    "        break\n",
    "else:\n",
    "    print(\"No sustained convergence found.\")"
   ]
  },
  {
   "cell_type": "code",
   "execution_count": 147,
   "metadata": {},
   "outputs": [
    {
     "name": "stdout",
     "output_type": "stream",
     "text": [
      "MSE for h1: 0.005009555985653642\n",
      "MSE for h2: 0.004059579341882817\n"
     ]
    }
   ],
   "source": [
    "from sklearn.metrics import mean_squared_error\n",
    "\n",
    "# Descales ys_sim\n",
    "ys_sim_descaled = scaler.inverse_transform(ys_sim.T).T\n",
    "\n",
    "# Compute MSE for each output\n",
    "mse_h1 = mean_squared_error(ys_sim_descaled[0], y_sim_descaled[0])\n",
    "mse_h2 = mean_squared_error(ys_sim_descaled[1], y_sim_descaled[1])\n",
    "\n",
    "print(f\"MSE for h1: {mse_h1}\")\n",
    "print(f\"MSE for h2: {mse_h2}\")"
   ]
  },
  {
   "cell_type": "code",
   "execution_count": 148,
   "metadata": {},
   "outputs": [
    {
     "name": "stdout",
     "output_type": "stream",
     "text": [
      "ISE for h1: 0.7564429537532052\n",
      "ISE for h2: 0.6129964806242736\n"
     ]
    }
   ],
   "source": [
    "from numpy import trapz\n",
    "\n",
    "# Compute ISE for each output\n",
    "ise_h1 = trapz((ys_sim_descaled[0] - y_sim_descaled[0])**2)\n",
    "ise_h2 = trapz((ys_sim_descaled[1] - y_sim_descaled[1])**2)\n",
    "\n",
    "print(f\"ISE for h1: {ise_h1}\")\n",
    "print(f\"ISE for h2: {ise_h2}\")\n",
    "\n",
    "# 1.081780547953782\n",
    "# ISE for h2: 0.6261296966708955"
   ]
  },
  {
   "cell_type": "code",
   "execution_count": 149,
   "metadata": {},
   "outputs": [
    {
     "name": "stdout",
     "output_type": "stream",
     "text": [
      "Closed-loop objective function value: 251.29310235099769\n"
     ]
    }
   ],
   "source": [
    "# Compute the closed-loop value of the objective function\n",
    "\n",
    "objective_value = 0\n",
    "for k in range(50,sim_time):\n",
    "    y_diff = y_sim[:, k] - y_setpoint\n",
    "    u_diff = u_sim[:, k]\n",
    "    objective_value += y_diff.T @ Qy @ y_diff + u_diff.T @ Qu @ u_diff\n",
    "\n",
    "print(f\"Closed-loop objective function value: {objective_value}\")"
   ]
  },
  {
   "cell_type": "code",
   "execution_count": 150,
   "metadata": {},
   "outputs": [
    {
     "data": {
      "text/plain": [
       "array([-4.34714232e-06,  2.55223578e-06,  1.68065651e-05, -1.90759241e-06,\n",
       "       -3.09535347e-06,  1.60740057e-05,  2.38354368e-06,  8.03338204e-06,\n",
       "        1.08230058e-05, -1.21586362e-05])"
      ]
     },
     "execution_count": 150,
     "metadata": {},
     "output_type": "execute_result"
    }
   ],
   "source": [
    "z_sim[:nz, -1].flatten()-z_ref.value.flatten()"
   ]
  },
  {
   "cell_type": "code",
   "execution_count": 151,
   "metadata": {},
   "outputs": [
    {
     "data": {
      "image/png": "[encoded data removed]",
      "text/plain": [
       "<Figure size 1200x800 with 1 Axes>"
      ]
     },
     "metadata": {},
     "output_type": "display_data"
    }
   ],
   "source": [
    "# plot results\n",
    "plt.figure(figsize=(12, 8))\n",
    "plt.subplot(2, 1, 1)\n",
    "plt.plot(u_sim_descaled[0,50:], label='q1')\n",
    "plt.plot(u_sim_descaled[1,50:], label='q2')\n",
    "plt.xlabel('Time step')\n",
    "plt.ylabel('Output')\n",
    "plt.legend()\n",
    "plt.grid(True) "
   ]
  },
  {
   "cell_type": "code",
   "execution_count": 152,
   "metadata": {},
   "outputs": [
    {
     "data": {
      "text/plain": [
       "[<matplotlib.lines.Line2D at 0x308404e90>,\n",
       " <matplotlib.lines.Line2D at 0x308302410>]"
      ]
     },
     "execution_count": 152,
     "metadata": {},
     "output_type": "execute_result"
    },
    {
     "data": {
      "image/png": "[encoded data removed]",
      "text/plain": [
       "<Figure size 640x480 with 1 Axes>"
      ]
     },
     "metadata": {},
     "output_type": "display_data"
    }
   ],
   "source": [
    "plt.plot(us_sim.T)"
   ]
  },
  {
   "cell_type": "code",
   "execution_count": 153,
   "metadata": {},
   "outputs": [
    {
     "name": "stdout",
     "output_type": "stream",
     "text": [
      "[43.20953304 57.91244165]\n"
     ]
    }
   ],
   "source": [
    "u_sum_abs = np.sum(np.abs(u_sim_descaled), axis=1)\n",
    "print(u_sum_abs)"
   ]
  },
  {
   "cell_type": "code",
   "execution_count": 154,
   "metadata": {},
   "outputs": [
    {
     "data": {
      "text/plain": [
       "array([0.02356359, 0.5453716 ])"
      ]
     },
     "execution_count": 154,
     "metadata": {},
     "output_type": "execute_result"
    }
   ],
   "source": [
    "u_sim_descaled[:,49]"
   ]
  },
  {
   "cell_type": "code",
   "execution_count": 155,
   "metadata": {},
   "outputs": [
    {
     "name": "stderr",
     "output_type": "stream",
     "text": [
      "/var/folders/js/50fn0f5j3g376mmr6z71dh5r0000gn/T/ipykernel_24103/621697738.py:6: UserWarning: No artists with labels found to put in legend.  Note that artists whose label start with an underscore are ignored when legend() is called with no argument.\n",
      "  plt.legend()\n"
     ]
    },
    {
     "data": {
      "image/png": "[encoded data removed]",
      "text/plain": [
       "<Figure size 1200x800 with 1 Axes>"
      ]
     },
     "metadata": {},
     "output_type": "display_data"
    }
   ],
   "source": [
    "plt.figure(figsize=(12, 8))\n",
    "plt.subplot(2, 1, 1)\n",
    "plt.plot(z_sim[nz:].T)\n",
    "plt.xlabel('Time step')\n",
    "plt.ylabel('Disturbance')\n",
    "plt.legend()\n",
    "plt.grid(True)"
   ]
  },
  {
   "cell_type": "code",
   "execution_count": 156,
   "metadata": {},
   "outputs": [
    {
     "name": "stderr",
     "output_type": "stream",
     "text": [
      "/var/folders/js/50fn0f5j3g376mmr6z71dh5r0000gn/T/ipykernel_24103/4249820153.py:6: UserWarning: No artists with labels found to put in legend.  Note that artists whose label start with an underscore are ignored when legend() is called with no argument.\n",
      "  plt.legend()\n"
     ]
    },
    {
     "data": {
      "image/png": "[encoded data removed]",
      "text/plain": [
       "<Figure size 1200x800 with 1 Axes>"
      ]
     },
     "metadata": {},
     "output_type": "display_data"
    }
   ],
   "source": [
    "plt.figure(figsize=(12, 8))\n",
    "plt.subplot(2, 1, 1)\n",
    "plt.plot(zs_sim[:nz].T)\n",
    "plt.xlabel('Time step')\n",
    "plt.ylabel('Disturbance')\n",
    "plt.legend()\n",
    "plt.grid(True)"
   ]
  },
  {
   "cell_type": "code",
   "execution_count": 157,
   "metadata": {},
   "outputs": [
    {
     "name": "stderr",
     "output_type": "stream",
     "text": [
      "/var/folders/js/50fn0f5j3g376mmr6z71dh5r0000gn/T/ipykernel_24103/2974051967.py:6: UserWarning: No artists with labels found to put in legend.  Note that artists whose label start with an underscore are ignored when legend() is called with no argument.\n",
      "  plt.legend()\n"
     ]
    },
    {
     "data": {
      "image/png": "[encoded data removed]",
      "text/plain": [
       "<Figure size 1200x800 with 1 Axes>"
      ]
     },
     "metadata": {},
     "output_type": "display_data"
    }
   ],
   "source": [
    "plt.figure(figsize=(12, 8))\n",
    "plt.subplot(2, 1, 1)\n",
    "plt.plot(ys_sim.T)\n",
    "plt.xlabel('Time step')\n",
    "plt.ylabel('Disturbance')\n",
    "plt.legend()\n",
    "plt.grid(True)"
   ]
  },
  {
   "cell_type": "code",
   "execution_count": 158,
   "metadata": {},
   "outputs": [
    {
     "data": {
      "text/plain": [
       "array([[-0.83238101, -0.832381  , -0.83238099, -0.83238099, -0.83238101,\n",
       "        -0.83238099, -0.832381  , -0.83238099, -0.83238099, -0.83238101,\n",
       "        -0.83238098, -0.14247968,  0.29009362,  0.29009361,  0.29009362,\n",
       "         0.29009362,  0.29009362,  0.29009362,  0.29009362,  0.29009362],\n",
       "       [-0.6355434 , -0.63554341, -0.63554341, -0.63554341, -0.6355434 ,\n",
       "        -0.63554341, -0.63554341, -0.63554341, -0.63554342, -0.6355434 ,\n",
       "        -0.63554342,  0.13144914, -0.22054858, -0.22054857, -0.22054858,\n",
       "        -0.22054858, -0.22054858, -0.22054858, -0.22054858, -0.22054858]])"
      ]
     },
     "execution_count": 158,
     "metadata": {},
     "output_type": "execute_result"
    }
   ],
   "source": [
    "ys_sim[:,40:60]"
   ]
  },
  {
   "cell_type": "code",
   "execution_count": 159,
   "metadata": {},
   "outputs": [
    {
     "data": {
      "image/png": "[encoded data removed]",
      "text/plain": [
       "<Figure size 1200x800 with 1 Axes>"
      ]
     },
     "metadata": {},
     "output_type": "display_data"
    }
   ],
   "source": [
    "lifted_state = 2\n",
    "plt.figure(figsize=(12, 8))\n",
    "plt.subplot(2, 1, 1)\n",
    "plt.plot(z_sim[lifted_state].T, label = 'lifted state')\n",
    "plt.plot(zs_sim[lifted_state].T, label = 'reference')\n",
    "legend = plt.legend()\n"
   ]
  },
  {
   "cell_type": "markdown",
   "metadata": {},
   "source": [
    "## comparison with Jackobian"
   ]
  },
  {
   "cell_type": "code",
   "execution_count": 160,
   "metadata": {},
   "outputs": [],
   "source": [
    "start = 50\n",
    "end = 70\n",
    "\n",
    "y_C = C@z_sim[:nz,start:end] + z_sim[nz:,start:end]\n",
    "y_C_sp = J_k@z_sim[:nz,start:end] - J_k@z_s.value.reshape(-1,1) + get_y(z_k.value).T + z_sim[nz:,start:end]\n",
    "\n",
    "J_k = helper.evaluate_jacobian(\n",
    "    problem.nodes[4],\n",
    "    torch.from_numpy(z_sim[:nz,start]).float(),\n",
    ")\n",
    "y_Cstart = J_k@z_sim[:nz,start:end] - J_k@z_sim[:nz,start].reshape(-1,1) + get_y(z_sim[:nz,start]).T + z_sim[nz:,start:end]\n",
    "\n",
    "y_Ck = np.zeros((ny, end-start))\n",
    "for i in range(start, end):\n",
    "    J_k = helper.evaluate_jacobian(\n",
    "        problem.nodes[4],\n",
    "        torch.from_numpy(z_sim[:nz,i]).float(),\n",
    "    )\n",
    "    y_Ck[:,i-start] = J_k@z_sim[:nz,i] - J_k@z_sim[:nz,i] + get_y(z_sim[:nz,i]) + z_sim[nz:,i]\n",
    "\n",
    "y_Ck_sp = np.zeros((ny, end-start))\n",
    "for i in range(start, end):\n",
    "    J_k = helper.evaluate_jacobian(\n",
    "        problem.nodes[4],\n",
    "        torch.from_numpy(zs_sim[:nz,i]).float(),\n",
    "    )\n",
    "    y_Ck_sp[:,i-start] = J_k@z_sim[:nz,i] - J_k@zs_sim[:nz,i] + get_y(zs_sim[:nz,i]) + z_sim[nz:,i]\n",
    "\n",
    "x0 = get_x(y_sim[:,start])\n",
    "x_p = np.zeros((nz, (end-start)+1))\n",
    "y_xh = np.zeros((ny, (end-start)))\n",
    "x_p[:,0] = x0.flatten()\n",
    "for i in range(start, end):\n",
    "    x_p[:,i+1-start] = A @ x_p[:,i-start] + B @ u_sim[:,i]\n",
    "    x0 = x_p[:,i-start]\n",
    "    y_xh[:,i-start] = get_y(x_p[:,i-start]) + z_sim[nz:,i]\n",
    "\n",
    "# descale\n",
    "y_C = scaler.inverse_transform(y_C.T).T\n",
    "y_C_sp = scaler.inverse_transform(y_C_sp.T).T\n",
    "y_Ck = scaler.inverse_transform(y_Ck.T).T\n",
    "y_Cstart = scaler.inverse_transform(y_Cstart.T).T\n",
    "y_Ck_sp = scaler.inverse_transform(y_Ck_sp.T).T\n",
    "descaled_sp = scaler.inverse_transform(y_setpoint.reshape(1,-1))[0]\n",
    "y_xh = scaler.inverse_transform(y_xh.T).T"
   ]
  },
  {
   "cell_type": "code",
   "execution_count": 161,
   "metadata": {},
   "outputs": [],
   "source": [
    "# # find first index in ysim[0] > 1.58001\n",
    "# y_sim_descaled[0] > 1.58001\n",
    "# # index of true values\n",
    "# # find first index in ysim[0] > 1.58001\n",
    "# for i in range(len(y_sim_descaled[0])):\n",
    "#     if np.all(y_sim_descaled[0][i] > 1.58001):\n",
    "#         print(\"First convergence index:\", i)\n",
    "#         break\n",
    "# # plot results"
   ]
  },
  {
   "cell_type": "code",
   "execution_count": 162,
   "metadata": {},
   "outputs": [
    {
     "data": {
      "image/png": "[encoded data removed]",
      "text/plain": [
       "<Figure size 1200x800 with 1 Axes>"
      ]
     },
     "metadata": {},
     "output_type": "display_data"
    }
   ],
   "source": [
    "\n",
    "plt.figure(figsize=(12, 8))\n",
    "plt.subplot(2, 1, 1)\n",
    "#plt.plot(y_C[0], label='y = Cz + d', color='blue')\n",
    "#plt.plot(y_C_sp[0], label='y = C_sp z +d', color='brown')\n",
    "plt.plot(y_Ck[0], label='y = h(z) + d', color='green')\n",
    "#plt.plot(y_Cstart[0], label='y = C_start z + d', color='purple')\n",
    "#plt.plot(y_Ck_sp[0], label='y = C_lastsp z +d ', color='orange')\n",
    "plt.plot(y_xh[0], label='z = g(y); z+ = Az+Bu; y = h(z)', color='black')\n",
    "\n",
    "plt.plot(y_sim_descaled[0, start:end], label='y real', color='red')\n",
    "# plot yref as dashed line as a horizontal line\n",
    "plt.axhline(y=descaled_sp[0], color='r', linestyle='--', label='h1_setpoint')\n",
    "# legend outside\n",
    "plt.xlabel('Time step')\n",
    "plt.ylabel('Output')\n",
    "plt.legend(loc='upper left', bbox_to_anchor=(1, 1))\n",
    "plt.grid(True)\n"
   ]
  },
  {
   "cell_type": "code",
   "execution_count": 163,
   "metadata": {},
   "outputs": [
    {
     "name": "stdout",
     "output_type": "stream",
     "text": [
      "ISE for h1 y_C: 0.4313557797795317\n",
      "ISE for h1 y_C_sp: 1.260639572584042\n",
      "ISE for h1 y_Ck: 0.2352673709001224\n",
      "ISE for h1 y_Cstart: 9.794565044249971\n",
      "ISE for h1 y_Ck_sp: 1.4552445814225878\n",
      "ISE for h1 y_xh: 0.03247727282973838\n"
     ]
    }
   ],
   "source": [
    "ise_h1_y_C = trapz((y_C[0] - y_sim_descaled[0, start:end])**2)\n",
    "print(f\"ISE for h1 y_C: {ise_h1_y_C}\")\n",
    "\n",
    "ise_h1_y_C_sp = trapz((y_C_sp[0] - y_sim_descaled[0, start:end])**2)\n",
    "print(f\"ISE for h1 y_C_sp: {ise_h1_y_C_sp}\")\n",
    "\n",
    "ise_h1_y_Ck = trapz((y_Ck[0] - y_sim_descaled[0, start:end])**2)\n",
    "print(f\"ISE for h1 y_Ck: {ise_h1_y_Ck}\")\n",
    "\n",
    "ise_h1_y_Cstart = trapz((y_Cstart[0] - y_sim_descaled[0, start:end])**2)\n",
    "print(f\"ISE for h1 y_Cstart: {ise_h1_y_Cstart}\")\n",
    "\n",
    "ise_h1_y_Ck_sp = trapz((y_Ck_sp[0] - y_sim_descaled[0, start:end])**2)\n",
    "print(f\"ISE for h1 y_Ck_sp: {ise_h1_y_Ck_sp}\")\n",
    "\n",
    "ise_h1_y_xh = trapz((y_xh[0] - y_sim_descaled[0, start:end])**2)\n",
    "print(f\"ISE for h1 y_xh: {ise_h1_y_xh}\")"
   ]
  },
  {
   "cell_type": "markdown",
   "metadata": {},
   "source": [
    "# prediction"
   ]
  },
  {
   "cell_type": "code",
   "execution_count": 164,
   "metadata": {},
   "outputs": [
    {
     "data": {
      "text/plain": [
       "array([-0.14828473, -0.33165186,  0.28727224, -0.75766317,  0.22495196,\n",
       "        0.35709778, -0.08526922, -0.69055887, -0.74093404, -0.23033358])"
      ]
     },
     "execution_count": 164,
     "metadata": {},
     "output_type": "execute_result"
    }
   ],
   "source": [
    "A @ z_sim[:nz,i] + B @ u_sim[:,i]"
   ]
  },
  {
   "cell_type": "code",
   "execution_count": 165,
   "metadata": {},
   "outputs": [],
   "source": [
    "start = 50+3\n",
    "end = 70\n",
    "z_sim_copy = z_sim.copy()\n",
    "for i in range(start, end):\n",
    "    z_sim_copy[:nz,i+1] = A @ z_sim_copy[:nz,i] + B @ u_sim[:,i]\n",
    "\n",
    "y_C = C@z_sim_copy[:nz,start:end] + z_sim_copy[nz:,start].reshape(-1,1)\n",
    "    \n",
    "y_C_sp = J_k@z_sim_copy[:nz,start:end] - J_k@z_s.value.reshape(-1,1) + get_y(z_k.value).T + z_sim_copy[nz:,start].reshape(-1,1)\n",
    "\n",
    "J_k = helper.evaluate_jacobian(\n",
    "    problem.nodes[4],\n",
    "    torch.from_numpy(z_sim_copy[:nz,start]).float(),\n",
    ")\n",
    "y_Cstart = J_k@z_sim_copy[:nz,start:end] - J_k@z_sim_copy[:nz,start].reshape(-1,1) + get_y(z_sim_copy[:nz,start]).T + z_sim_copy[nz:,start].reshape(-1,1)\n",
    "\n",
    "y_Ck = np.zeros((ny, end-start))\n",
    "for i in range(start, end):\n",
    "    J_k = helper.evaluate_jacobian(\n",
    "        problem.nodes[4],\n",
    "        torch.from_numpy(z_sim_copy[:nz,i]).float(),\n",
    "    )\n",
    "    y_Ck[:,i-start] = J_k@z_sim_copy[:nz,i] - J_k@z_sim_copy[:nz,i] + get_y(z_sim_copy[:nz,i]) + z_sim_copy[nz:,start]\n",
    "\n",
    "y_Ck_sp = np.zeros((ny, end-start))\n",
    "for i in range(start, end):\n",
    "    J_k = helper.evaluate_jacobian(\n",
    "        problem.nodes[4],\n",
    "        torch.from_numpy(zs_sim[:nz,i]).float(),\n",
    "    )\n",
    "    y_Ck_sp[:,i-start] = J_k@z_sim_copy[:nz,i] - J_k@zs_sim[:nz,i] + get_y(zs_sim[:nz,i]) + z_sim_copy[nz:,start]\n",
    "\n",
    "x0 = get_x(y_sim[:,start])\n",
    "x_p = np.zeros((nz, (end-start)+1))\n",
    "y_xh = np.zeros((ny, (end-start)))\n",
    "x_p[:,0] = x0.flatten()\n",
    "for i in range(start, end):\n",
    "    x_p[:,i+1-start] = A @ x_p[:,i-start] + B @ u_sim[:,i]\n",
    "    x0 = x_p[:,i-start]\n",
    "    y_xh[:,i-start] = get_y(x_p[:,i-start]) #+ z_sim_copy[nz:,start]\n",
    "\n",
    "# descale\n",
    "y_C = scaler.inverse_transform(y_C.T).T\n",
    "y_C_sp = scaler.inverse_transform(y_C_sp.T).T\n",
    "y_Ck = scaler.inverse_transform(y_Ck.T).T\n",
    "y_Cstart = scaler.inverse_transform(y_Cstart.T).T\n",
    "y_Ck_sp = scaler.inverse_transform(y_Ck_sp.T).T\n",
    "descaled_sp = scaler.inverse_transform(y_setpoint.reshape(1,-1))[0]\n",
    "y_xh = scaler.inverse_transform(y_xh.T).T"
   ]
  },
  {
   "cell_type": "code",
   "execution_count": 166,
   "metadata": {},
   "outputs": [
    {
     "data": {
      "text/plain": [
       "<matplotlib.legend.Legend at 0x308b91390>"
      ]
     },
     "execution_count": 166,
     "metadata": {},
     "output_type": "execute_result"
    },
    {
     "data": {
      "image/png": "[encoded data removed]",
      "text/plain": [
       "<Figure size 1200x800 with 1 Axes>"
      ]
     },
     "metadata": {},
     "output_type": "display_data"
    }
   ],
   "source": [
    "\n",
    "plt.figure(figsize=(12, 8))\n",
    "plt.subplot(2, 1, 1)\n",
    "#plt.plot(y_C[0], label='y = Cz + d', color='blue')\n",
    "#plt.plot(y_C_sp[0], label='y = C_sp z +d', color='brown')\n",
    "plt.plot(y_Ck[0], label='y = h(z) + d', color='green')\n",
    "#plt.plot(y_Cstart[0], label='y = C_start z + d', color='purple')\n",
    "#plt.plot(y_Ck_sp[0], label='y = C_lastsp z +d ', color='orange')\n",
    "plt.plot(y_xh[0], label='z = g(y); z+ = Az+Bu; y = h(z)', color='black')\n",
    "\n",
    "plt.plot(y_sim_descaled[0, start:end], label='y real', color='red')\n",
    "# plot yref as dashed line as a horizontal line\n",
    "plt.axhline(y=descaled_sp[0], color='r', linestyle='--', label='h1_setpoint')\n",
    "# legend outside\n",
    "plt.xlabel('Time step')\n",
    "plt.ylabel('Output')\n",
    "plt.legend(loc='upper left', bbox_to_anchor=(1, 1))\n"
   ]
  },
  {
   "cell_type": "code",
   "execution_count": 167,
   "metadata": {},
   "outputs": [
    {
     "name": "stdout",
     "output_type": "stream",
     "text": [
      "ISE for h1 y_C: 0.26479367327103764\n",
      "ISE for h1 y_C_sp: 1.177388352278505\n",
      "ISE for h1 y_Ck: 1.0218705238853878\n",
      "ISE for h1 y_Cstart: 2.9084912641386147\n",
      "ISE for h1 y_Ck_sp: 1.1700216026586394\n",
      "ISE for h1 y_xh: 0.06894435790288525\n"
     ]
    }
   ],
   "source": [
    "ise_h1_y_C = trapz((y_C[0] - y_sim_descaled[0, start:end])**2)\n",
    "print(f\"ISE for h1 y_C: {ise_h1_y_C}\")\n",
    "\n",
    "ise_h1_y_C_sp = trapz((y_C_sp[0] - y_sim_descaled[0, start:end])**2)\n",
    "print(f\"ISE for h1 y_C_sp: {ise_h1_y_C_sp}\")\n",
    "\n",
    "ise_h1_y_Ck = trapz((y_Ck[0] - y_sim_descaled[0, start:end])**2)\n",
    "print(f\"ISE for h1 y_Ck: {ise_h1_y_Ck}\")\n",
    "\n",
    "ise_h1_y_Cstart = trapz((y_Cstart[0] - y_sim_descaled[0, start:end])**2)\n",
    "print(f\"ISE for h1 y_Cstart: {ise_h1_y_Cstart}\")\n",
    "\n",
    "ise_h1_y_Ck_sp = trapz((y_Ck_sp[0] - y_sim_descaled[0, start:end])**2)\n",
    "print(f\"ISE for h1 y_Ck_sp: {ise_h1_y_Ck_sp}\")\n",
    "\n",
    "ise_h1_y_xh = trapz((y_xh[0] - y_sim_descaled[0, start:end])**2)\n",
    "print(f\"ISE for h1 y_xh: {ise_h1_y_xh}\")"
   ]
  },
  {
   "cell_type": "code",
   "execution_count": null,
   "metadata": {},
   "outputs": [],
   "source": []
  },
  {
   "cell_type": "markdown",
   "metadata": {},
   "source": [
    "ISE for h1 y_C_sp: 0.9157052163902\\\n",
    "ISE for h1 y_Ck: 0.20538840598700672\\\n",
    "ISE for h1 y_Cstart: 6.892414715687395"
   ]
  },
  {
   "cell_type": "code",
   "execution_count": 168,
   "metadata": {},
   "outputs": [],
   "source": [
    "import numpy as np\n",
    "from scipy.linalg import schur, inv\n",
    "\n",
    "# Real Schur decomposition: A = T R T^{-1}\n",
    "R, T = schur(A, output='real')\n",
    "\n",
    "# Transform B and C\n",
    "B_new = inv(T) @ B\n",
    "C_new = C @ T\n",
    "\n",
    "# R is the (block) diagonalized A\n",
    "A_diag = R\n"
   ]
  },
  {
   "cell_type": "code",
   "execution_count": 169,
   "metadata": {},
   "outputs": [
    {
     "data": {
      "text/plain": [
       "array([[ 0.8418656 ,  0.10938478,  0.12516896, -0.20685396, -0.16006912,\n",
       "         0.21207383, -0.2412621 ,  0.21214305, -0.2012471 ,  0.5980876 ],\n",
       "       [ 0.        ,  0.41185838,  0.02789792,  0.0817989 , -0.07792645,\n",
       "         0.41764057, -0.17225733,  0.00818496, -0.17222989,  0.09395263],\n",
       "       [ 0.        ,  0.        , -0.17094155, -0.13637047, -0.02206994,\n",
       "         0.35060441, -0.28991768,  0.28688338,  0.2772829 ,  0.00420431],\n",
       "       [ 0.        ,  0.        ,  0.54074275, -0.17094155,  0.02077501,\n",
       "        -0.1826147 , -0.2377269 ,  0.09756818,  0.25351685, -0.35206854],\n",
       "       [ 0.        ,  0.        ,  0.        ,  0.        ,  0.08842791,\n",
       "        -0.41097572, -0.15997109, -0.202588  , -0.128495  , -0.03422356],\n",
       "       [ 0.        ,  0.        ,  0.        ,  0.        ,  0.23304836,\n",
       "         0.08842791,  0.24260828,  0.17834724,  0.3213599 ,  0.11708938],\n",
       "       [ 0.        ,  0.        ,  0.        ,  0.        ,  0.        ,\n",
       "         0.        ,  0.11789477,  0.22979264,  0.05263854,  0.10278033],\n",
       "       [ 0.        ,  0.        ,  0.        ,  0.        ,  0.        ,\n",
       "         0.        , -0.10283488,  0.11789477, -0.28214246,  0.15094143],\n",
       "       [ 0.        ,  0.        ,  0.        ,  0.        ,  0.        ,\n",
       "         0.        ,  0.        ,  0.        , -0.21327361,  0.05842425],\n",
       "       [ 0.        ,  0.        ,  0.        ,  0.        ,  0.        ,\n",
       "         0.        ,  0.        ,  0.        ,  0.        , -0.11779846]],\n",
       "      dtype=float32)"
      ]
     },
     "execution_count": 169,
     "metadata": {},
     "output_type": "execute_result"
    }
   ],
   "source": [
    "R"
   ]
  },
  {
   "cell_type": "code",
   "execution_count": 170,
   "metadata": {},
   "outputs": [
    {
     "name": "stdout",
     "output_type": "stream",
     "text": [
      "True\n"
     ]
    }
   ],
   "source": [
    "# Check the transformation validity\n",
    "A_reconstructed = T @ R @ inv(T)\n",
    "print(np.allclose(A, A_reconstructed,atol=1e-5))  # Should be True\n"
   ]
  },
  {
   "cell_type": "code",
   "execution_count": 171,
   "metadata": {},
   "outputs": [],
   "source": [
    "eigs, eigv = np.linalg.eig(A)"
   ]
  },
  {
   "cell_type": "code",
   "execution_count": 172,
   "metadata": {},
   "outputs": [
    {
     "data": {
      "text/plain": [
       "array([[-0.05278086, -0.19180715, -0.02902033,  0.14996792, -0.22047678,\n",
       "         0.20852189,  0.06873917, -0.13801296,  0.00744946,  0.18754251],\n",
       "       [ 0.23836164, -0.1309532 , -0.2556636 ,  0.18391503, -0.24336068,\n",
       "         0.20153788,  0.24944729, -0.12183241, -0.1727    , -0.11650689],\n",
       "       [-0.11996473,  0.13893783,  0.297227  , -0.08547354,  0.32999247,\n",
       "         0.10780338, -0.07574666, -0.15530515,  0.4445297 ,  0.3187178 ],\n",
       "       [-0.18581666, -0.2367942 , -0.00288192,  0.09459443, -0.11562458,\n",
       "        -0.00449977, -0.3051671 ,  0.2185095 , -0.08480519,  0.21221358],\n",
       "       [-0.18181282,  0.07681783,  0.29144412,  0.20964581,  0.2842246 ,\n",
       "        -0.00317898,  0.09236431, -0.06517638,  0.05037151,  0.20925821],\n",
       "       [-0.27200115,  0.14961462,  0.01830534,  0.23823325,  0.24377887,\n",
       "         0.20958579,  0.02821478, -0.01022591,  0.0969556 ,  0.09146561],\n",
       "       [ 0.00537277, -0.18598135, -0.28281778, -0.24848446, -0.23379   ,\n",
       "         0.05958635,  0.3018129 , -0.16307579,  0.13974018, -0.1425718 ],\n",
       "       [-0.07082919, -0.15606724, -0.15013194, -0.24261136, -0.354407  ,\n",
       "         0.22563332, -0.2399698 , -0.12908088,  0.27955696, -0.0535681 ],\n",
       "       [-0.15368532,  0.01773923,  0.12085628,  0.19863869,  0.01309892,\n",
       "         0.0343211 , -0.12735632, -0.24307269,  0.19059022, -0.07085511],\n",
       "       [-0.15036389,  0.18916759,  0.23031363,  0.33316928,  0.3095014 ,\n",
       "         0.21281469,  0.13506462, -0.3236184 ,  0.06081706, -0.07180608]],\n",
       "      dtype=float32)"
      ]
     },
     "execution_count": 172,
     "metadata": {},
     "output_type": "execute_result"
    }
   ],
   "source": [
    "A"
   ]
  },
  {
   "cell_type": "code",
   "execution_count": 173,
   "metadata": {},
   "outputs": [
    {
     "name": "stdout",
     "output_type": "stream",
     "text": [
      "Reconstruction accurate: True\n"
     ]
    }
   ],
   "source": [
    "import numpy as np\n",
    "from scipy.linalg import schur\n",
    "from numpy.linalg import inv\n",
    "\n",
    "# Your A matrix\n",
    "A = np.array([\n",
    "    [-1.14522003e-01,  2.03093424e-01,  6.89496323e-02, -4.37825114e-01, -8.95581692e-02,\n",
    "     -2.60605991e-01, -2.18124956e-01,  2.10425913e-01,  1.20713249e-01, -1.69211611e-01],\n",
    "    [-1.39853269e-01,  2.50181258e-01, -1.67046607e-01, -1.66967645e-01,  1.50321633e-01,\n",
    "      2.21398529e-02, -7.03850016e-02,  9.52759609e-02, -2.88743973e-01,  1.30518183e-01],\n",
    "    [ 3.17415088e-01, -6.73412830e-02,  1.28425375e-01,  1.99055180e-01,  2.79311121e-01,\n",
    "      8.25060830e-02,  7.43955150e-02, -2.59516060e-01,  2.50023156e-01,  9.65642091e-03],\n",
    "    [-5.53147644e-02,  3.15649688e-01, -2.03368738e-01,  7.85609335e-02,  6.97049722e-02,\n",
    "      2.08954945e-01,  1.86362505e-01, -1.94696590e-01, -3.56145680e-01,  1.29450396e-01],\n",
    "    [ 2.98496336e-02,  2.59809136e-01,  3.15923840e-01, -2.51136333e-01,  1.78798318e-01,\n",
    "     -4.88360487e-02,  3.82526815e-02,  8.61436799e-02,  9.13691074e-02, -1.30176499e-01],\n",
    "    [ 2.43743863e-02,  1.00827860e-02, -2.18770638e-01,  2.18619466e-01, -8.52346569e-02,\n",
    "      2.91468680e-01,  3.76932830e-01, -1.54714316e-01, -4.19768572e-01,  7.02630877e-02],\n",
    "    [ 3.49000692e-02, -7.40560740e-02,  4.87561524e-02,  2.21140414e-01, -6.27286732e-02,\n",
    "     -2.75046844e-02,  4.07175511e-01, -1.55871119e-02, -1.36225998e-01, -2.22521797e-01],\n",
    "    [ 1.76082075e-01,  2.25342140e-02,  1.54601812e-01,  1.96817577e-01, -1.01822556e-03,\n",
    "     -1.20464794e-01,  3.39480102e-01, -2.11077198e-01,  4.07144874e-02, -7.00352490e-02],\n",
    "    [ 5.28373942e-02, -7.85138160e-02, -6.79740533e-02, -1.28359303e-01,  2.88389802e-01,\n",
    "     -1.17743179e-01,  6.24958463e-02,  2.38817871e-01, -1.80540234e-01, -1.08955175e-01],\n",
    "    [-1.26791298e-01,  2.68203032e-04,  1.01728342e-01,  8.21731836e-02,  1.66454509e-01,\n",
    "      1.54194906e-01, -1.00210495e-01, -1.35345504e-01,  1.30677089e-01,  1.62582874e-01]\n",
    "], dtype=np.float32)\n",
    "\n",
    "# Perform real Schur decomposition\n",
    "R, T = schur(A, output='real')\n",
    "\n",
    "# Reconstruct A\n",
    "A_reconstructed = T @ R @ inv(T)\n",
    "\n",
    "# Check closeness\n",
    "print(\"Reconstruction accurate:\", np.allclose(A, A_reconstructed, atol=1e-5))\n"
   ]
  },
  {
   "cell_type": "code",
   "execution_count": 174,
   "metadata": {},
   "outputs": [
    {
     "data": {
      "image/png": "[encoded data removed]",
      "text/plain": [
       "<Figure size 640x480 with 1 Axes>"
      ]
     },
     "metadata": {},
     "output_type": "display_data"
    }
   ],
   "source": [
    "import matplotlib.pyplot as plt\n",
    "plt.imshow(np.abs(R) > 1e-6, cmap='gray')\n",
    "plt.title(\"Nonzero pattern in Schur form R\")\n",
    "plt.show()\n"
   ]
  },
  {
   "cell_type": "code",
   "execution_count": 175,
   "metadata": {},
   "outputs": [
    {
     "data": {
      "text/plain": [
       "array([[ 0.845091  , -0.40381598,  0.36577693,  0.25178877,  0.00530107,\n",
       "        -0.17327586,  0.04618959,  0.12157419,  0.12417582,  0.12132811],\n",
       "       [ 0.        , -0.33710945,  0.20575967, -0.13826679, -0.24233016,\n",
       "        -0.00505477, -0.240361  , -0.11502698,  0.08808289,  0.20788014],\n",
       "       [ 0.        ,  0.        , -0.15355362, -0.38140142, -0.26660293,\n",
       "         0.30461884, -0.12305014, -0.00156398, -0.1841901 , -0.04006457],\n",
       "       [ 0.        ,  0.        ,  0.14581741, -0.15355362, -0.02534095,\n",
       "         0.59102094, -0.1467628 , -0.2269887 , -0.31378064,  0.1959983 ],\n",
       "       [ 0.        ,  0.        ,  0.        ,  0.        ,  0.31211343,\n",
       "        -0.08590156,  0.01585828, -0.2706209 ,  0.09726471,  0.13656934],\n",
       "       [ 0.        ,  0.        ,  0.        ,  0.        ,  0.2808893 ,\n",
       "         0.31211343, -0.09049682, -0.18754722, -0.08062394, -0.19573852],\n",
       "       [ 0.        ,  0.        ,  0.        ,  0.        ,  0.        ,\n",
       "         0.        , -0.10204245, -0.17712466, -0.05091725, -0.28305057],\n",
       "       [ 0.        ,  0.        ,  0.        ,  0.        ,  0.        ,\n",
       "         0.        ,  0.        ,  0.00282834,  0.17250797, -0.14971578],\n",
       "       [ 0.        ,  0.        ,  0.        ,  0.        ,  0.        ,\n",
       "         0.        ,  0.        , -0.03274095,  0.00282834,  0.34230366],\n",
       "       [ 0.        ,  0.        ,  0.        ,  0.        ,  0.        ,\n",
       "         0.        ,  0.        ,  0.        ,  0.        ,  0.26233852]],\n",
       "      dtype=float32)"
      ]
     },
     "execution_count": 175,
     "metadata": {},
     "output_type": "execute_result"
    }
   ],
   "source": [
    "R"
   ]
  },
  {
   "cell_type": "code",
   "execution_count": 176,
   "metadata": {},
   "outputs": [
    {
     "name": "stdout",
     "output_type": "stream",
     "text": [
      "A is diagonalizable\n"
     ]
    }
   ],
   "source": [
    "from numpy.linalg import eig, matrix_rank\n",
    "\n",
    "eigvals, eigvecs = eig(A)\n",
    "rank = matrix_rank(eigvecs)\n",
    "\n",
    "if rank == A.shape[0]:\n",
    "    print(\"A is diagonalizable\")\n",
    "else:\n",
    "    print(\"A is NOT diagonalizable (defective)\")\n"
   ]
  },
  {
   "cell_type": "code",
   "execution_count": 177,
   "metadata": {},
   "outputs": [],
   "source": [
    "import numpy as np\n",
    "from numpy.linalg import eig, inv\n",
    "\n",
    "eigvals, eigvecs = eig(A)     \n"
   ]
  },
  {
   "cell_type": "code",
   "execution_count": 178,
   "metadata": {},
   "outputs": [],
   "source": [
    "import numpy as np\n",
    "from numpy.linalg import eig, inv\n",
    "\n",
    "def real_block_diagonalize(A):\n",
    "    eigvals, eigvecs = eig(A)\n",
    "    n = A.shape[0]\n",
    "\n",
    "    T_real_cols = []\n",
    "    block_sizes = []\n",
    "    block_matrices = []\n",
    "\n",
    "    used = set()\n",
    "\n",
    "    for i in range(n):\n",
    "        if i in used:\n",
    "            continue\n",
    "\n",
    "        λ = eigvals[i]\n",
    "        v = eigvecs[:, i]\n",
    "\n",
    "        if np.isreal(λ):\n",
    "            # Real eigenvalue\n",
    "            T_real_cols.append(np.real(v))\n",
    "            block_sizes.append(1)\n",
    "            block_matrices.append(np.array([[np.real(λ)]]))\n",
    "        else:\n",
    "            # Complex eigenvalue → find conjugate\n",
    "            λ_conj = np.conj(λ)\n",
    "            for j in range(i + 1, n):\n",
    "                if j not in used and np.isclose(eigvals[j], λ_conj):\n",
    "                    v_conj = eigvecs[:, j]\n",
    "                    # Construct real 2D basis\n",
    "                    v1 = np.real(v)\n",
    "                    v2 = np.imag(v)\n",
    "                    T_real_cols.append(v1)\n",
    "                    T_real_cols.append(v2)\n",
    "\n",
    "                    a = np.real(λ)\n",
    "                    b = np.imag(λ)\n",
    "                    block_sizes.append(2)\n",
    "                    block_matrices.append(np.array([[a, b], [-b, a]]))\n",
    "                    used.add(j)\n",
    "                    break\n",
    "        used.add(i)\n",
    "\n",
    "    # Assemble T_real\n",
    "    T_real = np.column_stack(T_real_cols)\n",
    "\n",
    "    # Assemble A_block from blocks\n",
    "    A_block = np.zeros((n, n))\n",
    "    idx = 0\n",
    "    for size, block in zip(block_sizes, block_matrices):\n",
    "        A_block[idx:idx+size, idx:idx+size] = block\n",
    "        idx += size\n",
    "\n",
    "    return T_real, A_block\n"
   ]
  },
  {
   "cell_type": "code",
   "execution_count": 179,
   "metadata": {},
   "outputs": [
    {
     "name": "stdout",
     "output_type": "stream",
     "text": [
      "Close to block diagonal? True\n"
     ]
    }
   ],
   "source": [
    "T_real, A_block = real_block_diagonalize(A)\n",
    "\n",
    "# Transform A to check\n",
    "A_transformed = inv(T_real) @ A @ T_real\n",
    "print(\"Close to block diagonal?\", np.allclose(A_block, A_transformed, atol=1e-6))\n"
   ]
  },
  {
   "cell_type": "code",
   "execution_count": 180,
   "metadata": {},
   "outputs": [
    {
     "data": {
      "image/png": "[encoded data removed]",
      "text/plain": [
       "<Figure size 640x480 with 1 Axes>"
      ]
     },
     "metadata": {},
     "output_type": "display_data"
    }
   ],
   "source": [
    "import matplotlib.pyplot as plt\n",
    "plt.imshow(np.abs(A_transformed) > 1e-6, cmap='gray')\n",
    "plt.title(\"Nonzero pattern in Schur form R\")\n",
    "plt.show()"
   ]
  },
  {
   "cell_type": "code",
   "execution_count": null,
   "metadata": {},
   "outputs": [],
   "source": []
  },
  {
   "cell_type": "code",
   "execution_count": null,
   "metadata": {},
   "outputs": [],
   "source": []
  }
 ],
 "metadata": {
  "kernelspec": {
   "display_name": "kmpc",
   "language": "python",
   "name": "python3"
  },
  "language_info": {
   "codemirror_mode": {
    "name": "ipython",
    "version": 3
   },
   "file_extension": ".py",
   "mimetype": "text/x-python",
   "name": "python",
   "nbconvert_exporter": "python",
   "pygments_lexer": "ipython3",
   "version": "3.11.11"
  }
 },
 "nbformat": 4,
 "nbformat_minor": 2
}
