{
 "cells": [
  {
   "cell_type": "markdown",
   "metadata": {},
   "source": [
    "# Ofset free MPC using matric C"
   ]
  },
  {
   "cell_type": "markdown",
   "metadata": {},
   "source": [
    "# Ofset free MPC using matric C"
   ]
  },
  {
   "cell_type": "code",
   "execution_count": 1,
   "metadata": {},
   "outputs": [
    {
     "name": "stdout",
     "output_type": "stream",
     "text": [
      "Models imported succesfully\n",
      "Helper imported succesfully\n"
     ]
    }
   ],
   "source": [
    "import numpy as np\n",
    "from numpy.linalg import inv\n",
    "import pandas as pd\n",
    "import joblib\n",
    "import matplotlib.pyplot as plt\n",
    "import cvxpy as cp\n",
    "from torch.utils.data import DataLoader\n",
    "import torch\n",
    "from sklearn.preprocessing import StandardScaler\n",
    "\n",
    "from neuromancer.system import Node, System\n",
    "from neuromancer.trainer import Trainer\n",
    "from neuromancer.problem import Problem\n",
    "from neuromancer.dataset import DictDataset\n",
    "from neuromancer.constraint import variable\n",
    "from neuromancer.loss import PenaltyLoss\n",
    "from neuromancer. modules import blocks\n",
    "\n",
    "import src.models as models\n",
    "import src.helper as helper\n",
    "%load_ext autoreload\n",
    "%autoreload 2"
   ]
  },
  {
   "cell_type": "markdown",
   "metadata": {},
   "source": [
    "Load matrices, model, scalers and load process"
   ]
  },
  {
   "cell_type": "code",
   "execution_count": 2,
   "metadata": {},
   "outputs": [],
   "source": [
    "matrix_C = False\n",
    "\n",
    "# Load matrices A, B, and C \n",
    "A = np.load('./data/A_C_' + str(matrix_C) + '.npy')\n",
    "B = np.load('./data/B_C_' + str(matrix_C) + '.npy')\n",
    "C = np.load('./data/C_C_' + str(matrix_C) + '.npy')\n",
    "\n",
    "nz, nu = B.shape  # state and input dimensions\n",
    "ny = C.shape[0]  # output dimensions\n",
    "\n",
    "# disturbance \n",
    "F = np.eye(ny)\n",
    "nd = F.shape[1]"
   ]
  },
  {
   "cell_type": "code",
   "execution_count": 3,
   "metadata": {},
   "outputs": [
    {
     "name": "stdout",
     "output_type": "stream",
     "text": [
      "Close to block diagonal? True\n",
      "Backtransformation equals original A? True\n"
     ]
    }
   ],
   "source": [
    "T_real, A_block = helper.ident.real_block_diagonalize(A)\n",
    "\n",
    "# Transform A to check\n",
    "A_transformed = inv(T_real) @ A @ T_real\n",
    "print(\"Close to block diagonal?\", np.allclose(A_block, A_transformed, atol=1e-6))\n",
    "\n",
    "# Backtransform A_block to verify it equals A\n",
    "A_backtransformed = T_real @ A_block @ inv(T_real)\n",
    "print(\"Backtransformation equals original A?\", np.allclose(A, A_backtransformed, atol=1e-6))\n"
   ]
  },
  {
   "cell_type": "code",
   "execution_count": 4,
   "metadata": {},
   "outputs": [
    {
     "data": {
      "image/png": "[encoded data removed]",
      "text/plain": [
       "<Figure size 640x480 with 1 Axes>"
      ]
     },
     "metadata": {},
     "output_type": "display_data"
    }
   ],
   "source": [
    "import matplotlib.pyplot as plt\n",
    "plt.imshow(np.abs(A_transformed) > 1e-6, cmap='gray')\n",
    "plt.title(\"Nonzero pattern in Schur form R\")\n",
    "plt.show()"
   ]
  },
  {
   "cell_type": "code",
   "execution_count": 5,
   "metadata": {},
   "outputs": [],
   "source": [
    "A = A_block\n",
    "B = inv(T_real) @ B\n",
    "C = C @ T_real\n"
   ]
  },
  {
   "cell_type": "code",
   "execution_count": 6,
   "metadata": {},
   "outputs": [],
   "source": [
    "# model parameters\n",
    "\n",
    "layers = [20,40,60]\n",
    "layers_dec  = [60,40,20]\n"
   ]
  },
  {
   "cell_type": "code",
   "execution_count": 7,
   "metadata": {},
   "outputs": [
    {
     "data": {
      "text/plain": [
       "<All keys matched successfully>"
      ]
     },
     "execution_count": 7,
     "metadata": {},
     "output_type": "execute_result"
    }
   ],
   "source": [
    "# instantiate output encoder neural net f_y\n",
    "f_y = blocks.MLP(\n",
    "    ny,\n",
    "    nz,\n",
    "    bias=True,\n",
    "    linear_map=torch.nn.Linear,\n",
    "    nonlin=torch.nn.ReLU,\n",
    "    hsizes=layers,\n",
    ")\n",
    "# initial condition encoder\n",
    "encode_Y0 = Node(f_y, ['Y0'], ['x'], name='encoder_Y0')\n",
    "# observed trajectory encoder\n",
    "encode_Y = Node(f_y, ['Y'], ['x_latent'], name='encoder_Y')\n",
    "\n",
    "# instantiate input encoder net f_u, representing the B matrix in the linear system\n",
    "f_u = torch.nn.Linear(nu, nz, bias=False)\n",
    "# initial condition encoder\n",
    "encode_U = Node(f_u, ['U'], ['u_latent'], name='encoder_U')\n",
    "\n",
    "# instantiate state decoder neural net f_y_inv\n",
    "if not matrix_C:\n",
    "    f_y_inv = blocks.MLP(nz, ny, bias=True,\n",
    "                    linear_map=torch.nn.Linear,\n",
    "                    nonlin=torch.nn.ELU,\n",
    "                    hsizes=layers_dec)\n",
    "elif matrix_C:\n",
    "    f_y_inv = torch.nn.Linear(nz, ny, bias=False)\n",
    "else:\n",
    "    raise ValueError('matrix_C must be boolean')\n",
    "\n",
    "# predicted trajectory decoder\n",
    "decode_y = Node(f_y_inv, ['x'], ['yhat'], name='decoder_y')\n",
    "\n",
    "# representing matrix A in the linear system\n",
    "K = torch.nn.Linear(nz, nz, bias=False)\n",
    "\n",
    "# symbolic Koopman model with control inputs\n",
    "Koopman = Node(helper.PredictionWControl(K), ['x', 'u_latent'], ['x'], name='K')\n",
    "\n",
    "# latent Koopmann rollout\n",
    "dynamics_model = System([Koopman], name='Koopman', nsteps=1)\n",
    "\n",
    "# put all nodes of the Koopman model together in a list of nodes\n",
    "nodes = [encode_Y0, encode_Y, encode_U, dynamics_model, decode_y]\n",
    "\n",
    "# no loss function because only using the model not training it\n",
    "loss = PenaltyLoss([], constraints=[])\n",
    "\n",
    "problem = Problem(nodes, loss)\n",
    "\n",
    "problem.load_state_dict(torch.load('data/model_C_' + str(matrix_C) + '.pth'),strict=False)\n",
    "\n"
   ]
  },
  {
   "cell_type": "code",
   "execution_count": 8,
   "metadata": {},
   "outputs": [],
   "source": [
    "# load scalers\n",
    "scaler = joblib.load('data/scaler.pkl')\n",
    "scalerU = joblib.load('data/scalerU.pkl')\n"
   ]
  },
  {
   "cell_type": "code",
   "execution_count": 9,
   "metadata": {},
   "outputs": [],
   "source": [
    "# define same model as for training\n",
    "A1 = 1\n",
    "A2 = 0.5\n",
    "k1 = 0.5\n",
    "k2 = 0.8\n",
    "\n",
    "TwoTanks = models.TwoTanks(True, A1, A2, k1, k2)"
   ]
  },
  {
   "cell_type": "markdown",
   "metadata": {},
   "source": [
    "Necesary?"
   ]
  },
  {
   "cell_type": "code",
   "execution_count": 10,
   "metadata": {},
   "outputs": [],
   "source": [
    "# probably yes\n",
    "def get_x(y):\n",
    "    x = problem.nodes[0]({\"Y0\": torch.from_numpy(y).float()})\n",
    "    return x[\"x\"].detach().numpy().reshape(1,-1).T\n",
    "\n",
    "def get_y(x):\n",
    "    y = problem.nodes[4]({\"x\": torch.from_numpy(x.T).float()})\n",
    "    return y[\"yhat\"].detach().numpy().reshape(1,-1)"
   ]
  },
  {
   "cell_type": "markdown",
   "metadata": {},
   "source": [
    "## Optimal control problem"
   ]
  },
  {
   "cell_type": "markdown",
   "metadata": {},
   "source": [
    "Observer - Kalman filter"
   ]
  },
  {
   "cell_type": "code",
   "execution_count": 11,
   "metadata": {},
   "outputs": [],
   "source": [
    "loaded_setup = joblib.load(\"sim_setup.pkl\")"
   ]
  },
  {
   "cell_type": "code",
   "execution_count": 12,
   "metadata": {},
   "outputs": [],
   "source": [
    "y_start = loaded_setup['y_start']\n",
    "\n",
    "y_setpoint = loaded_setup['reference'][:,0]\n",
    "\n",
    "u_previous = loaded_setup['u_previous']\n",
    "\n",
    "z_est_ = np.hstack(((inv(T_real)@get_x(y_start)).T, np.zeros((1,nd))))\n",
    "P0 = loaded_setup['P0']\n",
    "\n",
    "# Noise covariances\n",
    "Q = loaded_setup['Q']  # process noise\n",
    "R = loaded_setup['R']  # measurement noise\n",
    "A_ = np.block([\n",
    "    [A, np.zeros((nz, nd))],\n",
    "    [np.zeros((nd, nz)), np.eye(nd)]\n",
    "])\n",
    "B_ = np.vstack([\n",
    "    B,\n",
    "    np.zeros((nd, nu))\n",
    "])\n",
    "\n",
    "EKF = helper.EKF(A_,B_,z_est_,P0, problem, Q, R, 2, T_real)\n"
   ]
  },
  {
   "cell_type": "markdown",
   "metadata": {},
   "source": [
    "Target calculation"
   ]
  },
  {
   "cell_type": "code",
   "execution_count": 13,
   "metadata": {},
   "outputs": [],
   "source": [
    "N = loaded_setup['N']\n",
    "Qy = loaded_setup['Qy']\n",
    "Qu = loaded_setup['Qu']\n",
    "\n",
    "J = helper.evaluate_jacobian(\n",
    "    problem.nodes[4],\n",
    "    torch.from_numpy(get_x(y_start).T[0]).float(),\n",
    ")\n",
    "\n",
    "C_k = cp.Parameter((ny, nz))\n",
    "C_k.value = J@T_real\n",
    "\n",
    "\n",
    "# Constraints\n",
    "u_min = scalerU.transform(np.array([[0.0, 0.0]]))[0]\n",
    "u_max = scalerU.transform(np.array([[0.5, 1.0]]))[0]\n",
    "y_min = scaler.transform(np.array([[0.0, 0.0]]))[0]\n",
    "y_max = scaler.transform(np.array([[5.0, 5.0]]))[0]\n",
    "\n",
    "z0 = cp.Parameter(nz)\n",
    "d0 = cp.Parameter(ny)\n",
    "d0.value = np.zeros(ny)\n",
    "u_prev = cp.Parameter(nu)\n",
    "\n",
    "y_sp = cp.Parameter(ny)\n",
    "y_sp.value = y_setpoint\n",
    "# y_sp = y_setpoint\n",
    "z_ref = cp.Parameter(nz)\n",
    "\n",
    "# Decision variables\n",
    "z = cp.Variable((nz, N+1))\n",
    "y = cp.Variable((ny, N+1))\n",
    "delta_u = cp.Variable((nu, N))\n",
    "u = cp.Variable((nu, N + 1)) \n",
    "z_s = cp.Variable(nz)\n",
    "z_k = cp.Parameter(nz)\n",
    "z_k.value = z_est_[0,:nz]\n",
    "y_k = cp.Parameter(ny)\n",
    "y_k.value = get_y(T_real@z_k.value)[0]\n",
    "y_s = cp.Variable(ny)\n",
    "u_s = cp.Variable(nu)\n"
   ]
  },
  {
   "cell_type": "code",
   "execution_count": 14,
   "metadata": {},
   "outputs": [
    {
     "data": {
      "text/plain": [
       "array([-0.32987699, -0.25545107])"
      ]
     },
     "execution_count": 14,
     "metadata": {},
     "output_type": "execute_result"
    }
   ],
   "source": [
    "(y_k - C_k@z_k).value"
   ]
  },
  {
   "cell_type": "code",
   "execution_count": 15,
   "metadata": {},
   "outputs": [
    {
     "name": "stdout",
     "output_type": "stream",
     "text": [
      "Set parameter Username\n",
      "Set parameter LicenseID to value 2631450\n",
      "Academic license - for non-commercial use only - expires 2026-03-05\n",
      "optimal\n",
      "Optimal y: [[0.5 0.5]]\n",
      "Desired y: [[0.5 0.5]]\n",
      "Optimal u: [[0.05012239 0.53753501]]\n"
     ]
    },
    {
     "name": "stderr",
     "output_type": "stream",
     "text": [
      "/Users/patrik/miniconda3/envs/kmpc/lib/python3.11/site-packages/cvxpy/reductions/solvers/solving_chain.py:245: UserWarning: You are solving a parameterized problem that is not DPP. Because the problem is not DPP, subsequent solves will not be faster than the first one. For more information, see the documentation on Disciplined Parametrized Programming, at https://www.cvxpy.org/tutorial/dpp/index.html\n",
      "  warnings.warn(DPP_ERROR_MSG)\n"
     ]
    }
   ],
   "source": [
    "\n",
    "# Constraints and cost\n",
    "constraints_s = [z_s == A @ z_s + B @ u_s]\n",
    "constraints_s += [y_s == C_k @ z_s + y_k - C_k @ z_k + F @ d0]\n",
    "constraints_s += [u_min <= u_s, u_s <= u_max]\n",
    "constraints_s += [y_min <= y_s, y_s <= y_max]\n",
    "\n",
    "cost_s = 0\n",
    "cost_s += cp.quad_form(y_s - y_sp, np.eye(ny))\n",
    "\n",
    "target_estimation = cp.Problem(cp.Minimize(cost_s), constraints_s)\n",
    "target_estimation.solve(solver=cp.GUROBI)\n",
    "print(target_estimation.status)\n",
    "print(\"Optimal y:\", scaler.inverse_transform(y_s.value.reshape(1,-1)))\n",
    "print(\"Desired y:\", scaler.inverse_transform(y_sp.value.reshape(1,-1)))\n",
    "print(\"Optimal u:\", scalerU.inverse_transform(u_s.value.reshape(1,-1)))\n",
    "\n",
    "z_ref.value = z_s.value"
   ]
  },
  {
   "cell_type": "code",
   "execution_count": 16,
   "metadata": {},
   "outputs": [
    {
     "name": "stdout",
     "output_type": "stream",
     "text": [
      "optimal\n",
      "Optimal y: [[0.5065281  0.49563695]]\n",
      "Desired y: [[0.5 0.5]]\n",
      "Optimal u: [[4.63016373e-08 5.48498234e-01]]\n"
     ]
    },
    {
     "name": "stderr",
     "output_type": "stream",
     "text": [
      "/Users/patrik/miniconda3/envs/kmpc/lib/python3.11/site-packages/cvxpy/reductions/solvers/solving_chain.py:245: UserWarning: You are solving a parameterized problem that is not DPP. Because the problem is not DPP, subsequent solves will not be faster than the first one. For more information, see the documentation on Disciplined Parametrized Programming, at https://www.cvxpy.org/tutorial/dpp/index.html\n",
      "  warnings.warn(DPP_ERROR_MSG)\n"
     ]
    }
   ],
   "source": [
    "\n",
    "J = helper.evaluate_jacobian(\n",
    "    problem.nodes[4],\n",
    "    torch.from_numpy(T_real@z_s.value).float(),\n",
    ")\n",
    "C_k.value = J@T_real\n",
    "# Constraints and cost\n",
    "constraints_s = [z_s == A @ z_s + B @ u_s]\n",
    "constraints_s += [y_s == C_k @ z_s + y_k - C_k @ z_k + F @ d0]\n",
    "constraints_s += [u_min <= u_s, u_s <= u_max]\n",
    "constraints_s += [y_min <= y_s, y_s <= y_max]\n",
    "\n",
    "cost_s = 0\n",
    "cost_s += cp.quad_form(y_s - y_sp, np.eye(ny))\n",
    "\n",
    "target_estimation = cp.Problem(cp.Minimize(cost_s), constraints_s)\n",
    "target_estimation.solve(solver=cp.GUROBI)\n",
    "print(target_estimation.status)\n",
    "print(\"Optimal y:\", scaler.inverse_transform(y_s.value.reshape(1,-1)))\n",
    "print(\"Desired y:\", scaler.inverse_transform(y_sp.value.reshape(1,-1)))\n",
    "print(\"Optimal u:\", scalerU.inverse_transform(u_s.value.reshape(1,-1)))\n",
    "\n",
    "z_ref.value = z_s.value"
   ]
  },
  {
   "cell_type": "code",
   "execution_count": 17,
   "metadata": {},
   "outputs": [
    {
     "data": {
      "text/plain": [
       "array([ 0.00737037, -0.00610008])"
      ]
     },
     "execution_count": 17,
     "metadata": {},
     "output_type": "execute_result"
    }
   ],
   "source": [
    "y_s.value - y_sp.value"
   ]
  },
  {
   "cell_type": "markdown",
   "metadata": {},
   "source": [
    "MPC problem formulation\n"
   ]
  },
  {
   "cell_type": "code",
   "execution_count": 18,
   "metadata": {},
   "outputs": [],
   "source": [
    "z0.value = z_est_[0,0:nz]\n",
    "u_prev.value = u_previous"
   ]
  },
  {
   "cell_type": "code",
   "execution_count": 19,
   "metadata": {},
   "outputs": [],
   "source": [
    "C_k.value = helper.evaluate_jacobian(\n",
    "    problem.nodes[4],\n",
    "    torch.from_numpy(T_real@z_s.value).float(),\n",
    ")\n",
    "J = C_k.value@T_real\n",
    "#!!!!\n",
    "Qz = J.T@Qy@J\n",
    "Qz_psd = Qz + 1e-8 * np.eye(Qz.shape[0])\n",
    "\n",
    "constraints = [z[:, 0] == z0]\n",
    "constraints += [u[:, 0] == u_prev + delta_u[:, 0]]\n",
    "cost = 0\n",
    "for k in range(N):\n",
    "    constraints += [u[:, k] == u[:, k-1] + delta_u[:, k]]\n",
    "    \n",
    "    constraints += [\n",
    "        z[:, k+1] == A @ z[:, k] + B @ u[:,k],\n",
    "        #y[:, k] == C @ z[:, k] + F @ d0,\n",
    "        y[:, k] == C_k @ z[:, k] + y_k - C_k @ z_k + F @ d0,\n",
    "        u_min <= u[:, k], u[:, k] <= u_max,\n",
    "        y_min <= y[:, k], y[:, k] <= y_max\n",
    "    ]\n",
    "    cost += cp.quad_form(z[:, k] - z_ref, Qz_psd) + cp.quad_form(delta_u[:, k], Qu)"
   ]
  },
  {
   "cell_type": "code",
   "execution_count": 20,
   "metadata": {},
   "outputs": [],
   "source": [
    "def construct_MPC(J_k):\n",
    "    J = J_k\n",
    "    Qz = J.T@Qy@J\n",
    "    Qz_psd = Qz + 1e-8 * np.eye(Qz.shape[0])\n",
    "    # Constraints and cost\n",
    "    cost = 0\n",
    "    for k in range(N):    \n",
    "        cost += cp.quad_form(z[:, k] - z_ref, Qz_psd) + cp.quad_form(delta_u[:, k], Qu)\n",
    "    mpc = cp.Problem(cp.Minimize(cost), constraints)\n",
    "    return mpc\n",
    "    # Terminal cost - not yet\n",
    "    # cost += cp.quad_form(x[:, N] - x_ref[:, N], Q)\n"
   ]
  },
  {
   "cell_type": "code",
   "execution_count": 21,
   "metadata": {},
   "outputs": [
    {
     "name": "stdout",
     "output_type": "stream",
     "text": [
      "[-0.22174961 -0.16642717]\n",
      "optimal\n"
     ]
    },
    {
     "name": "stderr",
     "output_type": "stream",
     "text": [
      "/Users/patrik/miniconda3/envs/kmpc/lib/python3.11/site-packages/cvxpy/reductions/solvers/solving_chain.py:245: UserWarning: You are solving a parameterized problem that is not DPP. Because the problem is not DPP, subsequent solves will not be faster than the first one. For more information, see the documentation on Disciplined Parametrized Programming, at https://www.cvxpy.org/tutorial/dpp/index.html\n",
      "  warnings.warn(DPP_ERROR_MSG)\n"
     ]
    }
   ],
   "source": [
    "# sanity check and problem formulation\n",
    "mpc = cp.Problem(cp.Minimize(cost), constraints)\n",
    "mpc.solve(solver=cp.GUROBI)\n",
    "u_opt = u[:,0].value\n",
    "print(u[:,0].value)\n",
    "print(mpc.status)"
   ]
  },
  {
   "cell_type": "code",
   "execution_count": 22,
   "metadata": {},
   "outputs": [],
   "source": [
    "y_sp.value = scaler.transform(np.array([[0.5,0.5]]))[0]\n",
    "z_k.value = z_s.value\n",
    "y_k.value = get_y(T_real@z_k.value)[0]\n",
    "target_estimation.solve(solver=cp.GUROBI)\n",
    "z_ref.value = z_s.value\n"
   ]
  },
  {
   "cell_type": "code",
   "execution_count": 23,
   "metadata": {},
   "outputs": [
    {
     "name": "stderr",
     "output_type": "stream",
     "text": [
      "/Users/patrik/miniconda3/envs/kmpc/lib/python3.11/site-packages/cvxpy/reductions/solvers/solving_chain.py:245: UserWarning: You are solving a parameterized problem that is not DPP. Because the problem is not DPP, subsequent solves will not be faster than the first one. For more information, see the documentation on Disciplined Parametrized Programming, at https://www.cvxpy.org/tutorial/dpp/index.html\n",
      "  warnings.warn(DPP_ERROR_MSG)\n"
     ]
    },
    {
     "name": "stdout",
     "output_type": "stream",
     "text": [
      "[-0.23429328 -0.17192015]\n",
      "[-0.11531234 -0.04087167]\n",
      "optimal\n"
     ]
    },
    {
     "name": "stderr",
     "output_type": "stream",
     "text": [
      "/Users/patrik/miniconda3/envs/kmpc/lib/python3.11/site-packages/cvxpy/reductions/solvers/solving_chain.py:245: UserWarning: You are solving a parameterized problem that is not DPP. Because the problem is not DPP, subsequent solves will not be faster than the first one. For more information, see the documentation on Disciplined Parametrized Programming, at https://www.cvxpy.org/tutorial/dpp/index.html\n",
      "  warnings.warn(DPP_ERROR_MSG)\n",
      "/Users/patrik/miniconda3/envs/kmpc/lib/python3.11/site-packages/cvxpy/reductions/solvers/solving_chain.py:245: UserWarning: You are solving a parameterized problem that is not DPP. Because the problem is not DPP, subsequent solves will not be faster than the first one. For more information, see the documentation on Disciplined Parametrized Programming, at https://www.cvxpy.org/tutorial/dpp/index.html\n",
      "  warnings.warn(DPP_ERROR_MSG)\n",
      "/Users/patrik/miniconda3/envs/kmpc/lib/python3.11/site-packages/cvxpy/reductions/solvers/solving_chain.py:245: UserWarning: You are solving a parameterized problem that is not DPP. Because the problem is not DPP, subsequent solves will not be faster than the first one. For more information, see the documentation on Disciplined Parametrized Programming, at https://www.cvxpy.org/tutorial/dpp/index.html\n",
      "  warnings.warn(DPP_ERROR_MSG)\n"
     ]
    },
    {
     "name": "stdout",
     "output_type": "stream",
     "text": [
      "[-0.11325679 -0.23051037]\n",
      "[ 0.05666821 -0.0341367 ]\n",
      "optimal\n",
      "[-0.27954709 -0.30769849]\n",
      "[-0.08439984 -0.02715912]\n",
      "optimal\n",
      "[-0.41371068 -0.35474367]\n",
      "[-0.11311133 -0.02464688]\n",
      "optimal\n",
      "[-0.50926834 -0.36650471]\n",
      "[-0.11308122 -0.01631876]\n",
      "optimal\n",
      "[-0.57194559 -0.34905242]\n",
      "[-0.10513044 -0.0090002 ]\n",
      "optimal\n",
      "[-0.5980666  -0.31764256]\n",
      "[-0.09734538 -0.00503569]\n",
      "optimal\n"
     ]
    },
    {
     "name": "stderr",
     "output_type": "stream",
     "text": [
      "/Users/patrik/miniconda3/envs/kmpc/lib/python3.11/site-packages/cvxpy/reductions/solvers/solving_chain.py:245: UserWarning: You are solving a parameterized problem that is not DPP. Because the problem is not DPP, subsequent solves will not be faster than the first one. For more information, see the documentation on Disciplined Parametrized Programming, at https://www.cvxpy.org/tutorial/dpp/index.html\n",
      "  warnings.warn(DPP_ERROR_MSG)\n",
      "/Users/patrik/miniconda3/envs/kmpc/lib/python3.11/site-packages/cvxpy/reductions/solvers/solving_chain.py:245: UserWarning: You are solving a parameterized problem that is not DPP. Because the problem is not DPP, subsequent solves will not be faster than the first one. For more information, see the documentation on Disciplined Parametrized Programming, at https://www.cvxpy.org/tutorial/dpp/index.html\n",
      "  warnings.warn(DPP_ERROR_MSG)\n",
      "/Users/patrik/miniconda3/envs/kmpc/lib/python3.11/site-packages/cvxpy/reductions/solvers/solving_chain.py:245: UserWarning: You are solving a parameterized problem that is not DPP. Because the problem is not DPP, subsequent solves will not be faster than the first one. For more information, see the documentation on Disciplined Parametrized Programming, at https://www.cvxpy.org/tutorial/dpp/index.html\n",
      "  warnings.warn(DPP_ERROR_MSG)\n",
      "/Users/patrik/miniconda3/envs/kmpc/lib/python3.11/site-packages/cvxpy/reductions/solvers/solving_chain.py:245: UserWarning: You are solving a parameterized problem that is not DPP. Because the problem is not DPP, subsequent solves will not be faster than the first one. For more information, see the documentation on Disciplined Parametrized Programming, at https://www.cvxpy.org/tutorial/dpp/index.html\n",
      "  warnings.warn(DPP_ERROR_MSG)\n"
     ]
    },
    {
     "name": "stdout",
     "output_type": "stream",
     "text": [
      "[-0.60345844 -0.28726732]\n",
      "[-0.09051967 -0.00390876]\n",
      "optimal\n",
      "[-0.61172016 -0.26591513]\n",
      "[-0.08329841 -0.00212436]\n",
      "optimal\n",
      "[-0.62100237 -0.24894407]\n",
      "[-7.75603736e-02 -8.19092485e-05]\n",
      "optimal\n",
      "[-0.63706998 -0.23639146]\n",
      "[-0.07172625  0.0020686 ]\n",
      "optimal\n"
     ]
    },
    {
     "name": "stderr",
     "output_type": "stream",
     "text": [
      "/Users/patrik/miniconda3/envs/kmpc/lib/python3.11/site-packages/cvxpy/reductions/solvers/solving_chain.py:245: UserWarning: You are solving a parameterized problem that is not DPP. Because the problem is not DPP, subsequent solves will not be faster than the first one. For more information, see the documentation on Disciplined Parametrized Programming, at https://www.cvxpy.org/tutorial/dpp/index.html\n",
      "  warnings.warn(DPP_ERROR_MSG)\n",
      "/Users/patrik/miniconda3/envs/kmpc/lib/python3.11/site-packages/cvxpy/reductions/solvers/solving_chain.py:245: UserWarning: You are solving a parameterized problem that is not DPP. Because the problem is not DPP, subsequent solves will not be faster than the first one. For more information, see the documentation on Disciplined Parametrized Programming, at https://www.cvxpy.org/tutorial/dpp/index.html\n",
      "  warnings.warn(DPP_ERROR_MSG)\n",
      "/Users/patrik/miniconda3/envs/kmpc/lib/python3.11/site-packages/cvxpy/reductions/solvers/solving_chain.py:245: UserWarning: You are solving a parameterized problem that is not DPP. Because the problem is not DPP, subsequent solves will not be faster than the first one. For more information, see the documentation on Disciplined Parametrized Programming, at https://www.cvxpy.org/tutorial/dpp/index.html\n",
      "  warnings.warn(DPP_ERROR_MSG)\n",
      "/Users/patrik/miniconda3/envs/kmpc/lib/python3.11/site-packages/cvxpy/reductions/solvers/solving_chain.py:245: UserWarning: You are solving a parameterized problem that is not DPP. Because the problem is not DPP, subsequent solves will not be faster than the first one. For more information, see the documentation on Disciplined Parametrized Programming, at https://www.cvxpy.org/tutorial/dpp/index.html\n",
      "  warnings.warn(DPP_ERROR_MSG)\n"
     ]
    },
    {
     "name": "stdout",
     "output_type": "stream",
     "text": [
      "[-0.66679767 -0.22619532]\n",
      "[-0.06384462  0.00430621]\n",
      "optimal\n",
      "[-0.69809972 -0.21340525]\n",
      "[-0.05706869  0.00611043]\n",
      "optimal\n",
      "[-0.72916818 -0.19832027]\n",
      "[-0.05045647  0.00767492]\n",
      "optimal\n",
      "[-0.75864551 -0.18182068]\n",
      "[-0.0445151  0.0089329]\n",
      "optimal\n"
     ]
    },
    {
     "name": "stderr",
     "output_type": "stream",
     "text": [
      "/Users/patrik/miniconda3/envs/kmpc/lib/python3.11/site-packages/cvxpy/reductions/solvers/solving_chain.py:245: UserWarning: You are solving a parameterized problem that is not DPP. Because the problem is not DPP, subsequent solves will not be faster than the first one. For more information, see the documentation on Disciplined Parametrized Programming, at https://www.cvxpy.org/tutorial/dpp/index.html\n",
      "  warnings.warn(DPP_ERROR_MSG)\n",
      "/Users/patrik/miniconda3/envs/kmpc/lib/python3.11/site-packages/cvxpy/reductions/solvers/solving_chain.py:245: UserWarning: You are solving a parameterized problem that is not DPP. Because the problem is not DPP, subsequent solves will not be faster than the first one. For more information, see the documentation on Disciplined Parametrized Programming, at https://www.cvxpy.org/tutorial/dpp/index.html\n",
      "  warnings.warn(DPP_ERROR_MSG)\n",
      "/Users/patrik/miniconda3/envs/kmpc/lib/python3.11/site-packages/cvxpy/reductions/solvers/solving_chain.py:245: UserWarning: You are solving a parameterized problem that is not DPP. Because the problem is not DPP, subsequent solves will not be faster than the first one. For more information, see the documentation on Disciplined Parametrized Programming, at https://www.cvxpy.org/tutorial/dpp/index.html\n",
      "  warnings.warn(DPP_ERROR_MSG)\n",
      "/Users/patrik/miniconda3/envs/kmpc/lib/python3.11/site-packages/cvxpy/reductions/solvers/solving_chain.py:245: UserWarning: You are solving a parameterized problem that is not DPP. Because the problem is not DPP, subsequent solves will not be faster than the first one. For more information, see the documentation on Disciplined Parametrized Programming, at https://www.cvxpy.org/tutorial/dpp/index.html\n",
      "  warnings.warn(DPP_ERROR_MSG)\n"
     ]
    },
    {
     "name": "stdout",
     "output_type": "stream",
     "text": [
      "[-0.7863567  -0.16501881]\n",
      "[-0.03925431  0.0099115 ]\n",
      "optimal\n",
      "[-0.81260288 -0.14865047]\n",
      "[-0.03456098  0.01066408]\n",
      "optimal\n"
     ]
    },
    {
     "name": "stderr",
     "output_type": "stream",
     "text": [
      "/Users/patrik/miniconda3/envs/kmpc/lib/python3.11/site-packages/cvxpy/reductions/solvers/solving_chain.py:245: UserWarning: You are solving a parameterized problem that is not DPP. Because the problem is not DPP, subsequent solves will not be faster than the first one. For more information, see the documentation on Disciplined Parametrized Programming, at https://www.cvxpy.org/tutorial/dpp/index.html\n",
      "  warnings.warn(DPP_ERROR_MSG)\n",
      "/Users/patrik/miniconda3/envs/kmpc/lib/python3.11/site-packages/cvxpy/reductions/solvers/solving_chain.py:245: UserWarning: You are solving a parameterized problem that is not DPP. Because the problem is not DPP, subsequent solves will not be faster than the first one. For more information, see the documentation on Disciplined Parametrized Programming, at https://www.cvxpy.org/tutorial/dpp/index.html\n",
      "  warnings.warn(DPP_ERROR_MSG)\n"
     ]
    },
    {
     "name": "stdout",
     "output_type": "stream",
     "text": [
      "[-0.83761941 -0.13302306]\n",
      "[-0.03035597  0.01124989]\n",
      "optimal\n",
      "[-0.86152622 -0.11818367]\n",
      "[-0.02657867  0.01170503]\n",
      "optimal\n",
      "[-0.8843495  -0.10409454]\n",
      "[-0.02319763  0.01205008]\n",
      "optimal\n",
      "[-0.90609815 -0.09073084]\n",
      "[-0.02018702  0.01229599]\n",
      "optimal\n"
     ]
    },
    {
     "name": "stderr",
     "output_type": "stream",
     "text": [
      "/Users/patrik/miniconda3/envs/kmpc/lib/python3.11/site-packages/cvxpy/reductions/solvers/solving_chain.py:245: UserWarning: You are solving a parameterized problem that is not DPP. Because the problem is not DPP, subsequent solves will not be faster than the first one. For more information, see the documentation on Disciplined Parametrized Programming, at https://www.cvxpy.org/tutorial/dpp/index.html\n",
      "  warnings.warn(DPP_ERROR_MSG)\n",
      "/Users/patrik/miniconda3/envs/kmpc/lib/python3.11/site-packages/cvxpy/reductions/solvers/solving_chain.py:245: UserWarning: You are solving a parameterized problem that is not DPP. Because the problem is not DPP, subsequent solves will not be faster than the first one. For more information, see the documentation on Disciplined Parametrized Programming, at https://www.cvxpy.org/tutorial/dpp/index.html\n",
      "  warnings.warn(DPP_ERROR_MSG)\n",
      "/Users/patrik/miniconda3/envs/kmpc/lib/python3.11/site-packages/cvxpy/reductions/solvers/solving_chain.py:245: UserWarning: You are solving a parameterized problem that is not DPP. Because the problem is not DPP, subsequent solves will not be faster than the first one. For more information, see the documentation on Disciplined Parametrized Programming, at https://www.cvxpy.org/tutorial/dpp/index.html\n",
      "  warnings.warn(DPP_ERROR_MSG)\n",
      "/Users/patrik/miniconda3/envs/kmpc/lib/python3.11/site-packages/cvxpy/reductions/solvers/solving_chain.py:245: UserWarning: You are solving a parameterized problem that is not DPP. Because the problem is not DPP, subsequent solves will not be faster than the first one. For more information, see the documentation on Disciplined Parametrized Programming, at https://www.cvxpy.org/tutorial/dpp/index.html\n",
      "  warnings.warn(DPP_ERROR_MSG)\n"
     ]
    },
    {
     "name": "stdout",
     "output_type": "stream",
     "text": [
      "[-0.92679191 -0.07808248]\n",
      "[-0.01751425  0.01245443]\n",
      "optimal\n",
      "[-0.94646645 -0.06613971]\n",
      "[-0.01513892  0.01254035]\n",
      "optimal\n",
      "[-0.96516268 -0.05488464]\n",
      "[-0.01302519  0.01256865]\n",
      "optimal\n",
      "[-0.98293188 -0.04429359]\n",
      "[-0.01113573  0.01255173]\n",
      "optimal\n"
     ]
    },
    {
     "name": "stderr",
     "output_type": "stream",
     "text": [
      "/Users/patrik/miniconda3/envs/kmpc/lib/python3.11/site-packages/cvxpy/reductions/solvers/solving_chain.py:245: UserWarning: You are solving a parameterized problem that is not DPP. Because the problem is not DPP, subsequent solves will not be faster than the first one. For more information, see the documentation on Disciplined Parametrized Programming, at https://www.cvxpy.org/tutorial/dpp/index.html\n",
      "  warnings.warn(DPP_ERROR_MSG)\n",
      "/Users/patrik/miniconda3/envs/kmpc/lib/python3.11/site-packages/cvxpy/reductions/solvers/solving_chain.py:245: UserWarning: You are solving a parameterized problem that is not DPP. Because the problem is not DPP, subsequent solves will not be faster than the first one. For more information, see the documentation on Disciplined Parametrized Programming, at https://www.cvxpy.org/tutorial/dpp/index.html\n",
      "  warnings.warn(DPP_ERROR_MSG)\n",
      "/Users/patrik/miniconda3/envs/kmpc/lib/python3.11/site-packages/cvxpy/reductions/solvers/solving_chain.py:245: UserWarning: You are solving a parameterized problem that is not DPP. Because the problem is not DPP, subsequent solves will not be faster than the first one. For more information, see the documentation on Disciplined Parametrized Programming, at https://www.cvxpy.org/tutorial/dpp/index.html\n",
      "  warnings.warn(DPP_ERROR_MSG)\n",
      "/Users/patrik/miniconda3/envs/kmpc/lib/python3.11/site-packages/cvxpy/reductions/solvers/solving_chain.py:245: UserWarning: You are solving a parameterized problem that is not DPP. Because the problem is not DPP, subsequent solves will not be faster than the first one. For more information, see the documentation on Disciplined Parametrized Programming, at https://www.cvxpy.org/tutorial/dpp/index.html\n",
      "  warnings.warn(DPP_ERROR_MSG)\n"
     ]
    },
    {
     "name": "stdout",
     "output_type": "stream",
     "text": [
      "[-0.9998148  -0.03432432]\n",
      "[-0.00944111  0.01250308]\n",
      "optimal\n",
      "[-1.01584723 -0.02492974]\n",
      "[-0.00791951  0.01243214]\n",
      "optimal\n",
      "[-1.03106313 -0.01606559]\n",
      "[-0.00655322  0.01234539]\n",
      "optimal\n",
      "[-1.0454984  -0.00769157]\n",
      "[-0.00532697  0.01224723]\n",
      "optimal\n"
     ]
    },
    {
     "name": "stderr",
     "output_type": "stream",
     "text": [
      "/Users/patrik/miniconda3/envs/kmpc/lib/python3.11/site-packages/cvxpy/reductions/solvers/solving_chain.py:245: UserWarning: You are solving a parameterized problem that is not DPP. Because the problem is not DPP, subsequent solves will not be faster than the first one. For more information, see the documentation on Disciplined Parametrized Programming, at https://www.cvxpy.org/tutorial/dpp/index.html\n",
      "  warnings.warn(DPP_ERROR_MSG)\n",
      "/Users/patrik/miniconda3/envs/kmpc/lib/python3.11/site-packages/cvxpy/reductions/solvers/solving_chain.py:245: UserWarning: You are solving a parameterized problem that is not DPP. Because the problem is not DPP, subsequent solves will not be faster than the first one. For more information, see the documentation on Disciplined Parametrized Programming, at https://www.cvxpy.org/tutorial/dpp/index.html\n",
      "  warnings.warn(DPP_ERROR_MSG)\n",
      "/Users/patrik/miniconda3/envs/kmpc/lib/python3.11/site-packages/cvxpy/reductions/solvers/solving_chain.py:245: UserWarning: You are solving a parameterized problem that is not DPP. Because the problem is not DPP, subsequent solves will not be faster than the first one. For more information, see the documentation on Disciplined Parametrized Programming, at https://www.cvxpy.org/tutorial/dpp/index.html\n",
      "  warnings.warn(DPP_ERROR_MSG)\n",
      "/Users/patrik/miniconda3/envs/kmpc/lib/python3.11/site-packages/cvxpy/reductions/solvers/solving_chain.py:245: UserWarning: You are solving a parameterized problem that is not DPP. Because the problem is not DPP, subsequent solves will not be faster than the first one. For more information, see the documentation on Disciplined Parametrized Programming, at https://www.cvxpy.org/tutorial/dpp/index.html\n",
      "  warnings.warn(DPP_ERROR_MSG)\n"
     ]
    },
    {
     "name": "stdout",
     "output_type": "stream",
     "text": [
      "[-1.05918976e+00  2.27117648e-04]\n",
      "[-0.00422766  0.01214116]\n",
      "optimal\n",
      "[-1.07217394  0.00771854]\n",
      "[-0.00324532  0.01203111]\n",
      "optimal\n",
      "[-1.08448879  0.01480791]\n",
      "[-0.00237117  0.0119221 ]\n",
      "optimal\n"
     ]
    },
    {
     "name": "stderr",
     "output_type": "stream",
     "text": [
      "/Users/patrik/miniconda3/envs/kmpc/lib/python3.11/site-packages/cvxpy/reductions/solvers/solving_chain.py:245: UserWarning: You are solving a parameterized problem that is not DPP. Because the problem is not DPP, subsequent solves will not be faster than the first one. For more information, see the documentation on Disciplined Parametrized Programming, at https://www.cvxpy.org/tutorial/dpp/index.html\n",
      "  warnings.warn(DPP_ERROR_MSG)\n",
      "/Users/patrik/miniconda3/envs/kmpc/lib/python3.11/site-packages/cvxpy/reductions/solvers/solving_chain.py:245: UserWarning: You are solving a parameterized problem that is not DPP. Because the problem is not DPP, subsequent solves will not be faster than the first one. For more information, see the documentation on Disciplined Parametrized Programming, at https://www.cvxpy.org/tutorial/dpp/index.html\n",
      "  warnings.warn(DPP_ERROR_MSG)\n",
      "/Users/patrik/miniconda3/envs/kmpc/lib/python3.11/site-packages/cvxpy/reductions/solvers/solving_chain.py:245: UserWarning: You are solving a parameterized problem that is not DPP. Because the problem is not DPP, subsequent solves will not be faster than the first one. For more information, see the documentation on Disciplined Parametrized Programming, at https://www.cvxpy.org/tutorial/dpp/index.html\n",
      "  warnings.warn(DPP_ERROR_MSG)\n"
     ]
    },
    {
     "name": "stdout",
     "output_type": "stream",
     "text": [
      "[-1.09616963  0.02151888]\n",
      "[-0.00160122  0.01182719]\n",
      "optimal\n",
      "[-1.10725056  0.02787543]\n",
      "[-0.00094258  0.01178871]\n",
      "optimal\n",
      "[-1.11776218  0.03390429]\n",
      "[-0.00054822  0.01222082]\n",
      "optimal\n",
      "[-1.12772531  0.03964636]\n",
      "[0.00023091 0.01129314]\n",
      "optimal\n"
     ]
    },
    {
     "name": "stderr",
     "output_type": "stream",
     "text": [
      "/Users/patrik/miniconda3/envs/kmpc/lib/python3.11/site-packages/cvxpy/reductions/solvers/solving_chain.py:245: UserWarning: You are solving a parameterized problem that is not DPP. Because the problem is not DPP, subsequent solves will not be faster than the first one. For more information, see the documentation on Disciplined Parametrized Programming, at https://www.cvxpy.org/tutorial/dpp/index.html\n",
      "  warnings.warn(DPP_ERROR_MSG)\n",
      "/Users/patrik/miniconda3/envs/kmpc/lib/python3.11/site-packages/cvxpy/reductions/solvers/solving_chain.py:245: UserWarning: You are solving a parameterized problem that is not DPP. Because the problem is not DPP, subsequent solves will not be faster than the first one. For more information, see the documentation on Disciplined Parametrized Programming, at https://www.cvxpy.org/tutorial/dpp/index.html\n",
      "  warnings.warn(DPP_ERROR_MSG)\n",
      "/Users/patrik/miniconda3/envs/kmpc/lib/python3.11/site-packages/cvxpy/reductions/solvers/solving_chain.py:245: UserWarning: You are solving a parameterized problem that is not DPP. Because the problem is not DPP, subsequent solves will not be faster than the first one. For more information, see the documentation on Disciplined Parametrized Programming, at https://www.cvxpy.org/tutorial/dpp/index.html\n",
      "  warnings.warn(DPP_ERROR_MSG)\n",
      "/Users/patrik/miniconda3/envs/kmpc/lib/python3.11/site-packages/cvxpy/reductions/solvers/solving_chain.py:245: UserWarning: You are solving a parameterized problem that is not DPP. Because the problem is not DPP, subsequent solves will not be faster than the first one. For more information, see the documentation on Disciplined Parametrized Programming, at https://www.cvxpy.org/tutorial/dpp/index.html\n",
      "  warnings.warn(DPP_ERROR_MSG)\n"
     ]
    },
    {
     "name": "stdout",
     "output_type": "stream",
     "text": [
      "[-1.13706915  0.04529717]\n",
      "[0.00038762 0.01176686]\n",
      "optimal\n",
      "[-1.14610632  0.05030739]\n",
      "[0.0009947  0.01103593]\n",
      "optimal\n",
      "[-1.15465629  0.05517181]\n",
      "[0.00134526 0.01084288]\n",
      "optimal\n",
      "[-1.16288137  0.05960657]\n",
      "[0.00167464 0.01078536]\n",
      "optimal\n"
     ]
    },
    {
     "name": "stderr",
     "output_type": "stream",
     "text": [
      "/Users/patrik/miniconda3/envs/kmpc/lib/python3.11/site-packages/cvxpy/reductions/solvers/solving_chain.py:245: UserWarning: You are solving a parameterized problem that is not DPP. Because the problem is not DPP, subsequent solves will not be faster than the first one. For more information, see the documentation on Disciplined Parametrized Programming, at https://www.cvxpy.org/tutorial/dpp/index.html\n",
      "  warnings.warn(DPP_ERROR_MSG)\n",
      "/Users/patrik/miniconda3/envs/kmpc/lib/python3.11/site-packages/cvxpy/reductions/solvers/solving_chain.py:245: UserWarning: You are solving a parameterized problem that is not DPP. Because the problem is not DPP, subsequent solves will not be faster than the first one. For more information, see the documentation on Disciplined Parametrized Programming, at https://www.cvxpy.org/tutorial/dpp/index.html\n",
      "  warnings.warn(DPP_ERROR_MSG)\n",
      "/Users/patrik/miniconda3/envs/kmpc/lib/python3.11/site-packages/cvxpy/reductions/solvers/solving_chain.py:245: UserWarning: You are solving a parameterized problem that is not DPP. Because the problem is not DPP, subsequent solves will not be faster than the first one. For more information, see the documentation on Disciplined Parametrized Programming, at https://www.cvxpy.org/tutorial/dpp/index.html\n",
      "  warnings.warn(DPP_ERROR_MSG)\n",
      "/Users/patrik/miniconda3/envs/kmpc/lib/python3.11/site-packages/cvxpy/reductions/solvers/solving_chain.py:245: UserWarning: You are solving a parameterized problem that is not DPP. Because the problem is not DPP, subsequent solves will not be faster than the first one. For more information, see the documentation on Disciplined Parametrized Programming, at https://www.cvxpy.org/tutorial/dpp/index.html\n",
      "  warnings.warn(DPP_ERROR_MSG)\n"
     ]
    },
    {
     "name": "stdout",
     "output_type": "stream",
     "text": [
      "[-1.17074913  0.06377008]\n",
      "[0.00208471 0.0105094 ]\n",
      "optimal\n",
      "[-1.17822817  0.06782584]\n",
      "[0.00241763 0.01034376]\n",
      "optimal\n",
      "[-1.18536426  0.07171188]\n",
      "[0.00272069 0.01021084]\n",
      "optimal\n",
      "[-1.19217649  0.07543165]\n",
      "[0.00298928 0.01010769]\n",
      "optimal\n"
     ]
    },
    {
     "name": "stderr",
     "output_type": "stream",
     "text": [
      "/Users/patrik/miniconda3/envs/kmpc/lib/python3.11/site-packages/cvxpy/reductions/solvers/solving_chain.py:245: UserWarning: You are solving a parameterized problem that is not DPP. Because the problem is not DPP, subsequent solves will not be faster than the first one. For more information, see the documentation on Disciplined Parametrized Programming, at https://www.cvxpy.org/tutorial/dpp/index.html\n",
      "  warnings.warn(DPP_ERROR_MSG)\n",
      "/Users/patrik/miniconda3/envs/kmpc/lib/python3.11/site-packages/cvxpy/reductions/solvers/solving_chain.py:245: UserWarning: You are solving a parameterized problem that is not DPP. Because the problem is not DPP, subsequent solves will not be faster than the first one. For more information, see the documentation on Disciplined Parametrized Programming, at https://www.cvxpy.org/tutorial/dpp/index.html\n",
      "  warnings.warn(DPP_ERROR_MSG)\n",
      "/Users/patrik/miniconda3/envs/kmpc/lib/python3.11/site-packages/cvxpy/reductions/solvers/solving_chain.py:245: UserWarning: You are solving a parameterized problem that is not DPP. Because the problem is not DPP, subsequent solves will not be faster than the first one. For more information, see the documentation on Disciplined Parametrized Programming, at https://www.cvxpy.org/tutorial/dpp/index.html\n",
      "  warnings.warn(DPP_ERROR_MSG)\n",
      "/Users/patrik/miniconda3/envs/kmpc/lib/python3.11/site-packages/cvxpy/reductions/solvers/solving_chain.py:245: UserWarning: You are solving a parameterized problem that is not DPP. Because the problem is not DPP, subsequent solves will not be faster than the first one. For more information, see the documentation on Disciplined Parametrized Programming, at https://www.cvxpy.org/tutorial/dpp/index.html\n",
      "  warnings.warn(DPP_ERROR_MSG)\n"
     ]
    },
    {
     "name": "stdout",
     "output_type": "stream",
     "text": [
      "[-1.19867932  0.07900505]\n",
      "[0.00317951 0.01012235]\n",
      "optimal\n",
      "[-1.20489051  0.0824474 ]\n",
      "[0.00345721 0.00982396]\n",
      "optimal\n"
     ]
    },
    {
     "name": "stderr",
     "output_type": "stream",
     "text": [
      "/Users/patrik/miniconda3/envs/kmpc/lib/python3.11/site-packages/cvxpy/reductions/solvers/solving_chain.py:245: UserWarning: You are solving a parameterized problem that is not DPP. Because the problem is not DPP, subsequent solves will not be faster than the first one. For more information, see the documentation on Disciplined Parametrized Programming, at https://www.cvxpy.org/tutorial/dpp/index.html\n",
      "  warnings.warn(DPP_ERROR_MSG)\n",
      "/Users/patrik/miniconda3/envs/kmpc/lib/python3.11/site-packages/cvxpy/reductions/solvers/solving_chain.py:245: UserWarning: You are solving a parameterized problem that is not DPP. Because the problem is not DPP, subsequent solves will not be faster than the first one. For more information, see the documentation on Disciplined Parametrized Programming, at https://www.cvxpy.org/tutorial/dpp/index.html\n",
      "  warnings.warn(DPP_ERROR_MSG)\n"
     ]
    },
    {
     "name": "stdout",
     "output_type": "stream",
     "text": [
      "[-1.21082762  0.08580007]\n",
      "[0.00341394 0.01020149]\n",
      "optimal\n",
      "[-1.21652907  0.08894124]\n",
      "[0.00375165 0.00962309]\n",
      "optimal\n",
      "[-1.22198517  0.09209736]\n",
      "[0.00381394 0.00957251]\n",
      "optimal\n",
      "[-1.22725755  0.09496477]\n",
      "[0.0039382 0.0094372]\n",
      "optimal\n"
     ]
    },
    {
     "name": "stderr",
     "output_type": "stream",
     "text": [
      "/Users/patrik/miniconda3/envs/kmpc/lib/python3.11/site-packages/cvxpy/reductions/solvers/solving_chain.py:245: UserWarning: You are solving a parameterized problem that is not DPP. Because the problem is not DPP, subsequent solves will not be faster than the first one. For more information, see the documentation on Disciplined Parametrized Programming, at https://www.cvxpy.org/tutorial/dpp/index.html\n",
      "  warnings.warn(DPP_ERROR_MSG)\n",
      "/Users/patrik/miniconda3/envs/kmpc/lib/python3.11/site-packages/cvxpy/reductions/solvers/solving_chain.py:245: UserWarning: You are solving a parameterized problem that is not DPP. Because the problem is not DPP, subsequent solves will not be faster than the first one. For more information, see the documentation on Disciplined Parametrized Programming, at https://www.cvxpy.org/tutorial/dpp/index.html\n",
      "  warnings.warn(DPP_ERROR_MSG)\n",
      "/Users/patrik/miniconda3/envs/kmpc/lib/python3.11/site-packages/cvxpy/reductions/solvers/solving_chain.py:245: UserWarning: You are solving a parameterized problem that is not DPP. Because the problem is not DPP, subsequent solves will not be faster than the first one. For more information, see the documentation on Disciplined Parametrized Programming, at https://www.cvxpy.org/tutorial/dpp/index.html\n",
      "  warnings.warn(DPP_ERROR_MSG)\n",
      "/Users/patrik/miniconda3/envs/kmpc/lib/python3.11/site-packages/cvxpy/reductions/solvers/solving_chain.py:245: UserWarning: You are solving a parameterized problem that is not DPP. Because the problem is not DPP, subsequent solves will not be faster than the first one. For more information, see the documentation on Disciplined Parametrized Programming, at https://www.cvxpy.org/tutorial/dpp/index.html\n",
      "  warnings.warn(DPP_ERROR_MSG)\n"
     ]
    },
    {
     "name": "stdout",
     "output_type": "stream",
     "text": [
      "[-1.23232214  0.09766108]\n",
      "[0.00408654 0.00925692]\n",
      "optimal\n",
      "[1.8255639  1.14042329]\n",
      "[1.33777221 0.37893449]\n",
      "optimal\n",
      "[1.87529258 0.41616434]\n",
      "[ 0.46423588 -0.08430241]\n",
      "optimal\n",
      "[ 1.87529258 -0.04787633]\n",
      "[ 0.3014423  -0.07515858]\n"
     ]
    },
    {
     "name": "stderr",
     "output_type": "stream",
     "text": [
      "/Users/patrik/miniconda3/envs/kmpc/lib/python3.11/site-packages/cvxpy/reductions/solvers/solving_chain.py:245: UserWarning: You are solving a parameterized problem that is not DPP. Because the problem is not DPP, subsequent solves will not be faster than the first one. For more information, see the documentation on Disciplined Parametrized Programming, at https://www.cvxpy.org/tutorial/dpp/index.html\n",
      "  warnings.warn(DPP_ERROR_MSG)\n",
      "/Users/patrik/miniconda3/envs/kmpc/lib/python3.11/site-packages/cvxpy/reductions/solvers/solving_chain.py:245: UserWarning: You are solving a parameterized problem that is not DPP. Because the problem is not DPP, subsequent solves will not be faster than the first one. For more information, see the documentation on Disciplined Parametrized Programming, at https://www.cvxpy.org/tutorial/dpp/index.html\n",
      "  warnings.warn(DPP_ERROR_MSG)\n",
      "/Users/patrik/miniconda3/envs/kmpc/lib/python3.11/site-packages/cvxpy/reductions/solvers/solving_chain.py:245: UserWarning: You are solving a parameterized problem that is not DPP. Because the problem is not DPP, subsequent solves will not be faster than the first one. For more information, see the documentation on Disciplined Parametrized Programming, at https://www.cvxpy.org/tutorial/dpp/index.html\n",
      "  warnings.warn(DPP_ERROR_MSG)\n",
      "/Users/patrik/miniconda3/envs/kmpc/lib/python3.11/site-packages/cvxpy/reductions/solvers/solving_chain.py:245: UserWarning: You are solving a parameterized problem that is not DPP. Because the problem is not DPP, subsequent solves will not be faster than the first one. For more information, see the documentation on Disciplined Parametrized Programming, at https://www.cvxpy.org/tutorial/dpp/index.html\n",
      "  warnings.warn(DPP_ERROR_MSG)\n"
     ]
    },
    {
     "name": "stdout",
     "output_type": "stream",
     "text": [
      "optimal\n",
      "[ 1.87529258 -0.46028117]\n",
      "[ 0.15449077 -0.02307744]\n",
      "optimal\n",
      "[ 1.87529258 -0.71329794]\n",
      "[0.06459777 0.0250528 ]\n",
      "optimal\n",
      "[ 1.79400938 -0.81242525]\n",
      "[-0.00502328  0.04702628]\n",
      "optimal\n"
     ]
    },
    {
     "name": "stderr",
     "output_type": "stream",
     "text": [
      "/Users/patrik/miniconda3/envs/kmpc/lib/python3.11/site-packages/cvxpy/reductions/solvers/solving_chain.py:245: UserWarning: You are solving a parameterized problem that is not DPP. Because the problem is not DPP, subsequent solves will not be faster than the first one. For more information, see the documentation on Disciplined Parametrized Programming, at https://www.cvxpy.org/tutorial/dpp/index.html\n",
      "  warnings.warn(DPP_ERROR_MSG)\n",
      "/Users/patrik/miniconda3/envs/kmpc/lib/python3.11/site-packages/cvxpy/reductions/solvers/solving_chain.py:245: UserWarning: You are solving a parameterized problem that is not DPP. Because the problem is not DPP, subsequent solves will not be faster than the first one. For more information, see the documentation on Disciplined Parametrized Programming, at https://www.cvxpy.org/tutorial/dpp/index.html\n",
      "  warnings.warn(DPP_ERROR_MSG)\n",
      "/Users/patrik/miniconda3/envs/kmpc/lib/python3.11/site-packages/cvxpy/reductions/solvers/solving_chain.py:245: UserWarning: You are solving a parameterized problem that is not DPP. Because the problem is not DPP, subsequent solves will not be faster than the first one. For more information, see the documentation on Disciplined Parametrized Programming, at https://www.cvxpy.org/tutorial/dpp/index.html\n",
      "  warnings.warn(DPP_ERROR_MSG)\n",
      "/Users/patrik/miniconda3/envs/kmpc/lib/python3.11/site-packages/cvxpy/reductions/solvers/solving_chain.py:245: UserWarning: You are solving a parameterized problem that is not DPP. Because the problem is not DPP, subsequent solves will not be faster than the first one. For more information, see the documentation on Disciplined Parametrized Programming, at https://www.cvxpy.org/tutorial/dpp/index.html\n",
      "  warnings.warn(DPP_ERROR_MSG)\n"
     ]
    },
    {
     "name": "stdout",
     "output_type": "stream",
     "text": [
      "[ 1.674405   -0.81472148]\n",
      "[-0.04960797  0.0435568 ]\n",
      "optimal\n",
      "[ 1.53077778 -0.78043988]\n",
      "[-0.07695312  0.0267556 ]\n",
      "optimal\n",
      "[ 1.39135706 -0.74224386]\n",
      "[-0.08710529  0.00721003]\n",
      "optimal\n"
     ]
    },
    {
     "name": "stderr",
     "output_type": "stream",
     "text": [
      "/Users/patrik/miniconda3/envs/kmpc/lib/python3.11/site-packages/cvxpy/reductions/solvers/solving_chain.py:245: UserWarning: You are solving a parameterized problem that is not DPP. Because the problem is not DPP, subsequent solves will not be faster than the first one. For more information, see the documentation on Disciplined Parametrized Programming, at https://www.cvxpy.org/tutorial/dpp/index.html\n",
      "  warnings.warn(DPP_ERROR_MSG)\n",
      "/Users/patrik/miniconda3/envs/kmpc/lib/python3.11/site-packages/cvxpy/reductions/solvers/solving_chain.py:245: UserWarning: You are solving a parameterized problem that is not DPP. Because the problem is not DPP, subsequent solves will not be faster than the first one. For more information, see the documentation on Disciplined Parametrized Programming, at https://www.cvxpy.org/tutorial/dpp/index.html\n",
      "  warnings.warn(DPP_ERROR_MSG)\n"
     ]
    },
    {
     "name": "stdout",
     "output_type": "stream",
     "text": [
      "[ 1.27392411 -0.7114802 ]\n",
      "[-0.08342524 -0.00912124]\n",
      "optimal\n",
      "[ 1.19093669 -0.69092513]\n",
      "[-0.06944387 -0.01978638]\n",
      "optimal\n",
      "[ 1.14517305 -0.67893664]\n",
      "[-0.04970291 -0.02471813]\n",
      "optimal\n",
      "[ 1.13254001 -0.67360113]\n",
      "[-0.02815149 -0.0249638 ]\n",
      "optimal\n"
     ]
    },
    {
     "name": "stderr",
     "output_type": "stream",
     "text": [
      "/Users/patrik/miniconda3/envs/kmpc/lib/python3.11/site-packages/cvxpy/reductions/solvers/solving_chain.py:245: UserWarning: You are solving a parameterized problem that is not DPP. Because the problem is not DPP, subsequent solves will not be faster than the first one. For more information, see the documentation on Disciplined Parametrized Programming, at https://www.cvxpy.org/tutorial/dpp/index.html\n",
      "  warnings.warn(DPP_ERROR_MSG)\n",
      "/Users/patrik/miniconda3/envs/kmpc/lib/python3.11/site-packages/cvxpy/reductions/solvers/solving_chain.py:245: UserWarning: You are solving a parameterized problem that is not DPP. Because the problem is not DPP, subsequent solves will not be faster than the first one. For more information, see the documentation on Disciplined Parametrized Programming, at https://www.cvxpy.org/tutorial/dpp/index.html\n",
      "  warnings.warn(DPP_ERROR_MSG)\n",
      "/Users/patrik/miniconda3/envs/kmpc/lib/python3.11/site-packages/cvxpy/reductions/solvers/solving_chain.py:245: UserWarning: You are solving a parameterized problem that is not DPP. Because the problem is not DPP, subsequent solves will not be faster than the first one. For more information, see the documentation on Disciplined Parametrized Programming, at https://www.cvxpy.org/tutorial/dpp/index.html\n",
      "  warnings.warn(DPP_ERROR_MSG)\n",
      "/Users/patrik/miniconda3/envs/kmpc/lib/python3.11/site-packages/cvxpy/reductions/solvers/solving_chain.py:245: UserWarning: You are solving a parameterized problem that is not DPP. Because the problem is not DPP, subsequent solves will not be faster than the first one. For more information, see the documentation on Disciplined Parametrized Programming, at https://www.cvxpy.org/tutorial/dpp/index.html\n",
      "  warnings.warn(DPP_ERROR_MSG)\n"
     ]
    },
    {
     "name": "stdout",
     "output_type": "stream",
     "text": [
      "[ 1.14568181 -0.67319801]\n",
      "[-0.0077208  -0.02184495]\n",
      "optimal\n",
      "[ 1.17620998 -0.67624728]\n",
      "[ 0.00968369 -0.01661359]\n",
      "optimal\n",
      "[ 1.21625769 -0.68130574]\n",
      "[ 0.02301703 -0.01039912]\n",
      "optimal\n"
     ]
    },
    {
     "name": "stderr",
     "output_type": "stream",
     "text": [
      "/Users/patrik/miniconda3/envs/kmpc/lib/python3.11/site-packages/cvxpy/reductions/solvers/solving_chain.py:245: UserWarning: You are solving a parameterized problem that is not DPP. Because the problem is not DPP, subsequent solves will not be faster than the first one. For more information, see the documentation on Disciplined Parametrized Programming, at https://www.cvxpy.org/tutorial/dpp/index.html\n",
      "  warnings.warn(DPP_ERROR_MSG)\n",
      "/Users/patrik/miniconda3/envs/kmpc/lib/python3.11/site-packages/cvxpy/reductions/solvers/solving_chain.py:245: UserWarning: You are solving a parameterized problem that is not DPP. Because the problem is not DPP, subsequent solves will not be faster than the first one. For more information, see the documentation on Disciplined Parametrized Programming, at https://www.cvxpy.org/tutorial/dpp/index.html\n",
      "  warnings.warn(DPP_ERROR_MSG)\n",
      "/Users/patrik/miniconda3/envs/kmpc/lib/python3.11/site-packages/cvxpy/reductions/solvers/solving_chain.py:245: UserWarning: You are solving a parameterized problem that is not DPP. Because the problem is not DPP, subsequent solves will not be faster than the first one. For more information, see the documentation on Disciplined Parametrized Programming, at https://www.cvxpy.org/tutorial/dpp/index.html\n",
      "  warnings.warn(DPP_ERROR_MSG)\n"
     ]
    },
    {
     "name": "stdout",
     "output_type": "stream",
     "text": [
      "[ 1.25905467 -0.68707635]\n",
      "[ 0.03187997 -0.00415334]\n",
      "optimal\n",
      "[ 1.29925988 -0.69253502]\n",
      "[0.03638996 0.00138276]\n",
      "optimal\n",
      "[ 1.33309411 -0.69703161]\n",
      "[0.03706282 0.00571949]\n",
      "optimal\n",
      "[ 1.35835906 -0.70027902]\n",
      "[0.03467967 0.00862204]\n",
      "optimal\n"
     ]
    },
    {
     "name": "stderr",
     "output_type": "stream",
     "text": [
      "/Users/patrik/miniconda3/envs/kmpc/lib/python3.11/site-packages/cvxpy/reductions/solvers/solving_chain.py:245: UserWarning: You are solving a parameterized problem that is not DPP. Because the problem is not DPP, subsequent solves will not be faster than the first one. For more information, see the documentation on Disciplined Parametrized Programming, at https://www.cvxpy.org/tutorial/dpp/index.html\n",
      "  warnings.warn(DPP_ERROR_MSG)\n",
      "/Users/patrik/miniconda3/envs/kmpc/lib/python3.11/site-packages/cvxpy/reductions/solvers/solving_chain.py:245: UserWarning: You are solving a parameterized problem that is not DPP. Because the problem is not DPP, subsequent solves will not be faster than the first one. For more information, see the documentation on Disciplined Parametrized Programming, at https://www.cvxpy.org/tutorial/dpp/index.html\n",
      "  warnings.warn(DPP_ERROR_MSG)\n",
      "/Users/patrik/miniconda3/envs/kmpc/lib/python3.11/site-packages/cvxpy/reductions/solvers/solving_chain.py:245: UserWarning: You are solving a parameterized problem that is not DPP. Because the problem is not DPP, subsequent solves will not be faster than the first one. For more information, see the documentation on Disciplined Parametrized Programming, at https://www.cvxpy.org/tutorial/dpp/index.html\n",
      "  warnings.warn(DPP_ERROR_MSG)\n",
      "/Users/patrik/miniconda3/envs/kmpc/lib/python3.11/site-packages/cvxpy/reductions/solvers/solving_chain.py:245: UserWarning: You are solving a parameterized problem that is not DPP. Because the problem is not DPP, subsequent solves will not be faster than the first one. For more information, see the documentation on Disciplined Parametrized Programming, at https://www.cvxpy.org/tutorial/dpp/index.html\n",
      "  warnings.warn(DPP_ERROR_MSG)\n"
     ]
    },
    {
     "name": "stdout",
     "output_type": "stream",
     "text": [
      "[ 1.37430213 -0.70225742]\n",
      "[0.0301703  0.01008142]\n",
      "optimal\n",
      "[ 1.38138263 -0.70311554]\n",
      "[0.02449026 0.01026384]\n",
      "optimal\n",
      "[ 1.3809478  -0.70308152]\n",
      "[0.0185089  0.00944445]\n",
      "optimal\n",
      "[ 1.37487104 -0.70240207]\n",
      "[0.01292708 0.00794542]\n",
      "optimal\n"
     ]
    },
    {
     "name": "stderr",
     "output_type": "stream",
     "text": [
      "/Users/patrik/miniconda3/envs/kmpc/lib/python3.11/site-packages/cvxpy/reductions/solvers/solving_chain.py:245: UserWarning: You are solving a parameterized problem that is not DPP. Because the problem is not DPP, subsequent solves will not be faster than the first one. For more information, see the documentation on Disciplined Parametrized Programming, at https://www.cvxpy.org/tutorial/dpp/index.html\n",
      "  warnings.warn(DPP_ERROR_MSG)\n",
      "/Users/patrik/miniconda3/envs/kmpc/lib/python3.11/site-packages/cvxpy/reductions/solvers/solving_chain.py:245: UserWarning: You are solving a parameterized problem that is not DPP. Because the problem is not DPP, subsequent solves will not be faster than the first one. For more information, see the documentation on Disciplined Parametrized Programming, at https://www.cvxpy.org/tutorial/dpp/index.html\n",
      "  warnings.warn(DPP_ERROR_MSG)\n",
      "/Users/patrik/miniconda3/envs/kmpc/lib/python3.11/site-packages/cvxpy/reductions/solvers/solving_chain.py:245: UserWarning: You are solving a parameterized problem that is not DPP. Because the problem is not DPP, subsequent solves will not be faster than the first one. For more information, see the documentation on Disciplined Parametrized Programming, at https://www.cvxpy.org/tutorial/dpp/index.html\n",
      "  warnings.warn(DPP_ERROR_MSG)\n",
      "/Users/patrik/miniconda3/envs/kmpc/lib/python3.11/site-packages/cvxpy/reductions/solvers/solving_chain.py:245: UserWarning: You are solving a parameterized problem that is not DPP. Because the problem is not DPP, subsequent solves will not be faster than the first one. For more information, see the documentation on Disciplined Parametrized Programming, at https://www.cvxpy.org/tutorial/dpp/index.html\n",
      "  warnings.warn(DPP_ERROR_MSG)\n"
     ]
    },
    {
     "name": "stdout",
     "output_type": "stream",
     "text": [
      "[ 1.36520929 -0.70131079]\n",
      "[0.00823311 0.00608481]\n",
      "optimal\n",
      "[ 1.35392217 -0.700015  ]\n",
      "[0.00469936 0.00414144]\n",
      "optimal\n",
      "[ 1.34266798 -0.69868991]\n",
      "[0.00240062 0.00233439]\n",
      "optimal\n",
      "[ 1.33268798 -0.6974752 ]\n",
      "[0.00125483 0.00081294]\n",
      "optimal\n"
     ]
    },
    {
     "name": "stderr",
     "output_type": "stream",
     "text": [
      "/Users/patrik/miniconda3/envs/kmpc/lib/python3.11/site-packages/cvxpy/reductions/solvers/solving_chain.py:245: UserWarning: You are solving a parameterized problem that is not DPP. Because the problem is not DPP, subsequent solves will not be faster than the first one. For more information, see the documentation on Disciplined Parametrized Programming, at https://www.cvxpy.org/tutorial/dpp/index.html\n",
      "  warnings.warn(DPP_ERROR_MSG)\n",
      "/Users/patrik/miniconda3/envs/kmpc/lib/python3.11/site-packages/cvxpy/reductions/solvers/solving_chain.py:245: UserWarning: You are solving a parameterized problem that is not DPP. Because the problem is not DPP, subsequent solves will not be faster than the first one. For more information, see the documentation on Disciplined Parametrized Programming, at https://www.cvxpy.org/tutorial/dpp/index.html\n",
      "  warnings.warn(DPP_ERROR_MSG)\n",
      "/Users/patrik/miniconda3/envs/kmpc/lib/python3.11/site-packages/cvxpy/reductions/solvers/solving_chain.py:245: UserWarning: You are solving a parameterized problem that is not DPP. Because the problem is not DPP, subsequent solves will not be faster than the first one. For more information, see the documentation on Disciplined Parametrized Programming, at https://www.cvxpy.org/tutorial/dpp/index.html\n",
      "  warnings.warn(DPP_ERROR_MSG)\n",
      "/Users/patrik/miniconda3/envs/kmpc/lib/python3.11/site-packages/cvxpy/reductions/solvers/solving_chain.py:245: UserWarning: You are solving a parameterized problem that is not DPP. Because the problem is not DPP, subsequent solves will not be faster than the first one. For more information, see the documentation on Disciplined Parametrized Programming, at https://www.cvxpy.org/tutorial/dpp/index.html\n",
      "  warnings.warn(DPP_ERROR_MSG)\n"
     ]
    },
    {
     "name": "stdout",
     "output_type": "stream",
     "text": [
      "[ 1.32477015 -0.69647023]\n",
      "[ 0.00107249 -0.00034027]\n",
      "optimal\n",
      "[ 1.31927468 -0.69573246]\n",
      "[ 0.00160549 -0.00110316]\n",
      "optimal\n",
      "[ 1.31620225 -0.69527729]\n",
      "[ 0.00259087 -0.00149883]\n",
      "optimal\n",
      "[ 1.31528355 -0.69508636]\n",
      "[ 0.00378277 -0.00158635]\n",
      "optimal\n"
     ]
    },
    {
     "name": "stderr",
     "output_type": "stream",
     "text": [
      "/Users/patrik/miniconda3/envs/kmpc/lib/python3.11/site-packages/cvxpy/reductions/solvers/solving_chain.py:245: UserWarning: You are solving a parameterized problem that is not DPP. Because the problem is not DPP, subsequent solves will not be faster than the first one. For more information, see the documentation on Disciplined Parametrized Programming, at https://www.cvxpy.org/tutorial/dpp/index.html\n",
      "  warnings.warn(DPP_ERROR_MSG)\n",
      "/Users/patrik/miniconda3/envs/kmpc/lib/python3.11/site-packages/cvxpy/reductions/solvers/solving_chain.py:245: UserWarning: You are solving a parameterized problem that is not DPP. Because the problem is not DPP, subsequent solves will not be faster than the first one. For more information, see the documentation on Disciplined Parametrized Programming, at https://www.cvxpy.org/tutorial/dpp/index.html\n",
      "  warnings.warn(DPP_ERROR_MSG)\n",
      "/Users/patrik/miniconda3/envs/kmpc/lib/python3.11/site-packages/cvxpy/reductions/solvers/solving_chain.py:245: UserWarning: You are solving a parameterized problem that is not DPP. Because the problem is not DPP, subsequent solves will not be faster than the first one. For more information, see the documentation on Disciplined Parametrized Programming, at https://www.cvxpy.org/tutorial/dpp/index.html\n",
      "  warnings.warn(DPP_ERROR_MSG)\n",
      "/Users/patrik/miniconda3/envs/kmpc/lib/python3.11/site-packages/cvxpy/reductions/solvers/solving_chain.py:245: UserWarning: You are solving a parameterized problem that is not DPP. Because the problem is not DPP, subsequent solves will not be faster than the first one. For more information, see the documentation on Disciplined Parametrized Programming, at https://www.cvxpy.org/tutorial/dpp/index.html\n",
      "  warnings.warn(DPP_ERROR_MSG)\n"
     ]
    },
    {
     "name": "stdout",
     "output_type": "stream",
     "text": [
      "[ 1.31607797 -0.69511368]\n",
      "[ 0.00497599 -0.0014415 ]\n",
      "optimal\n",
      "[ 1.31806458 -0.6952995 ]\n",
      "[ 0.00601822 -0.00114782]\n",
      "optimal\n",
      "[ 1.32071925 -0.6955796 ]\n",
      "[ 0.00681282 -0.00078345]\n",
      "optimal\n",
      "[ 1.32357364 -0.69589519]\n"
     ]
    },
    {
     "name": "stderr",
     "output_type": "stream",
     "text": [
      "/Users/patrik/miniconda3/envs/kmpc/lib/python3.11/site-packages/cvxpy/reductions/solvers/solving_chain.py:245: UserWarning: You are solving a parameterized problem that is not DPP. Because the problem is not DPP, subsequent solves will not be faster than the first one. For more information, see the documentation on Disciplined Parametrized Programming, at https://www.cvxpy.org/tutorial/dpp/index.html\n",
      "  warnings.warn(DPP_ERROR_MSG)\n",
      "/Users/patrik/miniconda3/envs/kmpc/lib/python3.11/site-packages/cvxpy/reductions/solvers/solving_chain.py:245: UserWarning: You are solving a parameterized problem that is not DPP. Because the problem is not DPP, subsequent solves will not be faster than the first one. For more information, see the documentation on Disciplined Parametrized Programming, at https://www.cvxpy.org/tutorial/dpp/index.html\n",
      "  warnings.warn(DPP_ERROR_MSG)\n",
      "/Users/patrik/miniconda3/envs/kmpc/lib/python3.11/site-packages/cvxpy/reductions/solvers/solving_chain.py:245: UserWarning: You are solving a parameterized problem that is not DPP. Because the problem is not DPP, subsequent solves will not be faster than the first one. For more information, see the documentation on Disciplined Parametrized Programming, at https://www.cvxpy.org/tutorial/dpp/index.html\n",
      "  warnings.warn(DPP_ERROR_MSG)\n",
      "/Users/patrik/miniconda3/envs/kmpc/lib/python3.11/site-packages/cvxpy/reductions/solvers/solving_chain.py:245: UserWarning: You are solving a parameterized problem that is not DPP. Because the problem is not DPP, subsequent solves will not be faster than the first one. For more information, see the documentation on Disciplined Parametrized Programming, at https://www.cvxpy.org/tutorial/dpp/index.html\n",
      "  warnings.warn(DPP_ERROR_MSG)\n"
     ]
    },
    {
     "name": "stdout",
     "output_type": "stream",
     "text": [
      "[ 0.0073159  -0.00041481]\n",
      "optimal\n",
      "[ 1.32625369 -0.69619854]\n",
      "[ 7.52888256e-03 -9.20685834e-05]\n",
      "optimal\n",
      "[ 1.3284963  -0.69645542]\n",
      "[0.00748488 0.00015301]\n",
      "optimal\n"
     ]
    },
    {
     "name": "stderr",
     "output_type": "stream",
     "text": [
      "/Users/patrik/miniconda3/envs/kmpc/lib/python3.11/site-packages/cvxpy/reductions/solvers/solving_chain.py:245: UserWarning: You are solving a parameterized problem that is not DPP. Because the problem is not DPP, subsequent solves will not be faster than the first one. For more information, see the documentation on Disciplined Parametrized Programming, at https://www.cvxpy.org/tutorial/dpp/index.html\n",
      "  warnings.warn(DPP_ERROR_MSG)\n",
      "/Users/patrik/miniconda3/envs/kmpc/lib/python3.11/site-packages/cvxpy/reductions/solvers/solving_chain.py:245: UserWarning: You are solving a parameterized problem that is not DPP. Because the problem is not DPP, subsequent solves will not be faster than the first one. For more information, see the documentation on Disciplined Parametrized Programming, at https://www.cvxpy.org/tutorial/dpp/index.html\n",
      "  warnings.warn(DPP_ERROR_MSG)\n"
     ]
    },
    {
     "name": "stdout",
     "output_type": "stream",
     "text": [
      "[ 1.33015307 -0.69664594]\n",
      "[0.00723998 0.00030597]\n",
      "optimal\n",
      "[ 1.33117732 -0.6967635 ]\n",
      "[0.00685905 0.00036628]\n",
      "optimal\n",
      "[ 1.33160536 -0.69681112]\n",
      "[0.00640743 0.00034462]\n",
      "optimal\n",
      "[ 1.33153168 -0.69679883]\n",
      "[0.00594374 0.00025899]\n",
      "optimal\n"
     ]
    },
    {
     "name": "stderr",
     "output_type": "stream",
     "text": [
      "/Users/patrik/miniconda3/envs/kmpc/lib/python3.11/site-packages/cvxpy/reductions/solvers/solving_chain.py:245: UserWarning: You are solving a parameterized problem that is not DPP. Because the problem is not DPP, subsequent solves will not be faster than the first one. For more information, see the documentation on Disciplined Parametrized Programming, at https://www.cvxpy.org/tutorial/dpp/index.html\n",
      "  warnings.warn(DPP_ERROR_MSG)\n",
      "/Users/patrik/miniconda3/envs/kmpc/lib/python3.11/site-packages/cvxpy/reductions/solvers/solving_chain.py:245: UserWarning: You are solving a parameterized problem that is not DPP. Because the problem is not DPP, subsequent solves will not be faster than the first one. For more information, see the documentation on Disciplined Parametrized Programming, at https://www.cvxpy.org/tutorial/dpp/index.html\n",
      "  warnings.warn(DPP_ERROR_MSG)\n",
      "/Users/patrik/miniconda3/envs/kmpc/lib/python3.11/site-packages/cvxpy/reductions/solvers/solving_chain.py:245: UserWarning: You are solving a parameterized problem that is not DPP. Because the problem is not DPP, subsequent solves will not be faster than the first one. For more information, see the documentation on Disciplined Parametrized Programming, at https://www.cvxpy.org/tutorial/dpp/index.html\n",
      "  warnings.warn(DPP_ERROR_MSG)\n",
      "/Users/patrik/miniconda3/envs/kmpc/lib/python3.11/site-packages/cvxpy/reductions/solvers/solving_chain.py:245: UserWarning: You are solving a parameterized problem that is not DPP. Because the problem is not DPP, subsequent solves will not be faster than the first one. For more information, see the documentation on Disciplined Parametrized Programming, at https://www.cvxpy.org/tutorial/dpp/index.html\n",
      "  warnings.warn(DPP_ERROR_MSG)\n"
     ]
    },
    {
     "name": "stdout",
     "output_type": "stream",
     "text": [
      "[ 1.3310835 -0.6967411]\n",
      "[0.00551357 0.00013058]\n",
      "optimal\n",
      "[ 1.33039937 -0.69665444]\n",
      "[ 5.14864413e-03 -2.04083154e-05]\n",
      "optimal\n",
      "[ 1.32961071 -0.69655384]\n",
      "[ 0.00486697 -0.000175  ]\n",
      "optimal\n",
      "[ 1.32882759 -0.69645208]\n",
      "[ 0.00467186 -0.00031798]\n",
      "optimal\n"
     ]
    },
    {
     "name": "stderr",
     "output_type": "stream",
     "text": [
      "/Users/patrik/miniconda3/envs/kmpc/lib/python3.11/site-packages/cvxpy/reductions/solvers/solving_chain.py:245: UserWarning: You are solving a parameterized problem that is not DPP. Because the problem is not DPP, subsequent solves will not be faster than the first one. For more information, see the documentation on Disciplined Parametrized Programming, at https://www.cvxpy.org/tutorial/dpp/index.html\n",
      "  warnings.warn(DPP_ERROR_MSG)\n",
      "/Users/patrik/miniconda3/envs/kmpc/lib/python3.11/site-packages/cvxpy/reductions/solvers/solving_chain.py:245: UserWarning: You are solving a parameterized problem that is not DPP. Because the problem is not DPP, subsequent solves will not be faster than the first one. For more information, see the documentation on Disciplined Parametrized Programming, at https://www.cvxpy.org/tutorial/dpp/index.html\n",
      "  warnings.warn(DPP_ERROR_MSG)\n",
      "/Users/patrik/miniconda3/envs/kmpc/lib/python3.11/site-packages/cvxpy/reductions/solvers/solving_chain.py:245: UserWarning: You are solving a parameterized problem that is not DPP. Because the problem is not DPP, subsequent solves will not be faster than the first one. For more information, see the documentation on Disciplined Parametrized Programming, at https://www.cvxpy.org/tutorial/dpp/index.html\n",
      "  warnings.warn(DPP_ERROR_MSG)\n",
      "/Users/patrik/miniconda3/envs/kmpc/lib/python3.11/site-packages/cvxpy/reductions/solvers/solving_chain.py:245: UserWarning: You are solving a parameterized problem that is not DPP. Because the problem is not DPP, subsequent solves will not be faster than the first one. For more information, see the documentation on Disciplined Parametrized Programming, at https://www.cvxpy.org/tutorial/dpp/index.html\n",
      "  warnings.warn(DPP_ERROR_MSG)\n"
     ]
    },
    {
     "name": "stdout",
     "output_type": "stream",
     "text": [
      "[ 1.32813347 -0.69636011]\n",
      "[ 0.00455834 -0.00044005]\n",
      "optimal\n",
      "[ 1.32758103 -0.69628437]\n",
      "[ 0.00451297 -0.00053507]\n",
      "optimal\n",
      "[ 1.32719464 -0.69622844]\n",
      "[ 0.00451909 -0.00060189]\n",
      "optimal\n",
      "[ 1.32697416 -0.69619261]\n",
      "[ 0.00455853 -0.00064252]\n",
      "optimal\n"
     ]
    },
    {
     "name": "stderr",
     "output_type": "stream",
     "text": [
      "/Users/patrik/miniconda3/envs/kmpc/lib/python3.11/site-packages/cvxpy/reductions/solvers/solving_chain.py:245: UserWarning: You are solving a parameterized problem that is not DPP. Because the problem is not DPP, subsequent solves will not be faster than the first one. For more information, see the documentation on Disciplined Parametrized Programming, at https://www.cvxpy.org/tutorial/dpp/index.html\n",
      "  warnings.warn(DPP_ERROR_MSG)\n",
      "/Users/patrik/miniconda3/envs/kmpc/lib/python3.11/site-packages/cvxpy/reductions/solvers/solving_chain.py:245: UserWarning: You are solving a parameterized problem that is not DPP. Because the problem is not DPP, subsequent solves will not be faster than the first one. For more information, see the documentation on Disciplined Parametrized Programming, at https://www.cvxpy.org/tutorial/dpp/index.html\n",
      "  warnings.warn(DPP_ERROR_MSG)\n",
      "/Users/patrik/miniconda3/envs/kmpc/lib/python3.11/site-packages/cvxpy/reductions/solvers/solving_chain.py:245: UserWarning: You are solving a parameterized problem that is not DPP. Because the problem is not DPP, subsequent solves will not be faster than the first one. For more information, see the documentation on Disciplined Parametrized Programming, at https://www.cvxpy.org/tutorial/dpp/index.html\n",
      "  warnings.warn(DPP_ERROR_MSG)\n",
      "/Users/patrik/miniconda3/envs/kmpc/lib/python3.11/site-packages/cvxpy/reductions/solvers/solving_chain.py:245: UserWarning: You are solving a parameterized problem that is not DPP. Because the problem is not DPP, subsequent solves will not be faster than the first one. For more information, see the documentation on Disciplined Parametrized Programming, at https://www.cvxpy.org/tutorial/dpp/index.html\n",
      "  warnings.warn(DPP_ERROR_MSG)\n"
     ]
    },
    {
     "name": "stdout",
     "output_type": "stream",
     "text": [
      "[ 1.32690125 -0.69617481]\n",
      "[ 0.00461469 -0.00066047]\n",
      "optimal\n",
      "[ 1.32694536 -0.69617219]\n",
      "[ 0.00467251 -0.000662  ]\n",
      "optimal\n"
     ]
    },
    {
     "name": "stderr",
     "output_type": "stream",
     "text": [
      "/Users/patrik/miniconda3/envs/kmpc/lib/python3.11/site-packages/cvxpy/reductions/solvers/solving_chain.py:245: UserWarning: You are solving a parameterized problem that is not DPP. Because the problem is not DPP, subsequent solves will not be faster than the first one. For more information, see the documentation on Disciplined Parametrized Programming, at https://www.cvxpy.org/tutorial/dpp/index.html\n",
      "  warnings.warn(DPP_ERROR_MSG)\n",
      "/Users/patrik/miniconda3/envs/kmpc/lib/python3.11/site-packages/cvxpy/reductions/solvers/solving_chain.py:245: UserWarning: You are solving a parameterized problem that is not DPP. Because the problem is not DPP, subsequent solves will not be faster than the first one. For more information, see the documentation on Disciplined Parametrized Programming, at https://www.cvxpy.org/tutorial/dpp/index.html\n",
      "  warnings.warn(DPP_ERROR_MSG)\n"
     ]
    },
    {
     "name": "stdout",
     "output_type": "stream",
     "text": [
      "[ 1.32707159 -0.6961804 ]\n",
      "[ 0.00472261 -0.00065231]\n",
      "optimal\n",
      "[ 1.32724346 -0.69619517]\n",
      "[ 0.00475729 -0.00063717]\n",
      "optimal\n",
      "[ 1.32742919 -0.69621244]\n",
      "[ 0.00477375 -0.00062079]\n",
      "optimal\n",
      "[ 1.32760338 -0.69622937]\n",
      "[ 0.00477204 -0.00060701]\n",
      "optimal\n"
     ]
    },
    {
     "name": "stderr",
     "output_type": "stream",
     "text": [
      "/Users/patrik/miniconda3/envs/kmpc/lib/python3.11/site-packages/cvxpy/reductions/solvers/solving_chain.py:245: UserWarning: You are solving a parameterized problem that is not DPP. Because the problem is not DPP, subsequent solves will not be faster than the first one. For more information, see the documentation on Disciplined Parametrized Programming, at https://www.cvxpy.org/tutorial/dpp/index.html\n",
      "  warnings.warn(DPP_ERROR_MSG)\n",
      "/Users/patrik/miniconda3/envs/kmpc/lib/python3.11/site-packages/cvxpy/reductions/solvers/solving_chain.py:245: UserWarning: You are solving a parameterized problem that is not DPP. Because the problem is not DPP, subsequent solves will not be faster than the first one. For more information, see the documentation on Disciplined Parametrized Programming, at https://www.cvxpy.org/tutorial/dpp/index.html\n",
      "  warnings.warn(DPP_ERROR_MSG)\n",
      "/Users/patrik/miniconda3/envs/kmpc/lib/python3.11/site-packages/cvxpy/reductions/solvers/solving_chain.py:245: UserWarning: You are solving a parameterized problem that is not DPP. Because the problem is not DPP, subsequent solves will not be faster than the first one. For more information, see the documentation on Disciplined Parametrized Programming, at https://www.cvxpy.org/tutorial/dpp/index.html\n",
      "  warnings.warn(DPP_ERROR_MSG)\n",
      "/Users/patrik/miniconda3/envs/kmpc/lib/python3.11/site-packages/cvxpy/reductions/solvers/solving_chain.py:245: UserWarning: You are solving a parameterized problem that is not DPP. Because the problem is not DPP, subsequent solves will not be faster than the first one. For more information, see the documentation on Disciplined Parametrized Programming, at https://www.cvxpy.org/tutorial/dpp/index.html\n",
      "  warnings.warn(DPP_ERROR_MSG)\n"
     ]
    },
    {
     "name": "stdout",
     "output_type": "stream",
     "text": [
      "[ 1.32774805 -0.6962436 ]\n",
      "[ 0.00475417 -0.00059796]\n",
      "optimal\n",
      "[ 1.32785337 -0.69625354]\n",
      "[ 0.00472394 -0.00059432]\n",
      "optimal\n",
      "[ 1.3279162  -0.69625897]\n",
      "[ 0.00468585 -0.00059643]\n",
      "optimal\n",
      "[ 1.32793896 -0.69625996]\n",
      "[ 0.00464391 -0.00060375]\n",
      "optimal\n"
     ]
    },
    {
     "name": "stderr",
     "output_type": "stream",
     "text": [
      "/Users/patrik/miniconda3/envs/kmpc/lib/python3.11/site-packages/cvxpy/reductions/solvers/solving_chain.py:245: UserWarning: You are solving a parameterized problem that is not DPP. Because the problem is not DPP, subsequent solves will not be faster than the first one. For more information, see the documentation on Disciplined Parametrized Programming, at https://www.cvxpy.org/tutorial/dpp/index.html\n",
      "  warnings.warn(DPP_ERROR_MSG)\n",
      "/Users/patrik/miniconda3/envs/kmpc/lib/python3.11/site-packages/cvxpy/reductions/solvers/solving_chain.py:245: UserWarning: You are solving a parameterized problem that is not DPP. Because the problem is not DPP, subsequent solves will not be faster than the first one. For more information, see the documentation on Disciplined Parametrized Programming, at https://www.cvxpy.org/tutorial/dpp/index.html\n",
      "  warnings.warn(DPP_ERROR_MSG)\n",
      "/Users/patrik/miniconda3/envs/kmpc/lib/python3.11/site-packages/cvxpy/reductions/solvers/solving_chain.py:245: UserWarning: You are solving a parameterized problem that is not DPP. Because the problem is not DPP, subsequent solves will not be faster than the first one. For more information, see the documentation on Disciplined Parametrized Programming, at https://www.cvxpy.org/tutorial/dpp/index.html\n",
      "  warnings.warn(DPP_ERROR_MSG)\n",
      "/Users/patrik/miniconda3/envs/kmpc/lib/python3.11/site-packages/cvxpy/reductions/solvers/solving_chain.py:245: UserWarning: You are solving a parameterized problem that is not DPP. Because the problem is not DPP, subsequent solves will not be faster than the first one. For more information, see the documentation on Disciplined Parametrized Programming, at https://www.cvxpy.org/tutorial/dpp/index.html\n",
      "  warnings.warn(DPP_ERROR_MSG)\n"
     ]
    },
    {
     "name": "stdout",
     "output_type": "stream",
     "text": [
      "[ 1.32792827 -0.6962568 ]\n",
      "[ 0.00460234 -0.00061455]\n",
      "optimal\n",
      "[ 1.32789263 -0.69625094]\n",
      "[ 0.00456384 -0.00062796]\n",
      "optimal\n",
      "[ 1.32784171 -0.69624338]\n",
      "[ 0.00453079 -0.00064262]\n",
      "optimal\n",
      "[ 1.32778419 -0.69623477]\n",
      "[ 0.0045041  -0.00065692]\n",
      "optimal\n"
     ]
    },
    {
     "name": "stderr",
     "output_type": "stream",
     "text": [
      "/Users/patrik/miniconda3/envs/kmpc/lib/python3.11/site-packages/cvxpy/reductions/solvers/solving_chain.py:245: UserWarning: You are solving a parameterized problem that is not DPP. Because the problem is not DPP, subsequent solves will not be faster than the first one. For more information, see the documentation on Disciplined Parametrized Programming, at https://www.cvxpy.org/tutorial/dpp/index.html\n",
      "  warnings.warn(DPP_ERROR_MSG)\n",
      "/Users/patrik/miniconda3/envs/kmpc/lib/python3.11/site-packages/cvxpy/reductions/solvers/solving_chain.py:245: UserWarning: You are solving a parameterized problem that is not DPP. Because the problem is not DPP, subsequent solves will not be faster than the first one. For more information, see the documentation on Disciplined Parametrized Programming, at https://www.cvxpy.org/tutorial/dpp/index.html\n",
      "  warnings.warn(DPP_ERROR_MSG)\n",
      "/Users/patrik/miniconda3/envs/kmpc/lib/python3.11/site-packages/cvxpy/reductions/solvers/solving_chain.py:245: UserWarning: You are solving a parameterized problem that is not DPP. Because the problem is not DPP, subsequent solves will not be faster than the first one. For more information, see the documentation on Disciplined Parametrized Programming, at https://www.cvxpy.org/tutorial/dpp/index.html\n",
      "  warnings.warn(DPP_ERROR_MSG)\n",
      "/Users/patrik/miniconda3/envs/kmpc/lib/python3.11/site-packages/cvxpy/reductions/solvers/solving_chain.py:245: UserWarning: You are solving a parameterized problem that is not DPP. Because the problem is not DPP, subsequent solves will not be faster than the first one. For more information, see the documentation on Disciplined Parametrized Programming, at https://www.cvxpy.org/tutorial/dpp/index.html\n",
      "  warnings.warn(DPP_ERROR_MSG)\n"
     ]
    },
    {
     "name": "stdout",
     "output_type": "stream",
     "text": [
      "[ 1.32772738 -0.69622634]\n",
      "[ 0.00448387 -0.00067015]\n",
      "optimal\n",
      "[ 1.3276771  -0.69621882]\n",
      "[ 0.00446993 -0.00068169]\n",
      "optimal\n",
      "[ 1.32763668 -0.69621252]\n",
      "[ 0.00446104 -0.00069113]\n",
      "optimal\n"
     ]
    },
    {
     "name": "stderr",
     "output_type": "stream",
     "text": [
      "/Users/patrik/miniconda3/envs/kmpc/lib/python3.11/site-packages/cvxpy/reductions/solvers/solving_chain.py:245: UserWarning: You are solving a parameterized problem that is not DPP. Because the problem is not DPP, subsequent solves will not be faster than the first one. For more information, see the documentation on Disciplined Parametrized Programming, at https://www.cvxpy.org/tutorial/dpp/index.html\n",
      "  warnings.warn(DPP_ERROR_MSG)\n",
      "/Users/patrik/miniconda3/envs/kmpc/lib/python3.11/site-packages/cvxpy/reductions/solvers/solving_chain.py:245: UserWarning: You are solving a parameterized problem that is not DPP. Because the problem is not DPP, subsequent solves will not be faster than the first one. For more information, see the documentation on Disciplined Parametrized Programming, at https://www.cvxpy.org/tutorial/dpp/index.html\n",
      "  warnings.warn(DPP_ERROR_MSG)\n",
      "/Users/patrik/miniconda3/envs/kmpc/lib/python3.11/site-packages/cvxpy/reductions/solvers/solving_chain.py:245: UserWarning: You are solving a parameterized problem that is not DPP. Because the problem is not DPP, subsequent solves will not be faster than the first one. For more information, see the documentation on Disciplined Parametrized Programming, at https://www.cvxpy.org/tutorial/dpp/index.html\n",
      "  warnings.warn(DPP_ERROR_MSG)\n"
     ]
    },
    {
     "name": "stdout",
     "output_type": "stream",
     "text": [
      "[ 1.32760795 -0.69620755]\n",
      "[ 0.00445614 -0.00069831]\n",
      "optimal\n",
      "[ 1.32759088 -0.69620406]\n",
      "[ 0.00445423 -0.00070342]\n",
      "optimal\n",
      "[ 1.32758371 -0.696202  ]\n",
      "[ 0.00445343 -0.00070697]\n",
      "optimal\n",
      "[ 1.32758491 -0.696201  ]\n",
      "[ 0.00445343 -0.00070898]\n",
      "optimal\n"
     ]
    },
    {
     "name": "stderr",
     "output_type": "stream",
     "text": [
      "/Users/patrik/miniconda3/envs/kmpc/lib/python3.11/site-packages/cvxpy/reductions/solvers/solving_chain.py:245: UserWarning: You are solving a parameterized problem that is not DPP. Because the problem is not DPP, subsequent solves will not be faster than the first one. For more information, see the documentation on Disciplined Parametrized Programming, at https://www.cvxpy.org/tutorial/dpp/index.html\n",
      "  warnings.warn(DPP_ERROR_MSG)\n",
      "/Users/patrik/miniconda3/envs/kmpc/lib/python3.11/site-packages/cvxpy/reductions/solvers/solving_chain.py:245: UserWarning: You are solving a parameterized problem that is not DPP. Because the problem is not DPP, subsequent solves will not be faster than the first one. For more information, see the documentation on Disciplined Parametrized Programming, at https://www.cvxpy.org/tutorial/dpp/index.html\n",
      "  warnings.warn(DPP_ERROR_MSG)\n",
      "/Users/patrik/miniconda3/envs/kmpc/lib/python3.11/site-packages/cvxpy/reductions/solvers/solving_chain.py:245: UserWarning: You are solving a parameterized problem that is not DPP. Because the problem is not DPP, subsequent solves will not be faster than the first one. For more information, see the documentation on Disciplined Parametrized Programming, at https://www.cvxpy.org/tutorial/dpp/index.html\n",
      "  warnings.warn(DPP_ERROR_MSG)\n",
      "/Users/patrik/miniconda3/envs/kmpc/lib/python3.11/site-packages/cvxpy/reductions/solvers/solving_chain.py:245: UserWarning: You are solving a parameterized problem that is not DPP. Because the problem is not DPP, subsequent solves will not be faster than the first one. For more information, see the documentation on Disciplined Parametrized Programming, at https://www.cvxpy.org/tutorial/dpp/index.html\n",
      "  warnings.warn(DPP_ERROR_MSG)\n"
     ]
    },
    {
     "name": "stdout",
     "output_type": "stream",
     "text": [
      "[ 1.32759175 -0.69620096]\n",
      "[ 0.00445308 -0.00071039]\n",
      "optimal\n",
      "[ 1.32760196 -0.69620117]\n",
      "[ 0.00445207 -0.00071103]\n",
      "optimal\n",
      "[ 1.32761318 -0.69620158]\n",
      "[ 0.00445016 -0.00071134]\n",
      "optimal\n",
      "[ 1.32762347 -0.69620229]\n",
      "[ 0.00444706 -0.00071192]\n",
      "optimal\n"
     ]
    },
    {
     "name": "stderr",
     "output_type": "stream",
     "text": [
      "/Users/patrik/miniconda3/envs/kmpc/lib/python3.11/site-packages/cvxpy/reductions/solvers/solving_chain.py:245: UserWarning: You are solving a parameterized problem that is not DPP. Because the problem is not DPP, subsequent solves will not be faster than the first one. For more information, see the documentation on Disciplined Parametrized Programming, at https://www.cvxpy.org/tutorial/dpp/index.html\n",
      "  warnings.warn(DPP_ERROR_MSG)\n",
      "/Users/patrik/miniconda3/envs/kmpc/lib/python3.11/site-packages/cvxpy/reductions/solvers/solving_chain.py:245: UserWarning: You are solving a parameterized problem that is not DPP. Because the problem is not DPP, subsequent solves will not be faster than the first one. For more information, see the documentation on Disciplined Parametrized Programming, at https://www.cvxpy.org/tutorial/dpp/index.html\n",
      "  warnings.warn(DPP_ERROR_MSG)\n",
      "/Users/patrik/miniconda3/envs/kmpc/lib/python3.11/site-packages/cvxpy/reductions/solvers/solving_chain.py:245: UserWarning: You are solving a parameterized problem that is not DPP. Because the problem is not DPP, subsequent solves will not be faster than the first one. For more information, see the documentation on Disciplined Parametrized Programming, at https://www.cvxpy.org/tutorial/dpp/index.html\n",
      "  warnings.warn(DPP_ERROR_MSG)\n",
      "/Users/patrik/miniconda3/envs/kmpc/lib/python3.11/site-packages/cvxpy/reductions/solvers/solving_chain.py:245: UserWarning: You are solving a parameterized problem that is not DPP. Because the problem is not DPP, subsequent solves will not be faster than the first one. For more information, see the documentation on Disciplined Parametrized Programming, at https://www.cvxpy.org/tutorial/dpp/index.html\n",
      "  warnings.warn(DPP_ERROR_MSG)\n"
     ]
    },
    {
     "name": "stdout",
     "output_type": "stream",
     "text": [
      "[ 1.32763212 -0.69620277]\n",
      "[ 0.00444337 -0.00071275]\n",
      "optimal\n",
      "[ 1.32763802 -0.69620281]\n",
      "[ 0.00443878 -0.00071357]\n",
      "optimal\n",
      "[ 1.32764134 -0.69620273]\n",
      "[ 0.00443418 -0.00071483]\n",
      "optimal\n",
      "[ 1.32764188 -0.6962024 ]\n",
      "[ 0.0044293  -0.00071636]\n",
      "optimal\n"
     ]
    },
    {
     "name": "stderr",
     "output_type": "stream",
     "text": [
      "/Users/patrik/miniconda3/envs/kmpc/lib/python3.11/site-packages/cvxpy/reductions/solvers/solving_chain.py:245: UserWarning: You are solving a parameterized problem that is not DPP. Because the problem is not DPP, subsequent solves will not be faster than the first one. For more information, see the documentation on Disciplined Parametrized Programming, at https://www.cvxpy.org/tutorial/dpp/index.html\n",
      "  warnings.warn(DPP_ERROR_MSG)\n",
      "/Users/patrik/miniconda3/envs/kmpc/lib/python3.11/site-packages/cvxpy/reductions/solvers/solving_chain.py:245: UserWarning: You are solving a parameterized problem that is not DPP. Because the problem is not DPP, subsequent solves will not be faster than the first one. For more information, see the documentation on Disciplined Parametrized Programming, at https://www.cvxpy.org/tutorial/dpp/index.html\n",
      "  warnings.warn(DPP_ERROR_MSG)\n",
      "/Users/patrik/miniconda3/envs/kmpc/lib/python3.11/site-packages/cvxpy/reductions/solvers/solving_chain.py:245: UserWarning: You are solving a parameterized problem that is not DPP. Because the problem is not DPP, subsequent solves will not be faster than the first one. For more information, see the documentation on Disciplined Parametrized Programming, at https://www.cvxpy.org/tutorial/dpp/index.html\n",
      "  warnings.warn(DPP_ERROR_MSG)\n",
      "/Users/patrik/miniconda3/envs/kmpc/lib/python3.11/site-packages/cvxpy/reductions/solvers/solving_chain.py:245: UserWarning: You are solving a parameterized problem that is not DPP. Because the problem is not DPP, subsequent solves will not be faster than the first one. For more information, see the documentation on Disciplined Parametrized Programming, at https://www.cvxpy.org/tutorial/dpp/index.html\n",
      "  warnings.warn(DPP_ERROR_MSG)\n"
     ]
    },
    {
     "name": "stdout",
     "output_type": "stream",
     "text": [
      "[ 1.32764021 -0.69620173]\n",
      "[ 0.00442478 -0.00071792]\n",
      "optimal\n",
      "[ 1.32763679 -0.69620101]\n",
      "[ 0.00442037 -0.00071954]\n",
      "optimal\n"
     ]
    },
    {
     "name": "stderr",
     "output_type": "stream",
     "text": [
      "/Users/patrik/miniconda3/envs/kmpc/lib/python3.11/site-packages/cvxpy/reductions/solvers/solving_chain.py:245: UserWarning: You are solving a parameterized problem that is not DPP. Because the problem is not DPP, subsequent solves will not be faster than the first one. For more information, see the documentation on Disciplined Parametrized Programming, at https://www.cvxpy.org/tutorial/dpp/index.html\n",
      "  warnings.warn(DPP_ERROR_MSG)\n",
      "/Users/patrik/miniconda3/envs/kmpc/lib/python3.11/site-packages/cvxpy/reductions/solvers/solving_chain.py:245: UserWarning: You are solving a parameterized problem that is not DPP. Because the problem is not DPP, subsequent solves will not be faster than the first one. For more information, see the documentation on Disciplined Parametrized Programming, at https://www.cvxpy.org/tutorial/dpp/index.html\n",
      "  warnings.warn(DPP_ERROR_MSG)\n"
     ]
    },
    {
     "name": "stdout",
     "output_type": "stream",
     "text": [
      "[ 1.32763257 -0.69620045]\n",
      "[ 0.00441674 -0.00072154]\n",
      "optimal\n",
      "[ 1.32762796 -0.69619942]\n",
      "[ 0.00441348 -0.00072307]\n",
      "optimal\n",
      "[ 1.32762353 -0.69619856]\n",
      "[ 0.00441087 -0.00072476]\n",
      "optimal\n",
      "[ 1.32761972 -0.69619761]\n",
      "[ 0.00440886 -0.00072586]\n",
      "optimal\n"
     ]
    },
    {
     "name": "stderr",
     "output_type": "stream",
     "text": [
      "/Users/patrik/miniconda3/envs/kmpc/lib/python3.11/site-packages/cvxpy/reductions/solvers/solving_chain.py:245: UserWarning: You are solving a parameterized problem that is not DPP. Because the problem is not DPP, subsequent solves will not be faster than the first one. For more information, see the documentation on Disciplined Parametrized Programming, at https://www.cvxpy.org/tutorial/dpp/index.html\n",
      "  warnings.warn(DPP_ERROR_MSG)\n",
      "/Users/patrik/miniconda3/envs/kmpc/lib/python3.11/site-packages/cvxpy/reductions/solvers/solving_chain.py:245: UserWarning: You are solving a parameterized problem that is not DPP. Because the problem is not DPP, subsequent solves will not be faster than the first one. For more information, see the documentation on Disciplined Parametrized Programming, at https://www.cvxpy.org/tutorial/dpp/index.html\n",
      "  warnings.warn(DPP_ERROR_MSG)\n",
      "/Users/patrik/miniconda3/envs/kmpc/lib/python3.11/site-packages/cvxpy/reductions/solvers/solving_chain.py:245: UserWarning: You are solving a parameterized problem that is not DPP. Because the problem is not DPP, subsequent solves will not be faster than the first one. For more information, see the documentation on Disciplined Parametrized Programming, at https://www.cvxpy.org/tutorial/dpp/index.html\n",
      "  warnings.warn(DPP_ERROR_MSG)\n",
      "/Users/patrik/miniconda3/envs/kmpc/lib/python3.11/site-packages/cvxpy/reductions/solvers/solving_chain.py:245: UserWarning: You are solving a parameterized problem that is not DPP. Because the problem is not DPP, subsequent solves will not be faster than the first one. For more information, see the documentation on Disciplined Parametrized Programming, at https://www.cvxpy.org/tutorial/dpp/index.html\n",
      "  warnings.warn(DPP_ERROR_MSG)\n"
     ]
    },
    {
     "name": "stdout",
     "output_type": "stream",
     "text": [
      "[ 1.32761647 -0.69619718]\n",
      "[ 0.00440726 -0.00072719]\n",
      "optimal\n",
      "[ 1.32761397 -0.69619673]\n",
      "[ 0.00440584 -0.00072824]\n",
      "optimal\n",
      "[ 1.32761247 -0.69619622]\n",
      "[ 0.00440507 -0.00072876]\n",
      "optimal\n",
      "[ 1.32761142 -0.69619607]\n",
      "[ 0.00440415 -0.00072955]\n",
      "optimal\n"
     ]
    },
    {
     "name": "stderr",
     "output_type": "stream",
     "text": [
      "/Users/patrik/miniconda3/envs/kmpc/lib/python3.11/site-packages/cvxpy/reductions/solvers/solving_chain.py:245: UserWarning: You are solving a parameterized problem that is not DPP. Because the problem is not DPP, subsequent solves will not be faster than the first one. For more information, see the documentation on Disciplined Parametrized Programming, at https://www.cvxpy.org/tutorial/dpp/index.html\n",
      "  warnings.warn(DPP_ERROR_MSG)\n",
      "/Users/patrik/miniconda3/envs/kmpc/lib/python3.11/site-packages/cvxpy/reductions/solvers/solving_chain.py:245: UserWarning: You are solving a parameterized problem that is not DPP. Because the problem is not DPP, subsequent solves will not be faster than the first one. For more information, see the documentation on Disciplined Parametrized Programming, at https://www.cvxpy.org/tutorial/dpp/index.html\n",
      "  warnings.warn(DPP_ERROR_MSG)\n",
      "/Users/patrik/miniconda3/envs/kmpc/lib/python3.11/site-packages/cvxpy/reductions/solvers/solving_chain.py:245: UserWarning: You are solving a parameterized problem that is not DPP. Because the problem is not DPP, subsequent solves will not be faster than the first one. For more information, see the documentation on Disciplined Parametrized Programming, at https://www.cvxpy.org/tutorial/dpp/index.html\n",
      "  warnings.warn(DPP_ERROR_MSG)\n",
      "/Users/patrik/miniconda3/envs/kmpc/lib/python3.11/site-packages/cvxpy/reductions/solvers/solving_chain.py:245: UserWarning: You are solving a parameterized problem that is not DPP. Because the problem is not DPP, subsequent solves will not be faster than the first one. For more information, see the documentation on Disciplined Parametrized Programming, at https://www.cvxpy.org/tutorial/dpp/index.html\n",
      "  warnings.warn(DPP_ERROR_MSG)\n"
     ]
    },
    {
     "name": "stdout",
     "output_type": "stream",
     "text": [
      "[ 1.32761094 -0.69619581]\n",
      "[ 0.00440329 -0.00072995]\n",
      "optimal\n",
      "[ 1.32761111 -0.69619564]\n",
      "[ 0.0044027  -0.00073058]\n",
      "optimal\n",
      "[ 1.3276115  -0.69619534]\n",
      "[ 0.0044021  -0.00073086]\n",
      "optimal\n",
      "[ 1.32761184 -0.69619508]\n",
      "[ 0.00440127 -0.0007311 ]\n",
      "optimal\n"
     ]
    },
    {
     "name": "stderr",
     "output_type": "stream",
     "text": [
      "/Users/patrik/miniconda3/envs/kmpc/lib/python3.11/site-packages/cvxpy/reductions/solvers/solving_chain.py:245: UserWarning: You are solving a parameterized problem that is not DPP. Because the problem is not DPP, subsequent solves will not be faster than the first one. For more information, see the documentation on Disciplined Parametrized Programming, at https://www.cvxpy.org/tutorial/dpp/index.html\n",
      "  warnings.warn(DPP_ERROR_MSG)\n",
      "/Users/patrik/miniconda3/envs/kmpc/lib/python3.11/site-packages/cvxpy/reductions/solvers/solving_chain.py:245: UserWarning: You are solving a parameterized problem that is not DPP. Because the problem is not DPP, subsequent solves will not be faster than the first one. For more information, see the documentation on Disciplined Parametrized Programming, at https://www.cvxpy.org/tutorial/dpp/index.html\n",
      "  warnings.warn(DPP_ERROR_MSG)\n",
      "/Users/patrik/miniconda3/envs/kmpc/lib/python3.11/site-packages/cvxpy/reductions/solvers/solving_chain.py:245: UserWarning: You are solving a parameterized problem that is not DPP. Because the problem is not DPP, subsequent solves will not be faster than the first one. For more information, see the documentation on Disciplined Parametrized Programming, at https://www.cvxpy.org/tutorial/dpp/index.html\n",
      "  warnings.warn(DPP_ERROR_MSG)\n",
      "/Users/patrik/miniconda3/envs/kmpc/lib/python3.11/site-packages/cvxpy/reductions/solvers/solving_chain.py:245: UserWarning: You are solving a parameterized problem that is not DPP. Because the problem is not DPP, subsequent solves will not be faster than the first one. For more information, see the documentation on Disciplined Parametrized Programming, at https://www.cvxpy.org/tutorial/dpp/index.html\n",
      "  warnings.warn(DPP_ERROR_MSG)\n"
     ]
    },
    {
     "name": "stdout",
     "output_type": "stream",
     "text": [
      "[ 1.32761239 -0.69619509]\n",
      "[ 0.00440063 -0.00073156]\n",
      "optimal\n",
      "[ 1.32761292 -0.69619496]\n",
      "[ 0.0044     -0.00073161]\n",
      "optimal\n"
     ]
    },
    {
     "name": "stderr",
     "output_type": "stream",
     "text": [
      "/Users/patrik/miniconda3/envs/kmpc/lib/python3.11/site-packages/cvxpy/reductions/solvers/solving_chain.py:245: UserWarning: You are solving a parameterized problem that is not DPP. Because the problem is not DPP, subsequent solves will not be faster than the first one. For more information, see the documentation on Disciplined Parametrized Programming, at https://www.cvxpy.org/tutorial/dpp/index.html\n",
      "  warnings.warn(DPP_ERROR_MSG)\n",
      "/Users/patrik/miniconda3/envs/kmpc/lib/python3.11/site-packages/cvxpy/reductions/solvers/solving_chain.py:245: UserWarning: You are solving a parameterized problem that is not DPP. Because the problem is not DPP, subsequent solves will not be faster than the first one. For more information, see the documentation on Disciplined Parametrized Programming, at https://www.cvxpy.org/tutorial/dpp/index.html\n",
      "  warnings.warn(DPP_ERROR_MSG)\n"
     ]
    },
    {
     "name": "stdout",
     "output_type": "stream",
     "text": [
      "[ 1.32761315 -0.6961951 ]\n",
      "[ 0.00439932 -0.00073193]\n",
      "optimal\n",
      "[ 1.3276132  -0.69619515]\n",
      "[ 0.00439849 -0.00073227]\n",
      "optimal\n",
      "[ 1.32761327 -0.69619508]\n",
      "[ 0.00439804 -0.0007326 ]\n",
      "optimal\n",
      "[ 1.32761289 -0.69619484]\n",
      "[ 0.00439722 -0.0007328 ]\n",
      "optimal\n"
     ]
    },
    {
     "name": "stderr",
     "output_type": "stream",
     "text": [
      "/Users/patrik/miniconda3/envs/kmpc/lib/python3.11/site-packages/cvxpy/reductions/solvers/solving_chain.py:245: UserWarning: You are solving a parameterized problem that is not DPP. Because the problem is not DPP, subsequent solves will not be faster than the first one. For more information, see the documentation on Disciplined Parametrized Programming, at https://www.cvxpy.org/tutorial/dpp/index.html\n",
      "  warnings.warn(DPP_ERROR_MSG)\n",
      "/Users/patrik/miniconda3/envs/kmpc/lib/python3.11/site-packages/cvxpy/reductions/solvers/solving_chain.py:245: UserWarning: You are solving a parameterized problem that is not DPP. Because the problem is not DPP, subsequent solves will not be faster than the first one. For more information, see the documentation on Disciplined Parametrized Programming, at https://www.cvxpy.org/tutorial/dpp/index.html\n",
      "  warnings.warn(DPP_ERROR_MSG)\n",
      "/Users/patrik/miniconda3/envs/kmpc/lib/python3.11/site-packages/cvxpy/reductions/solvers/solving_chain.py:245: UserWarning: You are solving a parameterized problem that is not DPP. Because the problem is not DPP, subsequent solves will not be faster than the first one. For more information, see the documentation on Disciplined Parametrized Programming, at https://www.cvxpy.org/tutorial/dpp/index.html\n",
      "  warnings.warn(DPP_ERROR_MSG)\n"
     ]
    }
   ],
   "source": [
    "sim_time = 150\n",
    "Ts = 1\n",
    "z_sim = np.zeros((nz+nd, sim_time+1))\n",
    "y_sim = np.zeros((ny, sim_time+1))\n",
    "u_sim = np.zeros((nu, sim_time))\n",
    "ys_sim = np.zeros((ny, sim_time+1))\n",
    "zs_sim = np.zeros((nz, sim_time+1))\n",
    "us_sim = np.zeros((nu, sim_time+1))\n",
    "\n",
    "y_sp.value = loaded_setup['reference'][:,0]\n",
    "z_k.value = z_s.value\n",
    "y_k.value = get_y(T_real@z_k.value)[0]\n",
    "target_estimation.solve(solver=cp.GUROBI)\n",
    "z_ref.value = z_s.value\n",
    "\n",
    "y_sim_descaled = np.zeros((ny, sim_time+1))\n",
    "u_sim_descaled = np.zeros((nu, sim_time))\n",
    "\n",
    "\n",
    "z_sim[:, 0] = z_est_.flatten()\n",
    "y_sim[:, 0] = y_start.flatten()\n",
    "ys_sim[:, 0] = y_s.value\n",
    "zs_sim[:, 0] = z_s.value\n",
    "y_sim_descaled[:, 0] = scaler.inverse_transform(y_sim[:, 0].reshape(1,-1))[0]\n",
    "\n",
    "counter = 0\n",
    "when = 0\n",
    "change = False\n",
    "for k in range(sim_time):\n",
    "    if k == 50:\n",
    "        y_sp.value = loaded_setup['reference'][:,100]#scaler.transform(np.array([[1.5,0.8]]))[0]\n",
    "    #lin_point = get_x(y_sp.value).T[0]\n",
    "    C_k.value = helper.evaluate_jacobian(\n",
    "        problem.nodes[4],\n",
    "        torch.from_numpy(T_real@z_s.value).float(),\n",
    "    )@T_real\n",
    "    z_k.value = z_s.value \n",
    "    y_k.value = get_y(T_real@z_k.value)[0]\n",
    "    if True:# abs(sum(ys_sim[:, k-1]-ys_sim[:, k])) > 0.01 and k > 0: #k in [50,51,52,53]:\n",
    "        mpc = construct_MPC(C_k.value)\n",
    "        when = k\n",
    "        change = True\n",
    "    else:\n",
    "        change = False\n",
    "    # solve MPC\n",
    "    mpc.solve(solver=cp.GUROBI)\n",
    "    u_sim[:, k] = u[:,0].value\n",
    "    print(u[:,0].value)\n",
    "    u_sim_descaled[:, k] = scalerU.inverse_transform(u_sim[:, k].reshape(1,-1))[0]\n",
    "    \n",
    "    # simulate system\n",
    "    y_sim_descaled[:, k+1] =  TwoTanks.step(y_sim_descaled[:, k], u_sim_descaled[:, k].reshape(1,-1), Ts)\n",
    "    \n",
    "    y_sim[:, k+1] = scaler.transform(y_sim_descaled[:, k+1].reshape(1,-1))[0]\n",
    "    \n",
    "    # estimate state\n",
    "    z_sim[:, k+1] = EKF.step(u_sim[:, k], y_sim[:, k]).flatten()\n",
    "    \n",
    "    # update initial conditions\n",
    "    #y0.value = y_sim[:, k+1]\n",
    "    z0.value = z_sim[:nz, k+1]\n",
    "    d0.value = z_sim[nz:, k+1]\n",
    "\n",
    "    print(y_k.value-y_sim[:, k+1])\n",
    "    # if change:\n",
    "    #     C_k.value = J_k\n",
    "    # else:\n",
    "    #     C_k.value = helper.evaluate_jacobian(\n",
    "    #         problem.nodes[4],\n",
    "    #         torch.from_numpy(z_k.value).float(),\n",
    "    #     )\n",
    "        \n",
    "    # C_k.value = helper.evaluate_jacobian(\n",
    "    #     problem.nodes[4],\n",
    "    #     torch.from_numpy(T_real@z_s.value).float(),\n",
    "    # )@T_real\n",
    "    target_estimation.solve(solver=cp.GUROBI)\n",
    "    ys_sim[:, k+1] = y_s.value\n",
    "    zs_sim[:, k+1] = z_s.value\n",
    "    us_sim[:, k+1] = u_s.value\n",
    "    z_ref.value = z_s.value\n",
    "    u_prev.value = u_sim[:, k]\n",
    "    print(mpc.status)\n",
    "    if mpc.status == 'optimal':\n",
    "        counter += 1\n",
    "    "
   ]
  },
  {
   "cell_type": "code",
   "execution_count": 24,
   "metadata": {},
   "outputs": [
    {
     "data": {
      "text/plain": [
       "150"
      ]
     },
     "execution_count": 24,
     "metadata": {},
     "output_type": "execute_result"
    }
   ],
   "source": [
    "counter"
   ]
  },
  {
   "cell_type": "code",
   "execution_count": 25,
   "metadata": {},
   "outputs": [
    {
     "data": {
      "text/plain": [
       "149"
      ]
     },
     "execution_count": 25,
     "metadata": {},
     "output_type": "execute_result"
    }
   ],
   "source": [
    "when"
   ]
  },
  {
   "cell_type": "code",
   "execution_count": 47,
   "metadata": {},
   "outputs": [
    {
     "data": {
      "image/png": "[encoded data removed]",
      "text/plain": [
       "<Figure size 1200x800 with 1 Axes>"
      ]
     },
     "metadata": {},
     "output_type": "display_data"
    }
   ],
   "source": [
    "# plot results\n",
    "plt.figure(figsize=(12, 8))\n",
    "plt.subplot(2, 1, 1)\n",
    "plt.plot(y_sim_descaled[0,50:], label='h1')\n",
    "plt.plot(y_sim_descaled[1,50:], label='h2')\n",
    "plt.plot(scaler.inverse_transform(ys_sim.T).T[0,50:], color='red', linestyle='--', label='target h1')\n",
    "plt.plot(scaler.inverse_transform(ys_sim.T).T[1,50:], color='red', linestyle=':', label='target h2')\n",
    "plt.xlabel('Time step')\n",
    "plt.ylabel('Output')\n",
    "plt.title('TK-MPC (Taylor Block-Diag A LTI) Simulation')\n",
    "plt.legend()\n",
    "plt.grid(True) "
   ]
  },
  {
   "cell_type": "code",
   "execution_count": 27,
   "metadata": {},
   "outputs": [
    {
     "data": {
      "text/plain": [
       "6"
      ]
     },
     "execution_count": 27,
     "metadata": {},
     "output_type": "execute_result"
    }
   ],
   "source": [
    "sum(y_sim_descaled[0] > 1.58001)"
   ]
  },
  {
   "cell_type": "code",
   "execution_count": 28,
   "metadata": {},
   "outputs": [],
   "source": [
    "y_setpoint = loaded_setup['reference'][:,100]"
   ]
  },
  {
   "cell_type": "code",
   "execution_count": 29,
   "metadata": {},
   "outputs": [
    {
     "name": "stdout",
     "output_type": "stream",
     "text": [
      "First sustained convergence index: 80\n"
     ]
    }
   ],
   "source": [
    "e = 0.01  # Tolerance\n",
    "\n",
    "in_band = np.abs(y_sim[0] - y_setpoint[0]) <= e\n",
    "\n",
    "# Check for the first index where all subsequent values stay in the band\n",
    "for i in range(len(y_sim[0])):\n",
    "    if np.all(in_band[i:]):\n",
    "        print(\"First sustained convergence index:\", i)\n",
    "        break\n",
    "else:\n",
    "    print(\"No sustained convergence found.\")"
   ]
  },
  {
   "cell_type": "code",
   "execution_count": 30,
   "metadata": {},
   "outputs": [
    {
     "name": "stdout",
     "output_type": "stream",
     "text": [
      "First sustained convergence index: 73\n"
     ]
    }
   ],
   "source": [
    "e = 0.01  # Tolerance\n",
    "\n",
    "in_band = np.abs(y_sim[1] - y_setpoint[1]) <= e\n",
    "\n",
    "# Check for the first index where all subsequent values stay in the band\n",
    "for i in range(len(y_sim[0])):\n",
    "    if np.all(in_band[i:]):\n",
    "        print(\"First sustained convergence index:\", i)\n",
    "        break\n",
    "else:\n",
    "    print(\"No sustained convergence found.\")"
   ]
  },
  {
   "cell_type": "code",
   "execution_count": 31,
   "metadata": {},
   "outputs": [
    {
     "name": "stdout",
     "output_type": "stream",
     "text": [
      "MSE for h1: 0.007106638596984997\n",
      "MSE for h2: 0.0026795636290882843\n"
     ]
    }
   ],
   "source": [
    "from sklearn.metrics import mean_squared_error\n",
    "\n",
    "# Descales ys_sim\n",
    "ys_sim_descaled = scaler.inverse_transform(ys_sim.T).T\n",
    "\n",
    "# Compute MSE for each output\n",
    "mse_h1 = mean_squared_error(ys_sim_descaled[0], y_sim_descaled[0])\n",
    "mse_h2 = mean_squared_error(ys_sim_descaled[1], y_sim_descaled[1])\n",
    "\n",
    "print(f\"MSE for h1: {mse_h1}\")\n",
    "print(f\"MSE for h2: {mse_h2}\")"
   ]
  },
  {
   "cell_type": "code",
   "execution_count": 32,
   "metadata": {},
   "outputs": [
    {
     "name": "stdout",
     "output_type": "stream",
     "text": [
      "ISE for h1: 1.073102428139843\n",
      "ISE for h2: 0.4046141079920386\n"
     ]
    }
   ],
   "source": [
    "from numpy import trapz\n",
    "\n",
    "# Compute ISE for each output\n",
    "ise_h1 = trapz((ys_sim_descaled[0] - y_sim_descaled[0])**2)\n",
    "ise_h2 = trapz((ys_sim_descaled[1] - y_sim_descaled[1])**2)\n",
    "\n",
    "print(f\"ISE for h1: {ise_h1}\")\n",
    "print(f\"ISE for h2: {ise_h2}\")\n",
    "\n",
    "# 1.081780547953782\n",
    "# ISE for h2: 0.6261296966708955"
   ]
  },
  {
   "cell_type": "code",
   "execution_count": 49,
   "metadata": {},
   "outputs": [
    {
     "name": "stdout",
     "output_type": "stream",
     "text": [
      "Closed-loop objective function value: 11.52143575380545\n"
     ]
    }
   ],
   "source": [
    "# Compute the closed-loop value of the objective function\n",
    "\n",
    "objective_value = 0\n",
    "for k in range(50,sim_time):\n",
    "    y_diff = y_sim[:, k] - y_setpoint\n",
    "    u_diff = u_sim[:, k] - u_sim[:, k-1]\n",
    "    #objective_value += y_diff.T @ Qy @ y_diff \n",
    "    objective_value += u_diff.T @ Qu @ u_diff\n",
    "    \n",
    "\n",
    "print(f\"Closed-loop objective function value: {objective_value}\")"
   ]
  },
  {
   "cell_type": "code",
   "execution_count": 34,
   "metadata": {},
   "outputs": [
    {
     "data": {
      "text/plain": [
       "array([-3.32007184e-06, -1.03237719e-06,  4.22161712e-07, -2.56861263e-06,\n",
       "       -3.32676217e-06,  1.89949755e-06,  8.82324671e-06, -1.96934134e-05,\n",
       "       -1.06583075e-05, -1.01786249e-05])"
      ]
     },
     "execution_count": 34,
     "metadata": {},
     "output_type": "execute_result"
    }
   ],
   "source": [
    "z_sim[:nz, -1].flatten()-z_ref.value.flatten()"
   ]
  },
  {
   "cell_type": "code",
   "execution_count": 46,
   "metadata": {},
   "outputs": [
    {
     "data": {
      "image/png": "[encoded data removed]",
      "text/plain": [
       "<Figure size 1200x800 with 1 Axes>"
      ]
     },
     "metadata": {},
     "output_type": "display_data"
    }
   ],
   "source": [
    "# plot results\n",
    "plt.figure(figsize=(12, 8))\n",
    "plt.subplot(2, 1, 1)\n",
    "plt.plot(u_sim_descaled[0,50:], label='q1')\n",
    "plt.plot(u_sim_descaled[1,50:], label='q2')\n",
    "plt.xlabel('Time step')\n",
    "plt.ylabel('Input')\n",
    "plt.legend()\n",
    "plt.grid(True) "
   ]
  },
  {
   "cell_type": "code",
   "execution_count": 36,
   "metadata": {},
   "outputs": [
    {
     "data": {
      "text/plain": [
       "[<matplotlib.lines.Line2D at 0x3065d78d0>,\n",
       " <matplotlib.lines.Line2D at 0x3065dbc10>]"
      ]
     },
     "execution_count": 36,
     "metadata": {},
     "output_type": "execute_result"
    },
    {
     "data": {
      "image/png": "[encoded data removed]",
      "text/plain": [
       "<Figure size 640x480 with 1 Axes>"
      ]
     },
     "metadata": {},
     "output_type": "display_data"
    }
   ],
   "source": [
    "plt.plot(us_sim.T)"
   ]
  },
  {
   "cell_type": "code",
   "execution_count": 37,
   "metadata": {},
   "outputs": [
    {
     "name": "stdout",
     "output_type": "stream",
     "text": [
      "[46.14892576 54.82471892]\n"
     ]
    }
   ],
   "source": [
    "u_sum_abs = np.sum(np.abs(u_sim_descaled), axis=1)\n",
    "print(u_sum_abs)"
   ]
  },
  {
   "cell_type": "code",
   "execution_count": 38,
   "metadata": {},
   "outputs": [
    {
     "data": {
      "text/plain": [
       "array([0.03735106, 0.52725772])"
      ]
     },
     "execution_count": 38,
     "metadata": {},
     "output_type": "execute_result"
    }
   ],
   "source": [
    "u_sim_descaled[:,49]"
   ]
  },
  {
   "cell_type": "code",
   "execution_count": 39,
   "metadata": {},
   "outputs": [
    {
     "name": "stderr",
     "output_type": "stream",
     "text": [
      "/var/folders/js/50fn0f5j3g376mmr6z71dh5r0000gn/T/ipykernel_20002/621697738.py:6: UserWarning: No artists with labels found to put in legend.  Note that artists whose label start with an underscore are ignored when legend() is called with no argument.\n",
      "  plt.legend()\n"
     ]
    },
    {
     "data": {
      "image/png": "[encoded data removed]",
      "text/plain": [
       "<Figure size 1200x800 with 1 Axes>"
      ]
     },
     "metadata": {},
     "output_type": "display_data"
    }
   ],
   "source": [
    "plt.figure(figsize=(12, 8))\n",
    "plt.subplot(2, 1, 1)\n",
    "plt.plot(z_sim[nz:].T)\n",
    "plt.xlabel('Time step')\n",
    "plt.ylabel('Disturbance')\n",
    "plt.legend()\n",
    "plt.grid(True)"
   ]
  },
  {
   "cell_type": "code",
   "execution_count": 40,
   "metadata": {},
   "outputs": [
    {
     "name": "stderr",
     "output_type": "stream",
     "text": [
      "/var/folders/js/50fn0f5j3g376mmr6z71dh5r0000gn/T/ipykernel_20002/4249820153.py:6: UserWarning: No artists with labels found to put in legend.  Note that artists whose label start with an underscore are ignored when legend() is called with no argument.\n",
      "  plt.legend()\n"
     ]
    },
    {
     "data": {
      "image/png": "[encoded data removed]",
      "text/plain": [
       "<Figure size 1200x800 with 1 Axes>"
      ]
     },
     "metadata": {},
     "output_type": "display_data"
    }
   ],
   "source": [
    "plt.figure(figsize=(12, 8))\n",
    "plt.subplot(2, 1, 1)\n",
    "plt.plot(zs_sim[:nz].T)\n",
    "plt.xlabel('Time step')\n",
    "plt.ylabel('Disturbance')\n",
    "plt.legend()\n",
    "plt.grid(True)"
   ]
  },
  {
   "cell_type": "code",
   "execution_count": 41,
   "metadata": {},
   "outputs": [
    {
     "name": "stderr",
     "output_type": "stream",
     "text": [
      "/var/folders/js/50fn0f5j3g376mmr6z71dh5r0000gn/T/ipykernel_20002/2974051967.py:6: UserWarning: No artists with labels found to put in legend.  Note that artists whose label start with an underscore are ignored when legend() is called with no argument.\n",
      "  plt.legend()\n"
     ]
    },
    {
     "data": {
      "image/png": "[encoded data removed]",
      "text/plain": [
       "<Figure size 1200x800 with 1 Axes>"
      ]
     },
     "metadata": {},
     "output_type": "display_data"
    }
   ],
   "source": [
    "plt.figure(figsize=(12, 8))\n",
    "plt.subplot(2, 1, 1)\n",
    "plt.plot(ys_sim.T)\n",
    "plt.xlabel('Time step')\n",
    "plt.ylabel('Disturbance')\n",
    "plt.legend()\n",
    "plt.grid(True)"
   ]
  },
  {
   "cell_type": "code",
   "execution_count": 42,
   "metadata": {},
   "outputs": [
    {
     "data": {
      "text/plain": [
       "array([[-0.83766854, -0.83766854, -0.83766854, -0.83766854, -0.83766854,\n",
       "        -0.83766854, -0.83766854, -0.83766854, -0.83766854, -0.83766854,\n",
       "        -0.83766854, -0.09109306,  0.29135356,  0.29135356,  0.29135356,\n",
       "         0.29135355,  0.29135355,  0.29135356,  0.29135356,  0.29135356],\n",
       "       [-0.64228927, -0.64228927, -0.64228927, -0.64228927, -0.64228927,\n",
       "        -0.64228927, -0.64228927, -0.64228927, -0.64228927, -0.64228927,\n",
       "        -0.64228927,  0.0981999 , -0.22285209, -0.22285209, -0.22285209,\n",
       "        -0.22285208, -0.22285208, -0.22285209, -0.22285209, -0.22285209]])"
      ]
     },
     "execution_count": 42,
     "metadata": {},
     "output_type": "execute_result"
    }
   ],
   "source": [
    "ys_sim[:,40:60]"
   ]
  },
  {
   "cell_type": "code",
   "execution_count": 43,
   "metadata": {},
   "outputs": [
    {
     "data": {
      "image/png": "[encoded data removed]",
      "text/plain": [
       "<Figure size 1200x800 with 1 Axes>"
      ]
     },
     "metadata": {},
     "output_type": "display_data"
    }
   ],
   "source": [
    "lifted_state = 2\n",
    "plt.figure(figsize=(12, 8))\n",
    "plt.subplot(2, 1, 1)\n",
    "plt.plot(z_sim[lifted_state].T, label = 'lifted state')\n",
    "plt.plot(zs_sim[lifted_state].T, label = 'reference')\n",
    "legend = plt.legend()\n"
   ]
  },
  {
   "cell_type": "markdown",
   "metadata": {},
   "source": [
    "## comparison with Jackobian"
   ]
  },
  {
   "cell_type": "code",
   "execution_count": 44,
   "metadata": {},
   "outputs": [
    {
     "ename": "NameError",
     "evalue": "name 'J_k' is not defined",
     "output_type": "error",
     "traceback": [
      "\u001b[31m---------------------------------------------------------------------------\u001b[39m",
      "\u001b[31mNameError\u001b[39m                                 Traceback (most recent call last)",
      "\u001b[36mCell\u001b[39m\u001b[36m \u001b[39m\u001b[32mIn[44]\u001b[39m\u001b[32m, line 5\u001b[39m\n\u001b[32m      2\u001b[39m end = \u001b[32m70\u001b[39m\n\u001b[32m      4\u001b[39m y_C = C\u001b[38;5;129m@z_sim\u001b[39m[:nz,start:end] + z_sim[nz:,start:end]\n\u001b[32m----> \u001b[39m\u001b[32m5\u001b[39m y_C_sp = \u001b[43mJ_k\u001b[49m\u001b[38;5;129m@z_sim\u001b[39m[:nz,start:end] - J_k\u001b[38;5;129m@z_s\u001b[39m.value.reshape(-\u001b[32m1\u001b[39m,\u001b[32m1\u001b[39m) + get_y(z_k.value).T + z_sim[nz:,start:end]\n\u001b[32m      7\u001b[39m J_k = helper.evaluate_jacobian(\n\u001b[32m      8\u001b[39m     problem.nodes[\u001b[32m4\u001b[39m],\n\u001b[32m      9\u001b[39m     torch.from_numpy(z_sim[:nz,start]).float(),\n\u001b[32m     10\u001b[39m )\n\u001b[32m     11\u001b[39m y_Cstart = J_k\u001b[38;5;129m@z_sim\u001b[39m[:nz,start:end] - J_k\u001b[38;5;129m@z_sim\u001b[39m[:nz,start].reshape(-\u001b[32m1\u001b[39m,\u001b[32m1\u001b[39m) + get_y(z_sim[:nz,start]).T + z_sim[nz:,start:end]\n",
      "\u001b[31mNameError\u001b[39m: name 'J_k' is not defined"
     ]
    }
   ],
   "source": [
    "start = 50\n",
    "end = 70\n",
    "\n",
    "y_C = C@z_sim[:nz,start:end] + z_sim[nz:,start:end]\n",
    "y_C_sp = J_k@z_sim[:nz,start:end] - J_k@z_s.value.reshape(-1,1) + get_y(z_k.value).T + z_sim[nz:,start:end]\n",
    "\n",
    "J_k = helper.evaluate_jacobian(\n",
    "    problem.nodes[4],\n",
    "    torch.from_numpy(z_sim[:nz,start]).float(),\n",
    ")\n",
    "y_Cstart = J_k@z_sim[:nz,start:end] - J_k@z_sim[:nz,start].reshape(-1,1) + get_y(z_sim[:nz,start]).T + z_sim[nz:,start:end]\n",
    "\n",
    "y_Ck = np.zeros((ny, end-start))\n",
    "for i in range(start, end):\n",
    "    J_k = helper.evaluate_jacobian(\n",
    "        problem.nodes[4],\n",
    "        torch.from_numpy(z_sim[:nz,i]).float(),\n",
    "    )\n",
    "    y_Ck[:,i-start] = J_k@z_sim[:nz,i] - J_k@z_sim[:nz,i] + get_y(z_sim[:nz,i]) + z_sim[nz:,i]\n",
    "\n",
    "y_Ck_sp = np.zeros((ny, end-start))\n",
    "for i in range(start, end):\n",
    "    J_k = helper.evaluate_jacobian(\n",
    "        problem.nodes[4],\n",
    "        torch.from_numpy(zs_sim[:nz,i]).float(),\n",
    "    )\n",
    "    y_Ck_sp[:,i-start] = J_k@z_sim[:nz,i] - J_k@zs_sim[:nz,i] + get_y(zs_sim[:nz,i]) + z_sim[nz:,i]\n",
    "\n",
    "x0 = get_x(y_sim[:,start])\n",
    "x_p = np.zeros((nz, (end-start)+1))\n",
    "y_xh = np.zeros((ny, (end-start)))\n",
    "x_p[:,0] = x0.flatten()\n",
    "for i in range(start, end):\n",
    "    x_p[:,i+1-start] = A @ x_p[:,i-start] + B @ u_sim[:,i]\n",
    "    x0 = x_p[:,i-start]\n",
    "    y_xh[:,i-start] = get_y(x_p[:,i-start]) + z_sim[nz:,i]\n",
    "\n",
    "# descale\n",
    "y_C = scaler.inverse_transform(y_C.T).T\n",
    "y_C_sp = scaler.inverse_transform(y_C_sp.T).T\n",
    "y_Ck = scaler.inverse_transform(y_Ck.T).T\n",
    "y_Cstart = scaler.inverse_transform(y_Cstart.T).T\n",
    "y_Ck_sp = scaler.inverse_transform(y_Ck_sp.T).T\n",
    "descaled_sp = scaler.inverse_transform(y_setpoint.reshape(1,-1))[0]\n",
    "y_xh = scaler.inverse_transform(y_xh.T).T"
   ]
  },
  {
   "cell_type": "code",
   "execution_count": null,
   "metadata": {},
   "outputs": [],
   "source": [
    "# # find first index in ysim[0] > 1.58001\n",
    "# y_sim_descaled[0] > 1.58001\n",
    "# # index of true values\n",
    "# # find first index in ysim[0] > 1.58001\n",
    "# for i in range(len(y_sim_descaled[0])):\n",
    "#     if np.all(y_sim_descaled[0][i] > 1.58001):\n",
    "#         print(\"First convergence index:\", i)\n",
    "#         break\n",
    "# # plot results"
   ]
  },
  {
   "cell_type": "code",
   "execution_count": null,
   "metadata": {},
   "outputs": [
    {
     "data": {
      "image/png": "[encoded data removed]",
      "text/plain": [
       "<Figure size 1200x800 with 1 Axes>"
      ]
     },
     "metadata": {},
     "output_type": "display_data"
    }
   ],
   "source": [
    "\n",
    "plt.figure(figsize=(12, 8))\n",
    "plt.subplot(2, 1, 1)\n",
    "#plt.plot(y_C[0], label='y = Cz + d', color='blue')\n",
    "#plt.plot(y_C_sp[0], label='y = C_sp z +d', color='brown')\n",
    "plt.plot(y_Ck[0], label='y = h(z) + d', color='green')\n",
    "#plt.plot(y_Cstart[0], label='y = C_start z + d', color='purple')\n",
    "#plt.plot(y_Ck_sp[0], label='y = C_lastsp z +d ', color='orange')\n",
    "plt.plot(y_xh[0], label='z = g(y); z+ = Az+Bu; y = h(z)', color='black')\n",
    "\n",
    "plt.plot(y_sim_descaled[0, start:end], label='y real', color='red')\n",
    "# plot yref as dashed line as a horizontal line\n",
    "plt.axhline(y=descaled_sp[0], color='r', linestyle='--', label='h1_setpoint')\n",
    "# legend outside\n",
    "plt.xlabel('Time step')\n",
    "plt.ylabel('Output')\n",
    "plt.legend(loc='upper left', bbox_to_anchor=(1, 1))\n",
    "plt.grid(True)\n"
   ]
  },
  {
   "cell_type": "code",
   "execution_count": null,
   "metadata": {},
   "outputs": [
    {
     "name": "stdout",
     "output_type": "stream",
     "text": [
      "ISE for h1 y_C: 0.4071354482209629\n",
      "ISE for h1 y_C_sp: 6.994188739268423\n",
      "ISE for h1 y_Ck: 31.105570783538194\n",
      "ISE for h1 y_Cstart: 27.44942012269375\n",
      "ISE for h1 y_Ck_sp: 28.33884979457625\n",
      "ISE for h1 y_xh: 32.9370929798247\n"
     ]
    }
   ],
   "source": [
    "ise_h1_y_C = trapz((y_C[0] - y_sim_descaled[0, start:end])**2)\n",
    "print(f\"ISE for h1 y_C: {ise_h1_y_C}\")\n",
    "\n",
    "ise_h1_y_C_sp = trapz((y_C_sp[0] - y_sim_descaled[0, start:end])**2)\n",
    "print(f\"ISE for h1 y_C_sp: {ise_h1_y_C_sp}\")\n",
    "\n",
    "ise_h1_y_Ck = trapz((y_Ck[0] - y_sim_descaled[0, start:end])**2)\n",
    "print(f\"ISE for h1 y_Ck: {ise_h1_y_Ck}\")\n",
    "\n",
    "ise_h1_y_Cstart = trapz((y_Cstart[0] - y_sim_descaled[0, start:end])**2)\n",
    "print(f\"ISE for h1 y_Cstart: {ise_h1_y_Cstart}\")\n",
    "\n",
    "ise_h1_y_Ck_sp = trapz((y_Ck_sp[0] - y_sim_descaled[0, start:end])**2)\n",
    "print(f\"ISE for h1 y_Ck_sp: {ise_h1_y_Ck_sp}\")\n",
    "\n",
    "ise_h1_y_xh = trapz((y_xh[0] - y_sim_descaled[0, start:end])**2)\n",
    "print(f\"ISE for h1 y_xh: {ise_h1_y_xh}\")"
   ]
  },
  {
   "cell_type": "markdown",
   "metadata": {},
   "source": [
    "# prediction"
   ]
  },
  {
   "cell_type": "code",
   "execution_count": null,
   "metadata": {},
   "outputs": [
    {
     "data": {
      "text/plain": [
       "array([ 0.18609477, -0.19991291,  0.16235913, -0.87077186, -0.20162347,\n",
       "       -0.08289417, -1.21249001,  1.88957211, -0.04692681, -0.33288122])"
      ]
     },
     "execution_count": 520,
     "metadata": {},
     "output_type": "execute_result"
    }
   ],
   "source": [
    "A @ z_sim[:nz,i] + B @ u_sim[:,i]"
   ]
  },
  {
   "cell_type": "code",
   "execution_count": null,
   "metadata": {},
   "outputs": [],
   "source": [
    "start = 50+3\n",
    "end = 70\n",
    "z_sim_copy = z_sim.copy()\n",
    "for i in range(start, end):\n",
    "    z_sim_copy[:nz,i+1] = A @ z_sim_copy[:nz,i] + B @ u_sim[:,i]\n",
    "\n",
    "y_C = C@z_sim_copy[:nz,start:end] + z_sim_copy[nz:,start].reshape(-1,1)\n",
    "    \n",
    "y_C_sp = J_k@z_sim_copy[:nz,start:end] - J_k@z_s.value.reshape(-1,1) + get_y(z_k.value).T + z_sim_copy[nz:,start].reshape(-1,1)\n",
    "\n",
    "J_k = helper.evaluate_jacobian(\n",
    "    problem.nodes[4],\n",
    "    torch.from_numpy(z_sim_copy[:nz,start]).float(),\n",
    ")\n",
    "y_Cstart = J_k@z_sim_copy[:nz,start:end] - J_k@z_sim_copy[:nz,start].reshape(-1,1) + get_y(z_sim_copy[:nz,start]).T + z_sim_copy[nz:,start].reshape(-1,1)\n",
    "\n",
    "y_Ck = np.zeros((ny, end-start))\n",
    "for i in range(start, end):\n",
    "    J_k = helper.evaluate_jacobian(\n",
    "        problem.nodes[4],\n",
    "        torch.from_numpy(z_sim_copy[:nz,i]).float(),\n",
    "    )\n",
    "    y_Ck[:,i-start] = J_k@z_sim_copy[:nz,i] - J_k@z_sim_copy[:nz,i] + get_y(z_sim_copy[:nz,i]) + z_sim_copy[nz:,start]\n",
    "\n",
    "y_Ck_sp = np.zeros((ny, end-start))\n",
    "for i in range(start, end):\n",
    "    J_k = helper.evaluate_jacobian(\n",
    "        problem.nodes[4],\n",
    "        torch.from_numpy(zs_sim[:nz,i]).float(),\n",
    "    )\n",
    "    y_Ck_sp[:,i-start] = J_k@z_sim_copy[:nz,i] - J_k@zs_sim[:nz,i] + get_y(zs_sim[:nz,i]) + z_sim_copy[nz:,start]\n",
    "\n",
    "x0 = get_x(y_sim[:,start])\n",
    "x_p = np.zeros((nz, (end-start)+1))\n",
    "y_xh = np.zeros((ny, (end-start)))\n",
    "x_p[:,0] = x0.flatten()\n",
    "for i in range(start, end):\n",
    "    x_p[:,i+1-start] = A @ x_p[:,i-start] + B @ u_sim[:,i]\n",
    "    x0 = x_p[:,i-start]\n",
    "    y_xh[:,i-start] = get_y(x_p[:,i-start]) #+ z_sim_copy[nz:,start]\n",
    "\n",
    "# descale\n",
    "y_C = scaler.inverse_transform(y_C.T).T\n",
    "y_C_sp = scaler.inverse_transform(y_C_sp.T).T\n",
    "y_Ck = scaler.inverse_transform(y_Ck.T).T\n",
    "y_Cstart = scaler.inverse_transform(y_Cstart.T).T\n",
    "y_Ck_sp = scaler.inverse_transform(y_Ck_sp.T).T\n",
    "descaled_sp = scaler.inverse_transform(y_setpoint.reshape(1,-1))[0]\n",
    "y_xh = scaler.inverse_transform(y_xh.T).T"
   ]
  },
  {
   "cell_type": "code",
   "execution_count": null,
   "metadata": {},
   "outputs": [
    {
     "data": {
      "text/plain": [
       "<matplotlib.legend.Legend at 0x31ad81390>"
      ]
     },
     "execution_count": 522,
     "metadata": {},
     "output_type": "execute_result"
    },
    {
     "data": {
      "image/png": "[encoded data removed]",
      "text/plain": [
       "<Figure size 1200x800 with 1 Axes>"
      ]
     },
     "metadata": {},
     "output_type": "display_data"
    }
   ],
   "source": [
    "\n",
    "plt.figure(figsize=(12, 8))\n",
    "plt.subplot(2, 1, 1)\n",
    "#plt.plot(y_C[0], label='y = Cz + d', color='blue')\n",
    "#plt.plot(y_C_sp[0], label='y = C_sp z +d', color='brown')\n",
    "plt.plot(y_Ck[0], label='y = h(z) + d', color='green')\n",
    "#plt.plot(y_Cstart[0], label='y = C_start z + d', color='purple')\n",
    "#plt.plot(y_Ck_sp[0], label='y = C_lastsp z +d ', color='orange')\n",
    "plt.plot(y_xh[0], label='z = g(y); z+ = Az+Bu; y = h(z)', color='black')\n",
    "\n",
    "plt.plot(y_sim_descaled[0, start:end], label='y real', color='red')\n",
    "# plot yref as dashed line as a horizontal line\n",
    "plt.axhline(y=descaled_sp[0], color='r', linestyle='--', label='h1_setpoint')\n",
    "# legend outside\n",
    "plt.xlabel('Time step')\n",
    "plt.ylabel('Output')\n",
    "plt.legend(loc='upper left', bbox_to_anchor=(1, 1))\n"
   ]
  },
  {
   "cell_type": "code",
   "execution_count": null,
   "metadata": {},
   "outputs": [
    {
     "name": "stdout",
     "output_type": "stream",
     "text": [
      "ISE for h1 y_C: 0.1704547740806916\n",
      "ISE for h1 y_C_sp: 13.229035662414393\n",
      "ISE for h1 y_Ck: 16.858348012112245\n",
      "ISE for h1 y_Cstart: 18.4020982296728\n",
      "ISE for h1 y_Ck_sp: 15.111762914138415\n",
      "ISE for h1 y_xh: 5.8177033126564694\n"
     ]
    }
   ],
   "source": [
    "ise_h1_y_C = trapz((y_C[0] - y_sim_descaled[0, start:end])**2)\n",
    "print(f\"ISE for h1 y_C: {ise_h1_y_C}\")\n",
    "\n",
    "ise_h1_y_C_sp = trapz((y_C_sp[0] - y_sim_descaled[0, start:end])**2)\n",
    "print(f\"ISE for h1 y_C_sp: {ise_h1_y_C_sp}\")\n",
    "\n",
    "ise_h1_y_Ck = trapz((y_Ck[0] - y_sim_descaled[0, start:end])**2)\n",
    "print(f\"ISE for h1 y_Ck: {ise_h1_y_Ck}\")\n",
    "\n",
    "ise_h1_y_Cstart = trapz((y_Cstart[0] - y_sim_descaled[0, start:end])**2)\n",
    "print(f\"ISE for h1 y_Cstart: {ise_h1_y_Cstart}\")\n",
    "\n",
    "ise_h1_y_Ck_sp = trapz((y_Ck_sp[0] - y_sim_descaled[0, start:end])**2)\n",
    "print(f\"ISE for h1 y_Ck_sp: {ise_h1_y_Ck_sp}\")\n",
    "\n",
    "ise_h1_y_xh = trapz((y_xh[0] - y_sim_descaled[0, start:end])**2)\n",
    "print(f\"ISE for h1 y_xh: {ise_h1_y_xh}\")"
   ]
  },
  {
   "cell_type": "code",
   "execution_count": null,
   "metadata": {},
   "outputs": [],
   "source": []
  },
  {
   "cell_type": "markdown",
   "metadata": {},
   "source": [
    "ISE for h1 y_C_sp: 0.9157052163902\\\n",
    "ISE for h1 y_Ck: 0.20538840598700672\\\n",
    "ISE for h1 y_Cstart: 6.892414715687395"
   ]
  },
  {
   "cell_type": "code",
   "execution_count": null,
   "metadata": {},
   "outputs": [],
   "source": [
    "import numpy as np\n",
    "from scipy.linalg import schur, inv\n",
    "\n",
    "# Real Schur decomposition: A = T R T^{-1}\n",
    "R, T = schur(A, output='real')\n",
    "\n",
    "# Transform B and C\n",
    "B_new = inv(T) @ B\n",
    "C_new = C @ T\n",
    "\n",
    "# R is the (block) diagonalized A\n",
    "A_diag = R\n"
   ]
  },
  {
   "cell_type": "code",
   "execution_count": null,
   "metadata": {},
   "outputs": [
    {
     "data": {
      "text/plain": [
       "array([[ 0.18143465,  0.07945449,  0.        ,  0.        ,  0.        ,\n",
       "         0.        ,  0.        ,  0.        ,  0.        ,  0.        ],\n",
       "       [-0.07945449,  0.18143465,  0.        ,  0.        ,  0.        ,\n",
       "         0.        ,  0.        ,  0.        ,  0.        ,  0.        ],\n",
       "       [ 0.        ,  0.        , -0.33934799,  0.31094778,  0.        ,\n",
       "         0.        ,  0.        ,  0.        ,  0.        ,  0.        ],\n",
       "       [ 0.        ,  0.        , -0.31094778, -0.33934799,  0.        ,\n",
       "         0.        ,  0.        ,  0.        ,  0.        ,  0.        ],\n",
       "       [ 0.        ,  0.        ,  0.        ,  0.        ,  0.31733289,\n",
       "         0.26976255,  0.        ,  0.        ,  0.        ,  0.        ],\n",
       "       [ 0.        ,  0.        ,  0.        ,  0.        , -0.26976255,\n",
       "         0.31733289,  0.        ,  0.        ,  0.        ,  0.        ],\n",
       "       [ 0.        ,  0.        ,  0.        ,  0.        ,  0.        ,\n",
       "         0.        ,  0.83486539,  0.        ,  0.        ,  0.        ],\n",
       "       [ 0.        ,  0.        ,  0.        ,  0.        ,  0.        ,\n",
       "         0.        ,  0.        , -0.55462122,  0.        ,  0.        ],\n",
       "       [ 0.        ,  0.        ,  0.        ,  0.        ,  0.        ,\n",
       "         0.        ,  0.        ,  0.        , -0.07889571,  0.        ],\n",
       "       [ 0.        ,  0.        ,  0.        ,  0.        ,  0.        ,\n",
       "         0.        ,  0.        ,  0.        ,  0.        , -0.21647778]])"
      ]
     },
     "execution_count": 525,
     "metadata": {},
     "output_type": "execute_result"
    }
   ],
   "source": [
    "R"
   ]
  },
  {
   "cell_type": "code",
   "execution_count": null,
   "metadata": {},
   "outputs": [
    {
     "name": "stdout",
     "output_type": "stream",
     "text": [
      "True\n"
     ]
    }
   ],
   "source": [
    "# Check the transformation validity\n",
    "A_reconstructed = T @ R @ inv(T)\n",
    "print(np.allclose(A, A_reconstructed,atol=1e-5))  # Should be True\n"
   ]
  },
  {
   "cell_type": "code",
   "execution_count": null,
   "metadata": {},
   "outputs": [],
   "source": [
    "eigs, eigv = np.linalg.eig(A)"
   ]
  },
  {
   "cell_type": "code",
   "execution_count": null,
   "metadata": {},
   "outputs": [
    {
     "data": {
      "text/plain": [
       "array([[ 0.83486539,  0.        ,  0.        ,  0.        ,  0.        ,\n",
       "         0.        ,  0.        ,  0.        ,  0.        ,  0.        ],\n",
       "       [ 0.        , -0.55462122,  0.        ,  0.        ,  0.        ,\n",
       "         0.        ,  0.        ,  0.        ,  0.        ,  0.        ],\n",
       "       [ 0.        ,  0.        , -0.33934799,  0.31094778,  0.        ,\n",
       "         0.        ,  0.        ,  0.        ,  0.        ,  0.        ],\n",
       "       [ 0.        ,  0.        , -0.31094778, -0.33934799,  0.        ,\n",
       "         0.        ,  0.        ,  0.        ,  0.        ,  0.        ],\n",
       "       [ 0.        ,  0.        ,  0.        ,  0.        ,  0.31733289,\n",
       "         0.26976255,  0.        ,  0.        ,  0.        ,  0.        ],\n",
       "       [ 0.        ,  0.        ,  0.        ,  0.        , -0.26976255,\n",
       "         0.31733289,  0.        ,  0.        ,  0.        ,  0.        ],\n",
       "       [ 0.        ,  0.        ,  0.        ,  0.        ,  0.        ,\n",
       "         0.        ,  0.18143465,  0.07945449,  0.        ,  0.        ],\n",
       "       [ 0.        ,  0.        ,  0.        ,  0.        ,  0.        ,\n",
       "         0.        , -0.07945449,  0.18143465,  0.        ,  0.        ],\n",
       "       [ 0.        ,  0.        ,  0.        ,  0.        ,  0.        ,\n",
       "         0.        ,  0.        ,  0.        , -0.07889571,  0.        ],\n",
       "       [ 0.        ,  0.        ,  0.        ,  0.        ,  0.        ,\n",
       "         0.        ,  0.        ,  0.        ,  0.        , -0.21647778]])"
      ]
     },
     "execution_count": 528,
     "metadata": {},
     "output_type": "execute_result"
    }
   ],
   "source": [
    "A"
   ]
  },
  {
   "cell_type": "code",
   "execution_count": null,
   "metadata": {},
   "outputs": [
    {
     "name": "stdout",
     "output_type": "stream",
     "text": [
      "Reconstruction accurate: True\n"
     ]
    }
   ],
   "source": [
    "import numpy as np\n",
    "from scipy.linalg import schur\n",
    "from numpy.linalg import inv\n",
    "\n",
    "# Your A matrix\n",
    "A = np.array([\n",
    "    [-1.14522003e-01,  2.03093424e-01,  6.89496323e-02, -4.37825114e-01, -8.95581692e-02,\n",
    "     -2.60605991e-01, -2.18124956e-01,  2.10425913e-01,  1.20713249e-01, -1.69211611e-01],\n",
    "    [-1.39853269e-01,  2.50181258e-01, -1.67046607e-01, -1.66967645e-01,  1.50321633e-01,\n",
    "      2.21398529e-02, -7.03850016e-02,  9.52759609e-02, -2.88743973e-01,  1.30518183e-01],\n",
    "    [ 3.17415088e-01, -6.73412830e-02,  1.28425375e-01,  1.99055180e-01,  2.79311121e-01,\n",
    "      8.25060830e-02,  7.43955150e-02, -2.59516060e-01,  2.50023156e-01,  9.65642091e-03],\n",
    "    [-5.53147644e-02,  3.15649688e-01, -2.03368738e-01,  7.85609335e-02,  6.97049722e-02,\n",
    "      2.08954945e-01,  1.86362505e-01, -1.94696590e-01, -3.56145680e-01,  1.29450396e-01],\n",
    "    [ 2.98496336e-02,  2.59809136e-01,  3.15923840e-01, -2.51136333e-01,  1.78798318e-01,\n",
    "     -4.88360487e-02,  3.82526815e-02,  8.61436799e-02,  9.13691074e-02, -1.30176499e-01],\n",
    "    [ 2.43743863e-02,  1.00827860e-02, -2.18770638e-01,  2.18619466e-01, -8.52346569e-02,\n",
    "      2.91468680e-01,  3.76932830e-01, -1.54714316e-01, -4.19768572e-01,  7.02630877e-02],\n",
    "    [ 3.49000692e-02, -7.40560740e-02,  4.87561524e-02,  2.21140414e-01, -6.27286732e-02,\n",
    "     -2.75046844e-02,  4.07175511e-01, -1.55871119e-02, -1.36225998e-01, -2.22521797e-01],\n",
    "    [ 1.76082075e-01,  2.25342140e-02,  1.54601812e-01,  1.96817577e-01, -1.01822556e-03,\n",
    "     -1.20464794e-01,  3.39480102e-01, -2.11077198e-01,  4.07144874e-02, -7.00352490e-02],\n",
    "    [ 5.28373942e-02, -7.85138160e-02, -6.79740533e-02, -1.28359303e-01,  2.88389802e-01,\n",
    "     -1.17743179e-01,  6.24958463e-02,  2.38817871e-01, -1.80540234e-01, -1.08955175e-01],\n",
    "    [-1.26791298e-01,  2.68203032e-04,  1.01728342e-01,  8.21731836e-02,  1.66454509e-01,\n",
    "      1.54194906e-01, -1.00210495e-01, -1.35345504e-01,  1.30677089e-01,  1.62582874e-01]\n",
    "], dtype=np.float32)\n",
    "\n",
    "# Perform real Schur decomposition\n",
    "R, T = schur(A, output='real')\n",
    "\n",
    "# Reconstruct A\n",
    "A_reconstructed = T @ R @ inv(T)\n",
    "\n",
    "# Check closeness\n",
    "print(\"Reconstruction accurate:\", np.allclose(A, A_reconstructed, atol=1e-5))\n"
   ]
  },
  {
   "cell_type": "code",
   "execution_count": null,
   "metadata": {},
   "outputs": [
    {
     "data": {
      "image/png": "[encoded data removed]",
      "text/plain": [
       "<Figure size 640x480 with 1 Axes>"
      ]
     },
     "metadata": {},
     "output_type": "display_data"
    }
   ],
   "source": [
    "import matplotlib.pyplot as plt\n",
    "plt.imshow(np.abs(R) > 1e-6, cmap='gray')\n",
    "plt.title(\"Nonzero pattern in Schur form R\")\n",
    "plt.show()\n"
   ]
  },
  {
   "cell_type": "code",
   "execution_count": null,
   "metadata": {},
   "outputs": [
    {
     "data": {
      "text/plain": [
       "array([[ 0.845091  , -0.40381598,  0.36577693,  0.25178877,  0.00530107,\n",
       "        -0.17327586,  0.04618959,  0.12157419,  0.12417582,  0.12132811],\n",
       "       [ 0.        , -0.33710945,  0.20575967, -0.13826679, -0.24233016,\n",
       "        -0.00505477, -0.240361  , -0.11502698,  0.08808289,  0.20788014],\n",
       "       [ 0.        ,  0.        , -0.15355362, -0.38140142, -0.26660293,\n",
       "         0.30461884, -0.12305014, -0.00156398, -0.1841901 , -0.04006457],\n",
       "       [ 0.        ,  0.        ,  0.14581741, -0.15355362, -0.02534095,\n",
       "         0.59102094, -0.1467628 , -0.2269887 , -0.31378064,  0.1959983 ],\n",
       "       [ 0.        ,  0.        ,  0.        ,  0.        ,  0.31211343,\n",
       "        -0.08590156,  0.01585828, -0.2706209 ,  0.09726471,  0.13656934],\n",
       "       [ 0.        ,  0.        ,  0.        ,  0.        ,  0.2808893 ,\n",
       "         0.31211343, -0.09049682, -0.18754722, -0.08062394, -0.19573852],\n",
       "       [ 0.        ,  0.        ,  0.        ,  0.        ,  0.        ,\n",
       "         0.        , -0.10204245, -0.17712466, -0.05091725, -0.28305057],\n",
       "       [ 0.        ,  0.        ,  0.        ,  0.        ,  0.        ,\n",
       "         0.        ,  0.        ,  0.00282834,  0.17250797, -0.14971578],\n",
       "       [ 0.        ,  0.        ,  0.        ,  0.        ,  0.        ,\n",
       "         0.        ,  0.        , -0.03274095,  0.00282834,  0.34230366],\n",
       "       [ 0.        ,  0.        ,  0.        ,  0.        ,  0.        ,\n",
       "         0.        ,  0.        ,  0.        ,  0.        ,  0.26233852]],\n",
       "      dtype=float32)"
      ]
     },
     "execution_count": 531,
     "metadata": {},
     "output_type": "execute_result"
    }
   ],
   "source": [
    "R"
   ]
  },
  {
   "cell_type": "code",
   "execution_count": null,
   "metadata": {},
   "outputs": [
    {
     "name": "stdout",
     "output_type": "stream",
     "text": [
      "A is diagonalizable\n"
     ]
    }
   ],
   "source": [
    "from numpy.linalg import eig, matrix_rank\n",
    "\n",
    "eigvals, eigvecs = eig(A)\n",
    "rank = matrix_rank(eigvecs)\n",
    "\n",
    "if rank == A.shape[0]:\n",
    "    print(\"A is diagonalizable\")\n",
    "else:\n",
    "    print(\"A is NOT diagonalizable (defective)\")\n"
   ]
  },
  {
   "cell_type": "code",
   "execution_count": null,
   "metadata": {},
   "outputs": [],
   "source": [
    "import numpy as np\n",
    "from numpy.linalg import eig, inv\n",
    "\n",
    "eigvals, eigvecs = eig(A)     \n"
   ]
  },
  {
   "cell_type": "code",
   "execution_count": null,
   "metadata": {},
   "outputs": [],
   "source": [
    "import numpy as np\n",
    "from numpy.linalg import eig, inv\n",
    "\n",
    "def real_block_diagonalize(A):\n",
    "    eigvals, eigvecs = eig(A)\n",
    "    n = A.shape[0]\n",
    "\n",
    "    T_real_cols = []\n",
    "    block_sizes = []\n",
    "    block_matrices = []\n",
    "\n",
    "    used = set()\n",
    "\n",
    "    for i in range(n):\n",
    "        if i in used:\n",
    "            continue\n",
    "\n",
    "        λ = eigvals[i]\n",
    "        v = eigvecs[:, i]\n",
    "\n",
    "        if np.isreal(λ):\n",
    "            # Real eigenvalue\n",
    "            T_real_cols.append(np.real(v))\n",
    "            block_sizes.append(1)\n",
    "            block_matrices.append(np.array([[np.real(λ)]]))\n",
    "        else:\n",
    "            # Complex eigenvalue → find conjugate\n",
    "            λ_conj = np.conj(λ)\n",
    "            for j in range(i + 1, n):\n",
    "                if j not in used and np.isclose(eigvals[j], λ_conj):\n",
    "                    v_conj = eigvecs[:, j]\n",
    "                    # Construct real 2D basis\n",
    "                    v1 = np.real(v)\n",
    "                    v2 = np.imag(v)\n",
    "                    T_real_cols.append(v1)\n",
    "                    T_real_cols.append(v2)\n",
    "\n",
    "                    a = np.real(λ)\n",
    "                    b = np.imag(λ)\n",
    "                    block_sizes.append(2)\n",
    "                    block_matrices.append(np.array([[a, b], [-b, a]]))\n",
    "                    used.add(j)\n",
    "                    break\n",
    "        used.add(i)\n",
    "\n",
    "    # Assemble T_real\n",
    "    T_real = np.column_stack(T_real_cols)\n",
    "\n",
    "    # Assemble A_block from blocks\n",
    "    A_block = np.zeros((n, n))\n",
    "    idx = 0\n",
    "    for size, block in zip(block_sizes, block_matrices):\n",
    "        A_block[idx:idx+size, idx:idx+size] = block\n",
    "        idx += size\n",
    "\n",
    "    return T_real, A_block\n"
   ]
  },
  {
   "cell_type": "code",
   "execution_count": null,
   "metadata": {},
   "outputs": [
    {
     "name": "stdout",
     "output_type": "stream",
     "text": [
      "Close to block diagonal? True\n"
     ]
    }
   ],
   "source": [
    "T_real, A_block = real_block_diagonalize(A)\n",
    "\n",
    "# Transform A to check\n",
    "A_transformed = inv(T_real) @ A @ T_real\n",
    "print(\"Close to block diagonal?\", np.allclose(A_block, A_transformed, atol=1e-6))\n"
   ]
  },
  {
   "cell_type": "code",
   "execution_count": null,
   "metadata": {},
   "outputs": [
    {
     "data": {
      "image/png": "[encoded data removed]",
      "text/plain": [
       "<Figure size 640x480 with 1 Axes>"
      ]
     },
     "metadata": {},
     "output_type": "display_data"
    }
   ],
   "source": [
    "import matplotlib.pyplot as plt\n",
    "plt.imshow(np.abs(A_transformed) > 1e-6, cmap='gray')\n",
    "plt.title(\"Nonzero pattern in Schur form R\")\n",
    "plt.show()"
   ]
  },
  {
   "cell_type": "code",
   "execution_count": null,
   "metadata": {},
   "outputs": [],
   "source": []
  },
  {
   "cell_type": "code",
   "execution_count": null,
   "metadata": {},
   "outputs": [],
   "source": []
  }
 ],
 "metadata": {
  "kernelspec": {
   "display_name": "kmpc",
   "language": "python",
   "name": "python3"
  },
  "language_info": {
   "codemirror_mode": {
    "name": "ipython",
    "version": 3
   },
   "file_extension": ".py",
   "mimetype": "text/x-python",
   "name": "python",
   "nbconvert_exporter": "python",
   "pygments_lexer": "ipython3",
   "version": "3.11.11"
  }
 },
 "nbformat": 4,
 "nbformat_minor": 2
}
