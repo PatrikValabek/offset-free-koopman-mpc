{
 "cells": [
  {
   "cell_type": "markdown",
   "metadata": {},
   "source": [
    "# Ofset free MPC using matric C"
   ]
  },
  {
   "cell_type": "code",
   "execution_count": 35,
   "metadata": {},
   "outputs": [
    {
     "name": "stdout",
     "output_type": "stream",
     "text": [
      "The autoreload extension is already loaded. To reload it, use:\n",
      "  %reload_ext autoreload\n"
     ]
    }
   ],
   "source": [
    "import numpy as np\n",
    "from numpy.linalg import inv\n",
    "import pandas as pd\n",
    "import joblib\n",
    "import matplotlib.pyplot as plt\n",
    "import cvxpy as cp\n",
    "from torch.utils.data import DataLoader\n",
    "import torch\n",
    "from sklearn.preprocessing import StandardScaler\n",
    "\n",
    "from neuromancer.system import Node, System\n",
    "from neuromancer.trainer import Trainer\n",
    "from neuromancer.problem import Problem\n",
    "from neuromancer.dataset import DictDataset\n",
    "from neuromancer.constraint import variable\n",
    "from neuromancer.loss import PenaltyLoss\n",
    "from neuromancer. modules import blocks\n",
    "\n",
    "import src.models as models\n",
    "import src.helper as helper\n",
    "%load_ext autoreload\n",
    "%autoreload 2"
   ]
  },
  {
   "cell_type": "markdown",
   "metadata": {},
   "source": [
    "Load matrices, model, scalers and load process"
   ]
  },
  {
   "cell_type": "code",
   "execution_count": 36,
   "metadata": {},
   "outputs": [],
   "source": [
    "matrix_C = False\n",
    "\n",
    "# Load matrices A, B, and C \n",
    "A = np.load('./data/A_C_' + str(matrix_C) + '.npy')\n",
    "B = np.load('./data/B_C_' + str(matrix_C) + '.npy')\n",
    "C = np.load('./data/C_C_' + str(matrix_C) + '.npy')\n",
    "\n",
    "nz, nu = B.shape  # state and input dimensions\n",
    "ny = C.shape[0]  # output dimensions\n",
    "\n",
    "# disturbance \n",
    "F = np.eye(ny)\n",
    "nd = F.shape[1]"
   ]
  },
  {
   "cell_type": "code",
   "execution_count": 37,
   "metadata": {},
   "outputs": [
    {
     "name": "stdout",
     "output_type": "stream",
     "text": [
      "Close to block diagonal? True\n",
      "Backtransformation equals original A? True\n"
     ]
    }
   ],
   "source": [
    "T_real, A_block = helper.ident.real_block_diagonalize(A)\n",
    "\n",
    "# Transform A to check\n",
    "A_transformed = inv(T_real) @ A @ T_real\n",
    "print(\"Close to block diagonal?\", np.allclose(A_block, A_transformed, atol=1e-6))\n",
    "\n",
    "# Backtransform A_block to verify it equals A\n",
    "A_backtransformed = T_real @ A_block @ inv(T_real)\n",
    "print(\"Backtransformation equals original A?\", np.allclose(A, A_backtransformed, atol=1e-6))\n"
   ]
  },
  {
   "cell_type": "code",
   "execution_count": 38,
   "metadata": {},
   "outputs": [
    {
     "data": {
      "image/png": "[encoded data removed]",
      "text/plain": [
       "<Figure size 640x480 with 1 Axes>"
      ]
     },
     "metadata": {},
     "output_type": "display_data"
    }
   ],
   "source": [
    "import matplotlib.pyplot as plt\n",
    "plt.imshow(np.abs(A_transformed) > 1e-6, cmap='gray')\n",
    "plt.title(\"Nonzero pattern in Schur form R\")\n",
    "plt.show()"
   ]
  },
  {
   "cell_type": "code",
   "execution_count": 39,
   "metadata": {},
   "outputs": [],
   "source": [
    "A = A_block\n",
    "B = inv(T_real) @ B\n",
    "C = C @ T_real\n"
   ]
  },
  {
   "cell_type": "code",
   "execution_count": 40,
   "metadata": {},
   "outputs": [],
   "source": [
    "# model parameters\n",
    "\n",
    "layers = [20,40,60]\n",
    "layers_dec  = [60,40,20]\n"
   ]
  },
  {
   "cell_type": "code",
   "execution_count": 41,
   "metadata": {},
   "outputs": [
    {
     "data": {
      "text/plain": [
       "<All keys matched successfully>"
      ]
     },
     "execution_count": 41,
     "metadata": {},
     "output_type": "execute_result"
    }
   ],
   "source": [
    "# instantiate output encoder neural net f_y\n",
    "f_y = blocks.MLP(\n",
    "    ny,\n",
    "    nz,\n",
    "    bias=True,\n",
    "    linear_map=torch.nn.Linear,\n",
    "    nonlin=torch.nn.ReLU,\n",
    "    hsizes=layers,\n",
    ")\n",
    "# initial condition encoder\n",
    "encode_Y0 = Node(f_y, ['Y0'], ['x'], name='encoder_Y0')\n",
    "# observed trajectory encoder\n",
    "encode_Y = Node(f_y, ['Y'], ['x_latent'], name='encoder_Y')\n",
    "\n",
    "# instantiate input encoder net f_u, representing the B matrix in the linear system\n",
    "f_u = torch.nn.Linear(nu, nz, bias=False)\n",
    "# initial condition encoder\n",
    "encode_U = Node(f_u, ['U'], ['u_latent'], name='encoder_U')\n",
    "\n",
    "# instantiate state decoder neural net f_y_inv\n",
    "if not matrix_C:\n",
    "    f_y_inv = blocks.MLP(nz, ny, bias=True,\n",
    "                    linear_map=torch.nn.Linear,\n",
    "                    nonlin=torch.nn.ELU,\n",
    "                    hsizes=layers_dec)\n",
    "elif matrix_C:\n",
    "    f_y_inv = torch.nn.Linear(nz, ny, bias=False)\n",
    "else:\n",
    "    raise ValueError('matrix_C must be boolean')\n",
    "\n",
    "# predicted trajectory decoder\n",
    "decode_y = Node(f_y_inv, ['x'], ['yhat'], name='decoder_y')\n",
    "\n",
    "# representing matrix A in the linear system\n",
    "K = torch.nn.Linear(nz, nz, bias=False)\n",
    "\n",
    "# symbolic Koopman model with control inputs\n",
    "Koopman = Node(helper.PredictionWControl(K), ['x', 'u_latent'], ['x'], name='K')\n",
    "\n",
    "# latent Koopmann rollout\n",
    "dynamics_model = System([Koopman], name='Koopman', nsteps=1)\n",
    "\n",
    "# put all nodes of the Koopman model together in a list of nodes\n",
    "nodes = [encode_Y0, encode_Y, encode_U, dynamics_model, decode_y]\n",
    "\n",
    "# no loss function because only using the model not training it\n",
    "loss = PenaltyLoss([], constraints=[])\n",
    "\n",
    "problem = Problem(nodes, loss)\n",
    "\n",
    "problem.load_state_dict(torch.load('data/model_C_' + str(matrix_C) + '.pth'),strict=False)\n",
    "\n"
   ]
  },
  {
   "cell_type": "code",
   "execution_count": 42,
   "metadata": {},
   "outputs": [],
   "source": [
    "# load scalers\n",
    "scaler = joblib.load('data/scaler.pkl')\n",
    "scalerU = joblib.load('data/scalerU.pkl')"
   ]
  },
  {
   "cell_type": "code",
   "execution_count": 43,
   "metadata": {},
   "outputs": [],
   "source": [
    "# define same model as for training\n",
    "A1 = 1\n",
    "A2 = 0.5\n",
    "k1 = 0.5\n",
    "k2 = 0.8\n",
    "\n",
    "TwoTanks = models.TwoTanks(True, A1, A2, k1, k2)"
   ]
  },
  {
   "cell_type": "markdown",
   "metadata": {},
   "source": [
    "Necesary?"
   ]
  },
  {
   "cell_type": "code",
   "execution_count": 44,
   "metadata": {},
   "outputs": [],
   "source": [
    "# probably yes\n",
    "def get_x(y):\n",
    "    x = problem.nodes[0]({\"Y0\": torch.from_numpy(y).float()})\n",
    "    return x[\"x\"].detach().numpy().reshape(1,-1).T\n",
    "\n",
    "def get_y(x):\n",
    "    y = problem.nodes[4]({\"x\": torch.from_numpy(x.T).float()})\n",
    "    return y[\"yhat\"].detach().numpy().reshape(1,-1)"
   ]
  },
  {
   "cell_type": "markdown",
   "metadata": {},
   "source": [
    "## Optimal control problem"
   ]
  },
  {
   "cell_type": "markdown",
   "metadata": {},
   "source": [
    "Observer - Kalman filter"
   ]
  },
  {
   "cell_type": "code",
   "execution_count": 45,
   "metadata": {},
   "outputs": [],
   "source": [
    "loaded_setup = joblib.load(\"sim_setup.pkl\")"
   ]
  },
  {
   "cell_type": "code",
   "execution_count": 46,
   "metadata": {},
   "outputs": [],
   "source": [
    "y_start = loaded_setup['y_start']\n",
    "\n",
    "y_setpoint = loaded_setup['reference'][:,0]\n",
    "\n",
    "u_previous = loaded_setup['u_previous']\n",
    "\n",
    "z_est_ = np.hstack((get_x(y_start).T, np.zeros((1,nd))))\n",
    "z_est_[:,:10] = (inv(T_real)@z_est_[:,:10].T).T\n",
    "P0 = loaded_setup['P0']\n",
    "\n",
    "# Noise covariances\n",
    "Q = loaded_setup['Q']  # process noise\n",
    "R = loaded_setup['R']  # measurement noise\n",
    "A_ = np.block([\n",
    "    [A, np.zeros((nz, nd))],\n",
    "    [np.zeros((nd, nz)), np.eye(nd)]\n",
    "])\n",
    "B_ = np.vstack([\n",
    "    B,\n",
    "    np.zeros((nd, nu))\n",
    "])\n",
    "\n",
    "C_ = np.hstack([\n",
    "    C, np.eye(nd)\n",
    "])\n",
    "\n",
    "KF = helper.KF(A_,B_,C_,z_est_,P0, Q, R)\n",
    "\n"
   ]
  },
  {
   "cell_type": "markdown",
   "metadata": {},
   "source": [
    "Target calculation"
   ]
  },
  {
   "cell_type": "code",
   "execution_count": 47,
   "metadata": {},
   "outputs": [],
   "source": [
    "N = loaded_setup['N']\n",
    "Qy = loaded_setup['Qy']\n",
    "Qu = loaded_setup['Qu']\n",
    "Qz = C.T@Qy@C\n",
    "Qz_psd = Qz + 1e-8 * np.eye(Qz.shape[0])\n",
    "\n",
    "# Constraints\n",
    "u_min = scalerU.transform(np.array([[0.0, 0.0]]))[0]\n",
    "u_max = scalerU.transform(np.array([[0.5, 1.0]]))[0]\n",
    "y_min = scaler.transform(np.array([[0.0, 0.0]]))[0]\n",
    "y_max = scaler.transform(np.array([[5.0, 5.0]]))[0]\n",
    "\n",
    "z0 = cp.Parameter(nz)\n",
    "d0 = cp.Parameter(ny)\n",
    "d0.value = np.zeros(ny)\n",
    "u_prev = cp.Parameter(nu)\n",
    "\n",
    "y_sp = cp.Parameter(ny)\n",
    "y_sp.value = y_setpoint\n",
    "z_ref = cp.Parameter(nz)\n",
    "\n",
    "# Decision variables\n",
    "z = cp.Variable((nz, N+1))\n",
    "#y = cp.Variable((ny, N+1))\n",
    "#delta_u = cp.Variable((nu, N))\n",
    "u = cp.Variable((nu, N)) \n",
    "z_s = cp.Variable(nz)\n",
    "y_s = cp.Variable(ny)\n",
    "u_s = cp.Variable(nu)\n"
   ]
  },
  {
   "cell_type": "code",
   "execution_count": 48,
   "metadata": {},
   "outputs": [
    {
     "name": "stdout",
     "output_type": "stream",
     "text": [
      "optimal\n",
      "Optimal y: [[0.50000002 0.49999999]]\n"
     ]
    }
   ],
   "source": [
    "# Constraints and cost\n",
    "constraints_s = [z_s == A @ z_s + B @ u_s]\n",
    "constraints_s += [y_s == C @ z_s + F @ d0]\n",
    "constraints_s += [u_min <= u_s, u_s <= u_max]\n",
    "constraints_s += [y_min <= y_s, y_s <= y_max]\n",
    "\n",
    "cost_s = 0\n",
    "cost_s += cp.quad_form(y_s - y_sp, np.eye(ny))\n",
    "\n",
    "target_estimation = cp.Problem(cp.Minimize(cost_s), constraints_s)\n",
    "target_estimation.solve(solver=cp.GUROBI)\n",
    "print(target_estimation.status)\n",
    "print(\"Optimal y:\", scaler.inverse_transform(y_s.value.reshape(1,-1)))\n",
    "\n",
    "z_ref.value = z_s.value"
   ]
  },
  {
   "cell_type": "markdown",
   "metadata": {},
   "source": [
    "MPC problem formulation\n"
   ]
  },
  {
   "cell_type": "code",
   "execution_count": 49,
   "metadata": {},
   "outputs": [],
   "source": [
    "z0.value = z_est_[0,0:nz]\n",
    "u_prev.value = u_previous"
   ]
  },
  {
   "cell_type": "code",
   "execution_count": 50,
   "metadata": {},
   "outputs": [
    {
     "data": {
      "text/plain": [
       "array([[ 0.49124608,  0.0722996 , -0.0462825 , -0.31750625,  0.25787594,\n",
       "         0.20582121, -0.24140712, -1.04935857, -0.11825113,  0.37257962,\n",
       "         0.        ,  0.        ]])"
      ]
     },
     "execution_count": 50,
     "metadata": {},
     "output_type": "execute_result"
    }
   ],
   "source": [
    "z_est_"
   ]
  },
  {
   "cell_type": "code",
   "execution_count": 51,
   "metadata": {},
   "outputs": [],
   "source": [
    "# Constraints and cost\n",
    "constraints = [z[:, 0] == z0]\n",
    "cost = 0\n",
    "\n",
    "for k in range(N):\n",
    "    constraints += [\n",
    "        z[:, k+1] == A @ z[:, k] + B @ u[:,k],\n",
    "        u_min <= u[:, k], u[:, k] <= u_max,\n",
    "        y_min <= C @ z[:, k] + F @ d0, C @ z[:, k] + F @ d0 <= y_max\n",
    "    ]\n",
    "    if k == 0:\n",
    "        cost += cp.quad_form(z[:, k] - z_ref, Qz_psd) + cp.quad_form(u[:, 0] - u_prev, Qu)\n",
    "    else:\n",
    "        cost += cp.quad_form(z[:, k] - z_ref, Qz_psd) + cp.quad_form(u[:, k] - u[:, k-1], Qu)\n",
    "\n",
    "# Terminal cost - not yet\n",
    "# cost += cp.quad_form(x[:, N] - x_ref[:, N], Q)\n"
   ]
  },
  {
   "cell_type": "code",
   "execution_count": 52,
   "metadata": {},
   "outputs": [
    {
     "name": "stdout",
     "output_type": "stream",
     "text": [
      "[-0.72493417 -0.18052097]\n",
      "optimal\n"
     ]
    }
   ],
   "source": [
    "# sanity check and problem formulation\n",
    "mpc = cp.Problem(cp.Minimize(cost), constraints)\n",
    "mpc.solve(solver=cp.GUROBI)\n",
    "u_opt = u[:,0].value\n",
    "print(u[:,0].value)\n",
    "print(mpc.status)"
   ]
  },
  {
   "cell_type": "code",
   "execution_count": 53,
   "metadata": {},
   "outputs": [
    {
     "name": "stdout",
     "output_type": "stream",
     "text": [
      "Target estimation solve time: 0.0016 seconds\n",
      "MPC solve time at step 0: 0.0111 seconds\n",
      "Target estimation solve time at step 0: 0.0021 seconds\n",
      "optimal\n",
      "MPC solve time at step 1: 0.0096 seconds\n",
      "Target estimation solve time at step 1: 0.0015 seconds\n",
      "optimal\n",
      "MPC solve time at step 2: 0.0092 seconds\n",
      "Target estimation solve time at step 2: 0.0018 seconds\n",
      "optimal\n",
      "MPC solve time at step 3: 0.0097 seconds\n",
      "Target estimation solve time at step 3: 0.0014 seconds\n",
      "optimal\n",
      "MPC solve time at step 4: 0.0092 seconds\n",
      "Target estimation solve time at step 4: 0.0023 seconds\n",
      "optimal\n",
      "MPC solve time at step 5: 0.0095 seconds\n",
      "Target estimation solve time at step 5: 0.0014 seconds\n",
      "optimal\n",
      "MPC solve time at step 6: 0.0094 seconds\n",
      "Target estimation solve time at step 6: 0.0015 seconds\n",
      "optimal\n",
      "MPC solve time at step 7: 0.0096 seconds\n",
      "Target estimation solve time at step 7: 0.0014 seconds\n",
      "optimal\n",
      "MPC solve time at step 8: 0.0093 seconds\n",
      "Target estimation solve time at step 8: 0.0017 seconds\n",
      "optimal\n",
      "MPC solve time at step 9: 0.0093 seconds\n",
      "Target estimation solve time at step 9: 0.0018 seconds\n",
      "optimal\n",
      "MPC solve time at step 10: 0.0096 seconds\n",
      "Target estimation solve time at step 10: 0.0024 seconds\n",
      "optimal\n",
      "MPC solve time at step 11: 0.0530 seconds\n",
      "Target estimation solve time at step 11: 0.0041 seconds\n",
      "optimal\n",
      "MPC solve time at step 12: 0.0126 seconds\n",
      "Target estimation solve time at step 12: 0.0022 seconds\n",
      "optimal\n",
      "MPC solve time at step 13: 0.0098 seconds\n",
      "Target estimation solve time at step 13: 0.0013 seconds\n",
      "optimal\n",
      "MPC solve time at step 14: 0.0090 seconds\n",
      "Target estimation solve time at step 14: 0.0014 seconds\n",
      "optimal\n",
      "MPC solve time at step 15: 0.0089 seconds\n",
      "Target estimation solve time at step 15: 0.0012 seconds\n",
      "optimal\n",
      "MPC solve time at step 16: 0.0088 seconds\n",
      "Target estimation solve time at step 16: 0.0014 seconds\n",
      "optimal\n",
      "MPC solve time at step 17: 0.0088 seconds\n",
      "Target estimation solve time at step 17: 0.0012 seconds\n",
      "optimal\n",
      "MPC solve time at step 18: 0.0089 seconds\n",
      "Target estimation solve time at step 18: 0.0012 seconds\n",
      "optimal\n",
      "MPC solve time at step 19: 0.0091 seconds\n",
      "Target estimation solve time at step 19: 0.0012 seconds\n",
      "optimal\n",
      "MPC solve time at step 20: 0.0088 seconds\n",
      "Target estimation solve time at step 20: 0.0015 seconds\n",
      "optimal\n",
      "MPC solve time at step 21: 0.0086 seconds\n",
      "Target estimation solve time at step 21: 0.0013 seconds\n",
      "optimal\n",
      "MPC solve time at step 22: 0.0081 seconds\n",
      "Target estimation solve time at step 22: 0.0011 seconds\n",
      "optimal\n",
      "MPC solve time at step 23: 0.0085 seconds\n",
      "Target estimation solve time at step 23: 0.0014 seconds\n",
      "optimal\n",
      "MPC solve time at step 24: 0.0087 seconds\n",
      "Target estimation solve time at step 24: 0.0013 seconds\n",
      "optimal\n",
      "MPC solve time at step 25: 0.0087 seconds\n",
      "Target estimation solve time at step 25: 0.0013 seconds\n",
      "optimal\n",
      "MPC solve time at step 26: 0.0088 seconds\n",
      "Target estimation solve time at step 26: 0.0013 seconds\n",
      "optimal\n",
      "MPC solve time at step 27: 0.0084 seconds\n",
      "Target estimation solve time at step 27: 0.0012 seconds\n",
      "optimal\n",
      "MPC solve time at step 28: 0.0088 seconds\n",
      "Target estimation solve time at step 28: 0.0014 seconds\n",
      "optimal\n",
      "MPC solve time at step 29: 0.0087 seconds\n",
      "Target estimation solve time at step 29: 0.0013 seconds\n",
      "optimal\n",
      "MPC solve time at step 30: 0.0089 seconds\n",
      "Target estimation solve time at step 30: 0.0013 seconds\n",
      "optimal\n",
      "MPC solve time at step 31: 0.0091 seconds\n",
      "Target estimation solve time at step 31: 0.0016 seconds\n",
      "optimal\n",
      "MPC solve time at step 32: 0.0093 seconds\n",
      "Target estimation solve time at step 32: 0.0013 seconds\n",
      "optimal\n",
      "MPC solve time at step 33: 0.0087 seconds\n",
      "Target estimation solve time at step 33: 0.0013 seconds\n",
      "optimal\n",
      "MPC solve time at step 34: 0.0092 seconds\n",
      "Target estimation solve time at step 34: 0.0013 seconds\n",
      "optimal\n",
      "MPC solve time at step 35: 0.0087 seconds\n",
      "Target estimation solve time at step 35: 0.0013 seconds\n",
      "optimal\n",
      "MPC solve time at step 36: 0.0086 seconds\n",
      "Target estimation solve time at step 36: 0.0012 seconds\n",
      "optimal\n",
      "MPC solve time at step 37: 0.0086 seconds\n",
      "Target estimation solve time at step 37: 0.0013 seconds\n",
      "optimal\n",
      "MPC solve time at step 38: 0.0087 seconds\n",
      "Target estimation solve time at step 38: 0.0013 seconds\n",
      "optimal\n",
      "MPC solve time at step 39: 0.0084 seconds\n",
      "Target estimation solve time at step 39: 0.0012 seconds\n",
      "optimal\n",
      "MPC solve time at step 40: 0.0089 seconds\n",
      "Target estimation solve time at step 40: 0.0013 seconds\n",
      "optimal\n",
      "MPC solve time at step 41: 0.0085 seconds\n",
      "Target estimation solve time at step 41: 0.0014 seconds\n",
      "optimal\n",
      "MPC solve time at step 42: 0.0085 seconds\n",
      "Target estimation solve time at step 42: 0.0011 seconds\n",
      "optimal\n",
      "MPC solve time at step 43: 0.0082 seconds\n",
      "Target estimation solve time at step 43: 0.0013 seconds\n",
      "optimal\n",
      "MPC solve time at step 44: 0.0087 seconds\n",
      "Target estimation solve time at step 44: 0.0012 seconds\n",
      "optimal\n",
      "MPC solve time at step 45: 0.0086 seconds\n",
      "Target estimation solve time at step 45: 0.0012 seconds\n",
      "optimal\n",
      "MPC solve time at step 46: 0.0085 seconds\n",
      "Target estimation solve time at step 46: 0.0012 seconds\n",
      "optimal\n",
      "MPC solve time at step 47: 0.0084 seconds\n",
      "Target estimation solve time at step 47: 0.0012 seconds\n",
      "optimal\n",
      "MPC solve time at step 48: 0.0088 seconds\n",
      "Target estimation solve time at step 48: 0.0013 seconds\n",
      "optimal\n",
      "MPC solve time at step 49: 0.0086 seconds\n",
      "Target estimation solve time at step 49: 0.0012 seconds\n",
      "optimal\n",
      "MPC solve time at step 50: 0.0090 seconds\n",
      "Target estimation solve time at step 50: 0.0015 seconds\n",
      "optimal\n",
      "MPC solve time at step 51: 0.0092 seconds\n",
      "Target estimation solve time at step 51: 0.0014 seconds\n",
      "optimal\n",
      "MPC solve time at step 52: 0.0091 seconds\n",
      "Target estimation solve time at step 52: 0.0013 seconds\n",
      "optimal\n",
      "MPC solve time at step 53: 0.0092 seconds\n",
      "Target estimation solve time at step 53: 0.0013 seconds\n",
      "optimal\n",
      "MPC solve time at step 54: 0.0094 seconds\n",
      "Target estimation solve time at step 54: 0.0013 seconds\n",
      "optimal\n",
      "MPC solve time at step 55: 0.0095 seconds\n",
      "Target estimation solve time at step 55: 0.0011 seconds\n",
      "optimal\n",
      "MPC solve time at step 56: 0.0096 seconds\n",
      "Target estimation solve time at step 56: 0.0011 seconds\n",
      "optimal\n",
      "MPC solve time at step 57: 0.0096 seconds\n",
      "Target estimation solve time at step 57: 0.0014 seconds\n",
      "optimal\n",
      "MPC solve time at step 58: 0.0090 seconds\n",
      "Target estimation solve time at step 58: 0.0013 seconds\n",
      "optimal\n",
      "MPC solve time at step 59: 0.0089 seconds\n",
      "Target estimation solve time at step 59: 0.0013 seconds\n",
      "optimal\n",
      "MPC solve time at step 60: 0.0083 seconds\n",
      "Target estimation solve time at step 60: 0.0012 seconds\n",
      "optimal\n",
      "MPC solve time at step 61: 0.0086 seconds\n",
      "Target estimation solve time at step 61: 0.0012 seconds\n",
      "optimal\n",
      "MPC solve time at step 62: 0.0082 seconds\n",
      "Target estimation solve time at step 62: 0.0012 seconds\n",
      "optimal\n",
      "MPC solve time at step 63: 0.0088 seconds\n",
      "Target estimation solve time at step 63: 0.0012 seconds\n",
      "optimal\n",
      "MPC solve time at step 64: 0.0087 seconds\n",
      "Target estimation solve time at step 64: 0.0012 seconds\n",
      "optimal\n",
      "MPC solve time at step 65: 0.0083 seconds\n",
      "Target estimation solve time at step 65: 0.0013 seconds\n",
      "optimal\n",
      "MPC solve time at step 66: 0.0082 seconds\n",
      "Target estimation solve time at step 66: 0.0012 seconds\n",
      "optimal\n",
      "MPC solve time at step 67: 0.0082 seconds\n",
      "Target estimation solve time at step 67: 0.0013 seconds\n",
      "optimal\n",
      "MPC solve time at step 68: 0.0088 seconds\n",
      "Target estimation solve time at step 68: 0.0013 seconds\n",
      "optimal\n",
      "MPC solve time at step 69: 0.0086 seconds\n",
      "Target estimation solve time at step 69: 0.0013 seconds\n",
      "optimal\n",
      "MPC solve time at step 70: 0.0086 seconds\n",
      "Target estimation solve time at step 70: 0.0014 seconds\n",
      "optimal\n",
      "MPC solve time at step 71: 0.0089 seconds\n",
      "Target estimation solve time at step 71: 0.0015 seconds\n",
      "optimal\n",
      "MPC solve time at step 72: 0.0090 seconds\n",
      "Target estimation solve time at step 72: 0.0015 seconds\n",
      "optimal\n",
      "MPC solve time at step 73: 0.0085 seconds\n",
      "Target estimation solve time at step 73: 0.0013 seconds\n",
      "optimal\n",
      "MPC solve time at step 74: 0.0084 seconds\n",
      "Target estimation solve time at step 74: 0.0012 seconds\n",
      "optimal\n",
      "MPC solve time at step 75: 0.0081 seconds\n",
      "Target estimation solve time at step 75: 0.0013 seconds\n",
      "optimal\n",
      "MPC solve time at step 76: 0.0091 seconds\n",
      "Target estimation solve time at step 76: 0.0013 seconds\n",
      "optimal\n",
      "MPC solve time at step 77: 0.0084 seconds\n",
      "Target estimation solve time at step 77: 0.0014 seconds\n",
      "optimal\n",
      "MPC solve time at step 78: 0.0086 seconds\n",
      "Target estimation solve time at step 78: 0.0012 seconds\n",
      "optimal\n",
      "MPC solve time at step 79: 0.0089 seconds\n",
      "Target estimation solve time at step 79: 0.0013 seconds\n",
      "optimal\n",
      "MPC solve time at step 80: 0.0085 seconds\n",
      "Target estimation solve time at step 80: 0.0012 seconds\n",
      "optimal\n",
      "MPC solve time at step 81: 0.0084 seconds\n",
      "Target estimation solve time at step 81: 0.0012 seconds\n",
      "optimal\n",
      "MPC solve time at step 82: 0.0085 seconds\n",
      "Target estimation solve time at step 82: 0.0012 seconds\n",
      "optimal\n",
      "MPC solve time at step 83: 0.0084 seconds\n",
      "Target estimation solve time at step 83: 0.0012 seconds\n",
      "optimal\n",
      "MPC solve time at step 84: 0.0084 seconds\n",
      "Target estimation solve time at step 84: 0.0012 seconds\n",
      "optimal\n",
      "MPC solve time at step 85: 0.0090 seconds\n",
      "Target estimation solve time at step 85: 0.0011 seconds\n",
      "optimal\n",
      "MPC solve time at step 86: 0.0089 seconds\n",
      "Target estimation solve time at step 86: 0.0013 seconds\n",
      "optimal\n",
      "MPC solve time at step 87: 0.0088 seconds\n",
      "Target estimation solve time at step 87: 0.0013 seconds\n",
      "optimal\n",
      "MPC solve time at step 88: 0.0090 seconds\n",
      "Target estimation solve time at step 88: 0.0016 seconds\n",
      "optimal\n",
      "MPC solve time at step 89: 0.0088 seconds\n",
      "Target estimation solve time at step 89: 0.0013 seconds\n",
      "optimal\n",
      "MPC solve time at step 90: 0.0090 seconds\n",
      "Target estimation solve time at step 90: 0.0014 seconds\n",
      "optimal\n",
      "MPC solve time at step 91: 0.0087 seconds\n",
      "Target estimation solve time at step 91: 0.0013 seconds\n",
      "optimal\n",
      "MPC solve time at step 92: 0.0084 seconds\n",
      "Target estimation solve time at step 92: 0.0012 seconds\n",
      "optimal\n",
      "MPC solve time at step 93: 0.0083 seconds\n",
      "Target estimation solve time at step 93: 0.0011 seconds\n",
      "optimal\n",
      "MPC solve time at step 94: 0.0086 seconds\n",
      "Target estimation solve time at step 94: 0.0013 seconds\n",
      "optimal\n",
      "MPC solve time at step 95: 0.0089 seconds\n",
      "Target estimation solve time at step 95: 0.0012 seconds\n",
      "optimal\n",
      "MPC solve time at step 96: 0.0085 seconds\n",
      "Target estimation solve time at step 96: 0.0012 seconds\n",
      "optimal\n",
      "MPC solve time at step 97: 0.0083 seconds\n",
      "Target estimation solve time at step 97: 0.0012 seconds\n",
      "optimal\n",
      "MPC solve time at step 98: 0.0089 seconds\n",
      "Target estimation solve time at step 98: 0.0013 seconds\n",
      "optimal\n",
      "MPC solve time at step 99: 0.0089 seconds\n",
      "Target estimation solve time at step 99: 0.0012 seconds\n",
      "optimal\n",
      "MPC solve time at step 100: 0.0086 seconds\n",
      "Target estimation solve time at step 100: 0.0013 seconds\n",
      "optimal\n",
      "MPC solve time at step 101: 0.0087 seconds\n",
      "Target estimation solve time at step 101: 0.0013 seconds\n",
      "optimal\n",
      "MPC solve time at step 102: 0.0091 seconds\n",
      "Target estimation solve time at step 102: 0.0012 seconds\n",
      "optimal\n",
      "MPC solve time at step 103: 0.0087 seconds\n",
      "Target estimation solve time at step 103: 0.0012 seconds\n",
      "optimal\n",
      "MPC solve time at step 104: 0.0086 seconds\n",
      "Target estimation solve time at step 104: 0.0012 seconds\n",
      "optimal\n",
      "MPC solve time at step 105: 0.0083 seconds\n",
      "Target estimation solve time at step 105: 0.0012 seconds\n",
      "optimal\n",
      "MPC solve time at step 106: 0.0084 seconds\n",
      "Target estimation solve time at step 106: 0.0013 seconds\n",
      "optimal\n",
      "MPC solve time at step 107: 0.0087 seconds\n",
      "Target estimation solve time at step 107: 0.0013 seconds\n",
      "optimal\n",
      "MPC solve time at step 108: 0.0092 seconds\n",
      "Target estimation solve time at step 108: 0.0014 seconds\n",
      "optimal\n",
      "MPC solve time at step 109: 0.0088 seconds\n",
      "Target estimation solve time at step 109: 0.0015 seconds\n",
      "optimal\n",
      "MPC solve time at step 110: 0.0093 seconds\n",
      "Target estimation solve time at step 110: 0.0014 seconds\n",
      "optimal\n",
      "MPC solve time at step 111: 0.0089 seconds\n",
      "Target estimation solve time at step 111: 0.0012 seconds\n",
      "optimal\n",
      "MPC solve time at step 112: 0.0090 seconds\n",
      "Target estimation solve time at step 112: 0.0012 seconds\n",
      "optimal\n",
      "MPC solve time at step 113: 0.0083 seconds\n",
      "Target estimation solve time at step 113: 0.0012 seconds\n",
      "optimal\n",
      "MPC solve time at step 114: 0.0081 seconds\n",
      "Target estimation solve time at step 114: 0.0014 seconds\n",
      "optimal\n",
      "MPC solve time at step 115: 0.0088 seconds\n",
      "Target estimation solve time at step 115: 0.0013 seconds\n",
      "optimal\n",
      "MPC solve time at step 116: 0.0086 seconds\n",
      "Target estimation solve time at step 116: 0.0012 seconds\n",
      "optimal\n",
      "MPC solve time at step 117: 0.0088 seconds\n",
      "Target estimation solve time at step 117: 0.0012 seconds\n",
      "optimal\n",
      "MPC solve time at step 118: 0.0083 seconds\n",
      "Target estimation solve time at step 118: 0.0011 seconds\n",
      "optimal\n",
      "MPC solve time at step 119: 0.0082 seconds\n",
      "Target estimation solve time at step 119: 0.0012 seconds\n",
      "optimal\n",
      "MPC solve time at step 120: 0.0086 seconds\n",
      "Target estimation solve time at step 120: 0.0012 seconds\n",
      "optimal\n",
      "MPC solve time at step 121: 0.0087 seconds\n",
      "Target estimation solve time at step 121: 0.0014 seconds\n",
      "optimal\n",
      "MPC solve time at step 122: 0.0084 seconds\n",
      "Target estimation solve time at step 122: 0.0011 seconds\n",
      "optimal\n",
      "MPC solve time at step 123: 0.0080 seconds\n",
      "Target estimation solve time at step 123: 0.0011 seconds\n",
      "optimal\n",
      "MPC solve time at step 124: 0.0086 seconds\n",
      "Target estimation solve time at step 124: 0.0013 seconds\n",
      "optimal\n",
      "MPC solve time at step 125: 0.0089 seconds\n",
      "Target estimation solve time at step 125: 0.0013 seconds\n",
      "optimal\n",
      "MPC solve time at step 126: 0.0088 seconds\n",
      "Target estimation solve time at step 126: 0.0012 seconds\n",
      "optimal\n",
      "MPC solve time at step 127: 0.0091 seconds\n",
      "Target estimation solve time at step 127: 0.0013 seconds\n",
      "optimal\n",
      "MPC solve time at step 128: 0.0093 seconds\n",
      "Target estimation solve time at step 128: 0.0013 seconds\n",
      "optimal\n",
      "MPC solve time at step 129: 0.0093 seconds\n",
      "Target estimation solve time at step 129: 0.0012 seconds\n",
      "optimal\n",
      "MPC solve time at step 130: 0.0085 seconds\n",
      "Target estimation solve time at step 130: 0.0014 seconds\n",
      "optimal\n",
      "MPC solve time at step 131: 0.0088 seconds\n",
      "Target estimation solve time at step 131: 0.0012 seconds\n",
      "optimal\n",
      "MPC solve time at step 132: 0.0085 seconds\n",
      "Target estimation solve time at step 132: 0.0012 seconds\n",
      "optimal\n",
      "MPC solve time at step 133: 0.0083 seconds\n",
      "Target estimation solve time at step 133: 0.0014 seconds\n",
      "optimal\n",
      "MPC solve time at step 134: 0.0087 seconds\n",
      "Target estimation solve time at step 134: 0.0013 seconds\n",
      "optimal\n",
      "MPC solve time at step 135: 0.0088 seconds\n",
      "Target estimation solve time at step 135: 0.0014 seconds\n",
      "optimal\n",
      "MPC solve time at step 136: 0.0084 seconds\n",
      "Target estimation solve time at step 136: 0.0013 seconds\n",
      "optimal\n",
      "MPC solve time at step 137: 0.0089 seconds\n",
      "Target estimation solve time at step 137: 0.0012 seconds\n",
      "optimal\n",
      "MPC solve time at step 138: 0.0085 seconds\n",
      "Target estimation solve time at step 138: 0.0012 seconds\n",
      "optimal\n",
      "MPC solve time at step 139: 0.0088 seconds\n",
      "Target estimation solve time at step 139: 0.0013 seconds\n",
      "optimal\n",
      "MPC solve time at step 140: 0.0087 seconds\n",
      "Target estimation solve time at step 140: 0.0011 seconds\n",
      "optimal\n",
      "MPC solve time at step 141: 0.0087 seconds\n",
      "Target estimation solve time at step 141: 0.0012 seconds\n",
      "optimal\n",
      "MPC solve time at step 142: 0.0088 seconds\n",
      "Target estimation solve time at step 142: 0.0014 seconds\n",
      "optimal\n",
      "MPC solve time at step 143: 0.0085 seconds\n",
      "Target estimation solve time at step 143: 0.0012 seconds\n",
      "optimal\n",
      "MPC solve time at step 144: 0.0087 seconds\n",
      "Target estimation solve time at step 144: 0.0011 seconds\n",
      "optimal\n",
      "MPC solve time at step 145: 0.0087 seconds\n",
      "Target estimation solve time at step 145: 0.0012 seconds\n",
      "optimal\n",
      "MPC solve time at step 146: 0.0090 seconds\n",
      "Target estimation solve time at step 146: 0.0013 seconds\n",
      "optimal\n",
      "MPC solve time at step 147: 0.0087 seconds\n",
      "Target estimation solve time at step 147: 0.0013 seconds\n",
      "optimal\n",
      "MPC solve time at step 148: 0.0096 seconds\n",
      "Target estimation solve time at step 148: 0.0014 seconds\n",
      "optimal\n",
      "MPC solve time at step 149: 0.0089 seconds\n",
      "Target estimation solve time at step 149: 0.0014 seconds\n",
      "optimal\n",
      "Total time spent in target estimation: 0.2022 seconds\n",
      "Total time spent in MPC solve: 1.3669 seconds\n"
     ]
    }
   ],
   "source": [
    "import time\n",
    "\n",
    "sim_time = 150\n",
    "optimal = 0\n",
    "Ts = 1\n",
    "z_sim = np.zeros((nz+nd, sim_time+1))\n",
    "y_sim = np.zeros((ny, sim_time+1))\n",
    "u_sim = np.zeros((nu, sim_time))\n",
    "ys_sim = np.zeros((ny, sim_time+1))\n",
    "zs_sim = np.zeros((nz, sim_time+1))\n",
    "y_sp.value = scaler.transform(np.array([[0.5,0.5]]))[0]\n",
    "\n",
    "total_time_target = 0\n",
    "total_time_mpc = 0\n",
    "\n",
    "start_time_target = time.time()\n",
    "target_estimation.solve(solver=cp.GUROBI)\n",
    "end_time_target = time.time()\n",
    "print(f\"Target estimation solve time: {end_time_target - start_time_target:.4f} seconds\")\n",
    "total_time_target += end_time_target - start_time_target\n",
    "z_ref.value = z_s.value\n",
    "\n",
    "y_sim_descaled = np.zeros((ny, sim_time+1))\n",
    "u_sim_descaled = np.zeros((nu, sim_time))\n",
    "\n",
    "z_sim[:, 0] = z_est_.flatten()\n",
    "y_sim[:, 0] = y_start.flatten()\n",
    "ys_sim[:, 0] = y_s.value\n",
    "zs_sim[:, 0] = z_s.value\n",
    "y_sim_descaled[:, 0] = scaler.inverse_transform(y_sim[:, 0].reshape(1,-1))[0]\n",
    "\n",
    "for k in range(sim_time):\n",
    "    if k == 50:\n",
    "        y_sp.value = loaded_setup['reference'][:,100]\n",
    "    # solve MPC\n",
    "    start_time_mpc = time.time()\n",
    "    mpc.solve(solver=cp.GUROBI)\n",
    "    end_time_mpc = time.time()\n",
    "    print(f\"MPC solve time at step {k}: {end_time_mpc - start_time_mpc:.4f} seconds\")\n",
    "    total_time_mpc += end_time_mpc - start_time_mpc\n",
    "    u_sim[:, k] = u[:,0].value\n",
    "    u_sim_descaled[:, k] = scalerU.inverse_transform(u_sim[:, k].reshape(1,-1))[0]\n",
    "    \n",
    "    # simulate system\n",
    "    y_sim_descaled[:, k+1] =  TwoTanks.step(y_sim_descaled[:, k], u_sim_descaled[:, k].reshape(1,-1), Ts)\n",
    "    \n",
    "    y_sim[:, k+1] = scaler.transform(y_sim_descaled[:, k+1].reshape(1,-1))[0]\n",
    "    \n",
    "    # estimate state\n",
    "    z_sim[:, k+1] = KF.step(u_sim[:, k], y_sim[:, k]).flatten()\n",
    "    \n",
    "    # update initial conditions\n",
    "    z0.value = z_sim[:nz, k+1]\n",
    "    d0.value = z_sim[nz:, k+1]\n",
    "    start_time_target = time.time()\n",
    "    target_estimation.solve(solver=cp.GUROBI)\n",
    "    end_time_target = time.time()\n",
    "    print(f\"Target estimation solve time at step {k}: {end_time_target - start_time_target:.4f} seconds\")\n",
    "    total_time_target += end_time_target - start_time_target\n",
    "    ys_sim[:, k+1] = y_s.value\n",
    "    zs_sim[:, k+1] = z_s.value\n",
    "    z_ref.value = z_s.value\n",
    "    u_prev.value = u_sim[:, k]\n",
    "    print(mpc.status)\n",
    "    if mpc.status == \"optimal\":\n",
    "        optimal += 1\n",
    "\n",
    "print(f\"Total time spent in target estimation: {total_time_target:.4f} seconds\")\n",
    "print(f\"Total time spent in MPC solve: {total_time_mpc:.4f} seconds\")"
   ]
  },
  {
   "cell_type": "code",
   "execution_count": null,
   "metadata": {},
   "outputs": [],
   "source": []
  },
  {
   "cell_type": "code",
   "execution_count": 54,
   "metadata": {},
   "outputs": [
    {
     "data": {
      "text/plain": [
       "150"
      ]
     },
     "execution_count": 54,
     "metadata": {},
     "output_type": "execute_result"
    }
   ],
   "source": [
    "optimal"
   ]
  },
  {
   "cell_type": "code",
   "execution_count": 55,
   "metadata": {},
   "outputs": [
    {
     "data": {
      "image/png": "[encoded data removed]",
      "text/plain": [
       "<Figure size 1200x800 with 1 Axes>"
      ]
     },
     "metadata": {},
     "output_type": "display_data"
    }
   ],
   "source": [
    "# plot results\n",
    "plt.figure(figsize=(12, 8))\n",
    "plt.subplot(2, 1, 1)\n",
    "plt.plot(y_sim_descaled[0,50:], label='h1')\n",
    "plt.plot(y_sim_descaled[1,50:], label='h2')\n",
    "plt.plot(scaler.inverse_transform(ys_sim.T).T[0,50:], color='red', linestyle='--', label='target h1')\n",
    "plt.plot(scaler.inverse_transform(ys_sim.T).T[1,50:], color='red', linestyle=':', label='target h2')\n",
    "plt.title('K-MPC (Block-Diag C LTI) Simulation')\n",
    "plt.xlabel('Time step')\n",
    "plt.ylabel('Output')\n",
    "plt.legend()\n",
    "plt.grid(True) "
   ]
  },
  {
   "cell_type": "code",
   "execution_count": 56,
   "metadata": {},
   "outputs": [],
   "source": [
    "y_setpoint = loaded_setup['reference'][:,100]"
   ]
  },
  {
   "cell_type": "code",
   "execution_count": 57,
   "metadata": {},
   "outputs": [
    {
     "name": "stdout",
     "output_type": "stream",
     "text": [
      "First sustained convergence index: 92\n"
     ]
    }
   ],
   "source": [
    "e = 0.01  # Tolerance\n",
    "\n",
    "in_band = np.abs(y_sim[0] - y_setpoint[0]) <= e\n",
    "\n",
    "# Check for the first index where all subsequent values stay in the band\n",
    "for i in range(len(y_sim[0])):\n",
    "    if np.all(in_band[i:]):\n",
    "        print(\"First sustained convergence index:\", i)\n",
    "        break\n",
    "else:\n",
    "    print(\"No sustained convergence found.\")"
   ]
  },
  {
   "cell_type": "code",
   "execution_count": 58,
   "metadata": {},
   "outputs": [
    {
     "name": "stdout",
     "output_type": "stream",
     "text": [
      "First sustained convergence index: 94\n"
     ]
    }
   ],
   "source": [
    "e = 0.01  # Tolerance\n",
    "\n",
    "in_band = np.abs(y_sim[1] - y_setpoint[1]) <= e\n",
    "\n",
    "# Check for the first index where all subsequent values stay in the band\n",
    "for i in range(len(y_sim[0])):\n",
    "    if np.all(in_band[i:]):\n",
    "        print(\"First sustained convergence index:\", i)\n",
    "        break\n",
    "else:\n",
    "    print(\"No sustained convergence found.\")"
   ]
  },
  {
   "cell_type": "code",
   "execution_count": 59,
   "metadata": {},
   "outputs": [
    {
     "name": "stdout",
     "output_type": "stream",
     "text": [
      "MSE for h1: 0.011068251109386197\n",
      "MSE for h2: 0.0009564785624027114\n"
     ]
    }
   ],
   "source": [
    "from sklearn.metrics import mean_squared_error\n",
    "\n",
    "# Descales ys_sim\n",
    "ys_sim_descaled = scaler.inverse_transform(ys_sim.T).T\n",
    "\n",
    "# Compute MSE for each output\n",
    "mse_h1 = mean_squared_error(ys_sim_descaled[0], y_sim_descaled[0])\n",
    "mse_h2 = mean_squared_error(ys_sim_descaled[1], y_sim_descaled[1])\n",
    "\n",
    "print(f\"MSE for h1: {mse_h1}\")\n",
    "print(f\"MSE for h2: {mse_h2}\")"
   ]
  },
  {
   "cell_type": "code",
   "execution_count": 60,
   "metadata": {},
   "outputs": [
    {
     "name": "stdout",
     "output_type": "stream",
     "text": [
      "ISE for h1: 1.6713058772392393\n",
      "ISE for h2: 0.1444282317644863\n"
     ]
    }
   ],
   "source": [
    "from numpy import trapz\n",
    "\n",
    "# Compute ISE for each output\n",
    "ise_h1 = trapz((ys_sim_descaled[0] - y_sim_descaled[0])**2)\n",
    "ise_h2 = trapz((ys_sim_descaled[1] - y_sim_descaled[1])**2)\n",
    "\n",
    "print(f\"ISE for h1: {ise_h1}\")\n",
    "print(f\"ISE for h2: {ise_h2}\")"
   ]
  },
  {
   "cell_type": "code",
   "execution_count": 61,
   "metadata": {},
   "outputs": [
    {
     "name": "stdout",
     "output_type": "stream",
     "text": [
      "ISE for h1 (from step 50): 2.775986220819195\n",
      "ISE for h2 (from step 50): 0.3473096480293807\n"
     ]
    }
   ],
   "source": [
    "from numpy import trapz\n",
    "\n",
    "# Compute ISE for y_sim starting from step 50\n",
    "ise_h1 = trapz((y_sim[0, 50:] - y_setpoint[0])**2)\n",
    "ise_h2 = trapz((y_sim[1, 50:] - y_setpoint[1])**2)\n",
    "\n",
    "print(f\"ISE for h1 (from step 50): {ise_h1}\")\n",
    "print(f\"ISE for h2 (from step 50): {ise_h2}\")\n"
   ]
  },
  {
   "cell_type": "code",
   "execution_count": 62,
   "metadata": {},
   "outputs": [
    {
     "name": "stdout",
     "output_type": "stream",
     "text": [
      "Closed-loop objective function value: 20.288842620367593\n"
     ]
    }
   ],
   "source": [
    "\n",
    "# Compute the closed-loop value of the objective function\n",
    "\n",
    "objective_value = 0\n",
    "for k in range(50,sim_time):\n",
    "    y_diff = y_sim[:, k] - y_setpoint\n",
    "    u_diff = u_sim[:, k] - u_sim[:, k-1]\n",
    "    objective_value += y_diff.T @ Qy @ y_diff \n",
    "    objective_value += u_diff.T @ Qu @ u_diff\n",
    "    #print(f\"Objective value at step {k}: {objective_value}\")\n",
    "\n",
    "print(f\"Closed-loop objective function value: {objective_value}\")"
   ]
  },
  {
   "cell_type": "code",
   "execution_count": 63,
   "metadata": {},
   "outputs": [
    {
     "data": {
      "image/png": "[encoded data removed]",
      "text/plain": [
       "<Figure size 1200x800 with 1 Axes>"
      ]
     },
     "metadata": {},
     "output_type": "display_data"
    }
   ],
   "source": [
    "# plot results\n",
    "plt.figure(figsize=(12, 8))\n",
    "plt.subplot(2, 1, 1)\n",
    "plt.plot(u_sim_descaled[0,50:], label='q1')\n",
    "plt.plot(u_sim_descaled[1,50:], label='q2')\n",
    "plt.xlabel('Time step')\n",
    "plt.ylabel('Input')\n",
    "plt.legend()\n",
    "plt.grid(True) "
   ]
  },
  {
   "cell_type": "code",
   "execution_count": 64,
   "metadata": {},
   "outputs": [
    {
     "name": "stdout",
     "output_type": "stream",
     "text": [
      "[44.08300856 56.09514358]\n"
     ]
    }
   ],
   "source": [
    "u_sum_abs = np.sum(np.abs(u_sim_descaled), axis=1)\n",
    "print(u_sum_abs)"
   ]
  },
  {
   "cell_type": "code",
   "execution_count": 65,
   "metadata": {},
   "outputs": [
    {
     "name": "stderr",
     "output_type": "stream",
     "text": [
      "/var/folders/js/50fn0f5j3g376mmr6z71dh5r0000gn/T/ipykernel_46735/3350633214.py:6: UserWarning: No artists with labels found to put in legend.  Note that artists whose label start with an underscore are ignored when legend() is called with no argument.\n",
      "  plt.legend()\n"
     ]
    },
    {
     "data": {
      "image/png": "[encoded data removed]",
      "text/plain": [
       "<Figure size 1200x800 with 1 Axes>"
      ]
     },
     "metadata": {},
     "output_type": "display_data"
    }
   ],
   "source": [
    "plt.figure(figsize=(12, 8))\n",
    "plt.subplot(2, 1, 1)\n",
    "plt.plot(z_sim[nz:,50:].T)\n",
    "plt.xlabel('Time step')\n",
    "plt.ylabel('Disturbance')\n",
    "plt.legend()\n",
    "plt.grid(True)"
   ]
  },
  {
   "cell_type": "code",
   "execution_count": 66,
   "metadata": {},
   "outputs": [
    {
     "data": {
      "text/plain": [
       "array([0.14911892, 0.29077111])"
      ]
     },
     "execution_count": 66,
     "metadata": {},
     "output_type": "execute_result"
    }
   ],
   "source": [
    "scalerU.scale_"
   ]
  },
  {
   "cell_type": "code",
   "execution_count": 67,
   "metadata": {},
   "outputs": [
    {
     "name": "stderr",
     "output_type": "stream",
     "text": [
      "/var/folders/js/50fn0f5j3g376mmr6z71dh5r0000gn/T/ipykernel_46735/4249820153.py:6: UserWarning: No artists with labels found to put in legend.  Note that artists whose label start with an underscore are ignored when legend() is called with no argument.\n",
      "  plt.legend()\n"
     ]
    },
    {
     "data": {
      "image/png": "[encoded data removed]",
      "text/plain": [
       "<Figure size 1200x800 with 1 Axes>"
      ]
     },
     "metadata": {},
     "output_type": "display_data"
    }
   ],
   "source": [
    "plt.figure(figsize=(12, 8))\n",
    "plt.subplot(2, 1, 1)\n",
    "plt.plot(zs_sim[:nz].T)\n",
    "plt.xlabel('Time step')\n",
    "plt.ylabel('Disturbance')\n",
    "plt.legend()\n",
    "plt.grid(True)"
   ]
  },
  {
   "cell_type": "code",
   "execution_count": 68,
   "metadata": {},
   "outputs": [
    {
     "name": "stderr",
     "output_type": "stream",
     "text": [
      "/var/folders/js/50fn0f5j3g376mmr6z71dh5r0000gn/T/ipykernel_46735/2974051967.py:6: UserWarning: No artists with labels found to put in legend.  Note that artists whose label start with an underscore are ignored when legend() is called with no argument.\n",
      "  plt.legend()\n"
     ]
    },
    {
     "data": {
      "image/png": "[encoded data removed]",
      "text/plain": [
       "<Figure size 1200x800 with 1 Axes>"
      ]
     },
     "metadata": {},
     "output_type": "display_data"
    }
   ],
   "source": [
    "plt.figure(figsize=(12, 8))\n",
    "plt.subplot(2, 1, 1)\n",
    "plt.plot(ys_sim.T)\n",
    "plt.xlabel('Time step')\n",
    "plt.ylabel('Disturbance')\n",
    "plt.legend()\n",
    "plt.grid(True)"
   ]
  }
 ],
 "metadata": {
  "kernelspec": {
   "display_name": "kmpc",
   "language": "python",
   "name": "python3"
  },
  "language_info": {
   "codemirror_mode": {
    "name": "ipython",
    "version": 3
   },
   "file_extension": ".py",
   "mimetype": "text/x-python",
   "name": "python",
   "nbconvert_exporter": "python",
   "pygments_lexer": "ipython3",
   "version": "3.11.11"
  }
 },
 "nbformat": 4,
 "nbformat_minor": 2
}
